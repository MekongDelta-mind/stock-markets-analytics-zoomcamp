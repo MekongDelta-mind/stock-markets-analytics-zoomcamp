{
  "nbformat": 4,
  "nbformat_minor": 0,
  "metadata": {
    "colab": {
      "provenance": []
    },
    "kernelspec": {
      "name": "python3",
      "display_name": "Python 3"
    },
    "language_info": {
      "name": "python"
    }
  },
  "cells": [
    {
      "cell_type": "code",
      "source": [
        "!pip install yfinance"
      ],
      "metadata": {
        "colab": {
          "base_uri": "https://localhost:8080/"
        },
        "id": "lafq5rlg3FV3",
        "outputId": "df35522d-58e1-449e-b1e7-82ea89d45f99"
      },
      "execution_count": 1,
      "outputs": [
        {
          "output_type": "stream",
          "name": "stdout",
          "text": [
            "Requirement already satisfied: yfinance in /usr/local/lib/python3.10/dist-packages (0.2.38)\n",
            "Requirement already satisfied: pandas>=1.3.0 in /usr/local/lib/python3.10/dist-packages (from yfinance) (2.0.3)\n",
            "Requirement already satisfied: numpy>=1.16.5 in /usr/local/lib/python3.10/dist-packages (from yfinance) (1.25.2)\n",
            "Requirement already satisfied: requests>=2.31 in /usr/local/lib/python3.10/dist-packages (from yfinance) (2.31.0)\n",
            "Requirement already satisfied: multitasking>=0.0.7 in /usr/local/lib/python3.10/dist-packages (from yfinance) (0.0.11)\n",
            "Requirement already satisfied: lxml>=4.9.1 in /usr/local/lib/python3.10/dist-packages (from yfinance) (4.9.4)\n",
            "Requirement already satisfied: appdirs>=1.4.4 in /usr/local/lib/python3.10/dist-packages (from yfinance) (1.4.4)\n",
            "Requirement already satisfied: pytz>=2022.5 in /usr/local/lib/python3.10/dist-packages (from yfinance) (2023.4)\n",
            "Requirement already satisfied: frozendict>=2.3.4 in /usr/local/lib/python3.10/dist-packages (from yfinance) (2.4.4)\n",
            "Requirement already satisfied: peewee>=3.16.2 in /usr/local/lib/python3.10/dist-packages (from yfinance) (3.17.3)\n",
            "Requirement already satisfied: beautifulsoup4>=4.11.1 in /usr/local/lib/python3.10/dist-packages (from yfinance) (4.12.3)\n",
            "Requirement already satisfied: html5lib>=1.1 in /usr/local/lib/python3.10/dist-packages (from yfinance) (1.1)\n",
            "Requirement already satisfied: soupsieve>1.2 in /usr/local/lib/python3.10/dist-packages (from beautifulsoup4>=4.11.1->yfinance) (2.5)\n",
            "Requirement already satisfied: six>=1.9 in /usr/local/lib/python3.10/dist-packages (from html5lib>=1.1->yfinance) (1.16.0)\n",
            "Requirement already satisfied: webencodings in /usr/local/lib/python3.10/dist-packages (from html5lib>=1.1->yfinance) (0.5.1)\n",
            "Requirement already satisfied: python-dateutil>=2.8.2 in /usr/local/lib/python3.10/dist-packages (from pandas>=1.3.0->yfinance) (2.8.2)\n",
            "Requirement already satisfied: tzdata>=2022.1 in /usr/local/lib/python3.10/dist-packages (from pandas>=1.3.0->yfinance) (2024.1)\n",
            "Requirement already satisfied: charset-normalizer<4,>=2 in /usr/local/lib/python3.10/dist-packages (from requests>=2.31->yfinance) (3.3.2)\n",
            "Requirement already satisfied: idna<4,>=2.5 in /usr/local/lib/python3.10/dist-packages (from requests>=2.31->yfinance) (3.7)\n",
            "Requirement already satisfied: urllib3<3,>=1.21.1 in /usr/local/lib/python3.10/dist-packages (from requests>=2.31->yfinance) (2.0.7)\n",
            "Requirement already satisfied: certifi>=2017.4.17 in /usr/local/lib/python3.10/dist-packages (from requests>=2.31->yfinance) (2024.2.2)\n"
          ]
        }
      ]
    },
    {
      "cell_type": "code",
      "source": [
        "# IMPORTS\n",
        "import numpy as np\n",
        "import pandas as pd\n",
        "\n",
        "#Fin Data Sources\n",
        "import yfinance as yf\n",
        "import pandas_datareader as pdr\n",
        "\n",
        "#Data viz\n",
        "import plotly.graph_objs as go\n",
        "import plotly.express as px\n",
        "\n",
        "import time\n",
        "from datetime import date\n",
        "\n",
        "# for graphs\n",
        "import matplotlib.pyplot as plt\n"
      ],
      "metadata": {
        "id": "pQsQGs9p3Hk-"
      },
      "execution_count": 2,
      "outputs": []
    },
    {
      "cell_type": "markdown",
      "source": [
        "# Module 2 Homework"
      ],
      "metadata": {
        "id": "n-sMmiwucvmt"
      }
    },
    {
      "cell_type": "markdown",
      "source": [
        "In this homework, we're going to combine data from various sources to process it in Pandas and generate additional fields.\n",
        "\n",
        "If not stated otherwise, please use the [Colab](https://github.com/DataTalksClub/stock-markets-analytics-zoomcamp/blob/main/02-dataframe-analysis/Module2_Colab_Working_with_the_data.ipynb) covered at the livestream to re-use the code snippets.\n"
      ],
      "metadata": {
        "id": "n2MvmkgtcxXO"
      }
    },
    {
      "cell_type": "markdown",
      "source": [
        "\n",
        "---"
      ],
      "metadata": {
        "id": "3qGJm3DZc2BA"
      }
    },
    {
      "cell_type": "markdown",
      "source": [
        "## Question 1: IPO Filings Web Scraping and Data Processing\n",
        "\n"
      ],
      "metadata": {
        "id": "gn8eIwtfc70F"
      }
    },
    {
      "cell_type": "markdown",
      "source": [
        "**What's the total sum ($m) of 2023 filings that happened on Fridays?**\n",
        "\n",
        "1. Re-use the [Code Snippet 1] example to get the data from web for this endpoint: https://stockanalysis.com/ipos/filings/\n",
        "1. Convert the 'Filing Date' to datetime(), 'Shares Offered' to float64 (if '-' is encountered, populate with NaNs).\n",
        "1. Define a new field 'Avg_price' based on the \"Price Range\", which equals to NaN if no price is specified, to the price (if only one number is provided), or to the average of 2 prices (if a range is given).\n",
        "You may be inspired by the function `extract_numbers()` in [Code Snippet 4], or you can write your own function to \"parse\" a string.\n",
        "1. Define a column \"Shares_offered_value\", which equals to \"Shares Offered\" * \"Avg_price\" (when both columns are defined; otherwise, it's NaN)\n",
        "\n",
        "1. Find the total sum in $m (millions of USD, closest INTEGER number) for all filings during 2023, which happened on Fridays (`Date.dt.dayofweek()==4`). You should see 32 records in total, 25 of it is not null.\n",
        "\n",
        "(additional: you can read about [S-1 IPO filing](https://www.dfinsolutions.com/knowledge-hub/thought-leadership/knowledge-resources/what-s-1-ipo-filing) to understand the context)\n",
        "\n",
        "---"
      ],
      "metadata": {
        "id": "9t8PRFqYc_GB"
      }
    },
    {
      "cell_type": "code",
      "execution_count": 3,
      "metadata": {
        "id": "xPvmXNuXciOU"
      },
      "outputs": [],
      "source": [
        "import pandas as pd\n",
        "import requests\n",
        "\n",
        "headers = {\n",
        "    'User-Agent': 'Mozilla/5.0 (Windows NT 10.0; Win64; x64) AppleWebKit/537.36 (KHTML, like Gecko) Chrome/58.0.3029.110 Safari/537.3',\n",
        "}\n",
        "\n",
        "# url = \"https://stockanalysis.com/ipos/2023/\"\n",
        "url = \"https://stockanalysis.com/ipos/filings/\"\n",
        "response = requests.get(url, headers=headers)"
      ]
    },
    {
      "cell_type": "markdown",
      "source": [
        "![image.png](data:image/png;base64,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)"
      ],
      "metadata": {
        "id": "RikLPzHE4Cfo"
      }
    },
    {
      "cell_type": "code",
      "source": [
        "response.text"
      ],
      "metadata": {
        "colab": {
          "base_uri": "https://localhost:8080/",
          "height": 141
        },
        "id": "FJiqMBe15oyF",
        "outputId": "1942ecb4-d096-439e-b91d-64943d41efc7"
      },
      "execution_count": 4,
      "outputs": [
        {
          "output_type": "execute_result",
          "data": {
            "text/plain": [
              "'<!doctype html>\\n<html lang=\"en\">\\n\\t<head>\\n\\t\\t<meta charset=\"utf-8\" />\\n\\t\\t<meta name=\"viewport\" content=\"width=device-width, initial-scale=1\" />\\n\\t\\t\\n\\t\\t<link href=\"../../_app/immutable/assets/0.CsUeg04J.css\" rel=\"stylesheet\">\\n\\t\\t<link href=\"../../_app/immutable/assets/___StockTable.BVNI3pnz.css\" rel=\"stylesheet\"><title>IPO Filings - Stock Analysis</title><!-- HEAD_svelte-1xs9uv8_START --><script defer data-api=\"/cfa/event/\" data-domain=\"stockanalysis.com\" event-is_logged_in=\"false\" event-is_pro=\"false\" src=\"/cfa/js/script.js\"></script><script data-svelte-h=\"svelte-s6v612\">window.plausible =\\n\\t\\t\\twindow.plausible ||\\n\\t\\t\\tfunction () {\\n\\t\\t\\t\\t;(window.plausible.q = window.plausible.q || []).push(arguments)\\n\\t\\t\\t}\\n\\t</script><!-- HEAD_svelte-1xs9uv8_END --><!-- HEAD_svelte-1m45x84_START --><meta name=\"description\" content=\"A list of all stocks that have filed for an initial public offering (IPO) on the US stock market, but have not set an estimated IPO date yet.\"><link rel=\"canonical\" href=\"https://stockanalysis.com/ipos/filings/\"><meta property=\"og:title\" content=\"IPO Filings - Stock Analysis\"><meta property=\"og:description\" content=\"A list of all stocks that have filed for an initial public offering (IPO) on the US stock market, but have not set an estimated IPO date yet.\"><meta property=\"og:url\" content=\"https://stockanalysis.com/ipos/filings/\"><meta property=\"og:image\" content=\"https://stockanalysis.com/img/bear-vs-bull.jpg\"><meta property=\"og:type\" content=\"website\"><meta property=\"og:site_name\" content=\"Stock Analysis\"><meta name=\"twitter:card\" content=\"summary_large_image\"><meta name=\"twitter:site\" content=\"@stock_analysisx\"><meta name=\"twitter:title\" content=\"IPO Filings - Stock Analysis\"><meta name=\"twitter:description\" content=\"A list of all stocks that have filed for an initial public offering (IPO) on the US stock market, but have not set an estimated IPO date yet.\"><meta name=\"twitter:image\" content=\"https://stockanalysis.com/img/bear-vs-bull.jpg\"><!-- HEAD_svelte-1m45x84_END -->\\n\\t\\t<link rel=\"shortcut icon\" href=\"https://stockanalysis.com/favicon.ico\" />\\n\\t\\t<link rel=\"icon\" type=\"image/png\" sizes=\"32x32\" href=\"https://stockanalysis.com/favicon-32x32.png\" />\\n\\t\\t<link rel=\"icon\" type=\"image/png\" sizes=\"16x16\" href=\"https://stockanalysis.com/favicon-16x16.png\" />\\n\\t\\t<link rel=\"apple-touch-icon\" href=\"https://stockanalysis.com/apple-touch-icon.png\" sizes=\"180x180\" />\\n\\t</head>\\n\\t<body data-sveltekit-preload-data=\"hover\">\\n\\t\\t<div>    <header class=\"sticky top-0 z-50 bg-white shadow-md dark:bg-dark-800 landscape:static landscape:lg:sticky\"><div class=\"flex flex-row items-center gap-x-1 px-1 py-1.5 tiny:gap-x-1 tiny:px-2 xs:gap-x-3 xs:px-3 sm:py-2 lg:gap-x-4 xxl:px-4 xxxl:px-6\"><a href=\"#main\" class=\"sr-only focus:not-sr-only\" data-svelte-h=\"svelte-18qvitj\">Skip to main content</a>   <button class=\"xxl:hidden\" aria-label=\"Open Menu\" aria-controls=\"left-navigation\" aria-expanded=\"false\"><!-- HTML_TAG_START --><svg class=\"h-8 w-8 cursor-pointer text-faded\" fill=\"none\" viewBox=\"0 0 24 24\" stroke=\"currentColor\" style=\"max-width:40px\"><path stroke-linecap=\"round\" stroke-linejoin=\"round\" stroke-width=\"2\" d=\"M4 6h16M4 12h16M4 18h16\"/></svg><!-- HTML_TAG_END --></button> <a aria-label=\"Stock Analysis home page\" href=\"/\"><div class=\"mx-1 h-8 overflow-hidden md:h-auto lg:mx-0 max-w-[32px] md:max-w-none\"><!-- HTML_TAG_START --><svg viewBox=\"0 0 3060 928\" class=\"h-8 overflow-hidden md:h-9\" style=\"max-width:200px\"><g transform=\"matrix(.1 0 0 -.1 0 928)\"><path d=\"M4435 9024c-357-23-790-113-1155-240C1772 8261 655 6937 391 5361c-49-287-56-383-56-731s9-466 55-741C676 2195 1927 818 3588 371c427-115 782-157 1247-148 331 7 533 31 845 98 1004 218 1905 791 2547 1620 477 616 789 1386 882 2174 134 1129-190 2299-882 3194-606 782-1436 1334-2375 1576-409 106-632 136-1052 140-168 1-332 1-365-1zM2475 7196c18-8 39-25 47-38 11-19 14-325 18-1671l5-1648 798 703c439 387 813 711 832 721 59 32 29 54 592-415 145-120 265-218 269-218 8 0-6-13 744 685l634 590-73 3c-82 3-113 18-131 62-16 38-6 75 27 106 26 24 27 24 249 24h222l26-31 26-31v-440l-29-29c-38-37-88-39-128-5-26 23-28 30-33 120l-5 95-630-586c-852-792-840-781-869-789-14-3-36-4-49 0-12 3-197 149-411 325l-388 321-33-28c-18-15-396-346-839-737l-806-710V2240h170l2 615 3 615 28 27 27 28 283 3c155 2 297 0 316-3 18-3 44-17 57-30l24-24V2240h360v1055c0 1173-4 1112 65 1141 30 12 86 14 325 12 275-3 290-4 317-24 15-11 31-32 34-45 4-13 7-500 8-1081l1-1058h360v1779l24 28 24 28 303 3c216 2 311-1 331-9 60-25 58 14 58-949v-880h360v2508l26 31 26 31h635l27-26 26-27V2240h330c364 0 376-2 400-59 14-35 8-69-19-102l-19-24-2509-5c-1869-4-2516-2-2539 6-17 7-39 22-48 35-15 22-16 229-16 2527 0 2768-5 2548 63 2577 40 18 32 17 72 1z\" fill=\"rgba(60, 116, 212)\"/><path d=\"M6210 3430V2240h360v2380h-360V3430zM4010 3245V2240h350v2010h-350V3245zM5110 3065v-825h360v1650h-360v-825zM2900 2785v-545h360v1090h-360v-545z\" fill=\"rgba(60, 116, 212)\"/><path d=\"M12170 8059c-615-57-1007-330-1132-789-20-75-23-107-23-285s3-209 24-285c43-159 120-296 227-404 187-188 416-308 869-452 350-112 490-174 580-256 70-64 94-113 95-191 0-175-186-279-475-264-315 17-500 155-537 403-6 44-12 80-13 82-2 2-759-152-852-173-21-5-23-11-23-66 0-138 55-303 144-437 59-87 196-220 294-285 317-211 805-307 1281-251 599 69 965 367 1073 869 19 91 16 342-6 445-63 301-247 521-571 683-137 69-236 106-546 205-318 102-431 146-519 202-213 138-190 394 42 476 78 27 130 35 244 35 169 0 260-28 343-106 57-53 86-113 101-210 6-38 12-70 13-71s195 38 431 87 433 89 438 89c13 0 9 79-7 175-70 400-425 676-977 760-131 20-383 27-518 14zM20030 8054c-619-67-1071-358-1317-849-161-319-233-724-204-1138 48-676 310-1156 789-1446 363-219 933-290 1430-177 337 77 630 246 839 485 234 268 380 617 434 1036 19 143 16 502-4 650-81 586-347 1002-798 1244-312 168-750 241-1169 195zm345-734c192-22 316-79 435-199 158-159 241-401 258-748 23-460-64-814-249-1017-143-156-370-238-618-223-404 25-641 265-726 732-25 137-31 498-11 650 66 500 304 771 706 804 52 5 100 9 105 10 6 0 51-4 100-9zM24375 8059c-135-12-372-59-480-94-216-72-432-202-584-354-258-256-417-628-461-1073-16-167-8-544 15-693 68-436 222-763 480-1014 318-310 760-456 1325-438 195 7 312 22 471 62 417 106 726 366 869 732 45 114 86 272 73 283-7 7-790 230-806 230-4 0-7-22-7-49 0-122-79-279-183-364-62-51-193-111-292-133-108-25-349-25-450 0-408 100-582 476-562 1211 14 517 137 779 423 898 212 89 582 79 750-19 55-32 124-108 152-165 31-65 52-169 52-266 0-73 2-83 18-83 27 0 852 187 860 195 12 12 5 218-11 290-62 288-252 521-547 670-151 76-325 126-550 160-133 19-412 27-555 14zM14450 7385v-605h670v540h540V5080h-380v-610h1660v610h-380v2240h540v-540h670v1210h-3320v-605zM26880 7680v-310h390l-2-1142-3-1143-192-3-193-2v-610h1670v610h-390v790h247l48-77c26-43 221-358 433-700l386-623h1046v610h-365l-419 649c-231 357-420 651-420 654-1 3 197 226 438 496l439 491h297v620h-1520v-619l136-3 135-3-222-245c-122-135-264-291-316-347l-95-103h-248v700h330v620h-1610v-310zM25340 3474c-291-34-456-99-590-234-129-128-186-291-177-500 11-237 103-393 311-525 87-55 180-96 366-160 364-125 431-159 469-238 57-118-7-204-170-233-95-17-161-12-263 17-57 17-78 29-122 73-53 54-84 122-84 188 0 15-3 28-7 28-5 0-133-26-287-57l-278-58 5-75c20-289 296-520 697-585 122-19 369-20 478 0 276 48 470 178 566 378 59 123 71 179 70 317-1 185-44 305-151 420-115 125-237 188-583 300-352 115-419 159-428 278-5 76 21 116 103 157 54 27 69 30 160 30 123 0 186-20 239-74 36-37 66-108 66-157 0-20 4-23 28-18 15 3 142 29 282 58l255 52 3 38c5 56-15 135-54 216-79 166-264 287-519 340-87 19-314 32-385 24zM29275 3469c-284-32-507-151-619-332-66-107-87-180-93-323-9-208 41-357 161-479 124-125 228-180 571-300 281-98 309-111 367-163 66-60 83-122 51-189-24-52-78-82-174-99-245-43-447 66-466 252-3 30-9 54-12 54s-131-26-283-57l-278-57v-56c0-124 60-251 170-360 129-127 313-213 531-246 150-23 452-14 564 16 165 44 325 140 406 242 95 119 143 265 142 433 0 290-129 477-420 612-43 20-184 71-315 114-347 114-404 148-429 259-18 76 23 139 116 181 66 30 223 33 301 6 81-28 135-97 149-190 5-29 12-47 19-44 6 2 130 28 276 57s269 57 274 61c18 16-9 163-43 235-40 86-88 145-165 202-127 94-297 152-507 171-129 12-179 12-294 0zM11430 2503c-183-511-337-936-342-945-7-15-23-18-93-18h-85v-400h900v400h-103c-57 0-106 3-109 6s10 54 30 115l37 109 369-2 369-3 38-100c21-55 38-106 39-112 0-10-27-13-105-13h-105v-400l478 2 477 3 3 197 2 197-92 3-93 3-375 943-375 942h-531l-334-927zm704 13c64-181 116-333 116-337 0-11-450-12-450-1-2 20 206 680 211 674 4-4 59-155 123-336zM13690 3230v-200h250l-2-742-3-743-122-3-123-3v-399h1050v400h-120c-87 0-122 3-125 13-3 6-4 224-3 484l3 472 468-685 468-684 282 2 282 3 3 943 2 942h250v400h-1060v-400h250v-490c0-269-1-490-3-490-1 0-212 310-467 690l-465 689-407 1h-408v-200zM17555 3413c-3-10-130-362-282-783-151-421-301-837-332-925l-58-160-86-3-87-3v-399l448 2 447 3 3 198 2 197h-110c-60 0-110 3-110 7 0 5 16 56 36 115l36 108h736l28-72c14-40 33-88 40-107 8-18 14-37 14-42s-47-9-105-9h-105v-400h950v399l-87 3-88 3-375 940-376 940-266 3c-246 2-266 1-273-15zm379-902c64-184 115-336 113-338s-106-2-230-1l-225 3 89 290c49 160 96 314 105 343 9 30 19 50 23 45 5-4 60-158 125-342zM19490 3230v-200h250V1540h-260l2-198 3-197 933-3 932-2v790h-430v-350h-600v1450h250v400h-1080v-200zM21750 3230v-200h185l348-535 347-536-2-207-3-207-122-3-123-3v-399h1080v400h-250v425l329 530 329 530 96 3 96 3v399h-1000v-400h95c52 0 95-3 95-8 0-4-72-130-159-280l-159-273-167 267c-91 146-169 272-172 280-4 11 14 14 96 14h101v400h-1040v-200zM26880 3230v-200h250V1540h-250l2-198 3-197 538-3 537-2v399l-122 3-123 3-3 743-2 742h250v400h-1080v-200z\"/></g></svg><!-- HTML_TAG_END --></div></a> <div class=\"ml-0.5 max-w-screen-xsm grow md:ml-2 xxl:ml-6 xxxl:ml-12\"><form action=\"/symbol-lookup/\" method=\"get\" role=\"search\"><div class=\"relative flex items-center\"><div class=\"absolute inset-y-0 left-0 flex items-center pl-2.5\"><!-- HTML_TAG_START --><svg class=\"h-4 w-4 text-icon xs:h-5 xs:w-5\" fill=\"none\" stroke-linecap=\"round\" stroke-linejoin=\"round\" stroke-width=\"3\" stroke=\"currentColor\" viewBox=\"0 0 24 24\" style=\"max-width: 40px\" aria-hidden=\"true\"><path d=\"M21 21l-6-6m2-5a7 7 0 11-14 0 7 7 0 0114 0z\" /></svg><!-- HTML_TAG_END --></div> <input class=\"grow rounded-sm border border-default py-1.5 pl-7 text-sm placeholder-gray-700 dark:placeholder-gray-200 focus:border-default focus:shadow-lg focus:outline-none focus:ring-0 tiny:pl-8 xs:pl-10 xs:text-base md:py-2 w-full bg-gray-50 hover:bg-white focus:bg-white dark:bg-dark-700 dark:hover:bg-dark-700 dark:focus:bg-dark-700\" type=\"text\" aria-label=\"Search\" role=\"combobox\" aria-expanded=\"false\" aria-controls=\"owned_listbox\" autocomplete=\"off\" spellcheck=\"false\" aria-autocomplete=\"list\" placeholder=\"Company or stock symbol...\" name=\"q\" value=\"\">    </div></form></div>   <div class=\"ml-auto hidden space-x-2 xxl:flex\"><a class=\"inline-flex w-full items-center justify-center whitespace-nowrap rounded-sm bg-white px-4 py-1.5 text-lg font-semibold text-default hover:bg-gray-50 focus:outline-none focus:ring-2 focus:ring-blue-500 dark:bg-dark-800 dark:text-default dark:hover:bg-dark-700\" href=\"/login/\" data-svelte-h=\"svelte-1kqtjev\">Log In</a> <a class=\"inline-flex items-center justify-center whitespace-nowrap rounded-sm border border-transparent bg-blue-brand_light px-4 py-1.5 text-lg font-semibold text-white shadow-sm hover:bg-blue-brand_sharp focus:outline-none focus:ring-2 focus:ring-blue-500 dark:text-white\" href=\"/pro/\">Sign Up</a></div></div></header> <div class=\"grow xxl:grid-cols-leftnav xxl:grid\"> <div class=\"z-40 border-r border-gray-100 bg-white dark:border-neutral-700 dark:bg-dark-800 hidden xxl:block\"><div class=\"top-14 mt-1 overflow-y-auto overscroll-contain bg-white px-3 pb-4 pt-2 dark:bg-dark-800 xs:px-4 sm:px-3 xxl:sticky xxl:mt-0 xxl:px-5 xxl:py-4\" id=\"left-navigation\"><nav class=\"flex flex-col text-sm font-semibold\"><div class=\"flex grow items-center rounded-md text-sm font-semibold text-gray-600 hover:bg-gray-50 hover:text-gray-900 dark:hover:bg-neutral-700\"><a class=\"flex grow items-center px-2 py-1.5 text-gray-600 dark:text-gray-300 xs:py-2\" href=\"/\" title=\"Home\"><!-- HTML_TAG_START --><svg class=\"h-5 w-5 xs:h-6 xs:w-6 text-gray-500 dark:text-dark-400 xxl:h-5 xxl:w-5 xxxl:h-6 xxxl:w-6\" fill=\"none\" viewBox=\"0 0 24 24\" stroke=\"currentColor\" style=\"max-width:40px\" aria-hidden=\"true\"><path stroke-linecap=\"round\" stroke-linejoin=\"round\" stroke-width=\"2\" d=\"M3 12l2-2m0 0l7-7 7 7M5 10v10a1 1 0 001 1h3m10-11l2 2m-2-2v10a1 1 0 01-1 1h-3m-6 0a1 1 0 001-1v-4a1 1 0 011-1h2a1 1 0 011 1v4a1 1 0 001 1m-6 0h6\"/></svg><!-- HTML_TAG_END --> <span class=\"ml-3\">Home</span></a></div><div><div class=\"mt-1 flex grow items-center rounded-md text-sm font-semibold text-gray-600 hover:bg-gray-50 hover:text-gray-900 dark:hover:bg-neutral-700\"><a class=\"mr-1 flex grow items-center px-2 py-1.5 text-gray-600 dark:text-gray-300 xs:py-2 xxl:mr-0\" href=\"/stocks/\" title=\"Stocks\"><!-- HTML_TAG_START --><svg class=\"h-5 w-5 xs:h-6 xs:w-6 text-gray-500 dark:text-dark-400 xxl:h-5 xxl:w-5 xxxl:h-6 xxxl:w-6\" fill=\"none\" viewBox=\"0 0 24 24\" stroke=\"currentColor\" style=\"max-width:40px\" aria-hidden=\"true\"><path stroke-linecap=\"round\" stroke-linejoin=\"round\" stroke-width=\"2\" d=\"M9 19v-6a2 2 0 00-2-2H5a2 2 0 00-2 2v6a2 2 0 002 2h2a2 2 0 002-2zm0 0V9a2 2 0 012-2h2a2 2 0 012 2v10m-6 0a2 2 0 002 2h2a2 2 0 002-2m0 0V5a2 2 0 012-2h2a2 2 0 012 2v14a2 2 0 01-2 2h-2a2 2 0 01-2-2z\"/></svg><!-- HTML_TAG_END --> <span class=\"ml-3\">Stocks</span></a> <button class=\"ml-auto cursor-pointer border-l border-gray-300 px-2 dark:border-dark-600 xxl:px-1\" aria-controls=\"Stocks-menu\" aria-expanded=\"false\" aria-label=\"Expand Stocks menu\"><svg class=\"h-5 w-5 text-gray-300 dark:text-dark-400\" viewBox=\"0 0 20 20\" style=\"max-width: 20px\"><path d=\"M6 6L14 10L6 14V6Z\" fill=\"currentColor\"></path></svg></button></div> <ul class=\"hidden\" id=\"Stocks-menu\"><li><a class=\"block rounded-md py-1.5 pl-11 pr-2 text-gray-600 hover:bg-gray-50 hover:text-gray-900 dark:text-gray-300 hover:dark:bg-dark-700\" href=\"/stocks/screener/\" title=\"Stock Screener\">Stock Screener</a> </li><li><a class=\"block rounded-md py-1.5 pl-11 pr-2 text-gray-600 hover:bg-gray-50 hover:text-gray-900 dark:text-gray-300 hover:dark:bg-dark-700\" href=\"/stocks/earnings-calendar/\" title=\"Earnings Calendar\">Earnings Calendar</a> </li><li><a class=\"block rounded-md py-1.5 pl-11 pr-2 text-gray-600 hover:bg-gray-50 hover:text-gray-900 dark:text-gray-300 hover:dark:bg-dark-700\" href=\"/stocks/industry/\" title=\"By Industry\">By Industry</a> </li><li><a class=\"block rounded-md py-1.5 pl-11 pr-2 text-gray-600 hover:bg-gray-50 hover:text-gray-900 dark:text-gray-300 hover:dark:bg-dark-700\" href=\"/list/\" title=\"Stock Lists\">Stock Lists</a> </li><li><a class=\"block rounded-md py-1.5 pl-11 pr-2 text-gray-600 hover:bg-gray-50 hover:text-gray-900 dark:text-gray-300 hover:dark:bg-dark-700\" href=\"/analysts/\" title=\"Top Analysts\">Top Analysts</a> </li><li><a class=\"block rounded-md py-1.5 pl-11 pr-2 text-gray-600 hover:bg-gray-50 hover:text-gray-900 dark:text-gray-300 hover:dark:bg-dark-700\" href=\"/analysts/top-stocks/\" title=\"Top Stocks\">Top Stocks</a> </li></ul></div><div><div class=\"mt-1 flex grow items-center rounded-md text-sm font-semibold text-gray-600 hover:bg-gray-50 hover:text-gray-900 dark:hover:bg-neutral-700 bg-gray-100 dark:bg-dark-700\"><a class=\"mr-1 flex grow items-center px-2 py-1.5 text-gray-600 dark:text-gray-300 xs:py-2 xxl:mr-0\" href=\"/ipos/\" title=\"IPOs\"><!-- HTML_TAG_START --><svg class=\"h-5 w-5 xs:h-6 xs:w-6 text-gray-500 dark:text-dark-400 xxl:h-5 xxl:w-5 xxxl:h-6 xxxl:w-6\" fill=\"none\" viewBox=\"0 0 24 24\" stroke=\"currentColor\" style=\"max-width:40px\" aria-hidden=\"true\"><path stroke-linecap=\"round\" stroke-linejoin=\"round\" stroke-width=\"2\" d=\"M8 7V3m8 4V3m-9 8h10M5 21h14a2 2 0 002-2V7a2 2 0 00-2-2H5a2 2 0 00-2 2v12a2 2 0 002 2z\"/></svg><!-- HTML_TAG_END --> <span class=\"ml-3\">IPOs</span></a> <button class=\"ml-auto cursor-pointer border-l border-gray-300 px-2 dark:border-dark-600 xxl:px-1\" aria-controls=\"IPOs-menu\" aria-expanded=\"true\" aria-label=\"Expand IPOs menu\"><svg class=\"h-5 w-5 text-gray-300 dark:text-dark-400 rotate-90 text-gray-400\" viewBox=\"0 0 20 20\" style=\"max-width: 20px\"><path d=\"M6 6L14 10L6 14V6Z\" fill=\"currentColor\"></path></svg></button></div> <ul class=\"block pt-0.5\" id=\"IPOs-menu\"><li><a class=\"block rounded-md py-1.5 pl-11 pr-2 text-gray-600 hover:bg-gray-50 hover:text-gray-900 dark:text-gray-300 hover:dark:bg-dark-700\" href=\"/ipos/\" title=\"Recent IPOs\">Recent IPOs</a> </li><li><a class=\"block rounded-md py-1.5 pl-11 pr-2 text-gray-600 hover:bg-gray-50 hover:text-gray-900 dark:text-gray-300 hover:dark:bg-dark-700\" href=\"/ipos/calendar/\" title=\"IPO Calendar\">IPO Calendar</a> </li><li><a class=\"block rounded-md py-1.5 pl-11 pr-2 text-gray-600 hover:bg-gray-50 hover:text-gray-900 dark:text-gray-300 hover:dark:bg-dark-700\" href=\"/ipos/statistics/\" title=\"IPO Statistics\">IPO Statistics</a> </li><li><a class=\"block rounded-md py-1.5 pl-11 pr-2 text-gray-600 hover:bg-gray-50 hover:text-gray-900 dark:text-gray-300 hover:dark:bg-dark-700\" href=\"/ipos/news/\" title=\"IPO News\">IPO News</a> </li><li><a class=\"block rounded-md py-1.5 pl-11 pr-2 text-gray-600 hover:bg-gray-50 hover:text-gray-900 dark:text-gray-300 hover:dark:bg-dark-700\" href=\"/ipos/screener/\" title=\"IPO Screener\">IPO Screener</a> </li></ul></div><div><div class=\"mt-1 flex grow items-center rounded-md text-sm font-semibold text-gray-600 hover:bg-gray-50 hover:text-gray-900 dark:hover:bg-neutral-700\"><a class=\"mr-1 flex grow items-center px-2 py-1.5 text-gray-600 dark:text-gray-300 xs:py-2 xxl:mr-0\" href=\"/etf/\" title=\"ETFs\"><!-- HTML_TAG_START --><svg class=\"h-5 w-5 xs:h-6 xs:w-6 text-gray-500 dark:text-dark-400 xxl:h-5 xxl:w-5 xxxl:h-6 xxxl:w-6\" fill=\"none\" viewBox=\"0 0 24 24\" stroke=\"currentColor\" style=\"max-width:40px\" aria-hidden=\"true\"><path stroke-linecap=\"round\" stroke-linejoin=\"round\" stroke-width=\"2\" d=\"M19 11H5m14 0a2 2 0 012 2v6a2 2 0 01-2 2H5a2 2 0 01-2-2v-6a2 2 0 012-2m14 0V9a2 2 0 00-2-2M5 11V9a2 2 0 012-2m0 0V5a2 2 0 012-2h6a2 2 0 012 2v2M7 7h10\"/></svg><!-- HTML_TAG_END --> <span class=\"ml-3\">ETFs</span></a> <button class=\"ml-auto cursor-pointer border-l border-gray-300 px-2 dark:border-dark-600 xxl:px-1\" aria-controls=\"ETFs-menu\" aria-expanded=\"false\" aria-label=\"Expand ETFs menu\"><svg class=\"h-5 w-5 text-gray-300 dark:text-dark-400\" viewBox=\"0 0 20 20\" style=\"max-width: 20px\"><path d=\"M6 6L14 10L6 14V6Z\" fill=\"currentColor\"></path></svg></button></div> <ul class=\"hidden\" id=\"ETFs-menu\"><li><a class=\"block rounded-md py-1.5 pl-11 pr-2 text-gray-600 hover:bg-gray-50 hover:text-gray-900 dark:text-gray-300 hover:dark:bg-dark-700\" href=\"/etf/screener/\" title=\"ETF Screener\">ETF Screener</a> </li><li><a class=\"block rounded-md py-1.5 pl-11 pr-2 text-gray-600 hover:bg-gray-50 hover:text-gray-900 dark:text-gray-300 hover:dark:bg-dark-700\" href=\"/etf/compare/\" title=\"Comparison Tool\">Comparison Tool</a> </li><li><a class=\"block rounded-md py-1.5 pl-11 pr-2 text-gray-600 hover:bg-gray-50 hover:text-gray-900 dark:text-gray-300 hover:dark:bg-dark-700\" href=\"/etf/list/new/\" title=\"New Launches\">New Launches</a> </li><li><a class=\"block rounded-md py-1.5 pl-11 pr-2 text-gray-600 hover:bg-gray-50 hover:text-gray-900 dark:text-gray-300 hover:dark:bg-dark-700\" href=\"/etf/provider/\" title=\"ETF Providers\">ETF Providers</a> </li></ul></div><div class=\"flex grow items-center rounded-md text-sm font-semibold text-gray-600 hover:bg-gray-50 hover:text-gray-900 dark:hover:bg-neutral-700 mt-1\"><a class=\"flex grow items-center px-2 py-1.5 text-gray-600 dark:text-gray-300 xs:py-2\" href=\"/news/\" title=\"News\"><!-- HTML_TAG_START --><svg class=\"h-5 w-5 xs:h-6 xs:w-6 text-gray-500 dark:text-dark-400 xxl:h-5 xxl:w-5 xxxl:h-6 xxxl:w-6\" fill=\"none\" viewBox=\"0 0 24 24\" stroke=\"currentColor\" style=\"max-width:40px\" aria-hidden=\"true\"><path stroke-linecap=\"round\" stroke-linejoin=\"round\" stroke-width=\"2\" d=\"M19 20H5a2 2 0 01-2-2V6a2 2 0 012-2h10a2 2 0 012 2v1m2 13a2 2 0 01-2-2V7m2 13a2 2 0 002-2V9a2 2 0 00-2-2h-2m-4-3H9M7 16h6M7 8h6v4H7V8z\"/></svg><!-- HTML_TAG_END --> <span class=\"ml-3\">News</span></a></div><div class=\"flex grow items-center rounded-md text-sm font-semibold text-gray-600 hover:bg-gray-50 hover:text-gray-900 dark:hover:bg-neutral-700 mt-1\"><a class=\"flex grow items-center px-2 py-1.5 text-gray-600 dark:text-gray-300 xs:py-2\" href=\"/trending/\" title=\"Trending\"><!-- HTML_TAG_START --><svg class=\"h-5 w-5 xs:h-6 xs:w-6 text-gray-500 dark:text-dark-400 xxl:h-5 xxl:w-5 xxxl:h-6 xxxl:w-6\" fill=\"none\" viewBox=\"0 0 24 24\" stroke=\"currentColor\" style=\"max-width:40px\" aria-hidden=\"true\"><path stroke-linecap=\"round\" stroke-linejoin=\"round\" stroke-width=\"2\" d=\"M13 7h8m0 0v8m0-8l-8 8-4-4-6 6\"/></svg><!-- HTML_TAG_END --> <span class=\"ml-3\">Trending</span></a></div><div><div class=\"mt-1 flex grow items-center rounded-md text-sm font-semibold text-gray-600 hover:bg-gray-50 hover:text-gray-900 dark:hover:bg-neutral-700\"><a class=\"mr-1 flex grow items-center px-2 py-1.5 text-gray-600 dark:text-gray-300 xs:py-2 xxl:mr-0\" href=\"/markets/gainers/\" title=\"Market Movers\"><!-- HTML_TAG_START --><svg class=\"h-5 w-5 xs:h-6 xs:w-6 text-gray-500 dark:text-dark-400 xxl:h-5 xxl:w-5 xxxl:h-6 xxxl:w-6\" fill=\"none\" viewBox=\"0 0 24 24\" stroke=\"currentColor\" style=\"max-width:40px\" aria-hidden=\"true\"><path stroke-linecap=\"round\" stroke-linejoin=\"round\" stroke-width=\"2\" d=\"M16 8v8m-4-5v5m-4-2v2m-2 4h12a2 2 0 002-2V6a2 2 0 00-2-2H6a2 2 0 00-2 2v12a2 2 0 002 2z\"/></svg><!-- HTML_TAG_END --> <span class=\"ml-3\">Market Movers</span></a> <button class=\"ml-auto cursor-pointer border-l border-gray-300 px-2 dark:border-dark-600 xxl:px-1\" aria-controls=\"Market Movers-menu\" aria-expanded=\"false\" aria-label=\"Expand Market Movers menu\"><svg class=\"h-5 w-5 text-gray-300 dark:text-dark-400\" viewBox=\"0 0 20 20\" style=\"max-width: 20px\"><path d=\"M6 6L14 10L6 14V6Z\" fill=\"currentColor\"></path></svg></button></div> <ul class=\"hidden\" id=\"Market Movers-menu\"><li><a class=\"block rounded-md py-1.5 pl-11 pr-2 text-gray-600 hover:bg-gray-50 hover:text-gray-900 dark:text-gray-300 hover:dark:bg-dark-700\" href=\"/markets/gainers/\" title=\"Top Gainers\">Top Gainers</a> </li><li><a class=\"block rounded-md py-1.5 pl-11 pr-2 text-gray-600 hover:bg-gray-50 hover:text-gray-900 dark:text-gray-300 hover:dark:bg-dark-700\" href=\"/markets/losers/\" title=\"Top Losers\">Top Losers</a> </li><li><a class=\"block rounded-md py-1.5 pl-11 pr-2 text-gray-600 hover:bg-gray-50 hover:text-gray-900 dark:text-gray-300 hover:dark:bg-dark-700\" href=\"/markets/active/\" title=\"Most Active\">Most Active</a> </li><li><a class=\"block rounded-md py-1.5 pl-11 pr-2 text-gray-600 hover:bg-gray-50 hover:text-gray-900 dark:text-gray-300 hover:dark:bg-dark-700\" href=\"/markets/premarket/\" title=\"Premarket\">Premarket</a> </li><li><a class=\"block rounded-md py-1.5 pl-11 pr-2 text-gray-600 hover:bg-gray-50 hover:text-gray-900 dark:text-gray-300 hover:dark:bg-dark-700\" href=\"/markets/afterhours/\" title=\"After Hours\">After Hours</a> </li></ul></div><div class=\"flex grow items-center rounded-md text-sm font-semibold text-gray-600 hover:bg-gray-50 hover:text-gray-900 dark:hover:bg-neutral-700 mt-1\"><a class=\"flex grow items-center px-2 py-1.5 text-gray-600 dark:text-gray-300 xs:py-2\" href=\"/actions/\" title=\"Corporate Actions\"><!-- HTML_TAG_START --><svg class=\"h-5 w-5 xs:h-6 xs:w-6 text-gray-500 dark:text-dark-400 xxl:h-5 xxl:w-5 xxxl:h-6 xxxl:w-6\" fill=\"none\" viewBox=\"0 0 24 24\" stroke=\"currentColor\" style=\"max-width:40px\" aria-hidden=\"true\"><path stroke-linecap=\"round\" stroke-linejoin=\"round\" stroke-width=\"2\" d=\"M5 8h14M5 8a2 2 0 110-4h14a2 2 0 110 4M5 8v10a2 2 0 002 2h10a2 2 0 002-2V8m-9 4h4\"/></svg><!-- HTML_TAG_END --> <span class=\"ml-3\">Corporate Actions</span></a></div><div class=\"flex grow items-center rounded-md text-sm font-semibold text-gray-600 hover:bg-gray-50 hover:text-gray-900 dark:hover:bg-neutral-700 mt-1\"><a class=\"flex grow items-center px-2 py-1.5 text-gray-600 dark:text-gray-300 xs:py-2\" href=\"/subscribe/\" title=\"Market Newsletter\"><!-- HTML_TAG_START --><svg class=\"h-5 w-5 xs:h-6 xs:w-6 text-gray-500 dark:text-dark-400 xxl:h-5 xxl:w-5 xxxl:h-6 xxxl:w-6\" fill=\"none\" viewBox=\"0 0 24 24\" stroke=\"currentColor\" style=\"max-width:40px\" aria-hidden=\"true\"><path stroke-linecap=\"round\" stroke-linejoin=\"round\" stroke-width=\"2\" d=\"M21.75 6.75v10.5a2.25 2.25 0 01-2.25 2.25h-15a2.25 2.25 0 01-2.25-2.25V6.75m19.5 0A2.25 2.25 0 0019.5 4.5h-15a2.25 2.25 0 00-2.25 2.25m19.5 0v.243a2.25 2.25 0 01-1.07 1.916l-7.5 4.615a2.25 2.25 0 01-2.36 0L3.32 8.91a2.25 2.25 0 01-1.07-1.916V6.75\" /></svg><!-- HTML_TAG_END --> <span class=\"ml-3\">Market Newsletter</span></a></div><div class=\"flex grow items-center rounded-md text-sm font-semibold text-gray-600 hover:bg-gray-50 hover:text-gray-900 dark:hover:bg-neutral-700\"><a class=\"flex grow items-center px-2 py-1.5 text-gray-600 dark:text-gray-300 xs:py-2\" href=\"/pro/\" title=\"Stock Analysis Pro\"><!-- HTML_TAG_START --><svg class=\"h-5 w-5 xs:h-6 xs:w-6 text-gray-500 dark:text-dark-400 xxl:h-5 xxl:w-5 xxxl:h-6 xxxl:w-6\" fill=\"none\" viewBox=\"0 0 24 24\" stroke=\"currentColor\" style=\"max-width:40px\" aria-hidden=\"true\"><path stroke-linecap=\"round\" stroke-linejoin=\"round\" stroke-width=\"2\" d=\"M19 7.5v3m0 0v3m0-3h3m-3 0h-3m-2.25-4.125a3.375 3.375 0 11-6.75 0 3.375 3.375 0 016.75 0zM4 19.235v-.11a6.375 6.375 0 0112.75 0v.109A12.318 12.318 0 0110.374 21c-2.331 0-4.512-.645-6.374-1.766z\" /></svg><!-- HTML_TAG_END --> <span class=\"ml-3\">Stock Analysis Pro</span></a></div><div class=\"flex grow items-center rounded-md text-sm font-semibold text-gray-600 hover:bg-gray-50 hover:text-gray-900 dark:hover:bg-neutral-700 mt-1\"><a class=\"flex grow items-center px-2 py-1.5 text-gray-600 dark:text-gray-300 xs:py-2\" href=\"/watchlist/\" title=\"Watchlist\"><!-- HTML_TAG_START --><svg class=\"h-5 w-5 xs:h-6 xs:w-6 text-gray-500 dark:text-dark-400 xxl:h-5 xxl:w-5 xxxl:h-6 xxxl:w-6\" fill=\"none\" viewBox=\"0 0 24 24\" stroke=\"currentColor\" style=\"max-width:40px\" aria-hidden=\"true\"><path stroke-linecap=\"round\" stroke-linejoin=\"round\" stroke-width=\"2\" d=\"M12 4v16m8-8H4\" /></svg><!-- HTML_TAG_END --> <span class=\"ml-3\">Watchlist</span></a></div></nav> <div class=\"mt-4 hidden cursor-pointer items-center border-t border-default pt-1 xxl:flex\"><button class=\"flex grow items-center rounded-md text-sm font-semibold text-gray-600 hover:bg-gray-50 hover:text-gray-900 dark:text-gray-300 hover:dark:bg-dark-700 xxl:p-2\" title=\"Collapse Menu\"><!-- HTML_TAG_START --><svg class=\"h-6 w-6 text-gray-500 dark:text-dark-400 xxl:h-5 xxl:w-5 xxxl:h-6 xxxl:w-6\" fill=\"none\" viewBox=\"0 0 24 24\" stroke=\"currentColor\" style=\"max-width:40px\"><path stroke-linecap=\"round\" stroke-linejoin=\"round\" stroke-width=\"2\" d=\"M11 19l-7-7 7-7m8 14l-7-7 7-7\"/></svg><!-- HTML_TAG_END --> <span class=\"ml-3\">Collapse</span></button></div></div> </div> <div> <main id=\"main\" class=\"contain\"> <h1 data-svelte-h=\"svelte-12flqge\">IPO Filings</h1> <nav class=\"mb-1.5 border-b-[3px] border-below-title dark:border-gray-500\"><ul class=\"navmenu\"><li><a href=\"/ipos/\" data-title=\"IPOs\" data-svelte-h=\"svelte-1bhiis3\">Recent</a></li> <li><a href=\"/ipos/calendar/\" data-title=\"Calendar\" class=\"active\" data-svelte-h=\"svelte-1ytno9j\">Calendar</a></li> <li><a href=\"/ipos/statistics/\" data-title=\"Statistics\" data-svelte-h=\"svelte-13wni21\">Statistics</a></li> <li><a href=\"/ipos/news/\" data-title=\"News\" data-svelte-h=\"svelte-zayr5d\">News</a></li></ul></nav> <div class=\"wrsb\"><div><nav class=\"mb-3\"><ul class=\"navmenu\"><li><a href=\"/ipos/calendar/\" data-title=\"Upcoming\" data-svelte-h=\"svelte-78jg1\">Upcoming</a></li> <li><a href=\"/ipos/filings/\" data-title=\"Filings\" class=\"active\" data-svelte-h=\"svelte-6ln8tb\">Filings</a></li> <li><a href=\"/ipos/withdrawn/\" data-title=\"Withdrawn\" data-svelte-h=\"svelte-22wsdv\">Withdrawn</a></li></ul></nav>  <div class=\"controls groups\"><div class=\"title-group\"><h2>324 Filings</h2>  <button class=\"ml-auto block md:hidden\" aria-label=\"Open table menu\"><!-- HTML_TAG_START --><svg class=\"h-7 w-7 text-gray-700 dark:text-dark-200 bp:h-[1.9rem] bp:w-[1.9rem]\" viewBox=\"0 0 20 20\" fill=\"currentColor\" style=\"max-width:40px\"><path fill-rule=\"evenodd\" d=\"M5.293 7.293a1 1 0 011.414 0L10 10.586l3.293-3.293a1 1 0 111.414 1.414l-4 4a1 1 0 01-1.414 0l-4-4a1 1 0 010-1.414z\" clip-rule=\"evenodd\"/></svg><!-- HTML_TAG_END --></button></div> <div class=\"btn-group hidem\"><div class=\"relative flex min-w-[80px] max-w-[100px] items-center xs:max-w-[130px] sm:max-w-[150px]\"><label for=\"filter\" class=\"sr-only\" data-svelte-h=\"svelte-134vv3h\">Filter results</label> <input class=\"controls-input w-full focus:border-blue-500 focus:ring-blue-500 sm:py-2\" type=\"text\" name=\"filter\" id=\"filter\" autocomplete=\"off\" placeholder=\"Filter...\"> <div class=\"absolute inset-y-0 right-0 flex items-center pr-3\"></div></div>  <div class=\"relative inline-block text-left\"><button class=\"controls-btn hidden tiny:flex\"><span class=\"truncate\">Export</span> <!-- HTML_TAG_START --><svg class=\"-mr-1 ml-1 h-5 w-5 xs:ml-2 undefined\" viewBox=\"0 0 20 20\" fill=\"currentColor\" style=\"max-width:40px\" aria-hidden=\"true\"><path fill-rule=\"evenodd\" d=\"M5.293 7.293a1 1 0 011.414 0L10 10.586l3.293-3.293a1 1 0 111.414 1.414l-4 4a1 1 0 01-1.414 0l-4-4a1 1 0 010-1.414z\" clip-rule=\"evenodd\"/></svg><!-- HTML_TAG_END --></button> </div> <div class=\"relative inline-block text-left\"><button class=\"controls-btn\"><span class=\"truncate\">Columns</span> <!-- HTML_TAG_START --><svg class=\"-mr-1 ml-1 h-5 w-5 xs:ml-2 undefined\" viewBox=\"0 0 20 20\" fill=\"currentColor\" style=\"max-width:40px\" aria-hidden=\"true\"><path fill-rule=\"evenodd\" d=\"M5.293 7.293a1 1 0 011.414 0L10 10.586l3.293-3.293a1 1 0 111.414 1.414l-4 4a1 1 0 01-1.414 0l-4-4a1 1 0 010-1.414z\" clip-rule=\"evenodd\"/></svg><!-- HTML_TAG_END --></button> </div> <div class=\"relative inline-block text-left\"><button class=\"controls-btn\" aria-label=\"Table options\"><!-- HTML_TAG_START --><svg class=\"w-5 h-5\" fill=\"none\" viewBox=\"0 0 24 24\" stroke=\"currentColor\" style=\"max-width:40px\"><path stroke-linecap=\"round\" stroke-linejoin=\"round\" stroke-width=\"2\" d=\"M12 5v.01M12 12v.01M12 19v.01M12 6a1 1 0 110-2 1 1 0 010 2zm0 7a1 1 0 110-2 1 1 0 010 2zm0 7a1 1 0 110-2 1 1 0 010 2z\"/></svg><!-- HTML_TAG_END --></button> </div></div></div>     <div id=\"main-table-wrap\" class=\"styled-scrollbar bottom-scrollbar overflow-x-auto\"><table id=\"main-table\" class=\"symbol-table svelte-eurwtr\"><thead><tr class=\"svelte-eurwtr\"><th id=\"filingDate\" class=\" svelte-eurwtr\" draggable=\"true\"> <span class=\"svelte-eurwtr\">Filing Date <!-- HTML_TAG_START --><svg class=\"mt-0.5 w-4 h-4\" viewBox=\"0 0 20 20\" fill=\"currentColor\" style=\"max-width:40px\"><path fill-rule=\"evenodd\" d=\"M5.293 7.293a1 1 0 011.414 0L10 10.586l3.293-3.293a1 1 0 111.414 1.414l-4 4a1 1 0 01-1.414 0l-4-4a1 1 0 010-1.414z\" clip-rule=\"evenodd\"/></svg><!-- HTML_TAG_END --></span> </th><th id=\"s\" class=\"sym svelte-eurwtr\" draggable=\"true\">Symbol </th><th id=\"n\" class=\"slw svelte-eurwtr\" draggable=\"true\">Company Name </th><th id=\"ipoPriceRange\" class=\" svelte-eurwtr\" draggable=\"true\">Price Range </th><th id=\"sharesOffered\" class=\" svelte-eurwtr\" draggable=\"true\">Shares Offered </th></tr></thead> <tbody><tr class=\"svelte-eurwtr\"><td class=\"svelte-eurwtr\">May 3, 2024</td><td class=\"sym svelte-eurwtr\"><!-- HTML_TAG_START --><a href=\"/stocks/tbn/\">TBN</a><!-- HTML_TAG_END --></td><td class=\"slw svelte-eurwtr\">Tamboran Resources Corporation</td><td class=\"svelte-eurwtr\" data-svelte-h=\"svelte-17887i7\">-</td><td class=\"svelte-eurwtr\" data-svelte-h=\"svelte-17887i7\">-</td> </tr><tr class=\"svelte-eurwtr\"><td class=\"svelte-eurwtr\">Apr 29, 2024</td><td class=\"sym svelte-eurwtr\"><!-- HTML_TAG_START --><a href=\"/stocks/hwec/\">HWEC</a><!-- HTML_TAG_END --></td><td class=\"slw svelte-eurwtr\">HW Electro Co., Ltd.</td><td class=\"svelte-eurwtr\">$3.00</td><td class=\"svelte-eurwtr\">3,750,000</td> </tr><tr class=\"svelte-eurwtr\"><td class=\"svelte-eurwtr\">Apr 29, 2024</td><td class=\"sym svelte-eurwtr\"><!-- HTML_TAG_START --><a href=\"/stocks/dtsq/\">DTSQ</a><!-- HTML_TAG_END --></td><td class=\"slw svelte-eurwtr\">DT Cloud Star Acquisition Corporation</td><td class=\"svelte-eurwtr\">$10.00</td><td class=\"svelte-eurwtr\">6,000,000</td> </tr><tr class=\"svelte-eurwtr\"><td class=\"svelte-eurwtr\">Apr 26, 2024</td><td class=\"sym svelte-eurwtr\"><!-- HTML_TAG_START --><a href=\"/stocks/eurk/\">EURK</a><!-- HTML_TAG_END --></td><td class=\"slw svelte-eurwtr\">Eureka Acquisition Corp</td><td class=\"svelte-eurwtr\">$10.00</td><td class=\"svelte-eurwtr\">5,000,000</td> </tr><tr class=\"svelte-eurwtr\"><td class=\"svelte-eurwtr\">Apr 26, 2024</td><td class=\"sym svelte-eurwtr\"><!-- HTML_TAG_START --><a href=\"/stocks/hdl/\">HDL</a><!-- HTML_TAG_END --></td><td class=\"slw svelte-eurwtr\">Super Hi International Holding Ltd.</td><td class=\"svelte-eurwtr\" data-svelte-h=\"svelte-17887i7\">-</td><td class=\"svelte-eurwtr\" data-svelte-h=\"svelte-17887i7\">-</td> </tr><tr class=\"svelte-eurwtr\"><td class=\"svelte-eurwtr\">Apr 22, 2024</td><td class=\"sym svelte-eurwtr\"><!-- HTML_TAG_START --><a href=\"/stocks/drjt/\">DRJT</a><!-- HTML_TAG_END --></td><td class=\"slw svelte-eurwtr\">Derun Group Inc</td><td class=\"svelte-eurwtr\">$5.00</td><td class=\"svelte-eurwtr\" data-svelte-h=\"svelte-17887i7\">-</td> </tr><tr class=\"svelte-eurwtr\"><td class=\"svelte-eurwtr\">Apr 16, 2024</td><td class=\"sym svelte-eurwtr\"><!-- HTML_TAG_START --><a href=\"/stocks/jljt/\">JLJT</a><!-- HTML_TAG_END --></td><td class=\"slw svelte-eurwtr\">Jialiang Holdings Ltd</td><td class=\"svelte-eurwtr\">$5.00</td><td class=\"svelte-eurwtr\" data-svelte-h=\"svelte-17887i7\">-</td> </tr><tr class=\"svelte-eurwtr\"><td class=\"svelte-eurwtr\">Apr 15, 2024</td><td class=\"sym svelte-eurwtr\"><!-- HTML_TAG_START --><a href=\"/stocks/gauz/\">GAUZ</a><!-- HTML_TAG_END --></td><td class=\"slw svelte-eurwtr\">Gauzy Ltd.</td><td class=\"svelte-eurwtr\" data-svelte-h=\"svelte-17887i7\">-</td><td class=\"svelte-eurwtr\" data-svelte-h=\"svelte-17887i7\">-</td> </tr><tr class=\"svelte-eurwtr\"><td class=\"svelte-eurwtr\">Apr 12, 2024</td><td class=\"sym svelte-eurwtr\"><!-- HTML_TAG_START --><a href=\"/stocks/bow/\">BOW</a><!-- HTML_TAG_END --></td><td class=\"slw svelte-eurwtr\">Bowhead Specialty Holdings Inc.</td><td class=\"svelte-eurwtr\" data-svelte-h=\"svelte-17887i7\">-</td><td class=\"svelte-eurwtr\" data-svelte-h=\"svelte-17887i7\">-</td> </tr><tr class=\"svelte-eurwtr\"><td class=\"svelte-eurwtr\">Apr 5, 2024</td><td class=\"sym svelte-eurwtr\"><!-- HTML_TAG_START --><a href=\"/stocks/sphl/\">SPHL</a><!-- HTML_TAG_END --></td><td class=\"slw svelte-eurwtr\">Springview Holdings Ltd</td><td class=\"svelte-eurwtr\">$4.00 - $5.00</td><td class=\"svelte-eurwtr\">2,000,000</td> </tr><tr class=\"svelte-eurwtr\"><td class=\"svelte-eurwtr\">Apr 2, 2024</td><td class=\"sym svelte-eurwtr\"><!-- HTML_TAG_START --><a href=\"/stocks/fffz/\">FFFZ</a><!-- HTML_TAG_END --></td><td class=\"slw svelte-eurwtr\">Fuxing China Group Limited</td><td class=\"svelte-eurwtr\">$4.00 - $4.50</td><td class=\"svelte-eurwtr\">2,000,000</td> </tr><tr class=\"svelte-eurwtr\"><td class=\"svelte-eurwtr\">Apr 1, 2024</td><td class=\"sym svelte-eurwtr\"><!-- HTML_TAG_START --><a href=\"/stocks/lsh/\">LSH</a><!-- HTML_TAG_END --></td><td class=\"slw svelte-eurwtr\">Lakeside Holding Limited</td><td class=\"svelte-eurwtr\">$4.00 - $5.00</td><td class=\"svelte-eurwtr\">1,250,000</td> </tr><tr class=\"svelte-eurwtr\"><td class=\"svelte-eurwtr\">Apr 1, 2024</td><td class=\"sym svelte-eurwtr\"><!-- HTML_TAG_START --><a href=\"/stocks/xxc/\">XXC</a><!-- HTML_TAG_END --></td><td class=\"slw svelte-eurwtr\">Xinxu Copper Industry Technology Limited</td><td class=\"svelte-eurwtr\" data-svelte-h=\"svelte-17887i7\">-</td><td class=\"svelte-eurwtr\" data-svelte-h=\"svelte-17887i7\">-</td> </tr><tr class=\"svelte-eurwtr\"><td class=\"svelte-eurwtr\">Mar 29, 2024</td><td class=\"sym svelte-eurwtr\"><!-- HTML_TAG_START --><a href=\"/stocks/ocp/\">OCP</a><!-- HTML_TAG_END --></td><td class=\"slw svelte-eurwtr\">Huge Amount Group Limited</td><td class=\"svelte-eurwtr\" data-svelte-h=\"svelte-17887i7\">-</td><td class=\"svelte-eurwtr\" data-svelte-h=\"svelte-17887i7\">-</td> </tr><tr class=\"svelte-eurwtr\"><td class=\"svelte-eurwtr\">Mar 28, 2024</td><td class=\"sym svelte-eurwtr\"><!-- HTML_TAG_START --><a href=\"/stocks/ritr/\">RITR</a><!-- HTML_TAG_END --></td><td class=\"slw svelte-eurwtr\">Reitar Logtech Holdings Limited</td><td class=\"svelte-eurwtr\">$4.00 - $5.00</td><td class=\"svelte-eurwtr\">2,500,000</td> </tr><tr class=\"svelte-eurwtr\"><td class=\"svelte-eurwtr\">Mar 26, 2024</td><td class=\"sym svelte-eurwtr\"><!-- HTML_TAG_START --><a href=\"/stocks/ntcl/\">NTCL</a><!-- HTML_TAG_END --></td><td class=\"slw svelte-eurwtr\">NetClass Technology Inc</td><td class=\"svelte-eurwtr\">$5.00 - $6.00</td><td class=\"svelte-eurwtr\">1,800,000</td> </tr><tr class=\"svelte-eurwtr\"><td class=\"svelte-eurwtr\">Mar 25, 2024</td><td class=\"sym svelte-eurwtr\"><!-- HTML_TAG_START --><a href=\"/stocks/jcy/\">JCY</a><!-- HTML_TAG_END --></td><td class=\"slw svelte-eurwtr\">Jingcaoyuan Holdings Inc</td><td class=\"svelte-eurwtr\" data-svelte-h=\"svelte-17887i7\">-</td><td class=\"svelte-eurwtr\" data-svelte-h=\"svelte-17887i7\">-</td> </tr><tr class=\"svelte-eurwtr\"><td class=\"svelte-eurwtr\">Mar 22, 2024</td><td class=\"sym svelte-eurwtr\"><!-- HTML_TAG_START --><a href=\"/stocks/ccix/\">CCIX</a><!-- HTML_TAG_END --></td><td class=\"slw svelte-eurwtr\">Churchill Capital Corp IX</td><td class=\"svelte-eurwtr\">$10.00</td><td class=\"svelte-eurwtr\">25,000,000</td> </tr><tr class=\"svelte-eurwtr\"><td class=\"svelte-eurwtr\">Mar 21, 2024</td><td class=\"sym svelte-eurwtr\"><!-- HTML_TAG_START --><a href=\"/stocks/lxtm/\">LXTM</a><!-- HTML_TAG_END --></td><td class=\"slw svelte-eurwtr\">Lei Xin Holdings Co., Ltd.</td><td class=\"svelte-eurwtr\" data-svelte-h=\"svelte-17887i7\">-</td><td class=\"svelte-eurwtr\" data-svelte-h=\"svelte-17887i7\">-</td> </tr><tr class=\"svelte-eurwtr\"><td class=\"svelte-eurwtr\">Mar 15, 2024</td><td class=\"sym svelte-eurwtr\"><!-- HTML_TAG_START --><a href=\"/stocks/lbrj/\">LBRJ</a><!-- HTML_TAG_END --></td><td class=\"slw svelte-eurwtr\">Libera Gaming Operations, Inc.</td><td class=\"svelte-eurwtr\">$5.00 - $7.00</td><td class=\"svelte-eurwtr\">1,000,000</td> </tr><tr class=\"svelte-eurwtr\"><td class=\"svelte-eurwtr\">Mar 15, 2024</td><td class=\"sym svelte-eurwtr\"><!-- HTML_TAG_START --><a href=\"/stocks/mctr/\">MCTR</a><!-- HTML_TAG_END --></td><td class=\"slw svelte-eurwtr\">CTRL Group Limited</td><td class=\"svelte-eurwtr\" data-svelte-h=\"svelte-17887i7\">-</td><td class=\"svelte-eurwtr\" data-svelte-h=\"svelte-17887i7\">-</td> </tr><tr class=\"svelte-eurwtr\"><td class=\"svelte-eurwtr\">Mar 12, 2024</td><td class=\"sym svelte-eurwtr\"><!-- HTML_TAG_START --><a href=\"/stocks/suke/\">SUKE</a><!-- HTML_TAG_END --></td><td class=\"slw svelte-eurwtr\">Suke Limited</td><td class=\"svelte-eurwtr\">$4.00 - $6.00</td><td class=\"svelte-eurwtr\">2,000,000</td> </tr><tr class=\"svelte-eurwtr\"><td class=\"svelte-eurwtr\">Mar 11, 2024</td><td class=\"sym svelte-eurwtr\"><!-- HTML_TAG_START --><a href=\"/stocks/rfai/\">RFAI</a><!-- HTML_TAG_END --></td><td class=\"slw svelte-eurwtr\">RF Acquisition Corp II</td><td class=\"svelte-eurwtr\">$10.00</td><td class=\"svelte-eurwtr\">10,000,000</td> </tr><tr class=\"svelte-eurwtr\"><td class=\"svelte-eurwtr\">Mar 7, 2024</td><td class=\"sym svelte-eurwtr\"><!-- HTML_TAG_START --><a href=\"/stocks/cupr/\">CUPR</a><!-- HTML_TAG_END --></td><td class=\"slw svelte-eurwtr\">Cuprina Holdings (Cayman) Limited</td><td class=\"svelte-eurwtr\" data-svelte-h=\"svelte-17887i7\">-</td><td class=\"svelte-eurwtr\" data-svelte-h=\"svelte-17887i7\">-</td> </tr><tr class=\"svelte-eurwtr\"><td class=\"svelte-eurwtr\">Mar 6, 2024</td><td class=\"sym svelte-eurwtr\"><!-- HTML_TAG_START --><a href=\"/stocks/pghl/\">PGHL</a><!-- HTML_TAG_END --></td><td class=\"slw svelte-eurwtr\">Primega Group Holdings Limited</td><td class=\"svelte-eurwtr\">$4.00 - $6.00</td><td class=\"svelte-eurwtr\">1,750,000</td> </tr><tr class=\"svelte-eurwtr\"><td class=\"svelte-eurwtr\">Mar 6, 2024</td><td class=\"sym svelte-eurwtr\"><!-- HTML_TAG_START --><a href=\"/stocks/wyhg/\">WYHG</a><!-- HTML_TAG_END --></td><td class=\"slw svelte-eurwtr\">Wing Yip Food Holdings Group Limited</td><td class=\"svelte-eurwtr\" data-svelte-h=\"svelte-17887i7\">-</td><td class=\"svelte-eurwtr\" data-svelte-h=\"svelte-17887i7\">-</td> </tr><tr class=\"svelte-eurwtr\"><td class=\"svelte-eurwtr\">Mar 4, 2024</td><td class=\"sym svelte-eurwtr\"><!-- HTML_TAG_START --><a href=\"/stocks/lud/\">LUD</a><!-- HTML_TAG_END --></td><td class=\"slw svelte-eurwtr\">Luda Technology Group Limited</td><td class=\"svelte-eurwtr\">$3.00 - $4.00</td><td class=\"svelte-eurwtr\">2,500,000</td> </tr><tr class=\"svelte-eurwtr\"><td class=\"svelte-eurwtr\">Mar 4, 2024</td><td class=\"sym svelte-eurwtr\"><!-- HTML_TAG_START --><a href=\"/stocks/skub/\">SKUB</a><!-- HTML_TAG_END --></td><td class=\"slw svelte-eurwtr\">Skubbs Holdings Limited</td><td class=\"svelte-eurwtr\" data-svelte-h=\"svelte-17887i7\">-</td><td class=\"svelte-eurwtr\">2,000,000</td> </tr><tr class=\"svelte-eurwtr\"><td class=\"svelte-eurwtr\">Feb 20, 2024</td><td class=\"sym svelte-eurwtr\"><!-- HTML_TAG_START --><a href=\"/stocks/orkt/\">ORKT</a><!-- HTML_TAG_END --></td><td class=\"slw svelte-eurwtr\">Orangekloud Technology Inc.</td><td class=\"svelte-eurwtr\">$4.00 - $5.00</td><td class=\"svelte-eurwtr\">2,500,000</td> </tr><tr class=\"svelte-eurwtr\"><td class=\"svelte-eurwtr\">Feb 9, 2024</td><td class=\"sym svelte-eurwtr\"><!-- HTML_TAG_START --><a href=\"/stocks/iztc/\">IZTC</a><!-- HTML_TAG_END --></td><td class=\"slw svelte-eurwtr\">Invizyne Technologies Inc.</td><td class=\"svelte-eurwtr\">$4.00</td><td class=\"svelte-eurwtr\">4,300,000</td> </tr><tr class=\"svelte-eurwtr\"><td class=\"svelte-eurwtr\">Feb 8, 2024</td><td class=\"sym svelte-eurwtr\"><!-- HTML_TAG_START --><a href=\"/stocks/wct/\">WCT</a><!-- HTML_TAG_END --></td><td class=\"slw svelte-eurwtr\">Wellchange Holdings Company Limited</td><td class=\"svelte-eurwtr\">$4.00 - $5.00</td><td class=\"svelte-eurwtr\">2,000,000</td> </tr><tr class=\"svelte-eurwtr\"><td class=\"svelte-eurwtr\">Feb 8, 2024</td><td class=\"sym svelte-eurwtr\"><!-- HTML_TAG_START --><a href=\"/stocks/jbdi/\">JBDI</a><!-- HTML_TAG_END --></td><td class=\"slw svelte-eurwtr\">JBDI Holdings Limited</td><td class=\"svelte-eurwtr\">$4.00 - $5.00</td><td class=\"svelte-eurwtr\">1,750,000</td> </tr><tr class=\"svelte-eurwtr\"><td class=\"svelte-eurwtr\">Feb 8, 2024</td><td class=\"sym svelte-eurwtr\"><!-- HTML_TAG_START --><a href=\"/stocks/gcdt/\">GCDT</a><!-- HTML_TAG_END --></td><td class=\"slw svelte-eurwtr\">Green Circle Decarbonize Technology Limited</td><td class=\"svelte-eurwtr\">$4.13</td><td class=\"svelte-eurwtr\">2,400,000</td> </tr><tr class=\"svelte-eurwtr\"><td class=\"svelte-eurwtr\">Feb 7, 2024</td><td class=\"sym svelte-eurwtr\"><!-- HTML_TAG_START --><a href=\"/stocks/novs/\">NOVS</a><!-- HTML_TAG_END --></td><td class=\"slw svelte-eurwtr\">Novusterra Inc.</td><td class=\"svelte-eurwtr\" data-svelte-h=\"svelte-17887i7\">-</td><td class=\"svelte-eurwtr\">14,482,430</td> </tr><tr class=\"svelte-eurwtr\"><td class=\"svelte-eurwtr\">Feb 7, 2024</td><td class=\"sym svelte-eurwtr\"><!-- HTML_TAG_START --><a href=\"/stocks/qqj/\">QQJ</a><!-- HTML_TAG_END --></td><td class=\"slw svelte-eurwtr\">QQJ Inc.</td><td class=\"svelte-eurwtr\" data-svelte-h=\"svelte-17887i7\">-</td><td class=\"svelte-eurwtr\">2,250,000</td> </tr><tr class=\"svelte-eurwtr\"><td class=\"svelte-eurwtr\">Feb 5, 2024</td><td class=\"sym svelte-eurwtr\"><!-- HTML_TAG_START --><a href=\"/stocks/veg/\">VEG</a><!-- HTML_TAG_END --></td><td class=\"slw svelte-eurwtr\">Veg House Holdings Inc.</td><td class=\"svelte-eurwtr\">$5.00</td><td class=\"svelte-eurwtr\">1,000,000</td> </tr><tr class=\"svelte-eurwtr\"><td class=\"svelte-eurwtr\">Feb 2, 2024</td><td class=\"sym svelte-eurwtr\"><!-- HTML_TAG_START --><a href=\"/stocks/flye/\">FLYE</a><!-- HTML_TAG_END --></td><td class=\"slw svelte-eurwtr\">Fly-E Group, Inc.</td><td class=\"svelte-eurwtr\">$4.00 - $5.00</td><td class=\"svelte-eurwtr\">3,000,000</td> </tr><tr class=\"svelte-eurwtr\"><td class=\"svelte-eurwtr\">Feb 1, 2024</td><td class=\"sym svelte-eurwtr\"><!-- HTML_TAG_START --><a href=\"/stocks/xch/\">XCH</a><!-- HTML_TAG_END --></td><td class=\"slw svelte-eurwtr\">XCHG Limited</td><td class=\"svelte-eurwtr\" data-svelte-h=\"svelte-17887i7\">-</td><td class=\"svelte-eurwtr\" data-svelte-h=\"svelte-17887i7\">-</td> </tr><tr class=\"svelte-eurwtr\"><td class=\"svelte-eurwtr\">Jan 31, 2024</td><td class=\"sym svelte-eurwtr\"><!-- HTML_TAG_START --><a href=\"/stocks/plut/\">PLUT</a><!-- HTML_TAG_END --></td><td class=\"slw svelte-eurwtr\">Plutus Financial Group Limited</td><td class=\"svelte-eurwtr\">$4.00 - $6.00</td><td class=\"svelte-eurwtr\">2,100,000</td> </tr><tr class=\"svelte-eurwtr\"><td class=\"svelte-eurwtr\">Jan 29, 2024</td><td class=\"sym svelte-eurwtr\"><!-- HTML_TAG_START --><a href=\"/stocks/skk/\">SKK</a><!-- HTML_TAG_END --></td><td class=\"slw svelte-eurwtr\">SKK Holdings Limited</td><td class=\"svelte-eurwtr\">$4.00 - $5.00</td><td class=\"svelte-eurwtr\">2,500,000</td> </tr><tr class=\"svelte-eurwtr\"><td class=\"svelte-eurwtr\">Jan 26, 2024</td><td class=\"sym svelte-eurwtr\"><!-- HTML_TAG_START --><a href=\"/stocks/tpi/\">TPI</a><!-- HTML_TAG_END --></td><td class=\"slw svelte-eurwtr\">TessPay Inc.</td><td class=\"svelte-eurwtr\">$5.00 - $6.00</td><td class=\"svelte-eurwtr\">1,300,000</td> </tr><tr class=\"svelte-eurwtr\"><td class=\"svelte-eurwtr\">Jan 26, 2024</td><td class=\"sym svelte-eurwtr\"><!-- HTML_TAG_START --><a href=\"/stocks/jie/\">JIE</a><!-- HTML_TAG_END --></td><td class=\"slw svelte-eurwtr\">Semidux Holding Limited</td><td class=\"svelte-eurwtr\" data-svelte-h=\"svelte-17887i7\">-</td><td class=\"svelte-eurwtr\" data-svelte-h=\"svelte-17887i7\">-</td> </tr><tr class=\"svelte-eurwtr\"><td class=\"svelte-eurwtr\">Jan 25, 2024</td><td class=\"sym svelte-eurwtr\"><!-- HTML_TAG_START --><a href=\"/stocks/apri/\">APRI</a><!-- HTML_TAG_END --></td><td class=\"slw svelte-eurwtr\">APRINOIA Therapeutics Inc.</td><td class=\"svelte-eurwtr\">$10.00 - $14.00</td><td class=\"svelte-eurwtr\">2,000,000</td> </tr><tr class=\"svelte-eurwtr\"><td class=\"svelte-eurwtr\">Jan 24, 2024</td><td class=\"sym svelte-eurwtr\"><!-- HTML_TAG_START --><a href=\"/stocks/iotr/\">IOTR</a><!-- HTML_TAG_END --></td><td class=\"slw svelte-eurwtr\">iOThree Limited</td><td class=\"svelte-eurwtr\">$4.00 - $6.00</td><td class=\"svelte-eurwtr\">3,718,195</td> </tr><tr class=\"svelte-eurwtr\"><td class=\"svelte-eurwtr\">Jan 22, 2024</td><td class=\"sym svelte-eurwtr\"><!-- HTML_TAG_START --><a href=\"/stocks/jhy/\">JHY</a><!-- HTML_TAG_END --></td><td class=\"slw svelte-eurwtr\">Juheying Intelligent Technology Ltd</td><td class=\"svelte-eurwtr\" data-svelte-h=\"svelte-17887i7\">-</td><td class=\"svelte-eurwtr\" data-svelte-h=\"svelte-17887i7\">-</td> </tr><tr class=\"svelte-eurwtr\"><td class=\"svelte-eurwtr\">Jan 16, 2024</td><td class=\"sym svelte-eurwtr\"><!-- HTML_TAG_START --><a href=\"/stocks/rect/\">RECT</a><!-- HTML_TAG_END --></td><td class=\"slw svelte-eurwtr\">Rectitude Holdings Ltd</td><td class=\"svelte-eurwtr\">$4.00 - $6.00</td><td class=\"svelte-eurwtr\">2,000,000</td> </tr><tr class=\"svelte-eurwtr\"><td class=\"svelte-eurwtr\">Jan 9, 2024</td><td class=\"sym svelte-eurwtr\"><!-- HTML_TAG_START --><a href=\"/stocks/zybt/\">ZYBT</a><!-- HTML_TAG_END --></td><td class=\"slw svelte-eurwtr\">Zhengye Biotechnology Holding Limited</td><td class=\"svelte-eurwtr\" data-svelte-h=\"svelte-17887i7\">-</td><td class=\"svelte-eurwtr\" data-svelte-h=\"svelte-17887i7\">-</td> </tr><tr class=\"svelte-eurwtr\"><td class=\"svelte-eurwtr\">Jan 9, 2024</td><td class=\"sym svelte-eurwtr\"><!-- HTML_TAG_START --><a href=\"/stocks/luma/\">LUMA</a><!-- HTML_TAG_END --></td><td class=\"slw svelte-eurwtr\">Deerhorse One Zero Eight Holding Limited</td><td class=\"svelte-eurwtr\" data-svelte-h=\"svelte-17887i7\">-</td><td class=\"svelte-eurwtr\" data-svelte-h=\"svelte-17887i7\">-</td> </tr><tr class=\"svelte-eurwtr\"><td class=\"svelte-eurwtr\">Jan 8, 2024</td><td class=\"sym svelte-eurwtr\"><!-- HTML_TAG_START --><a href=\"/stocks/llll/\">LLLL</a><!-- HTML_TAG_END --></td><td class=\"slw svelte-eurwtr\">Love &amp; Health Limited</td><td class=\"svelte-eurwtr\">$10.00</td><td class=\"svelte-eurwtr\">5,000,000</td> </tr><tr class=\"svelte-eurwtr\"><td class=\"svelte-eurwtr\">Dec 29, 2023</td><td class=\"sym svelte-eurwtr\"><!-- HTML_TAG_START --><a href=\"/stocks/lec/\">LEC</a><!-- HTML_TAG_END --></td><td class=\"slw svelte-eurwtr\">Lafayette Energy Corp</td><td class=\"svelte-eurwtr\">$3.50 - $4.50</td><td class=\"svelte-eurwtr\">1,200,000</td> </tr><tr class=\"svelte-eurwtr\"><td class=\"svelte-eurwtr\">Dec 29, 2023</td><td class=\"sym svelte-eurwtr\"><!-- HTML_TAG_START --><a href=\"/stocks/epsm/\">EPSM</a><!-- HTML_TAG_END --></td><td class=\"slw svelte-eurwtr\">Epsium Enterprise Limited</td><td class=\"svelte-eurwtr\" data-svelte-h=\"svelte-17887i7\">-</td><td class=\"svelte-eurwtr\" data-svelte-h=\"svelte-17887i7\">-</td> </tr><tr class=\"svelte-eurwtr\"><td class=\"svelte-eurwtr\">Dec 28, 2023</td><td class=\"sym svelte-eurwtr\"><!-- HTML_TAG_START --><a href=\"/stocks/ondr/\">ONDR</a><!-- HTML_TAG_END --></td><td class=\"slw svelte-eurwtr\">Sushi Ginza Onodera, Inc.</td><td class=\"svelte-eurwtr\">$7.00 - $8.00</td><td class=\"svelte-eurwtr\">1,066,667</td> </tr><tr class=\"svelte-eurwtr\"><td class=\"svelte-eurwtr\">Dec 22, 2023</td><td class=\"sym svelte-eurwtr\"><!-- HTML_TAG_START --><a href=\"/stocks/lzmh/\">LZMH</a><!-- HTML_TAG_END --></td><td class=\"slw svelte-eurwtr\">LZ Technology Holdings Limited</td><td class=\"svelte-eurwtr\" data-svelte-h=\"svelte-17887i7\">-</td><td class=\"svelte-eurwtr\" data-svelte-h=\"svelte-17887i7\">-</td> </tr><tr class=\"svelte-eurwtr\"><td class=\"svelte-eurwtr\">Dec 22, 2023</td><td class=\"sym svelte-eurwtr\"><!-- HTML_TAG_START --><a href=\"/stocks/chlw/\">CHLW</a><!-- HTML_TAG_END --></td><td class=\"slw svelte-eurwtr\">Chun Hui Le Wan International Holding Group Ltd</td><td class=\"svelte-eurwtr\" data-svelte-h=\"svelte-17887i7\">-</td><td class=\"svelte-eurwtr\" data-svelte-h=\"svelte-17887i7\">-</td> </tr><tr class=\"svelte-eurwtr\"><td class=\"svelte-eurwtr\">Dec 21, 2023</td><td class=\"sym svelte-eurwtr\"><!-- HTML_TAG_START --><a href=\"/stocks/eeet/\">EEET</a><!-- HTML_TAG_END --></td><td class=\"slw svelte-eurwtr\">3 E Network Technology Group Limited</td><td class=\"svelte-eurwtr\">$4.00 - $6.00</td><td class=\"svelte-eurwtr\">3,000,000</td> </tr><tr class=\"svelte-eurwtr\"><td class=\"svelte-eurwtr\">Dec 20, 2023</td><td class=\"sym svelte-eurwtr\"><!-- HTML_TAG_START --><a href=\"/stocks/rolr/\">ROLR</a><!-- HTML_TAG_END --></td><td class=\"slw svelte-eurwtr\">High Roller Technologies, Inc.</td><td class=\"svelte-eurwtr\">$8.00 - $10.00</td><td class=\"svelte-eurwtr\">1,500,000</td> </tr><tr class=\"svelte-eurwtr\"><td class=\"svelte-eurwtr\">Dec 20, 2023</td><td class=\"sym svelte-eurwtr\"><!-- HTML_TAG_START --><a href=\"/stocks/ahl/\">AHL</a><!-- HTML_TAG_END --></td><td class=\"slw svelte-eurwtr\">Aspen Insurance Holdings Limited</td><td class=\"svelte-eurwtr\" data-svelte-h=\"svelte-17887i7\">-</td><td class=\"svelte-eurwtr\" data-svelte-h=\"svelte-17887i7\">-</td> </tr><tr class=\"svelte-eurwtr\"><td class=\"svelte-eurwtr\">Dec 18, 2023</td><td class=\"sym svelte-eurwtr\"><!-- HTML_TAG_START --><a href=\"/stocks/nthi/\">NTHI</a><!-- HTML_TAG_END --></td><td class=\"slw svelte-eurwtr\">NeOnc Technologies Holdings, Inc.</td><td class=\"svelte-eurwtr\">$11.25 - $13.75</td><td class=\"svelte-eurwtr\">6,000,000</td> </tr><tr class=\"svelte-eurwtr\"><td class=\"svelte-eurwtr\">Dec 15, 2023</td><td class=\"sym svelte-eurwtr\"><!-- HTML_TAG_START --><a href=\"/stocks/git/\">GIT</a><!-- HTML_TAG_END --></td><td class=\"slw svelte-eurwtr\">Going International Holding Company Limited</td><td class=\"svelte-eurwtr\" data-svelte-h=\"svelte-17887i7\">-</td><td class=\"svelte-eurwtr\" data-svelte-h=\"svelte-17887i7\">-</td> </tr><tr class=\"svelte-eurwtr\"><td class=\"svelte-eurwtr\">Dec 11, 2023</td><td class=\"sym svelte-eurwtr\"><!-- HTML_TAG_START --><a href=\"/stocks/eil/\">EIL</a><!-- HTML_TAG_END --></td><td class=\"slw svelte-eurwtr\">E I L Holdings Limited</td><td class=\"svelte-eurwtr\" data-svelte-h=\"svelte-17887i7\">-</td><td class=\"svelte-eurwtr\" data-svelte-h=\"svelte-17887i7\">-</td> </tr><tr class=\"svelte-eurwtr\"><td class=\"svelte-eurwtr\">Dec 8, 2023</td><td class=\"sym svelte-eurwtr\"><!-- HTML_TAG_START --><a href=\"/stocks/engs/\">ENGS</a><!-- HTML_TAG_END --></td><td class=\"slw svelte-eurwtr\">Energys Group Limited</td><td class=\"svelte-eurwtr\">$4.00 - $6.00</td><td class=\"svelte-eurwtr\">2,000,000</td> </tr><tr class=\"svelte-eurwtr\"><td class=\"svelte-eurwtr\">Dec 8, 2023</td><td class=\"sym svelte-eurwtr\"><!-- HTML_TAG_START --><a href=\"/stocks/lnks/\">LNKS</a><!-- HTML_TAG_END --></td><td class=\"slw svelte-eurwtr\">Linkers Industries Limited</td><td class=\"svelte-eurwtr\">$4.00 - $6.00</td><td class=\"svelte-eurwtr\">2,200,000</td> </tr><tr class=\"svelte-eurwtr\"><td class=\"svelte-eurwtr\">Dec 7, 2023</td><td class=\"sym svelte-eurwtr\"><!-- HTML_TAG_START --><a href=\"/stocks/hos/\">HOS</a><!-- HTML_TAG_END --></td><td class=\"slw svelte-eurwtr\">Hornbeck Offshore Services, Inc.</td><td class=\"svelte-eurwtr\" data-svelte-h=\"svelte-17887i7\">-</td><td class=\"svelte-eurwtr\" data-svelte-h=\"svelte-17887i7\">-</td> </tr><tr class=\"svelte-eurwtr\"><td class=\"svelte-eurwtr\">Dec 6, 2023</td><td class=\"sym svelte-eurwtr\"><!-- HTML_TAG_START --><a href=\"/stocks/tkbd/\">TKBD</a><!-- HTML_TAG_END --></td><td class=\"slw svelte-eurwtr\">TechyBird Acquisition Corp.</td><td class=\"svelte-eurwtr\">$10.00</td><td class=\"svelte-eurwtr\">6,000,000</td> </tr><tr class=\"svelte-eurwtr\"><td class=\"svelte-eurwtr\">Dec 6, 2023</td><td class=\"sym svelte-eurwtr\"><!-- HTML_TAG_START --><a href=\"/stocks/wdqy/\">WDQY</a><!-- HTML_TAG_END --></td><td class=\"slw svelte-eurwtr\">Wangdiqiyuan International Holdings Ltd.</td><td class=\"svelte-eurwtr\" data-svelte-h=\"svelte-17887i7\">-</td><td class=\"svelte-eurwtr\" data-svelte-h=\"svelte-17887i7\">-</td> </tr><tr class=\"svelte-eurwtr\"><td class=\"svelte-eurwtr\">Nov 29, 2023</td><td class=\"sym svelte-eurwtr\"><!-- HTML_TAG_START --><a href=\"/stocks/hhgj/\">HHGJ</a><!-- HTML_TAG_END --></td><td class=\"slw svelte-eurwtr\">Concord Health Limited</td><td class=\"svelte-eurwtr\">$4.00</td><td class=\"svelte-eurwtr\" data-svelte-h=\"svelte-17887i7\">-</td> </tr><tr class=\"svelte-eurwtr\"><td class=\"svelte-eurwtr\">Nov 21, 2023</td><td class=\"sym svelte-eurwtr\"><!-- HTML_TAG_START --><a href=\"/stocks/hyhl/\">HYHL</a><!-- HTML_TAG_END --></td><td class=\"slw svelte-eurwtr\">Houyi Digital Internet Industry Technology Co., Ltd.</td><td class=\"svelte-eurwtr\">$5.00</td><td class=\"svelte-eurwtr\">20,000,000</td> </tr><tr class=\"svelte-eurwtr\"><td class=\"svelte-eurwtr\">Nov 20, 2023</td><td class=\"sym svelte-eurwtr\"><!-- HTML_TAG_START --><a href=\"/stocks/coc/\">COC</a><!-- HTML_TAG_END --></td><td class=\"slw svelte-eurwtr\">COR3 &amp; Co. (Holdings) Limited</td><td class=\"svelte-eurwtr\">$4.00 - $5.00</td><td class=\"svelte-eurwtr\">3,875,000</td> </tr><tr class=\"svelte-eurwtr\"><td class=\"svelte-eurwtr\">Nov 13, 2023</td><td class=\"sym svelte-eurwtr\"><!-- HTML_TAG_START --><a href=\"/stocks/sfhg/\">SFHG</a><!-- HTML_TAG_END --></td><td class=\"slw svelte-eurwtr\">Samfine Creation Holdings Group Limited</td><td class=\"svelte-eurwtr\">$4.00 - $5.00</td><td class=\"svelte-eurwtr\">2,500,000</td> </tr><tr class=\"svelte-eurwtr\"><td class=\"svelte-eurwtr\">Nov 9, 2023</td><td class=\"sym svelte-eurwtr\"><!-- HTML_TAG_START --><a href=\"/stocks/qmix/\">QMIX</a><!-- HTML_TAG_END --></td><td class=\"slw svelte-eurwtr\">QMIS TBS Capital Group Corp.</td><td class=\"svelte-eurwtr\" data-svelte-h=\"svelte-17887i7\">-</td><td class=\"svelte-eurwtr\" data-svelte-h=\"svelte-17887i7\">-</td> </tr><tr class=\"svelte-eurwtr\"><td class=\"svelte-eurwtr\">Nov 8, 2023</td><td class=\"sym svelte-eurwtr\"><!-- HTML_TAG_START --><a href=\"/stocks/wmbt/\">WMBT</a><!-- HTML_TAG_END --></td><td class=\"slw svelte-eurwtr\">Sichuan Wanma Benteng Technology Co., Ltd.</td><td class=\"svelte-eurwtr\">$10.00</td><td class=\"svelte-eurwtr\">7,000,000</td> </tr><tr class=\"svelte-eurwtr\"><td class=\"svelte-eurwtr\">Nov 8, 2023</td><td class=\"sym svelte-eurwtr\"><!-- HTML_TAG_START --><a href=\"/stocks/wxm/\">WXM</a><!-- HTML_TAG_END --></td><td class=\"slw svelte-eurwtr\">WF International Limited</td><td class=\"svelte-eurwtr\">$4.00 - $4.75</td><td class=\"svelte-eurwtr\">1,600,000</td> </tr><tr class=\"svelte-eurwtr\"><td class=\"svelte-eurwtr\">Nov 8, 2023</td><td class=\"sym svelte-eurwtr\"><!-- HTML_TAG_START --><a href=\"/stocks/jfy/\">JFY</a><!-- HTML_TAG_END --></td><td class=\"slw svelte-eurwtr\">Jiufuyuan Biotechnology Company Limited</td><td class=\"svelte-eurwtr\">$5.00</td><td class=\"svelte-eurwtr\" data-svelte-h=\"svelte-17887i7\">-</td> </tr><tr class=\"svelte-eurwtr\"><td class=\"svelte-eurwtr\">Nov 7, 2023</td><td class=\"sym svelte-eurwtr\"><!-- HTML_TAG_START --><a href=\"/stocks/amdi/\">AMDI</a><!-- HTML_TAG_END --></td><td class=\"slw svelte-eurwtr\">Amphitrite Digital Incorporated</td><td class=\"svelte-eurwtr\">$3.50 - $4.50</td><td class=\"svelte-eurwtr\">1,750,000</td> </tr><tr class=\"svelte-eurwtr\"><td class=\"svelte-eurwtr\">Nov 6, 2023</td><td class=\"sym svelte-eurwtr\"><!-- HTML_TAG_START --><a href=\"/stocks/sqvi/\">SQVI</a><!-- HTML_TAG_END --></td><td class=\"slw svelte-eurwtr\">Sequoia Vaccines, Inc.</td><td class=\"svelte-eurwtr\">$8.00 - $10.00</td><td class=\"svelte-eurwtr\">2,775,000</td> </tr><tr class=\"svelte-eurwtr\"><td class=\"svelte-eurwtr\">Nov 1, 2023</td><td class=\"sym svelte-eurwtr\"><!-- HTML_TAG_START --><a href=\"/stocks/tlih/\">TLIH</a><!-- HTML_TAG_END --></td><td class=\"slw svelte-eurwtr\">Ten-League International Holdings Limited</td><td class=\"svelte-eurwtr\">$4.00 - $5.00</td><td class=\"svelte-eurwtr\">2,800,000</td> </tr><tr class=\"svelte-eurwtr\"><td class=\"svelte-eurwtr\">Oct 31, 2023</td><td class=\"sym svelte-eurwtr\"><!-- HTML_TAG_START --><a href=\"/stocks/biya/\">BIYA</a><!-- HTML_TAG_END --></td><td class=\"slw svelte-eurwtr\">Baiya International Group Inc.</td><td class=\"svelte-eurwtr\">$4.00 - $6.00</td><td class=\"svelte-eurwtr\">3,000,000</td> </tr><tr class=\"svelte-eurwtr\"><td class=\"svelte-eurwtr\">Oct 31, 2023</td><td class=\"sym svelte-eurwtr\"><!-- HTML_TAG_START --><a href=\"/stocks/blmz/\">BLMZ</a><!-- HTML_TAG_END --></td><td class=\"slw svelte-eurwtr\">BloomZ Inc.</td><td class=\"svelte-eurwtr\">$4.30</td><td class=\"svelte-eurwtr\">1,250,000</td> </tr><tr class=\"svelte-eurwtr\"><td class=\"svelte-eurwtr\">Oct 30, 2023</td><td class=\"sym svelte-eurwtr\"><!-- HTML_TAG_START --><a href=\"/stocks/hcwc/\">HCWC</a><!-- HTML_TAG_END --></td><td class=\"slw svelte-eurwtr\">Healthy Choice Wellness Corp.</td><td class=\"svelte-eurwtr\">$9.00 - $11.00</td><td class=\"svelte-eurwtr\">400,000</td> </tr><tr class=\"svelte-eurwtr\"><td class=\"svelte-eurwtr\">Oct 30, 2023</td><td class=\"sym svelte-eurwtr\"><!-- HTML_TAG_START --><a href=\"/stocks/fong/\">FONG</a><!-- HTML_TAG_END --></td><td class=\"slw svelte-eurwtr\">Aibafang Group CO., Ltd.</td><td class=\"svelte-eurwtr\" data-svelte-h=\"svelte-17887i7\">-</td><td class=\"svelte-eurwtr\" data-svelte-h=\"svelte-17887i7\">-</td> </tr><tr class=\"svelte-eurwtr\"><td class=\"svelte-eurwtr\">Oct 27, 2023</td><td class=\"sym svelte-eurwtr\"><!-- HTML_TAG_START --><a href=\"/stocks/ray/\">RAY</a><!-- HTML_TAG_END --></td><td class=\"slw svelte-eurwtr\">Raytech Holding Limited</td><td class=\"svelte-eurwtr\">$4.00 - $5.00</td><td class=\"svelte-eurwtr\">1,500,000</td> </tr><tr class=\"svelte-eurwtr\"><td class=\"svelte-eurwtr\">Oct 23, 2023</td><td class=\"sym svelte-eurwtr\"><!-- HTML_TAG_START --><a href=\"/stocks/rmic/\">RMIC</a><!-- HTML_TAG_END --></td><td class=\"slw svelte-eurwtr\">Reticulate Micro, Inc.</td><td class=\"svelte-eurwtr\">$5.00 - $7.00</td><td class=\"svelte-eurwtr\">2,000,000</td> </tr><tr class=\"svelte-eurwtr\"><td class=\"svelte-eurwtr\">Oct 23, 2023</td><td class=\"sym svelte-eurwtr\"><!-- HTML_TAG_START --><a href=\"/stocks/evmo/\">EVMO</a><!-- HTML_TAG_END --></td><td class=\"slw svelte-eurwtr\">EV Mobility, Inc.</td><td class=\"svelte-eurwtr\">$4.00 - $6.00</td><td class=\"svelte-eurwtr\">1,750,000</td> </tr><tr class=\"svelte-eurwtr\"><td class=\"svelte-eurwtr\">Oct 19, 2023</td><td class=\"sym svelte-eurwtr\"><!-- HTML_TAG_START --><a href=\"/stocks/lfkg/\">LFKG</a><!-- HTML_TAG_END --></td><td class=\"slw svelte-eurwtr\">Lianfeng Holding Acquisition</td><td class=\"svelte-eurwtr\">$10.00</td><td class=\"svelte-eurwtr\">7,000,000</td> </tr><tr class=\"svelte-eurwtr\"><td class=\"svelte-eurwtr\">Oct 17, 2023</td><td class=\"sym svelte-eurwtr\"><!-- HTML_TAG_START --><a href=\"/stocks/ibo/\">IBO</a><!-- HTML_TAG_END --></td><td class=\"slw svelte-eurwtr\">Impact BioMedical, Inc.</td><td class=\"svelte-eurwtr\">$3.00 - $5.00</td><td class=\"svelte-eurwtr\">2,000,000</td> </tr><tr class=\"svelte-eurwtr\"><td class=\"svelte-eurwtr\">Oct 17, 2023</td><td class=\"sym svelte-eurwtr\"><!-- HTML_TAG_START --><a href=\"/stocks/mvrk/\">MVRK</a><!-- HTML_TAG_END --></td><td class=\"slw svelte-eurwtr\">Maverick Lifestyle Inc.</td><td class=\"svelte-eurwtr\">$4.50 - $5.50</td><td class=\"svelte-eurwtr\">800,000</td> </tr><tr class=\"svelte-eurwtr\"><td class=\"svelte-eurwtr\">Oct 16, 2023</td><td class=\"sym svelte-eurwtr\"><!-- HTML_TAG_START --><a href=\"/stocks/way/\">WAY</a><!-- HTML_TAG_END --></td><td class=\"slw svelte-eurwtr\">Waystar Holding Corp.</td><td class=\"svelte-eurwtr\" data-svelte-h=\"svelte-17887i7\">-</td><td class=\"svelte-eurwtr\" data-svelte-h=\"svelte-17887i7\">-</td> </tr><tr class=\"svelte-eurwtr\"><td class=\"svelte-eurwtr\">Oct 13, 2023</td><td class=\"sym svelte-eurwtr\"><!-- HTML_TAG_START --><a href=\"/stocks/oris/\">ORIS</a><!-- HTML_TAG_END --></td><td class=\"slw svelte-eurwtr\">Oriental Rise Holdings Limited</td><td class=\"svelte-eurwtr\">$4.00</td><td class=\"svelte-eurwtr\">2,000,000</td> </tr><tr class=\"svelte-eurwtr\"><td class=\"svelte-eurwtr\">Oct 11, 2023</td><td class=\"sym svelte-eurwtr\"><!-- HTML_TAG_START --><a href=\"/stocks/pthl/\">PTHL</a><!-- HTML_TAG_END --></td><td class=\"slw svelte-eurwtr\">Pheton Holdings Ltd</td><td class=\"svelte-eurwtr\">$4.00 - $5.00</td><td class=\"svelte-eurwtr\">2,500,000</td> </tr><tr class=\"svelte-eurwtr\"><td class=\"svelte-eurwtr\">Oct 10, 2023</td><td class=\"sym svelte-eurwtr\"><!-- HTML_TAG_START --><a href=\"/stocks/doco/\">DOCO</a><!-- HTML_TAG_END --></td><td class=\"slw svelte-eurwtr\">Docola, Inc.</td><td class=\"svelte-eurwtr\">$5.75 - $6.75</td><td class=\"svelte-eurwtr\">1,060,870</td> </tr><tr class=\"svelte-eurwtr\"><td class=\"svelte-eurwtr\">Oct 6, 2023</td><td class=\"sym svelte-eurwtr\"><!-- HTML_TAG_START --><a href=\"/stocks/qmmm/\">QMMM</a><!-- HTML_TAG_END --></td><td class=\"slw svelte-eurwtr\">QMMM Holdings Limited</td><td class=\"svelte-eurwtr\">$4.00</td><td class=\"svelte-eurwtr\">2,125,000</td> </tr><tr class=\"svelte-eurwtr\"><td class=\"svelte-eurwtr\">Oct 4, 2023</td><td class=\"sym svelte-eurwtr\"><!-- HTML_TAG_START --><a href=\"/stocks/tdth/\">TDTH</a><!-- HTML_TAG_END --></td><td class=\"slw svelte-eurwtr\">Trident Digital Tech Holdings Ltd</td><td class=\"svelte-eurwtr\">$5.00 - $7.00</td><td class=\"svelte-eurwtr\">1,800,000</td> </tr><tr class=\"svelte-eurwtr\"><td class=\"svelte-eurwtr\">Oct 4, 2023</td><td class=\"sym svelte-eurwtr\"><!-- HTML_TAG_START --><a href=\"/stocks/rotr/\">ROTR</a><!-- HTML_TAG_END --></td><td class=\"slw svelte-eurwtr\">PHI Group, Inc.</td><td class=\"svelte-eurwtr\" data-svelte-h=\"svelte-17887i7\">-</td><td class=\"svelte-eurwtr\" data-svelte-h=\"svelte-17887i7\">-</td> </tr><tr class=\"svelte-eurwtr\"><td class=\"svelte-eurwtr\">Oct 3, 2023</td><td class=\"sym svelte-eurwtr\"><!-- HTML_TAG_START --><a href=\"/stocks/grdn/\">GRDN</a><!-- HTML_TAG_END --></td><td class=\"slw svelte-eurwtr\">Guardian Pharmacy Services, Inc.</td><td class=\"svelte-eurwtr\" data-svelte-h=\"svelte-17887i7\">-</td><td class=\"svelte-eurwtr\" data-svelte-h=\"svelte-17887i7\">-</td> </tr><tr class=\"svelte-eurwtr\"><td class=\"svelte-eurwtr\">Sep 29, 2023</td><td class=\"sym svelte-eurwtr\"><!-- HTML_TAG_START --><a href=\"/stocks/kapa/\">KAPA</a><!-- HTML_TAG_END --></td><td class=\"slw svelte-eurwtr\">Kairos Pharma, Ltd.</td><td class=\"svelte-eurwtr\">$4.00</td><td class=\"svelte-eurwtr\">1,550,000</td> </tr><tr class=\"svelte-eurwtr\"><td class=\"svelte-eurwtr\">Sep 29, 2023</td><td class=\"sym svelte-eurwtr\"><!-- HTML_TAG_START --><a href=\"/stocks/vapa/\">VAPA</a><!-- HTML_TAG_END --></td><td class=\"slw svelte-eurwtr\">Valens Pay Global Limited</td><td class=\"svelte-eurwtr\">$5.00 - $6.00</td><td class=\"svelte-eurwtr\">1,000,000</td> </tr><tr class=\"svelte-eurwtr\"><td class=\"svelte-eurwtr\">Sep 28, 2023</td><td class=\"sym svelte-eurwtr\"><!-- HTML_TAG_START --><a href=\"/stocks/tke/\">TKE</a><!-- HTML_TAG_END --></td><td class=\"slw svelte-eurwtr\">OUI Global</td><td class=\"svelte-eurwtr\">$4.00 - $6.00</td><td class=\"svelte-eurwtr\">2,500,000</td> </tr><tr class=\"svelte-eurwtr\"><td class=\"svelte-eurwtr\">Sep 26, 2023</td><td class=\"sym svelte-eurwtr\"><!-- HTML_TAG_START --><a href=\"/stocks/mtrs/\">MTRS</a><!-- HTML_TAG_END --></td><td class=\"slw svelte-eurwtr\">Metros Development Co., Ltd.</td><td class=\"svelte-eurwtr\">$8.00 - $9.00</td><td class=\"svelte-eurwtr\">1,000,000</td> </tr><tr class=\"svelte-eurwtr\"><td class=\"svelte-eurwtr\">Sep 25, 2023</td><td class=\"sym svelte-eurwtr\"><!-- HTML_TAG_START --><a href=\"/stocks/btoc/\">BTOC</a><!-- HTML_TAG_END --></td><td class=\"slw svelte-eurwtr\">Armlogi Holding Corp.</td><td class=\"svelte-eurwtr\">$5.00 - $6.00</td><td class=\"svelte-eurwtr\">2,000,000</td> </tr><tr class=\"svelte-eurwtr\"><td class=\"svelte-eurwtr\">Sep 25, 2023</td><td class=\"sym svelte-eurwtr\"><!-- HTML_TAG_START --><a href=\"/stocks/khiw/\">KHIW</a><!-- HTML_TAG_END --></td><td class=\"slw svelte-eurwtr\">Brilliance Group</td><td class=\"svelte-eurwtr\">$4.00 - $5.00</td><td class=\"svelte-eurwtr\">2,500,000</td> </tr><tr class=\"svelte-eurwtr\"><td class=\"svelte-eurwtr\">Sep 21, 2023</td><td class=\"sym svelte-eurwtr\"><!-- HTML_TAG_START --><a href=\"/stocks/hsac/\">HSAC</a><!-- HTML_TAG_END --></td><td class=\"slw svelte-eurwtr\">Hainan Sirius Acquisition Corp.</td><td class=\"svelte-eurwtr\">$10.00</td><td class=\"svelte-eurwtr\">6,000,000</td> </tr><tr class=\"svelte-eurwtr\"><td class=\"svelte-eurwtr\">Sep 15, 2023</td><td class=\"sym svelte-eurwtr\"><!-- HTML_TAG_START --><a href=\"/stocks/acsb/\">ACSB</a><!-- HTML_TAG_END --></td><td class=\"slw svelte-eurwtr\">Acesis Holdings Corporation</td><td class=\"svelte-eurwtr\">$4.00 - $6.00</td><td class=\"svelte-eurwtr\">1,300,000</td> </tr><tr class=\"svelte-eurwtr\"><td class=\"svelte-eurwtr\">Sep 7, 2023</td><td class=\"sym svelte-eurwtr\"><!-- HTML_TAG_START --><a href=\"/stocks/yaas/\">YAAS</a><!-- HTML_TAG_END --></td><td class=\"slw svelte-eurwtr\">Youxin Technology Ltd</td><td class=\"svelte-eurwtr\">$4.00</td><td class=\"svelte-eurwtr\">2,300,000</td> </tr><tr class=\"svelte-eurwtr\"><td class=\"svelte-eurwtr\">Aug 31, 2023</td><td class=\"sym svelte-eurwtr\"><!-- HTML_TAG_START --><a href=\"/stocks/tygj/\">TYGJ</a><!-- HTML_TAG_END --></td><td class=\"slw svelte-eurwtr\">American Tuoyuan International Securities Group Inc</td><td class=\"svelte-eurwtr\" data-svelte-h=\"svelte-17887i7\">-</td><td class=\"svelte-eurwtr\" data-svelte-h=\"svelte-17887i7\">-</td> </tr><tr class=\"svelte-eurwtr\"><td class=\"svelte-eurwtr\">Aug 24, 2023</td><td class=\"sym svelte-eurwtr\"><!-- HTML_TAG_START --><a href=\"/stocks/misn/\">MISN</a><!-- HTML_TAG_END --></td><td class=\"slw svelte-eurwtr\">Mission Control Acquisition Corp.</td><td class=\"svelte-eurwtr\">$10.00</td><td class=\"svelte-eurwtr\">10,000,000</td> </tr><tr class=\"svelte-eurwtr\"><td class=\"svelte-eurwtr\">Aug 23, 2023</td><td class=\"sym svelte-eurwtr\"><!-- HTML_TAG_START --><a href=\"/stocks/hxsz/\">HXSZ</a><!-- HTML_TAG_END --></td><td class=\"slw svelte-eurwtr\">Hongxu Shangzeng Global Holding Ltd</td><td class=\"svelte-eurwtr\" data-svelte-h=\"svelte-17887i7\">-</td><td class=\"svelte-eurwtr\" data-svelte-h=\"svelte-17887i7\">-</td> </tr><tr class=\"svelte-eurwtr\"><td class=\"svelte-eurwtr\">Aug 21, 2023</td><td class=\"sym svelte-eurwtr\"><!-- HTML_TAG_START --><a href=\"/stocks/ncew/\">NCEW</a><!-- HTML_TAG_END --></td><td class=\"slw svelte-eurwtr\">New Century Logistics (BVI) Limited</td><td class=\"svelte-eurwtr\">$4.00 - $5.00</td><td class=\"svelte-eurwtr\">1,250,000</td> </tr><tr class=\"svelte-eurwtr\"><td class=\"svelte-eurwtr\">Aug 17, 2023</td><td class=\"sym svelte-eurwtr\"><!-- HTML_TAG_START --><a href=\"/stocks/jyb/\">JYB</a><!-- HTML_TAG_END --></td><td class=\"slw svelte-eurwtr\">Jyong Biotech Ltd.</td><td class=\"svelte-eurwtr\" data-svelte-h=\"svelte-17887i7\">-</td><td class=\"svelte-eurwtr\" data-svelte-h=\"svelte-17887i7\">-</td> </tr><tr class=\"svelte-eurwtr\"><td class=\"svelte-eurwtr\">Aug 11, 2023</td><td class=\"sym svelte-eurwtr\"><!-- HTML_TAG_START --><a href=\"/stocks/zxty/\">ZXTY</a><!-- HTML_TAG_END --></td><td class=\"slw svelte-eurwtr\">Zhongxing Holding Group Ltd</td><td class=\"svelte-eurwtr\" data-svelte-h=\"svelte-17887i7\">-</td><td class=\"svelte-eurwtr\" data-svelte-h=\"svelte-17887i7\">-</td> </tr><tr class=\"svelte-eurwtr\"><td class=\"svelte-eurwtr\">Aug 10, 2023</td><td class=\"sym svelte-eurwtr\"><!-- HTML_TAG_START --><a href=\"/stocks/nami/\">NAMI</a><!-- HTML_TAG_END --></td><td class=\"slw svelte-eurwtr\">Jinxin Technology Holding Company</td><td class=\"svelte-eurwtr\">$4.00 - $5.00</td><td class=\"svelte-eurwtr\">1,875,000</td> </tr><tr class=\"svelte-eurwtr\"><td class=\"svelte-eurwtr\">Aug 10, 2023</td><td class=\"sym svelte-eurwtr\"><!-- HTML_TAG_START --><a href=\"/stocks/sxv/\">SXV</a><!-- HTML_TAG_END --></td><td class=\"slw svelte-eurwtr\">Six15 Technologies Holding Corp.</td><td class=\"svelte-eurwtr\">$5.00</td><td class=\"svelte-eurwtr\">2,000,000</td> </tr><tr class=\"svelte-eurwtr\"><td class=\"svelte-eurwtr\">Aug 8, 2023</td><td class=\"sym svelte-eurwtr\"><!-- HTML_TAG_START --><a href=\"/stocks/zdym/\">ZDYM</a><!-- HTML_TAG_END --></td><td class=\"slw svelte-eurwtr\">Zhiding Yuemei Technology Co., Limited</td><td class=\"svelte-eurwtr\">$5.00</td><td class=\"svelte-eurwtr\" data-svelte-h=\"svelte-17887i7\">-</td> </tr><tr class=\"svelte-eurwtr\"><td class=\"svelte-eurwtr\">Aug 4, 2023</td><td class=\"sym svelte-eurwtr\"><!-- HTML_TAG_START --><a href=\"/stocks/jzl/\">JZL</a><!-- HTML_TAG_END --></td><td class=\"slw svelte-eurwtr\">Jizhilong Holding Group Ltd.</td><td class=\"svelte-eurwtr\" data-svelte-h=\"svelte-17887i7\">-</td><td class=\"svelte-eurwtr\" data-svelte-h=\"svelte-17887i7\">-</td> </tr><tr class=\"svelte-eurwtr\"><td class=\"svelte-eurwtr\">Aug 2, 2023</td><td class=\"sym svelte-eurwtr\"><!-- HTML_TAG_START --><a href=\"/stocks/vta/\">VTA</a><!-- HTML_TAG_END --></td><td class=\"slw svelte-eurwtr\">Vittoria Limited</td><td class=\"svelte-eurwtr\">$4.00 - $5.00</td><td class=\"svelte-eurwtr\">1,750,000</td> </tr><tr class=\"svelte-eurwtr\"><td class=\"svelte-eurwtr\">Jul 27, 2023</td><td class=\"sym svelte-eurwtr\"><!-- HTML_TAG_START --><a href=\"/stocks/pfab/\">PFAB</a><!-- HTML_TAG_END --></td><td class=\"slw svelte-eurwtr\">PreTam Holdings Inc.</td><td class=\"svelte-eurwtr\">$4.35 - $6.35</td><td class=\"svelte-eurwtr\">800,000</td> </tr><tr class=\"svelte-eurwtr\"><td class=\"svelte-eurwtr\">Jul 26, 2023</td><td class=\"sym svelte-eurwtr\"><!-- HTML_TAG_START --><a href=\"/stocks/cgrd/\">CGRD</a><!-- HTML_TAG_END --></td><td class=\"slw svelte-eurwtr\">GRD Biotechnology Acquisition Limited</td><td class=\"svelte-eurwtr\">$10.00</td><td class=\"svelte-eurwtr\">4,000,000</td> </tr><tr class=\"svelte-eurwtr\"><td class=\"svelte-eurwtr\">Jul 26, 2023</td><td class=\"sym svelte-eurwtr\"><!-- HTML_TAG_START --><a href=\"/stocks/hand/\">HAND</a><!-- HTML_TAG_END --></td><td class=\"slw svelte-eurwtr\">Hand in Hand Metaverse Marriage Technnology Co., Ltd</td><td class=\"svelte-eurwtr\" data-svelte-h=\"svelte-17887i7\">-</td><td class=\"svelte-eurwtr\" data-svelte-h=\"svelte-17887i7\">-</td> </tr><tr class=\"svelte-eurwtr\"><td class=\"svelte-eurwtr\">Jul 19, 2023</td><td class=\"sym svelte-eurwtr\"><!-- HTML_TAG_START --><a href=\"/stocks/cgtl/\">CGTL</a><!-- HTML_TAG_END --></td><td class=\"slw svelte-eurwtr\">Creative Global Technology Holdings Limited</td><td class=\"svelte-eurwtr\">$4.00 - $5.00</td><td class=\"svelte-eurwtr\">1,250,000</td> </tr><tr class=\"svelte-eurwtr\"><td class=\"svelte-eurwtr\">Jul 19, 2023</td><td class=\"sym svelte-eurwtr\"><!-- HTML_TAG_START --><a href=\"/stocks/flai/\">FLAI</a><!-- HTML_TAG_END --></td><td class=\"slw svelte-eurwtr\">Flewber Global Inc.</td><td class=\"svelte-eurwtr\">$4.00 - $5.00</td><td class=\"svelte-eurwtr\">2,222,223</td> </tr><tr class=\"svelte-eurwtr\"><td class=\"svelte-eurwtr\">Jul 11, 2023</td><td class=\"sym svelte-eurwtr\"><!-- HTML_TAG_START --><a href=\"/stocks/ran/\">RAN</a><!-- HTML_TAG_END --></td><td class=\"slw svelte-eurwtr\">RanMarine Technology B.V.</td><td class=\"svelte-eurwtr\">$5.50</td><td class=\"svelte-eurwtr\">1,435,000</td> </tr><tr class=\"svelte-eurwtr\"><td class=\"svelte-eurwtr\">Jul 7, 2023</td><td class=\"sym svelte-eurwtr\"><!-- HTML_TAG_START --><a href=\"/stocks/azi/\">AZI</a><!-- HTML_TAG_END --></td><td class=\"slw svelte-eurwtr\">Autozi Internet Technology (Global) Ltd.</td><td class=\"svelte-eurwtr\">$4.00 - $5.00</td><td class=\"svelte-eurwtr\">1,250,000</td> </tr><tr class=\"svelte-eurwtr\"><td class=\"svelte-eurwtr\">Jul 5, 2023</td><td class=\"sym svelte-eurwtr\"><!-- HTML_TAG_START --><a href=\"/stocks/lgm/\">LGM</a><!-- HTML_TAG_END --></td><td class=\"slw svelte-eurwtr\">Sixgomeow Ltd.</td><td class=\"svelte-eurwtr\">$5.00</td><td class=\"svelte-eurwtr\" data-svelte-h=\"svelte-17887i7\">-</td> </tr><tr class=\"svelte-eurwtr\"><td class=\"svelte-eurwtr\">Jul 3, 2023</td><td class=\"sym svelte-eurwtr\"><!-- HTML_TAG_START --><a href=\"/stocks/rise/\">RISE</a><!-- HTML_TAG_END --></td><td class=\"slw svelte-eurwtr\">Rise Oil &amp; Gas, Inc.</td><td class=\"svelte-eurwtr\">$5.00</td><td class=\"svelte-eurwtr\">2,000,000</td> </tr><tr class=\"svelte-eurwtr\"><td class=\"svelte-eurwtr\">Jun 30, 2023</td><td class=\"sym svelte-eurwtr\"><!-- HTML_TAG_START --><a href=\"/stocks/subl/\">SUBL</a><!-- HTML_TAG_END --></td><td class=\"slw svelte-eurwtr\">BioLingus (Cayman) Limited</td><td class=\"svelte-eurwtr\">$20.00</td><td class=\"svelte-eurwtr\">360,000</td> </tr><tr class=\"svelte-eurwtr\"><td class=\"svelte-eurwtr\">Jun 30, 2023</td><td class=\"sym svelte-eurwtr\"><!-- HTML_TAG_START --><a href=\"/stocks/rlnd/\">RLND</a><!-- HTML_TAG_END --></td><td class=\"slw svelte-eurwtr\">The RoyaLand Company Ltd.</td><td class=\"svelte-eurwtr\">$5.00 - $6.00</td><td class=\"svelte-eurwtr\">1,250,000</td> </tr><tr class=\"svelte-eurwtr\"><td class=\"svelte-eurwtr\">Jun 23, 2023</td><td class=\"sym svelte-eurwtr\"><!-- HTML_TAG_START --><a href=\"/stocks/msw/\">MSW</a><!-- HTML_TAG_END --></td><td class=\"slw svelte-eurwtr\">Ming Shing Group Holdings Limited</td><td class=\"svelte-eurwtr\">$5.00 - $8.00</td><td class=\"svelte-eurwtr\">1,500,000</td> </tr><tr class=\"svelte-eurwtr\"><td class=\"svelte-eurwtr\">Jun 22, 2023</td><td class=\"sym svelte-eurwtr\"><!-- HTML_TAG_START --><a href=\"/stocks/unfl/\">UNFL</a><!-- HTML_TAG_END --></td><td class=\"slw svelte-eurwtr\">Unifoil Holdings, Inc.</td><td class=\"svelte-eurwtr\">$3.00 - $4.00</td><td class=\"svelte-eurwtr\">2,000,000</td> </tr><tr class=\"svelte-eurwtr\"><td class=\"svelte-eurwtr\">Jun 20, 2023</td><td class=\"sym svelte-eurwtr\"><!-- HTML_TAG_START --><a href=\"/stocks/jdrr/\">JDRR</a><!-- HTML_TAG_END --></td><td class=\"slw svelte-eurwtr\">F3 Platform Biologics, Inc.</td><td class=\"svelte-eurwtr\" data-svelte-h=\"svelte-17887i7\">-</td><td class=\"svelte-eurwtr\" data-svelte-h=\"svelte-17887i7\">-</td> </tr><tr class=\"svelte-eurwtr\"><td class=\"svelte-eurwtr\">Jun 9, 2023</td><td class=\"sym svelte-eurwtr\"><!-- HTML_TAG_START --><a href=\"/stocks/mdrn/\">MDRN</a><!-- HTML_TAG_END --></td><td class=\"slw svelte-eurwtr\">Modern Mining Technology Corp.</td><td class=\"svelte-eurwtr\">$4.50 - $5.50</td><td class=\"svelte-eurwtr\">2,000,000</td> </tr><tr class=\"svelte-eurwtr\"><td class=\"svelte-eurwtr\">May 22, 2023</td><td class=\"sym svelte-eurwtr\"><!-- HTML_TAG_START --><a href=\"/stocks/advb/\">ADVB</a><!-- HTML_TAG_END --></td><td class=\"slw svelte-eurwtr\">Advanced Biomed Inc.</td><td class=\"svelte-eurwtr\">$4.00 - $5.00</td><td class=\"svelte-eurwtr\">25,000,000</td> </tr><tr class=\"svelte-eurwtr\"><td class=\"svelte-eurwtr\">May 15, 2023</td><td class=\"sym svelte-eurwtr\"><!-- HTML_TAG_START --><a href=\"/stocks/fpaq/\">FPAQ</a><!-- HTML_TAG_END --></td><td class=\"slw svelte-eurwtr\">FPA Energy Acquisition Corp.</td><td class=\"svelte-eurwtr\">$10.00</td><td class=\"svelte-eurwtr\">10,000,000</td> </tr><tr class=\"svelte-eurwtr\"><td class=\"svelte-eurwtr\">May 3, 2023</td><td class=\"sym svelte-eurwtr\"><!-- HTML_TAG_START --><a href=\"/stocks/amgs/\">AMGS</a><!-- HTML_TAG_END --></td><td class=\"slw svelte-eurwtr\">Prospect Energy Holdings Corp.</td><td class=\"svelte-eurwtr\">$10.00</td><td class=\"svelte-eurwtr\">7,500,000</td> </tr><tr class=\"svelte-eurwtr\"><td class=\"svelte-eurwtr\">May 1, 2023</td><td class=\"sym svelte-eurwtr\"><!-- HTML_TAG_START --><a href=\"/stocks/zrsp/\">ZRSP</a><!-- HTML_TAG_END --></td><td class=\"slw svelte-eurwtr\">Zerospo</td><td class=\"svelte-eurwtr\">$4.00 - $5.00</td><td class=\"svelte-eurwtr\">1,500,000</td> </tr><tr class=\"svelte-eurwtr\"><td class=\"svelte-eurwtr\">Apr 28, 2023</td><td class=\"sym svelte-eurwtr\"><!-- HTML_TAG_START --><a href=\"/stocks/mjid/\">MJID</a><!-- HTML_TAG_END --></td><td class=\"slw svelte-eurwtr\">Majestic Ideal Holdings Ltd</td><td class=\"svelte-eurwtr\">$4.00 - $5.00</td><td class=\"svelte-eurwtr\">2,500,000</td> </tr><tr class=\"svelte-eurwtr\"><td class=\"svelte-eurwtr\">Apr 27, 2023</td><td class=\"sym svelte-eurwtr\"><!-- HTML_TAG_START --><a href=\"/stocks/ehgo/\">EHGO</a><!-- HTML_TAG_END --></td><td class=\"slw svelte-eurwtr\">Eshallgo Inc</td><td class=\"svelte-eurwtr\">$4.00 - $6.00</td><td class=\"svelte-eurwtr\">3,000,000</td> </tr><tr class=\"svelte-eurwtr\"><td class=\"svelte-eurwtr\">Apr 27, 2023</td><td class=\"sym svelte-eurwtr\"><!-- HTML_TAG_START --><a href=\"/stocks/wok/\">WOK</a><!-- HTML_TAG_END --></td><td class=\"slw svelte-eurwtr\">WORK Medical Technology Group LTD</td><td class=\"svelte-eurwtr\">$4.00</td><td class=\"svelte-eurwtr\">2,000,000</td> </tr><tr class=\"svelte-eurwtr\"><td class=\"svelte-eurwtr\">Apr 21, 2023</td><td class=\"sym svelte-eurwtr\"><!-- HTML_TAG_START --><a href=\"/stocks/xjet/\">XJET</a><!-- HTML_TAG_END --></td><td class=\"slw svelte-eurwtr\">XJet Ltd.</td><td class=\"svelte-eurwtr\">$4.00</td><td class=\"svelte-eurwtr\">1,600,000</td> </tr><tr class=\"svelte-eurwtr\"><td class=\"svelte-eurwtr\">Apr 21, 2023</td><td class=\"sym svelte-eurwtr\"><!-- HTML_TAG_START --><a href=\"/stocks/jpo/\">JPO</a><!-- HTML_TAG_END --></td><td class=\"slw svelte-eurwtr\">JP Outfitters, Inc.</td><td class=\"svelte-eurwtr\">$4.00</td><td class=\"svelte-eurwtr\">2,400,000</td> </tr><tr class=\"svelte-eurwtr\"><td class=\"svelte-eurwtr\">Mar 31, 2023</td><td class=\"sym svelte-eurwtr\"><!-- HTML_TAG_START --><a href=\"/stocks/sunh/\">SUNH</a><!-- HTML_TAG_END --></td><td class=\"slw svelte-eurwtr\">Xuhang Holdings Limited</td><td class=\"svelte-eurwtr\">$4.00 - $5.00</td><td class=\"svelte-eurwtr\">2,750,000</td> </tr><tr class=\"svelte-eurwtr\"><td class=\"svelte-eurwtr\">Mar 31, 2023</td><td class=\"sym svelte-eurwtr\"><!-- HTML_TAG_START --><a href=\"/stocks/ostx/\">OSTX</a><!-- HTML_TAG_END --></td><td class=\"slw svelte-eurwtr\">OS Therapies Incorporated</td><td class=\"svelte-eurwtr\">$5.00</td><td class=\"svelte-eurwtr\">2,000,000</td> </tr><tr class=\"svelte-eurwtr\"><td class=\"svelte-eurwtr\">Mar 31, 2023</td><td class=\"sym svelte-eurwtr\"><!-- HTML_TAG_START --><a href=\"/stocks/gfcx/\">GFCX</a><!-- HTML_TAG_END --></td><td class=\"slw svelte-eurwtr\">GoodFaith Technology Inc.</td><td class=\"svelte-eurwtr\">$4.00 - $6.00</td><td class=\"svelte-eurwtr\">3,000,000</td> </tr><tr class=\"svelte-eurwtr\"><td class=\"svelte-eurwtr\">Mar 30, 2023</td><td class=\"sym svelte-eurwtr\"><!-- HTML_TAG_START --><a href=\"/stocks/huhu/\">HUHU</a><!-- HTML_TAG_END --></td><td class=\"slw svelte-eurwtr\">HUHUTECH International Group Inc.</td><td class=\"svelte-eurwtr\" data-svelte-h=\"svelte-17887i7\">-</td><td class=\"svelte-eurwtr\" data-svelte-h=\"svelte-17887i7\">-</td> </tr><tr class=\"svelte-eurwtr\"><td class=\"svelte-eurwtr\">Mar 24, 2023</td><td class=\"sym svelte-eurwtr\"><!-- HTML_TAG_START --><a href=\"/stocks/usee/\">USEE</a><!-- HTML_TAG_END --></td><td class=\"slw svelte-eurwtr\">USEE Electronic Commerce Ltd</td><td class=\"svelte-eurwtr\" data-svelte-h=\"svelte-17887i7\">-</td><td class=\"svelte-eurwtr\" data-svelte-h=\"svelte-17887i7\">-</td> </tr><tr class=\"svelte-eurwtr\"><td class=\"svelte-eurwtr\">Mar 21, 2023</td><td class=\"sym svelte-eurwtr\"><!-- HTML_TAG_START --><a href=\"/stocks/ornc/\">ORNC</a><!-- HTML_TAG_END --></td><td class=\"slw svelte-eurwtr\">Oranco, Inc.</td><td class=\"svelte-eurwtr\">$4.00 - $6.00</td><td class=\"svelte-eurwtr\">1,500,000</td> </tr><tr class=\"svelte-eurwtr\"><td class=\"svelte-eurwtr\">Mar 20, 2023</td><td class=\"sym svelte-eurwtr\"><!-- HTML_TAG_START --><a href=\"/stocks/crgt/\">CRGT</a><!-- HTML_TAG_END --></td><td class=\"slw svelte-eurwtr\">Cortigent, Inc.</td><td class=\"svelte-eurwtr\">$10.00</td><td class=\"svelte-eurwtr\">1,500,000</td> </tr><tr class=\"svelte-eurwtr\"><td class=\"svelte-eurwtr\">Mar 16, 2023</td><td class=\"sym svelte-eurwtr\"><!-- HTML_TAG_START --><a href=\"/stocks/ckhl/\">CKHL</a><!-- HTML_TAG_END --></td><td class=\"slw svelte-eurwtr\">Chi Ko Holdings Limited</td><td class=\"svelte-eurwtr\">$4.00 - $5.00</td><td class=\"svelte-eurwtr\">1,740,000</td> </tr><tr class=\"svelte-eurwtr\"><td class=\"svelte-eurwtr\">Mar 13, 2023</td><td class=\"sym svelte-eurwtr\"><!-- HTML_TAG_START --><a href=\"/stocks/olsi/\">OLSI</a><!-- HTML_TAG_END --></td><td class=\"slw svelte-eurwtr\">Origin Life Sciences, Inc.</td><td class=\"svelte-eurwtr\">$4.00</td><td class=\"svelte-eurwtr\">1,875,000</td> </tr><tr class=\"svelte-eurwtr\"><td class=\"svelte-eurwtr\">Mar 2, 2023</td><td class=\"sym svelte-eurwtr\"><!-- HTML_TAG_START --><a href=\"/stocks/dazs/\">DAZS</a><!-- HTML_TAG_END --></td><td class=\"slw svelte-eurwtr\">Da Ai Zhi Shui International Holding Group Ltd</td><td class=\"svelte-eurwtr\" data-svelte-h=\"svelte-17887i7\">-</td><td class=\"svelte-eurwtr\" data-svelte-h=\"svelte-17887i7\">-</td> </tr><tr class=\"svelte-eurwtr\"><td class=\"svelte-eurwtr\">Feb 24, 2023</td><td class=\"sym svelte-eurwtr\"><!-- HTML_TAG_START --><a href=\"/stocks/ntv/\">NTV</a><!-- HTML_TAG_END --></td><td class=\"slw svelte-eurwtr\">NeoTV Group Limited</td><td class=\"svelte-eurwtr\">$6.00 - $6.50</td><td class=\"svelte-eurwtr\">6,800,000</td> </tr><tr class=\"svelte-eurwtr\"><td class=\"svelte-eurwtr\">Feb 24, 2023</td><td class=\"sym svelte-eurwtr\"><!-- HTML_TAG_START --><a href=\"/stocks/bsme/\">BSME</a><!-- HTML_TAG_END --></td><td class=\"slw svelte-eurwtr\">MED EIBY Holding Co., Limited</td><td class=\"svelte-eurwtr\">$4.00 - $6.00</td><td class=\"svelte-eurwtr\">4,000,000</td> </tr><tr class=\"svelte-eurwtr\"><td class=\"svelte-eurwtr\">Feb 23, 2023</td><td class=\"sym svelte-eurwtr\"><!-- HTML_TAG_START --><a href=\"/stocks/noem/\">NOEM</a><!-- HTML_TAG_END --></td><td class=\"slw svelte-eurwtr\">CO2 Energy Transition Corp.</td><td class=\"svelte-eurwtr\">$10.00</td><td class=\"svelte-eurwtr\">6,000,000</td> </tr><tr class=\"svelte-eurwtr\"><td class=\"svelte-eurwtr\">Feb 16, 2023</td><td class=\"sym svelte-eurwtr\"><!-- HTML_TAG_START --><a href=\"/stocks/gdd/\">GDD</a><!-- HTML_TAG_END --></td><td class=\"slw svelte-eurwtr\">Healthy Green Group Holding Limited</td><td class=\"svelte-eurwtr\">$6.00 - $7.00</td><td class=\"svelte-eurwtr\">2,000,000</td> </tr><tr class=\"svelte-eurwtr\"><td class=\"svelte-eurwtr\">Feb 15, 2023</td><td class=\"sym svelte-eurwtr\"><!-- HTML_TAG_START --><a href=\"/stocks/etz/\">ETZ</a><!-- HTML_TAG_END --></td><td class=\"slw svelte-eurwtr\">Earntz Healthcare Products, Inc.</td><td class=\"svelte-eurwtr\">$4.00 - $5.00</td><td class=\"svelte-eurwtr\">2,500,000</td> </tr><tr class=\"svelte-eurwtr\"><td class=\"svelte-eurwtr\">Feb 14, 2023</td><td class=\"sym svelte-eurwtr\"><!-- HTML_TAG_START --><a href=\"/stocks/haha/\">HAHA</a><!-- HTML_TAG_END --></td><td class=\"slw svelte-eurwtr\">Harden Technologies Inc.</td><td class=\"svelte-eurwtr\">$5.00 - $7.00</td><td class=\"svelte-eurwtr\">1,000,000</td> </tr><tr class=\"svelte-eurwtr\"><td class=\"svelte-eurwtr\">Feb 14, 2023</td><td class=\"sym svelte-eurwtr\"><!-- HTML_TAG_START --><a href=\"/stocks/iamr/\">IAMR</a><!-- HTML_TAG_END --></td><td class=\"slw svelte-eurwtr\">Medical Industries of the Americas, Inc.</td><td class=\"svelte-eurwtr\" data-svelte-h=\"svelte-17887i7\">-</td><td class=\"svelte-eurwtr\" data-svelte-h=\"svelte-17887i7\">-</td> </tr><tr class=\"svelte-eurwtr\"><td class=\"svelte-eurwtr\">Feb 10, 2023</td><td class=\"sym svelte-eurwtr\"><!-- HTML_TAG_START --><a href=\"/stocks/weto/\">WETO</a><!-- HTML_TAG_END --></td><td class=\"slw svelte-eurwtr\">Webus International Limited</td><td class=\"svelte-eurwtr\">$4.00 - $6.00</td><td class=\"svelte-eurwtr\">4,000,000</td> </tr><tr class=\"svelte-eurwtr\"><td class=\"svelte-eurwtr\">Feb 10, 2023</td><td class=\"sym svelte-eurwtr\"><!-- HTML_TAG_START --><a href=\"/stocks/hxhx/\">HXHX</a><!-- HTML_TAG_END --></td><td class=\"slw svelte-eurwtr\">Haoxin Holdings Limited</td><td class=\"svelte-eurwtr\">$4.00 - $6.00</td><td class=\"svelte-eurwtr\">3,000,000</td> </tr><tr class=\"svelte-eurwtr\"><td class=\"svelte-eurwtr\">Feb 9, 2023</td><td class=\"sym svelte-eurwtr\"><!-- HTML_TAG_START --><a href=\"/stocks/drfy/\">DRFY</a><!-- HTML_TAG_END --></td><td class=\"slw svelte-eurwtr\">Droneify Holdings Limited</td><td class=\"svelte-eurwtr\">$6.00 - $7.00</td><td class=\"svelte-eurwtr\">923,077</td> </tr><tr class=\"svelte-eurwtr\"><td class=\"svelte-eurwtr\">Feb 9, 2023</td><td class=\"sym svelte-eurwtr\"><!-- HTML_TAG_START --><a href=\"/stocks/epwk/\">EPWK</a><!-- HTML_TAG_END --></td><td class=\"slw svelte-eurwtr\">EPWK Holdings Ltd.</td><td class=\"svelte-eurwtr\" data-svelte-h=\"svelte-17887i7\">-</td><td class=\"svelte-eurwtr\" data-svelte-h=\"svelte-17887i7\">-</td> </tr><tr class=\"svelte-eurwtr\"><td class=\"svelte-eurwtr\">Feb 8, 2023</td><td class=\"sym svelte-eurwtr\"><!-- HTML_TAG_START --><a href=\"/stocks/zbj/\">ZBJ</a><!-- HTML_TAG_END --></td><td class=\"slw svelte-eurwtr\">ZBJ Finance Group Ltd</td><td class=\"svelte-eurwtr\" data-svelte-h=\"svelte-17887i7\">-</td><td class=\"svelte-eurwtr\" data-svelte-h=\"svelte-17887i7\">-</td> </tr><tr class=\"svelte-eurwtr\"><td class=\"svelte-eurwtr\">Feb 7, 2023</td><td class=\"sym svelte-eurwtr\"><!-- HTML_TAG_START --><a href=\"/stocks/yzh/\">YZH</a><!-- HTML_TAG_END --></td><td class=\"slw svelte-eurwtr\">Yuezhonghui International Holdings Ltd.</td><td class=\"svelte-eurwtr\" data-svelte-h=\"svelte-17887i7\">-</td><td class=\"svelte-eurwtr\" data-svelte-h=\"svelte-17887i7\">-</td> </tr><tr class=\"svelte-eurwtr\"><td class=\"svelte-eurwtr\">Jan 31, 2023</td><td class=\"sym svelte-eurwtr\"><!-- HTML_TAG_START --><a href=\"/stocks/fbgl/\">FBGL</a><!-- HTML_TAG_END --></td><td class=\"slw svelte-eurwtr\">FBS Global Limited</td><td class=\"svelte-eurwtr\">$4.00 - $5.00</td><td class=\"svelte-eurwtr\">1,875,000</td> </tr><tr class=\"svelte-eurwtr\"><td class=\"svelte-eurwtr\">Jan 24, 2023</td><td class=\"sym svelte-eurwtr\"><!-- HTML_TAG_START --><a href=\"/stocks/thnk/\">THNK</a><!-- HTML_TAG_END --></td><td class=\"slw svelte-eurwtr\">T1V, Inc.</td><td class=\"svelte-eurwtr\">$4.00 - $6.00</td><td class=\"svelte-eurwtr\">3,300,000</td> </tr><tr class=\"svelte-eurwtr\"><td class=\"svelte-eurwtr\">Jan 23, 2023</td><td class=\"sym svelte-eurwtr\"><!-- HTML_TAG_START --><a href=\"/stocks/rpet/\">RPET</a><!-- HTML_TAG_END --></td><td class=\"slw svelte-eurwtr\">New Ruipeng Pet Group Inc.</td><td class=\"svelte-eurwtr\" data-svelte-h=\"svelte-17887i7\">-</td><td class=\"svelte-eurwtr\" data-svelte-h=\"svelte-17887i7\">-</td> </tr><tr class=\"svelte-eurwtr\"><td class=\"svelte-eurwtr\">Jan 13, 2023</td><td class=\"sym svelte-eurwtr\"><!-- HTML_TAG_START --><a href=\"/stocks/rvgo/\">RVGO</a><!-- HTML_TAG_END --></td><td class=\"slw svelte-eurwtr\">RVeloCITY, Inc.</td><td class=\"svelte-eurwtr\">$4.00 - $5.00</td><td class=\"svelte-eurwtr\">3,750,000</td> </tr><tr class=\"svelte-eurwtr\"><td class=\"svelte-eurwtr\">Jan 10, 2023</td><td class=\"sym svelte-eurwtr\"><!-- HTML_TAG_START --><a href=\"/stocks/fdan/\">FDAN</a><!-- HTML_TAG_END --></td><td class=\"slw svelte-eurwtr\">FD Technology Inc.</td><td class=\"svelte-eurwtr\">$4.00 - $6.00</td><td class=\"svelte-eurwtr\">3,500,000</td> </tr><tr class=\"svelte-eurwtr\"><td class=\"svelte-eurwtr\">Dec 29, 2022</td><td class=\"sym svelte-eurwtr\"><!-- HTML_TAG_START --><a href=\"/stocks/ryet/\">RYET</a><!-- HTML_TAG_END --></td><td class=\"slw svelte-eurwtr\">Ruanyun Edai Technology Inc.</td><td class=\"svelte-eurwtr\">$5.00 - $6.00</td><td class=\"svelte-eurwtr\">5,000,000</td> </tr><tr class=\"svelte-eurwtr\"><td class=\"svelte-eurwtr\">Dec 29, 2022</td><td class=\"sym svelte-eurwtr\"><!-- HTML_TAG_START --><a href=\"/stocks/imsv/\">IMSV</a><!-- HTML_TAG_END --></td><td class=\"slw svelte-eurwtr\">IMMRSIV Inc.</td><td class=\"svelte-eurwtr\">$4.00 - $5.00</td><td class=\"svelte-eurwtr\">1,500,000</td> </tr><tr class=\"svelte-eurwtr\"><td class=\"svelte-eurwtr\">Dec 29, 2022</td><td class=\"sym svelte-eurwtr\"><!-- HTML_TAG_START --><a href=\"/stocks/bzfl/\">BZFL</a><!-- HTML_TAG_END --></td><td class=\"slw svelte-eurwtr\">Bozhi Fanglue International Investment Group Co Ltd</td><td class=\"svelte-eurwtr\" data-svelte-h=\"svelte-17887i7\">-</td><td class=\"svelte-eurwtr\" data-svelte-h=\"svelte-17887i7\">-</td> </tr><tr class=\"svelte-eurwtr\"><td class=\"svelte-eurwtr\">Dec 28, 2022</td><td class=\"sym svelte-eurwtr\"><!-- HTML_TAG_START --><a href=\"/stocks/glxg/\">GLXG</a><!-- HTML_TAG_END --></td><td class=\"slw svelte-eurwtr\">Galaxy Payroll Group Limited</td><td class=\"svelte-eurwtr\">$4.00</td><td class=\"svelte-eurwtr\">2,000,000</td> </tr><tr class=\"svelte-eurwtr\"><td class=\"svelte-eurwtr\">Dec 21, 2022</td><td class=\"sym svelte-eurwtr\"><!-- HTML_TAG_START --><a href=\"/stocks/hber/\">HBER</a><!-- HTML_TAG_END --></td><td class=\"slw svelte-eurwtr\">Hubeier Group Ltd.</td><td class=\"svelte-eurwtr\">$6.00</td><td class=\"svelte-eurwtr\" data-svelte-h=\"svelte-17887i7\">-</td> </tr><tr class=\"svelte-eurwtr\"><td class=\"svelte-eurwtr\">Dec 20, 2022</td><td class=\"sym svelte-eurwtr\"><!-- HTML_TAG_START --><a href=\"/stocks/zyrx/\">ZYRX</a><!-- HTML_TAG_END --></td><td class=\"slw svelte-eurwtr\">Global Earnings Capital Ltd.</td><td class=\"svelte-eurwtr\">$5.00</td><td class=\"svelte-eurwtr\" data-svelte-h=\"svelte-17887i7\">-</td> </tr><tr class=\"svelte-eurwtr\"><td class=\"svelte-eurwtr\">Dec 16, 2022</td><td class=\"sym svelte-eurwtr\"><!-- HTML_TAG_START --><a href=\"/stocks/gdlt/\">GDLT</a><!-- HTML_TAG_END --></td><td class=\"slw svelte-eurwtr\">Greifenberg Digital Limited</td><td class=\"svelte-eurwtr\">$5.00</td><td class=\"svelte-eurwtr\">3,000,000</td> </tr><tr class=\"svelte-eurwtr\"><td class=\"svelte-eurwtr\">Dec 8, 2022</td><td class=\"sym svelte-eurwtr\"><!-- HTML_TAG_START --><a href=\"/stocks/scrp/\">SCRP</a><!-- HTML_TAG_END --></td><td class=\"slw svelte-eurwtr\">Scripps Safe, Inc.</td><td class=\"svelte-eurwtr\">$5.00</td><td class=\"svelte-eurwtr\">1,200,000</td> </tr><tr class=\"svelte-eurwtr\"><td class=\"svelte-eurwtr\">Nov 18, 2022</td><td class=\"sym svelte-eurwtr\"><!-- HTML_TAG_START --><a href=\"/stocks/bkv/\">BKV</a><!-- HTML_TAG_END --></td><td class=\"slw svelte-eurwtr\">BKV Corporation</td><td class=\"svelte-eurwtr\" data-svelte-h=\"svelte-17887i7\">-</td><td class=\"svelte-eurwtr\" data-svelte-h=\"svelte-17887i7\">-</td> </tr><tr class=\"svelte-eurwtr\"><td class=\"svelte-eurwtr\">Nov 10, 2022</td><td class=\"sym svelte-eurwtr\"><!-- HTML_TAG_START --><a href=\"/stocks/alkd/\">ALKD</a><!-- HTML_TAG_END --></td><td class=\"slw svelte-eurwtr\">Alkaid Acquisition Corp.</td><td class=\"svelte-eurwtr\">$10.00</td><td class=\"svelte-eurwtr\">5,000,000</td> </tr><tr class=\"svelte-eurwtr\"><td class=\"svelte-eurwtr\">Nov 9, 2022</td><td class=\"sym svelte-eurwtr\"><!-- HTML_TAG_START --><a href=\"/stocks/bnty/\">BNTY</a><!-- HTML_TAG_END --></td><td class=\"slw svelte-eurwtr\">Bounty Minerals, Inc.</td><td class=\"svelte-eurwtr\" data-svelte-h=\"svelte-17887i7\">-</td><td class=\"svelte-eurwtr\" data-svelte-h=\"svelte-17887i7\">-</td> </tr><tr class=\"svelte-eurwtr\"><td class=\"svelte-eurwtr\">Oct 26, 2022</td><td class=\"sym svelte-eurwtr\"><!-- HTML_TAG_START --><a href=\"/stocks/dcca/\">DCCA</a><!-- HTML_TAG_END --></td><td class=\"slw svelte-eurwtr\">Decca Investment Limited</td><td class=\"svelte-eurwtr\">$4.00 - $6.00</td><td class=\"svelte-eurwtr\">6,000,000</td> </tr><tr class=\"svelte-eurwtr\"><td class=\"svelte-eurwtr\">Oct 25, 2022</td><td class=\"sym svelte-eurwtr\"><!-- HTML_TAG_START --><a href=\"/stocks/liai/\">LIAI</a><!-- HTML_TAG_END --></td><td class=\"slw svelte-eurwtr\">Lemeng Holdings Limited</td><td class=\"svelte-eurwtr\">$4.00 - $6.00</td><td class=\"svelte-eurwtr\">4,000,000</td> </tr><tr class=\"svelte-eurwtr\"><td class=\"svelte-eurwtr\">Oct 13, 2022</td><td class=\"sym svelte-eurwtr\"><!-- HTML_TAG_START --><a href=\"/stocks/mdlb/\">MDLB</a><!-- HTML_TAG_END --></td><td class=\"slw svelte-eurwtr\">Medlab Clinical Ltd.</td><td class=\"svelte-eurwtr\">$4.45</td><td class=\"svelte-eurwtr\">1,797,752</td> </tr><tr class=\"svelte-eurwtr\"><td class=\"svelte-eurwtr\">Oct 12, 2022</td><td class=\"sym svelte-eurwtr\"><!-- HTML_TAG_START --><a href=\"/stocks/msfc/\">MSFC</a><!-- HTML_TAG_END --></td><td class=\"slw svelte-eurwtr\">Mao Shi Jade Jewelry International Investment Ltd.</td><td class=\"svelte-eurwtr\">$5.00</td><td class=\"svelte-eurwtr\" data-svelte-h=\"svelte-17887i7\">-</td> </tr><tr class=\"svelte-eurwtr\"><td class=\"svelte-eurwtr\">Oct 11, 2022</td><td class=\"sym svelte-eurwtr\"><!-- HTML_TAG_START --><a href=\"/stocks/sodr/\">SODR</a><!-- HTML_TAG_END --></td><td class=\"slw svelte-eurwtr\">SONDORS Inc.</td><td class=\"svelte-eurwtr\">$4.00 - $6.00</td><td class=\"svelte-eurwtr\">4,000,000</td> </tr><tr class=\"svelte-eurwtr\"><td class=\"svelte-eurwtr\">Oct 7, 2022</td><td class=\"sym svelte-eurwtr\"><!-- HTML_TAG_START --><a href=\"/stocks/sag/\">SAG</a><!-- HTML_TAG_END --></td><td class=\"slw svelte-eurwtr\">SAG Holdings Limited</td><td class=\"svelte-eurwtr\">$8.00</td><td class=\"svelte-eurwtr\">875,000</td> </tr><tr class=\"svelte-eurwtr\"><td class=\"svelte-eurwtr\">Sep 30, 2022</td><td class=\"sym svelte-eurwtr\"><!-- HTML_TAG_START --><a href=\"/stocks/bbch/\">BBCH</a><!-- HTML_TAG_END --></td><td class=\"slw svelte-eurwtr\">Blue-Touch Holdings Group Co., Ltd</td><td class=\"svelte-eurwtr\">$4.00 - $6.00</td><td class=\"svelte-eurwtr\">2,000,000</td> </tr><tr class=\"svelte-eurwtr\"><td class=\"svelte-eurwtr\">Sep 16, 2022</td><td class=\"sym svelte-eurwtr\"><!-- HTML_TAG_START --><a href=\"/stocks/agii/\">AGII</a><!-- HTML_TAG_END --></td><td class=\"slw svelte-eurwtr\">AgiiPlus Inc.</td><td class=\"svelte-eurwtr\">$5.00 - $6.00</td><td class=\"svelte-eurwtr\">2,000,000</td> </tr><tr class=\"svelte-eurwtr\"><td class=\"svelte-eurwtr\">Sep 16, 2022</td><td class=\"sym svelte-eurwtr\"><!-- HTML_TAG_START --><a href=\"/stocks/sja/\">SJA</a><!-- HTML_TAG_END --></td><td class=\"slw svelte-eurwtr\">SolarJuice Co., Ltd.</td><td class=\"svelte-eurwtr\">$4.00 - $6.00</td><td class=\"svelte-eurwtr\">3,750,000</td> </tr><tr class=\"svelte-eurwtr\"><td class=\"svelte-eurwtr\">Sep 12, 2022</td><td class=\"sym svelte-eurwtr\"><!-- HTML_TAG_START --><a href=\"/stocks/mnx/\">MNX</a><!-- HTML_TAG_END --></td><td class=\"slw svelte-eurwtr\">MN8 Energy, Inc.</td><td class=\"svelte-eurwtr\" data-svelte-h=\"svelte-17887i7\">-</td><td class=\"svelte-eurwtr\" data-svelte-h=\"svelte-17887i7\">-</td> </tr><tr class=\"svelte-eurwtr\"><td class=\"svelte-eurwtr\">Sep 9, 2022</td><td class=\"sym svelte-eurwtr\"><!-- HTML_TAG_START --><a href=\"/stocks/vtro/\">VTRO</a><!-- HTML_TAG_END --></td><td class=\"slw svelte-eurwtr\">Vitro Biopharma, Inc.</td><td class=\"svelte-eurwtr\">$15.00</td><td class=\"svelte-eurwtr\">2,179,344</td> </tr><tr class=\"svelte-eurwtr\"><td class=\"svelte-eurwtr\">Sep 2, 2022</td><td class=\"sym svelte-eurwtr\"><!-- HTML_TAG_START --><a href=\"/stocks/pse/\">PSE</a><!-- HTML_TAG_END --></td><td class=\"slw svelte-eurwtr\">Prime Skyline Limited</td><td class=\"svelte-eurwtr\">$6.00</td><td class=\"svelte-eurwtr\">2,500,000</td> </tr><tr class=\"svelte-eurwtr\"><td class=\"svelte-eurwtr\">Aug 30, 2022</td><td class=\"sym svelte-eurwtr\"><!-- HTML_TAG_START --><a href=\"/stocks/gels/\">GELS</a><!-- HTML_TAG_END --></td><td class=\"slw svelte-eurwtr\">Gelteq Limited</td><td class=\"svelte-eurwtr\">$5.00</td><td class=\"svelte-eurwtr\">1,300,000</td> </tr><tr class=\"svelte-eurwtr\"><td class=\"svelte-eurwtr\">Aug 26, 2022</td><td class=\"sym svelte-eurwtr\"><!-- HTML_TAG_START --><a href=\"/stocks/tdac/\">TDAC</a><!-- HTML_TAG_END --></td><td class=\"slw svelte-eurwtr\">Translational Development Acquisition Corp.</td><td class=\"svelte-eurwtr\">$10.00</td><td class=\"svelte-eurwtr\">15,000,000</td> </tr><tr class=\"svelte-eurwtr\"><td class=\"svelte-eurwtr\">Aug 19, 2022</td><td class=\"sym svelte-eurwtr\"><!-- HTML_TAG_START --><a href=\"/stocks/ibg/\">IBG</a><!-- HTML_TAG_END --></td><td class=\"slw svelte-eurwtr\">Innovation Beverage Group Limited</td><td class=\"svelte-eurwtr\">$4.13</td><td class=\"svelte-eurwtr\">1,400,000</td> </tr><tr class=\"svelte-eurwtr\"><td class=\"svelte-eurwtr\">Aug 16, 2022</td><td class=\"sym svelte-eurwtr\"><!-- HTML_TAG_START --><a href=\"/stocks/gle/\">GLE</a><!-- HTML_TAG_END --></td><td class=\"slw svelte-eurwtr\">Global Engine Group Holding Limited</td><td class=\"svelte-eurwtr\">$4.00 - $5.00</td><td class=\"svelte-eurwtr\">2,500,000</td> </tr><tr class=\"svelte-eurwtr\"><td class=\"svelte-eurwtr\">Aug 16, 2022</td><td class=\"sym svelte-eurwtr\"><!-- HTML_TAG_START --><a href=\"/stocks/emtx/\">EMTX</a><!-- HTML_TAG_END --></td><td class=\"slw svelte-eurwtr\">EMulate Therapeutics, Inc.</td><td class=\"svelte-eurwtr\">$4.00 - $6.00</td><td class=\"svelte-eurwtr\">2,300,000</td> </tr><tr class=\"svelte-eurwtr\"><td class=\"svelte-eurwtr\">Aug 10, 2022</td><td class=\"sym svelte-eurwtr\"><!-- HTML_TAG_START --><a href=\"/stocks/flct/\">FLCT</a><!-- HTML_TAG_END --></td><td class=\"slw svelte-eurwtr\">Felicitex Therapeutics Inc.</td><td class=\"svelte-eurwtr\">$6.25</td><td class=\"svelte-eurwtr\">2,480,000</td> </tr><tr class=\"svelte-eurwtr\"><td class=\"svelte-eurwtr\">Aug 8, 2022</td><td class=\"sym svelte-eurwtr\"><!-- HTML_TAG_START --><a href=\"/stocks/bcgf/\">BCGF</a><!-- HTML_TAG_END --></td><td class=\"slw svelte-eurwtr\">BCGF Acquisition Corp.</td><td class=\"svelte-eurwtr\">$10.00</td><td class=\"svelte-eurwtr\">5,000,000</td> </tr><tr class=\"svelte-eurwtr\"><td class=\"svelte-eurwtr\">Aug 5, 2022</td><td class=\"sym svelte-eurwtr\"><!-- HTML_TAG_START --><a href=\"/stocks/mdls/\">MDLS</a><!-- HTML_TAG_END --></td><td class=\"slw svelte-eurwtr\">MDNA Life Sciences Inc.</td><td class=\"svelte-eurwtr\">$5.00 - $6.00</td><td class=\"svelte-eurwtr\">2,454,545</td> </tr><tr class=\"svelte-eurwtr\"><td class=\"svelte-eurwtr\">Aug 5, 2022</td><td class=\"sym svelte-eurwtr\"><!-- HTML_TAG_START --><a href=\"/stocks/lmin/\">LMIN</a><!-- HTML_TAG_END --></td><td class=\"slw svelte-eurwtr\">Laminera Flow Optimization Ltd.</td><td class=\"svelte-eurwtr\">$4.25 - $6.25</td><td class=\"svelte-eurwtr\">1,600,000</td> </tr><tr class=\"svelte-eurwtr\"><td class=\"svelte-eurwtr\">Jul 21, 2022</td><td class=\"sym svelte-eurwtr\"><!-- HTML_TAG_START --><a href=\"/stocks/rpgl/\">RPGL</a><!-- HTML_TAG_END --></td><td class=\"slw svelte-eurwtr\">Republic Power Group Limited</td><td class=\"svelte-eurwtr\">$5.00 - $6.00</td><td class=\"svelte-eurwtr\">1,200,000</td> </tr><tr class=\"svelte-eurwtr\"><td class=\"svelte-eurwtr\">Jul 20, 2022</td><td class=\"sym svelte-eurwtr\"><!-- HTML_TAG_START --><a href=\"/stocks/wpa/\">WPA</a><!-- HTML_TAG_END --></td><td class=\"slw svelte-eurwtr\">Whale Point Acquisition Corp.</td><td class=\"svelte-eurwtr\">$10.00</td><td class=\"svelte-eurwtr\">15,000,000</td> </tr><tr class=\"svelte-eurwtr\"><td class=\"svelte-eurwtr\">Jul 14, 2022</td><td class=\"sym svelte-eurwtr\"><!-- HTML_TAG_START --><a href=\"/stocks/vacx/\">VACX</a><!-- HTML_TAG_END --></td><td class=\"slw svelte-eurwtr\">Vistas Acquisition Company II Inc.</td><td class=\"svelte-eurwtr\">$10.00</td><td class=\"svelte-eurwtr\">20,000,000</td> </tr><tr class=\"svelte-eurwtr\"><td class=\"svelte-eurwtr\">Jul 13, 2022</td><td class=\"sym svelte-eurwtr\"><!-- HTML_TAG_START --><a href=\"/stocks/hesp/\">HESP</a><!-- HTML_TAG_END --></td><td class=\"slw svelte-eurwtr\">Hesperos, Inc.</td><td class=\"svelte-eurwtr\" data-svelte-h=\"svelte-17887i7\">-</td><td class=\"svelte-eurwtr\" data-svelte-h=\"svelte-17887i7\">-</td> </tr><tr class=\"svelte-eurwtr\"><td class=\"svelte-eurwtr\">Jul 12, 2022</td><td class=\"sym svelte-eurwtr\"><!-- HTML_TAG_START --><a href=\"/stocks/twen/\">TWEN</a><!-- HTML_TAG_END --></td><td class=\"slw svelte-eurwtr\">T20 Holdings Pte. Ltd.</td><td class=\"svelte-eurwtr\">$4.00 - $6.00</td><td class=\"svelte-eurwtr\">2,637,500</td> </tr><tr class=\"svelte-eurwtr\"><td class=\"svelte-eurwtr\">Jul 12, 2022</td><td class=\"sym svelte-eurwtr\"><!-- HTML_TAG_START --><a href=\"/stocks/cjoy/\">CJOY</a><!-- HTML_TAG_END --></td><td class=\"slw svelte-eurwtr\">Cine Top Culture Holdings Limited</td><td class=\"svelte-eurwtr\">$4.00</td><td class=\"svelte-eurwtr\">4,600,000</td> </tr><tr class=\"svelte-eurwtr\"><td class=\"svelte-eurwtr\">Jul 1, 2022</td><td class=\"sym svelte-eurwtr\"><!-- HTML_TAG_START --><a href=\"/stocks/ykai/\">YKAI</a><!-- HTML_TAG_END --></td><td class=\"slw svelte-eurwtr\">YUKAI Health Group Limited</td><td class=\"svelte-eurwtr\">$4.00 - $6.00</td><td class=\"svelte-eurwtr\">4,000,000</td> </tr><tr class=\"svelte-eurwtr\"><td class=\"svelte-eurwtr\">Jun 13, 2022</td><td class=\"sym svelte-eurwtr\"><!-- HTML_TAG_START --><a href=\"/stocks/lewy/\">LEWY</a><!-- HTML_TAG_END --></td><td class=\"slw svelte-eurwtr\">LeeWay Services, Inc.</td><td class=\"svelte-eurwtr\">$5.00</td><td class=\"svelte-eurwtr\">3,000,000</td> </tr><tr class=\"svelte-eurwtr\"><td class=\"svelte-eurwtr\">Jun 3, 2022</td><td class=\"sym svelte-eurwtr\"><!-- HTML_TAG_START --><a href=\"/stocks/savu/\">SAVU</a><!-- HTML_TAG_END --></td><td class=\"slw svelte-eurwtr\">BioLife4D Corporation</td><td class=\"svelte-eurwtr\">$5.20 - $7.20</td><td class=\"svelte-eurwtr\">1,596,154</td> </tr><tr class=\"svelte-eurwtr\"><td class=\"svelte-eurwtr\">Jun 1, 2022</td><td class=\"sym svelte-eurwtr\"><!-- HTML_TAG_START --><a href=\"/stocks/nyx/\">NYX</a><!-- HTML_TAG_END --></td><td class=\"slw svelte-eurwtr\">NYIAX, Inc.</td><td class=\"svelte-eurwtr\">$4.00</td><td class=\"svelte-eurwtr\">2,106,250</td> </tr><tr class=\"svelte-eurwtr\"><td class=\"svelte-eurwtr\">May 23, 2022</td><td class=\"sym svelte-eurwtr\"><!-- HTML_TAG_START --><a href=\"/stocks/neat/\">NEAT</a><!-- HTML_TAG_END --></td><td class=\"slw svelte-eurwtr\">Noble Education Acquisition Corp.</td><td class=\"svelte-eurwtr\">$10.00</td><td class=\"svelte-eurwtr\">10,000,000</td> </tr><tr class=\"svelte-eurwtr\"><td class=\"svelte-eurwtr\">May 9, 2022</td><td class=\"sym svelte-eurwtr\"><!-- HTML_TAG_START --><a href=\"/stocks/ceac/\">CEAC</a><!-- HTML_TAG_END --></td><td class=\"slw svelte-eurwtr\">CE Energy Acquisition Corp.</td><td class=\"svelte-eurwtr\">$10.00</td><td class=\"svelte-eurwtr\">10,000,000</td> </tr><tr class=\"svelte-eurwtr\"><td class=\"svelte-eurwtr\">May 5, 2022</td><td class=\"sym svelte-eurwtr\"><!-- HTML_TAG_START --><a href=\"/stocks/fp/\">FP</a><!-- HTML_TAG_END --></td><td class=\"slw svelte-eurwtr\">First Person Ltd.</td><td class=\"svelte-eurwtr\">$4.00 - $5.00</td><td class=\"svelte-eurwtr\">2,900,000</td> </tr><tr class=\"svelte-eurwtr\"><td class=\"svelte-eurwtr\">Apr 26, 2022</td><td class=\"sym svelte-eurwtr\"><!-- HTML_TAG_START --><a href=\"/stocks/hoti/\">HOTI</a><!-- HTML_TAG_END --></td><td class=\"slw svelte-eurwtr\">Hemoglobin Oxygen Therapeutics LLC</td><td class=\"svelte-eurwtr\" data-svelte-h=\"svelte-17887i7\">-</td><td class=\"svelte-eurwtr\" data-svelte-h=\"svelte-17887i7\">-</td> </tr><tr class=\"svelte-eurwtr\"><td class=\"svelte-eurwtr\">Apr 22, 2022</td><td class=\"sym svelte-eurwtr\"><!-- HTML_TAG_START --><a href=\"/stocks/ztop/\">ZTOP</a><!-- HTML_TAG_END --></td><td class=\"slw svelte-eurwtr\">Zi Toprun Acquisition Corp.</td><td class=\"svelte-eurwtr\">$10.00</td><td class=\"svelte-eurwtr\">11,000,000</td> </tr><tr class=\"svelte-eurwtr\"><td class=\"svelte-eurwtr\">Apr 22, 2022</td><td class=\"sym svelte-eurwtr\"><!-- HTML_TAG_START --><a href=\"/stocks/smst/\">SMST</a><!-- HTML_TAG_END --></td><td class=\"slw svelte-eurwtr\">SmartStop Self Storage REIT, Inc.</td><td class=\"svelte-eurwtr\" data-svelte-h=\"svelte-17887i7\">-</td><td class=\"svelte-eurwtr\" data-svelte-h=\"svelte-17887i7\">-</td> </tr><tr class=\"svelte-eurwtr\"><td class=\"svelte-eurwtr\">Apr 15, 2022</td><td class=\"sym svelte-eurwtr\"><!-- HTML_TAG_START --><a href=\"/stocks/aspp/\">ASPP</a><!-- HTML_TAG_END --></td><td class=\"slw svelte-eurwtr\">Abri SPAC 2, Inc.</td><td class=\"svelte-eurwtr\">$10.00</td><td class=\"svelte-eurwtr\">10,000,000</td> </tr><tr class=\"svelte-eurwtr\"><td class=\"svelte-eurwtr\">Mar 29, 2022</td><td class=\"sym svelte-eurwtr\"><!-- HTML_TAG_START --><a href=\"/stocks/wxt/\">WXT</a><!-- HTML_TAG_END --></td><td class=\"slw svelte-eurwtr\">Wuxin Technology Holdings, Inc.</td><td class=\"svelte-eurwtr\">$4.50 - $6.50</td><td class=\"svelte-eurwtr\">6,000,000</td> </tr><tr class=\"svelte-eurwtr\"><td class=\"svelte-eurwtr\">Mar 28, 2022</td><td class=\"sym svelte-eurwtr\"><!-- HTML_TAG_START --><a href=\"/stocks/elep/\">ELEP</a><!-- HTML_TAG_END --></td><td class=\"slw svelte-eurwtr\">Elephant Oil Corp.</td><td class=\"svelte-eurwtr\">$4.00 - $5.00</td><td class=\"svelte-eurwtr\">1,666,667</td> </tr><tr class=\"svelte-eurwtr\"><td class=\"svelte-eurwtr\">Mar 21, 2022</td><td class=\"sym svelte-eurwtr\"><!-- HTML_TAG_START --><a href=\"/stocks/ymat/\">YMAT</a><!-- HTML_TAG_END --></td><td class=\"slw svelte-eurwtr\">J-Star Holding Co., Ltd.</td><td class=\"svelte-eurwtr\">$4.00 - $5.00</td><td class=\"svelte-eurwtr\">2,500,000</td> </tr><tr class=\"svelte-eurwtr\"><td class=\"svelte-eurwtr\">Mar 18, 2022</td><td class=\"sym svelte-eurwtr\"><!-- HTML_TAG_START --><a href=\"/stocks/bffi/\">BFFI</a><!-- HTML_TAG_END --></td><td class=\"slw svelte-eurwtr\">BFFI Group Inc.</td><td class=\"svelte-eurwtr\" data-svelte-h=\"svelte-17887i7\">-</td><td class=\"svelte-eurwtr\" data-svelte-h=\"svelte-17887i7\">-</td> </tr><tr class=\"svelte-eurwtr\"><td class=\"svelte-eurwtr\">Mar 7, 2022</td><td class=\"sym svelte-eurwtr\"><!-- HTML_TAG_START --><a href=\"/stocks/alpx/\">ALPX</a><!-- HTML_TAG_END --></td><td class=\"slw svelte-eurwtr\">Alopexx, Inc.</td><td class=\"svelte-eurwtr\">$5.00</td><td class=\"svelte-eurwtr\">3,000,000</td> </tr><tr class=\"svelte-eurwtr\"><td class=\"svelte-eurwtr\">Feb 22, 2022</td><td class=\"sym svelte-eurwtr\"><!-- HTML_TAG_START --><a href=\"/stocks/gosc/\">GOSC</a><!-- HTML_TAG_END --></td><td class=\"slw svelte-eurwtr\">Giant Oak Acquisition Corporation</td><td class=\"svelte-eurwtr\">$10.00</td><td class=\"svelte-eurwtr\">6,000,000</td> </tr><tr class=\"svelte-eurwtr\"><td class=\"svelte-eurwtr\">Feb 8, 2022</td><td class=\"sym svelte-eurwtr\"><!-- HTML_TAG_START --><a href=\"/stocks/enac/\">ENAC</a><!-- HTML_TAG_END --></td><td class=\"slw svelte-eurwtr\">Endeavor Acquisition Corp.</td><td class=\"svelte-eurwtr\">$10.00</td><td class=\"svelte-eurwtr\">22,500,000</td> </tr><tr class=\"svelte-eurwtr\"><td class=\"svelte-eurwtr\">Feb 2, 2022</td><td class=\"sym svelte-eurwtr\"><!-- HTML_TAG_START --><a href=\"/stocks/grtr/\">GRTR</a><!-- HTML_TAG_END --></td><td class=\"slw svelte-eurwtr\">Global Robotic Drone Acquisition Corp.</td><td class=\"svelte-eurwtr\">$10.00</td><td class=\"svelte-eurwtr\">10,000,000</td> </tr><tr class=\"svelte-eurwtr\"><td class=\"svelte-eurwtr\">Jan 28, 2022</td><td class=\"sym svelte-eurwtr\"><!-- HTML_TAG_START --><a href=\"/stocks/ybzn/\">YBZN</a><!-- HTML_TAG_END --></td><td class=\"slw svelte-eurwtr\">Yi Po International Holdings Limited</td><td class=\"svelte-eurwtr\">$4.50 - $5.50</td><td class=\"svelte-eurwtr\">3,000,000</td> </tr><tr class=\"svelte-eurwtr\"><td class=\"svelte-eurwtr\">Jan 27, 2022</td><td class=\"sym svelte-eurwtr\"><!-- HTML_TAG_START --><a href=\"/stocks/lbgj/\">LBGJ</a><!-- HTML_TAG_END --></td><td class=\"slw svelte-eurwtr\">Li Bang International Corporation Inc.</td><td class=\"svelte-eurwtr\">$4.00 - $6.00</td><td class=\"svelte-eurwtr\">5,000,000</td> </tr><tr class=\"svelte-eurwtr\"><td class=\"svelte-eurwtr\">Jan 21, 2022</td><td class=\"sym svelte-eurwtr\"><!-- HTML_TAG_START --><a href=\"/stocks/sosh/\">SOSH</a><!-- HTML_TAG_END --></td><td class=\"slw svelte-eurwtr\">SOS Hydration Inc.</td><td class=\"svelte-eurwtr\">$4.00 - $6.00</td><td class=\"svelte-eurwtr\">1,600,000</td> </tr><tr class=\"svelte-eurwtr\"><td class=\"svelte-eurwtr\">Jan 18, 2022</td><td class=\"sym svelte-eurwtr\"><!-- HTML_TAG_START --><a href=\"/stocks/hgia/\">HGIA</a><!-- HTML_TAG_END --></td><td class=\"slw svelte-eurwtr\">Hengguang Holding Co., Limited</td><td class=\"svelte-eurwtr\" data-svelte-h=\"svelte-17887i7\">-</td><td class=\"svelte-eurwtr\" data-svelte-h=\"svelte-17887i7\">-</td> </tr><tr class=\"svelte-eurwtr\"><td class=\"svelte-eurwtr\">Jan 14, 2022</td><td class=\"sym svelte-eurwtr\"><!-- HTML_TAG_START --><a href=\"/stocks/fdha/\">FDHA</a><!-- HTML_TAG_END --></td><td class=\"slw svelte-eurwtr\">First Digital Health Acquisition Corp.</td><td class=\"svelte-eurwtr\">$10.00</td><td class=\"svelte-eurwtr\">17,500,000</td> </tr><tr class=\"svelte-eurwtr\"><td class=\"svelte-eurwtr\">Jan 10, 2022</td><td class=\"sym svelte-eurwtr\"><!-- HTML_TAG_START --><a href=\"/stocks/turo/\">TURO</a><!-- HTML_TAG_END --></td><td class=\"slw svelte-eurwtr\">Turo Inc.</td><td class=\"svelte-eurwtr\" data-svelte-h=\"svelte-17887i7\">-</td><td class=\"svelte-eurwtr\" data-svelte-h=\"svelte-17887i7\">-</td> </tr><tr class=\"svelte-eurwtr\"><td class=\"svelte-eurwtr\">Jan 7, 2022</td><td class=\"sym svelte-eurwtr\"><!-- HTML_TAG_START --><a href=\"/stocks/hs/\">HS</a><!-- HTML_TAG_END --></td><td class=\"slw svelte-eurwtr\">HomeSmart Holdings, Inc.</td><td class=\"svelte-eurwtr\" data-svelte-h=\"svelte-17887i7\">-</td><td class=\"svelte-eurwtr\" data-svelte-h=\"svelte-17887i7\">-</td> </tr><tr class=\"svelte-eurwtr\"><td class=\"svelte-eurwtr\">Jan 6, 2022</td><td class=\"sym svelte-eurwtr\"><!-- HTML_TAG_START --><a href=\"/stocks/qhi/\">QHI</a><!-- HTML_TAG_END --></td><td class=\"slw svelte-eurwtr\">QinHong International Group</td><td class=\"svelte-eurwtr\">$4.00 - $4.50</td><td class=\"svelte-eurwtr\">3,750,000</td> </tr><tr class=\"svelte-eurwtr\"><td class=\"svelte-eurwtr\">Dec 23, 2021</td><td class=\"sym svelte-eurwtr\"><!-- HTML_TAG_START --><a href=\"/stocks/dgc/\">DGC</a><!-- HTML_TAG_END --></td><td class=\"slw svelte-eurwtr\">Delphi Growth Capital Corp.</td><td class=\"svelte-eurwtr\">$10.00</td><td class=\"svelte-eurwtr\">30,000,000</td> </tr><tr class=\"svelte-eurwtr\"><td class=\"svelte-eurwtr\">Dec 23, 2021</td><td class=\"sym svelte-eurwtr\"><!-- HTML_TAG_START --><a href=\"/stocks/ledg/\">LEDG</a><!-- HTML_TAG_END --></td><td class=\"slw svelte-eurwtr\">Ledger Acquisition Company</td><td class=\"svelte-eurwtr\">$10.00</td><td class=\"svelte-eurwtr\">15,000,000</td> </tr><tr class=\"svelte-eurwtr\"><td class=\"svelte-eurwtr\">Dec 22, 2021</td><td class=\"sym svelte-eurwtr\"><!-- HTML_TAG_START --><a href=\"/stocks/wytc/\">WYTC</a><!-- HTML_TAG_END --></td><td class=\"slw svelte-eurwtr\">Wytec International, Inc.</td><td class=\"svelte-eurwtr\">$4.25</td><td class=\"svelte-eurwtr\">3,750,000</td> </tr><tr class=\"svelte-eurwtr\"><td class=\"svelte-eurwtr\">Dec 20, 2021</td><td class=\"sym svelte-eurwtr\"><!-- HTML_TAG_START --><a href=\"/stocks/rdxx/\">RDXX</a><!-- HTML_TAG_END --></td><td class=\"slw svelte-eurwtr\">Roman DBDR Tech Acquisition Corp. III</td><td class=\"svelte-eurwtr\">$10.00</td><td class=\"svelte-eurwtr\">25,000,000</td> </tr><tr class=\"svelte-eurwtr\"><td class=\"svelte-eurwtr\">Dec 10, 2021</td><td class=\"sym svelte-eurwtr\"><!-- HTML_TAG_START --><a href=\"/stocks/jjoc/\">JJOC</a><!-- HTML_TAG_END --></td><td class=\"slw svelte-eurwtr\">JJ Opportunity Corp.</td><td class=\"svelte-eurwtr\">$10.00</td><td class=\"svelte-eurwtr\">5,000,000</td> </tr><tr class=\"svelte-eurwtr\"><td class=\"svelte-eurwtr\">Nov 22, 2021</td><td class=\"sym svelte-eurwtr\"><!-- HTML_TAG_START --><a href=\"/stocks/icgc/\">ICGC</a><!-- HTML_TAG_END --></td><td class=\"slw svelte-eurwtr\">Igniting Consumer Growth Acquisition Company Limited</td><td class=\"svelte-eurwtr\">$10.00</td><td class=\"svelte-eurwtr\">20,000,000</td> </tr><tr class=\"svelte-eurwtr\"><td class=\"svelte-eurwtr\">Nov 15, 2021</td><td class=\"sym svelte-eurwtr\"><!-- HTML_TAG_START --><a href=\"/stocks/sigq/\">SIGQ</a><!-- HTML_TAG_END --></td><td class=\"slw svelte-eurwtr\">Sieger Healthcare Acquisition Corp.</td><td class=\"svelte-eurwtr\">$10.00</td><td class=\"svelte-eurwtr\">7,500,000</td> </tr><tr class=\"svelte-eurwtr\"><td class=\"svelte-eurwtr\">Nov 12, 2021</td><td class=\"sym svelte-eurwtr\"><!-- HTML_TAG_START --><a href=\"/stocks/fshp/\">FSHP</a><!-- HTML_TAG_END --></td><td class=\"slw svelte-eurwtr\">Flag Ship Acquisition Corporation</td><td class=\"svelte-eurwtr\">$10.00</td><td class=\"svelte-eurwtr\">6,000,000</td> </tr><tr class=\"svelte-eurwtr\"><td class=\"svelte-eurwtr\">Nov 5, 2021</td><td class=\"sym svelte-eurwtr\"><!-- HTML_TAG_START --><a href=\"/stocks/egac/\">EGAC</a><!-- HTML_TAG_END --></td><td class=\"slw svelte-eurwtr\">Europa Growth Acquisition Company</td><td class=\"svelte-eurwtr\">$10.00</td><td class=\"svelte-eurwtr\">23,500,000</td> </tr><tr class=\"svelte-eurwtr\"><td class=\"svelte-eurwtr\">Nov 3, 2021</td><td class=\"sym svelte-eurwtr\"><!-- HTML_TAG_START --><a href=\"/stocks/smsa/\">SMSA</a><!-- HTML_TAG_END --></td><td class=\"slw svelte-eurwtr\">Samsara Vision, Inc.</td><td class=\"svelte-eurwtr\">$5.00 - $7.00</td><td class=\"svelte-eurwtr\">2,500,000</td> </tr><tr class=\"svelte-eurwtr\"><td class=\"svelte-eurwtr\">Nov 3, 2021</td><td class=\"sym svelte-eurwtr\"><!-- HTML_TAG_START --><a href=\"/stocks/ecoa/\">ECOA</a><!-- HTML_TAG_END --></td><td class=\"slw svelte-eurwtr\">Energy Cloud I Acquisition Corporation</td><td class=\"svelte-eurwtr\">$10.00</td><td class=\"svelte-eurwtr\">7,500,000</td> </tr><tr class=\"svelte-eurwtr\"><td class=\"svelte-eurwtr\">Oct 28, 2021</td><td class=\"sym svelte-eurwtr\"><!-- HTML_TAG_START --><a href=\"/stocks/agdx/\">AGDX</a><!-- HTML_TAG_END --></td><td class=\"slw svelte-eurwtr\">Agendia N.V.</td><td class=\"svelte-eurwtr\" data-svelte-h=\"svelte-17887i7\">-</td><td class=\"svelte-eurwtr\" data-svelte-h=\"svelte-17887i7\">-</td> </tr><tr class=\"svelte-eurwtr\"><td class=\"svelte-eurwtr\">Oct 26, 2021</td><td class=\"sym svelte-eurwtr\"><!-- HTML_TAG_START --><a href=\"/stocks/nwac/\">NWAC</a><!-- HTML_TAG_END --></td><td class=\"slw svelte-eurwtr\">Namaste World Acquisition Corporation</td><td class=\"svelte-eurwtr\">$10.00</td><td class=\"svelte-eurwtr\">10,000,000</td> </tr><tr class=\"svelte-eurwtr\"><td class=\"svelte-eurwtr\">Oct 22, 2021</td><td class=\"sym svelte-eurwtr\"><!-- HTML_TAG_START --><a href=\"/stocks/rdtx/\">RDTX</a><!-- HTML_TAG_END --></td><td class=\"slw svelte-eurwtr\">Roman DBDR Tech Acquisition Corp. II</td><td class=\"svelte-eurwtr\">$10.00</td><td class=\"svelte-eurwtr\">21,500,000</td> </tr><tr class=\"svelte-eurwtr\"><td class=\"svelte-eurwtr\">Oct 20, 2021</td><td class=\"sym svelte-eurwtr\"><!-- HTML_TAG_START --><a href=\"/stocks/arac/\">ARAC</a><!-- HTML_TAG_END --></td><td class=\"slw svelte-eurwtr\">Artemis Acquisition Corp.</td><td class=\"svelte-eurwtr\">$10.00</td><td class=\"svelte-eurwtr\">20,000,000</td> </tr><tr class=\"svelte-eurwtr\"><td class=\"svelte-eurwtr\">Oct 18, 2021</td><td class=\"sym svelte-eurwtr\"><!-- HTML_TAG_START --><a href=\"/stocks/vdnt/\">VDNT</a><!-- HTML_TAG_END --></td><td class=\"slw svelte-eurwtr\">Verdant Earth Technologies Limited</td><td class=\"svelte-eurwtr\">$7.00 - $9.00</td><td class=\"svelte-eurwtr\">6,250,000</td> </tr><tr class=\"svelte-eurwtr\"><td class=\"svelte-eurwtr\">Oct 15, 2021</td><td class=\"sym svelte-eurwtr\"><!-- HTML_TAG_START --><a href=\"/stocks/bxha/\">BXHA</a><!-- HTML_TAG_END --></td><td class=\"slw svelte-eurwtr\">Bombax Healthcare Acquisition Corporation</td><td class=\"svelte-eurwtr\">$10.00</td><td class=\"svelte-eurwtr\">5,000,000</td> </tr><tr class=\"svelte-eurwtr\"><td class=\"svelte-eurwtr\">Oct 12, 2021</td><td class=\"sym svelte-eurwtr\"><!-- HTML_TAG_START --><a href=\"/stocks/juns/\">JUNS</a><!-- HTML_TAG_END --></td><td class=\"slw svelte-eurwtr\">Jupiter Neurosciences, Inc.</td><td class=\"svelte-eurwtr\">$5.75</td><td class=\"svelte-eurwtr\">2,608,695</td> </tr><tr class=\"svelte-eurwtr\"><td class=\"svelte-eurwtr\">Sep 30, 2021</td><td class=\"sym svelte-eurwtr\"><!-- HTML_TAG_START --><a href=\"/stocks/xygj/\">XYGJ</a><!-- HTML_TAG_END --></td><td class=\"slw svelte-eurwtr\">Fortune Joy International Acquisition Corp</td><td class=\"svelte-eurwtr\">$10.00</td><td class=\"svelte-eurwtr\">6,000,000</td> </tr><tr class=\"svelte-eurwtr\"><td class=\"svelte-eurwtr\">Sep 14, 2021</td><td class=\"sym svelte-eurwtr\"><!-- HTML_TAG_START --><a href=\"/stocks/reai/\">REAI</a><!-- HTML_TAG_END --></td><td class=\"slw svelte-eurwtr\">Renewable Energy Acquisition Corp.</td><td class=\"svelte-eurwtr\">$10.00</td><td class=\"svelte-eurwtr\">7,500,000</td> </tr><tr class=\"svelte-eurwtr\"><td class=\"svelte-eurwtr\">Sep 7, 2021</td><td class=\"sym svelte-eurwtr\"><!-- HTML_TAG_START --><a href=\"/stocks/aeib/\">AEIB</a><!-- HTML_TAG_END --></td><td class=\"slw svelte-eurwtr\">AEI CapForce II Investment Corp.</td><td class=\"svelte-eurwtr\">$10.00</td><td class=\"svelte-eurwtr\">10,000,000</td> </tr><tr class=\"svelte-eurwtr\"><td class=\"svelte-eurwtr\">Sep 2, 2021</td><td class=\"sym svelte-eurwtr\"><!-- HTML_TAG_START --><a href=\"/stocks/dcre/\">DCRE</a><!-- HTML_TAG_END --></td><td class=\"slw svelte-eurwtr\">Decarbonization Plus Acquisition Corporation V</td><td class=\"svelte-eurwtr\">$10.00</td><td class=\"svelte-eurwtr\">27,500,000</td> </tr><tr class=\"svelte-eurwtr\"><td class=\"svelte-eurwtr\">Aug 31, 2021</td><td class=\"sym svelte-eurwtr\"><!-- HTML_TAG_START --><a href=\"/stocks/isi/\">ISI</a><!-- HTML_TAG_END --></td><td class=\"slw svelte-eurwtr\">Internet Sciences, Inc.</td><td class=\"svelte-eurwtr\">$5.00</td><td class=\"svelte-eurwtr\">2,000,000</td> </tr><tr class=\"svelte-eurwtr\"><td class=\"svelte-eurwtr\">Aug 31, 2021</td><td class=\"sym svelte-eurwtr\"><!-- HTML_TAG_START --><a href=\"/stocks/kpn/\">KPN</a><!-- HTML_TAG_END --></td><td class=\"slw svelte-eurwtr\">Kepuni Holdings, Inc.</td><td class=\"svelte-eurwtr\">$6.00</td><td class=\"svelte-eurwtr\">4,200,000</td> </tr><tr class=\"svelte-eurwtr\"><td class=\"svelte-eurwtr\">Aug 13, 2021</td><td class=\"sym svelte-eurwtr\"><!-- HTML_TAG_START --><a href=\"/stocks/phex/\">PHEX</a><!-- HTML_TAG_END --></td><td class=\"slw svelte-eurwtr\">Phoenix Acquisition Limited</td><td class=\"svelte-eurwtr\">$10.00</td><td class=\"svelte-eurwtr\">6,000,000</td> </tr><tr class=\"svelte-eurwtr\"><td class=\"svelte-eurwtr\">Aug 5, 2021</td><td class=\"sym svelte-eurwtr\"><!-- HTML_TAG_START --><a href=\"/stocks/hac/\">HAC</a><!-- HTML_TAG_END --></td><td class=\"slw svelte-eurwtr\">Hash Space Acquisition Corp.</td><td class=\"svelte-eurwtr\">$10.00</td><td class=\"svelte-eurwtr\">4,000,000</td> </tr><tr class=\"svelte-eurwtr\"><td class=\"svelte-eurwtr\">Jul 28, 2021</td><td class=\"sym svelte-eurwtr\"><!-- HTML_TAG_START --><a href=\"/stocks/woda/\">WODA</a><!-- HTML_TAG_END --></td><td class=\"slw svelte-eurwtr\">WODA Corp.</td><td class=\"svelte-eurwtr\">$10.00</td><td class=\"svelte-eurwtr\">10,000,000</td> </tr><tr class=\"svelte-eurwtr\"><td class=\"svelte-eurwtr\">Jul 26, 2021</td><td class=\"sym svelte-eurwtr\"><!-- HTML_TAG_START --><a href=\"/stocks/nftt/\">NFTT</a><!-- HTML_TAG_END --></td><td class=\"slw svelte-eurwtr\">Neo Technology Acquisition Corporation</td><td class=\"svelte-eurwtr\">$10.00</td><td class=\"svelte-eurwtr\">4,000,000</td> </tr><tr class=\"svelte-eurwtr\"><td class=\"svelte-eurwtr\">Jul 20, 2021</td><td class=\"sym svelte-eurwtr\"><!-- HTML_TAG_START --><a href=\"/stocks/jvac/\">JVAC</a><!-- HTML_TAG_END --></td><td class=\"slw svelte-eurwtr\">Jade Value Acquisition Corporation</td><td class=\"svelte-eurwtr\">$10.00</td><td class=\"svelte-eurwtr\">7,500,000</td> </tr><tr class=\"svelte-eurwtr\"><td class=\"svelte-eurwtr\">Jul 20, 2021</td><td class=\"sym svelte-eurwtr\"><!-- HTML_TAG_START --><a href=\"/stocks/apoa/\">APOA</a><!-- HTML_TAG_END --></td><td class=\"slw svelte-eurwtr\">Apollo Acquisition Corporation</td><td class=\"svelte-eurwtr\">$10.00</td><td class=\"svelte-eurwtr\">4,000,000</td> </tr><tr class=\"svelte-eurwtr\"><td class=\"svelte-eurwtr\">Jul 16, 2021</td><td class=\"sym svelte-eurwtr\"><!-- HTML_TAG_START --><a href=\"/stocks/gvac/\">GVAC</a><!-- HTML_TAG_END --></td><td class=\"slw svelte-eurwtr\">Golden Ventures Acquisition Corporation</td><td class=\"svelte-eurwtr\">$10.00</td><td class=\"svelte-eurwtr\">10,000,000</td> </tr><tr class=\"svelte-eurwtr\"><td class=\"svelte-eurwtr\">Jul 16, 2021</td><td class=\"sym svelte-eurwtr\"><!-- HTML_TAG_START --><a href=\"/stocks/aqub/\">AQUB</a><!-- HTML_TAG_END --></td><td class=\"slw svelte-eurwtr\">Aquarius II Acquisition Corp.</td><td class=\"svelte-eurwtr\">$10.00</td><td class=\"svelte-eurwtr\">6,000,000</td> </tr><tr class=\"svelte-eurwtr\"><td class=\"svelte-eurwtr\">Jul 16, 2021</td><td class=\"sym svelte-eurwtr\"><!-- HTML_TAG_START --><a href=\"/stocks/evsd/\">EVSD</a><!-- HTML_TAG_END --></td><td class=\"slw svelte-eurwtr\">Everside Health Group, Inc.</td><td class=\"svelte-eurwtr\" data-svelte-h=\"svelte-17887i7\">-</td><td class=\"svelte-eurwtr\" data-svelte-h=\"svelte-17887i7\">-</td> </tr><tr class=\"svelte-eurwtr\"><td class=\"svelte-eurwtr\">Jul 14, 2021</td><td class=\"sym svelte-eurwtr\"><!-- HTML_TAG_START --><a href=\"/stocks/prdt/\">PRDT</a><!-- HTML_TAG_END --></td><td class=\"slw svelte-eurwtr\">Peridot Acquisition Corp. III</td><td class=\"svelte-eurwtr\">$10.00</td><td class=\"svelte-eurwtr\">30,000,000</td> </tr><tr class=\"svelte-eurwtr\"><td class=\"svelte-eurwtr\">Jul 14, 2021</td><td class=\"sym svelte-eurwtr\"><!-- HTML_TAG_START --><a href=\"/stocks/scem/\">SCEM</a><!-- HTML_TAG_END --></td><td class=\"slw svelte-eurwtr\">Sachem Acquisition Corp.</td><td class=\"svelte-eurwtr\">$10.00</td><td class=\"svelte-eurwtr\">5,000,000</td> </tr><tr class=\"svelte-eurwtr\"><td class=\"svelte-eurwtr\">Jul 6, 2021</td><td class=\"sym svelte-eurwtr\"><!-- HTML_TAG_START --><a href=\"/stocks/phcc/\">PHCC</a><!-- HTML_TAG_END --></td><td class=\"slw svelte-eurwtr\">Preston Hollow Community Capital, Inc.</td><td class=\"svelte-eurwtr\">$18.00 - $20.00</td><td class=\"svelte-eurwtr\">10,526,316</td> </tr><tr class=\"svelte-eurwtr\"><td class=\"svelte-eurwtr\">Jul 6, 2021</td><td class=\"sym svelte-eurwtr\"><!-- HTML_TAG_START --><a href=\"/stocks/aiac/\">AIAC</a><!-- HTML_TAG_END --></td><td class=\"slw svelte-eurwtr\">Aquarius I Acquisition Corp.</td><td class=\"svelte-eurwtr\">$10.00</td><td class=\"svelte-eurwtr\">7,500,000</td> </tr><tr class=\"svelte-eurwtr\"><td class=\"svelte-eurwtr\">Jul 6, 2021</td><td class=\"sym svelte-eurwtr\"><!-- HTML_TAG_START --><a href=\"/stocks/pmac/\">PMAC</a><!-- HTML_TAG_END --></td><td class=\"slw svelte-eurwtr\">Pomona Acquisition Limited</td><td class=\"svelte-eurwtr\">$10.00</td><td class=\"svelte-eurwtr\">5,000,000</td> </tr><tr class=\"svelte-eurwtr\"><td class=\"svelte-eurwtr\">Jul 6, 2021</td><td class=\"sym svelte-eurwtr\"><!-- HTML_TAG_START --><a href=\"/stocks/rich/\">RICH</a><!-- HTML_TAG_END --></td><td class=\"slw svelte-eurwtr\">RichSpace Acquisition Corp.</td><td class=\"svelte-eurwtr\">$10.00</td><td class=\"svelte-eurwtr\">4,000,000</td> </tr><tr class=\"svelte-eurwtr\"><td class=\"svelte-eurwtr\">Jul 6, 2021</td><td class=\"sym svelte-eurwtr\"><!-- HTML_TAG_START --><a href=\"/stocks/rotk/\">ROTK</a><!-- HTML_TAG_END --></td><td class=\"slw svelte-eurwtr\">Rotech Healthcare Holdings, Inc.</td><td class=\"svelte-eurwtr\" data-svelte-h=\"svelte-17887i7\">-</td><td class=\"svelte-eurwtr\" data-svelte-h=\"svelte-17887i7\">-</td> </tr><tr class=\"svelte-eurwtr\"><td class=\"svelte-eurwtr\">Jul 2, 2021</td><td class=\"sym svelte-eurwtr\"><!-- HTML_TAG_START --><a href=\"/stocks/btry/\">BTRY</a><!-- HTML_TAG_END --></td><td class=\"slw svelte-eurwtr\">Clarios International, Inc.</td><td class=\"svelte-eurwtr\" data-svelte-h=\"svelte-17887i7\">-</td><td class=\"svelte-eurwtr\" data-svelte-h=\"svelte-17887i7\">-</td> </tr><tr class=\"svelte-eurwtr\"><td class=\"svelte-eurwtr\">Jun 29, 2021</td><td class=\"sym svelte-eurwtr\"><!-- HTML_TAG_START --><a href=\"/stocks/huak/\">HUAK</a><!-- HTML_TAG_END --></td><td class=\"slw svelte-eurwtr\">Huake Holding Biology Co., Ltd</td><td class=\"svelte-eurwtr\">$4.00 - $6.00</td><td class=\"svelte-eurwtr\">1,250,000</td> </tr><tr class=\"svelte-eurwtr\"><td class=\"svelte-eurwtr\">Jun 25, 2021</td><td class=\"sym svelte-eurwtr\"><!-- HTML_TAG_START --><a href=\"/stocks/kool/\">KOOL</a><!-- HTML_TAG_END --></td><td class=\"slw svelte-eurwtr\">Manycore Tech, Inc.</td><td class=\"svelte-eurwtr\" data-svelte-h=\"svelte-17887i7\">-</td><td class=\"svelte-eurwtr\" data-svelte-h=\"svelte-17887i7\">-</td> </tr><tr class=\"svelte-eurwtr\"><td class=\"svelte-eurwtr\">Jun 4, 2021</td><td class=\"sym svelte-eurwtr\"><!-- HTML_TAG_START --><a href=\"/stocks/ukwi/\">UKWI</a><!-- HTML_TAG_END --></td><td class=\"slw svelte-eurwtr\">UK Wisdom Limited</td><td class=\"svelte-eurwtr\">$10.00</td><td class=\"svelte-eurwtr\">5,000,000</td> </tr><tr class=\"svelte-eurwtr\"><td class=\"svelte-eurwtr\">May 26, 2021</td><td class=\"sym svelte-eurwtr\"><!-- HTML_TAG_START --><a href=\"/stocks/spta/\">SPTA</a><!-- HTML_TAG_END --></td><td class=\"slw svelte-eurwtr\">Sparta Healthcare Acquisition Corp.</td><td class=\"svelte-eurwtr\">$10.00</td><td class=\"svelte-eurwtr\">10,000,000</td> </tr><tr class=\"svelte-eurwtr\"><td class=\"svelte-eurwtr\">May 26, 2021</td><td class=\"sym svelte-eurwtr\"><!-- HTML_TAG_START --><a href=\"/stocks/tufu/\">TUFU</a><!-- HTML_TAG_END --></td><td class=\"slw svelte-eurwtr\">TradeUP 88 Corp.</td><td class=\"svelte-eurwtr\">$10.00</td><td class=\"svelte-eurwtr\">8,800,000</td> </tr><tr class=\"svelte-eurwtr\"><td class=\"svelte-eurwtr\">May 11, 2021</td><td class=\"sym svelte-eurwtr\"><!-- HTML_TAG_START --><a href=\"/stocks/svni/\">SVNI</a><!-- HTML_TAG_END --></td><td class=\"slw svelte-eurwtr\">Seven Islands, Inc.</td><td class=\"svelte-eurwtr\">$10.00</td><td class=\"svelte-eurwtr\">30,000,000</td> </tr><tr class=\"svelte-eurwtr\"><td class=\"svelte-eurwtr\">May 11, 2021</td><td class=\"sym svelte-eurwtr\"><!-- HTML_TAG_START --><a href=\"/stocks/ltva/\">LTVA</a><!-- HTML_TAG_END --></td><td class=\"slw svelte-eurwtr\">LTV Capital Partners I</td><td class=\"svelte-eurwtr\">$10.00</td><td class=\"svelte-eurwtr\">21,500,000</td> </tr><tr class=\"svelte-eurwtr\"><td class=\"svelte-eurwtr\">May 6, 2021</td><td class=\"sym svelte-eurwtr\"><!-- HTML_TAG_START --><a href=\"/stocks/mlxa/\">MLXA</a><!-- HTML_TAG_END --></td><td class=\"slw svelte-eurwtr\">Mericsson Acquisition Corporation</td><td class=\"svelte-eurwtr\">$10.00</td><td class=\"svelte-eurwtr\">4,000,000</td> </tr><tr class=\"svelte-eurwtr\"><td class=\"svelte-eurwtr\">May 5, 2021</td><td class=\"sym svelte-eurwtr\"><!-- HTML_TAG_START --><a href=\"/stocks/rtpx/\">RTPX</a><!-- HTML_TAG_END --></td><td class=\"slw svelte-eurwtr\">Reinvent Technology Partners X</td><td class=\"svelte-eurwtr\">$10.00</td><td class=\"svelte-eurwtr\">22,000,000</td> </tr><tr class=\"svelte-eurwtr\"><td class=\"svelte-eurwtr\">Apr 16, 2021</td><td class=\"sym svelte-eurwtr\"><!-- HTML_TAG_START --><a href=\"/stocks/swgc/\">SWGC</a><!-- HTML_TAG_END --></td><td class=\"slw svelte-eurwtr\">Stillwater Growth Corp. I</td><td class=\"svelte-eurwtr\">$10.00</td><td class=\"svelte-eurwtr\">20,000,000</td> </tr><tr class=\"svelte-eurwtr\"><td class=\"svelte-eurwtr\">Apr 8, 2021</td><td class=\"sym svelte-eurwtr\"><!-- HTML_TAG_START --><a href=\"/stocks/tacq/\">TACQ</a><!-- HTML_TAG_END --></td><td class=\"slw svelte-eurwtr\">Tetragon Acquisition Corporation I</td><td class=\"svelte-eurwtr\">$10.00</td><td class=\"svelte-eurwtr\">50,000,000</td> </tr><tr class=\"svelte-eurwtr\"><td class=\"svelte-eurwtr\">Apr 5, 2021</td><td class=\"sym svelte-eurwtr\"><!-- HTML_TAG_START --><a href=\"/stocks/aurv/\">AURV</a><!-- HTML_TAG_END --></td><td class=\"slw svelte-eurwtr\">Aurvandil Acquisition Corp.</td><td class=\"svelte-eurwtr\">$10.00</td><td class=\"svelte-eurwtr\">25,000,000</td> </tr><tr class=\"svelte-eurwtr\"><td class=\"svelte-eurwtr\">Mar 29, 2021</td><td class=\"sym svelte-eurwtr\"><!-- HTML_TAG_START --><a href=\"/stocks/btvc/\">BTVC</a><!-- HTML_TAG_END --></td><td class=\"slw svelte-eurwtr\">Tribe Capital Growth Corp. II</td><td class=\"svelte-eurwtr\">$10.00</td><td class=\"svelte-eurwtr\">30,000,000</td> </tr><tr class=\"svelte-eurwtr\"><td class=\"svelte-eurwtr\">Mar 22, 2021</td><td class=\"sym svelte-eurwtr\"><!-- HTML_TAG_START --><a href=\"/stocks/catl/\">CATL</a><!-- HTML_TAG_END --></td><td class=\"slw svelte-eurwtr\">Category Leader Partner Corporation 1</td><td class=\"svelte-eurwtr\">$10.00</td><td class=\"svelte-eurwtr\">20,000,000</td> </tr><tr class=\"svelte-eurwtr\"><td class=\"svelte-eurwtr\">Mar 19, 2021</td><td class=\"sym svelte-eurwtr\"><!-- HTML_TAG_START --><a href=\"/stocks/ons/\">ONS</a><!-- HTML_TAG_END --></td><td class=\"slw svelte-eurwtr\">ONS Acquisition Corp.</td><td class=\"svelte-eurwtr\">$10.00</td><td class=\"svelte-eurwtr\">15,000,000</td> </tr><tr class=\"svelte-eurwtr\"><td class=\"svelte-eurwtr\">Mar 19, 2021</td><td class=\"sym svelte-eurwtr\"><!-- HTML_TAG_START --><a href=\"/stocks/eta/\">ETA</a><!-- HTML_TAG_END --></td><td class=\"slw svelte-eurwtr\">Integrated Energy Transition Acquisition Corp.</td><td class=\"svelte-eurwtr\">$10.00</td><td class=\"svelte-eurwtr\">15,000,000</td> </tr><tr class=\"svelte-eurwtr\"><td class=\"svelte-eurwtr\">Mar 18, 2021</td><td class=\"sym svelte-eurwtr\"><!-- HTML_TAG_START --><a href=\"/stocks/rcda/\">RCDA</a><!-- HTML_TAG_END --></td><td class=\"slw svelte-eurwtr\">Red Cell DRM Acquisition Corp.</td><td class=\"svelte-eurwtr\">$10.00</td><td class=\"svelte-eurwtr\">25,000,000</td> </tr><tr class=\"svelte-eurwtr\"><td class=\"svelte-eurwtr\">Mar 18, 2021</td><td class=\"sym svelte-eurwtr\"><!-- HTML_TAG_START --><a href=\"/stocks/stlr/\">STLR</a><!-- HTML_TAG_END --></td><td class=\"slw svelte-eurwtr\">Stellaris Growth Acquisition Corp.</td><td class=\"svelte-eurwtr\">$10.00</td><td class=\"svelte-eurwtr\">12,800,000</td> </tr><tr class=\"svelte-eurwtr\"><td class=\"svelte-eurwtr\">Mar 17, 2021</td><td class=\"sym svelte-eurwtr\"><!-- HTML_TAG_START --><a href=\"/stocks/icga/\">ICGA</a><!-- HTML_TAG_END --></td><td class=\"slw svelte-eurwtr\">ICG Hypersonic Acquisition Corp.</td><td class=\"svelte-eurwtr\">$10.00</td><td class=\"svelte-eurwtr\">25,000,000</td> </tr><tr class=\"svelte-eurwtr\"><td class=\"svelte-eurwtr\">Mar 11, 2021</td><td class=\"sym svelte-eurwtr\"><!-- HTML_TAG_START --><a href=\"/stocks/spgl/\">SPGL</a><!-- HTML_TAG_END --></td><td class=\"slw svelte-eurwtr\">SPGL Acquisition Corporation</td><td class=\"svelte-eurwtr\">$10.00</td><td class=\"svelte-eurwtr\">25,000,000</td> </tr><tr class=\"svelte-eurwtr\"><td class=\"svelte-eurwtr\">Mar 11, 2021</td><td class=\"sym svelte-eurwtr\"><!-- HTML_TAG_START --><a href=\"/stocks/qnzl/\">QNZL</a><!-- HTML_TAG_END --></td><td class=\"slw svelte-eurwtr\">Quinzel Acquisition Company</td><td class=\"svelte-eurwtr\">$10.00</td><td class=\"svelte-eurwtr\">20,000,000</td> </tr><tr class=\"svelte-eurwtr\"><td class=\"svelte-eurwtr\">Mar 10, 2021</td><td class=\"sym svelte-eurwtr\"><!-- HTML_TAG_START --><a href=\"/stocks/trny/\">TRNY</a><!-- HTML_TAG_END --></td><td class=\"slw svelte-eurwtr\">Trinity Acquisition Corporation</td><td class=\"svelte-eurwtr\">$10.00</td><td class=\"svelte-eurwtr\">25,000,000</td> </tr><tr class=\"svelte-eurwtr\"><td class=\"svelte-eurwtr\">Mar 8, 2021</td><td class=\"sym svelte-eurwtr\"><!-- HTML_TAG_START --><a href=\"/stocks/gfld/\">GFLD</a><!-- HTML_TAG_END --></td><td class=\"slw svelte-eurwtr\">Gefen Landa Acquisition Corp.</td><td class=\"svelte-eurwtr\">$10.00</td><td class=\"svelte-eurwtr\">25,000,000</td> </tr><tr class=\"svelte-eurwtr\"><td class=\"svelte-eurwtr\">Mar 5, 2021</td><td class=\"sym svelte-eurwtr\"><!-- HTML_TAG_START --><a href=\"/stocks/calq/\">CALQ</a><!-- HTML_TAG_END --></td><td class=\"slw svelte-eurwtr\">Callodine Acquisition Corporation</td><td class=\"svelte-eurwtr\">$10.00</td><td class=\"svelte-eurwtr\">25,000,000</td> </tr><tr class=\"svelte-eurwtr\"><td class=\"svelte-eurwtr\">Mar 5, 2021</td><td class=\"sym svelte-eurwtr\"><!-- HTML_TAG_START --><a href=\"/stocks/cnaq/\">CNAQ</a><!-- HTML_TAG_END --></td><td class=\"slw svelte-eurwtr\">Chardan NexTech Acquisition Corp.</td><td class=\"svelte-eurwtr\">$10.00</td><td class=\"svelte-eurwtr\">15,000,000</td> </tr><tr class=\"svelte-eurwtr\"><td class=\"svelte-eurwtr\">Mar 5, 2021</td><td class=\"sym svelte-eurwtr\"><!-- HTML_TAG_START --><a href=\"/stocks/hrdg/\">HRDG</a><!-- HTML_TAG_END --></td><td class=\"slw svelte-eurwtr\">Huarui International New Material Limited</td><td class=\"svelte-eurwtr\">$4.00 - $6.00</td><td class=\"svelte-eurwtr\">2,400,000</td> </tr><tr class=\"svelte-eurwtr\"><td class=\"svelte-eurwtr\">Mar 2, 2021</td><td class=\"sym svelte-eurwtr\"><!-- HTML_TAG_START --><a href=\"/stocks/acam/\">ACAM</a><!-- HTML_TAG_END --></td><td class=\"slw svelte-eurwtr\">Acamar Partners Acquisition Corp. II</td><td class=\"svelte-eurwtr\">$10.00</td><td class=\"svelte-eurwtr\">35,000,000</td> </tr><tr class=\"svelte-eurwtr\"><td class=\"svelte-eurwtr\">Mar 2, 2021</td><td class=\"sym svelte-eurwtr\"><!-- HTML_TAG_START --><a href=\"/stocks/nsal/\">NSAL</a><!-- HTML_TAG_END --></td><td class=\"slw svelte-eurwtr\">Navios South American Logistics, Inc.</td><td class=\"svelte-eurwtr\" data-svelte-h=\"svelte-17887i7\">-</td><td class=\"svelte-eurwtr\" data-svelte-h=\"svelte-17887i7\">-</td> </tr><tr class=\"svelte-eurwtr\"><td class=\"svelte-eurwtr\">Mar 1, 2021</td><td class=\"sym svelte-eurwtr\"><!-- HTML_TAG_START --><a href=\"/stocks/radd/\">RADD</a><!-- HTML_TAG_END --></td><td class=\"slw svelte-eurwtr\">Corner Growth Acquisition Corp. 3</td><td class=\"svelte-eurwtr\">$10.00</td><td class=\"svelte-eurwtr\">45,000,000</td> </tr><tr class=\"svelte-eurwtr\"><td class=\"svelte-eurwtr\">Feb 25, 2021</td><td class=\"sym svelte-eurwtr\"><!-- HTML_TAG_START --><a href=\"/stocks/vemc/\">VEMC</a><!-- HTML_TAG_END --></td><td class=\"slw svelte-eurwtr\">Velocity Merger Corp.</td><td class=\"svelte-eurwtr\">$10.00</td><td class=\"svelte-eurwtr\">25,000,000</td> </tr><tr class=\"svelte-eurwtr\"><td class=\"svelte-eurwtr\">Feb 25, 2021</td><td class=\"sym svelte-eurwtr\"><!-- HTML_TAG_START --><a href=\"/stocks/bds/\">BDS</a><!-- HTML_TAG_END --></td><td class=\"slw svelte-eurwtr\">Building DreamStar Technology, Inc.</td><td class=\"svelte-eurwtr\">$5.50</td><td class=\"svelte-eurwtr\">4,600,000</td> </tr><tr class=\"svelte-eurwtr\"><td class=\"svelte-eurwtr\">Feb 23, 2021</td><td class=\"sym svelte-eurwtr\"><!-- HTML_TAG_START --><a href=\"/stocks/ggi/\">GGI</a><!-- HTML_TAG_END --></td><td class=\"slw svelte-eurwtr\">Guggenheim Special Purpose Acquisition Corp. I</td><td class=\"svelte-eurwtr\">$10.00</td><td class=\"svelte-eurwtr\">50,000,000</td> </tr><tr class=\"svelte-eurwtr\"><td class=\"svelte-eurwtr\">Feb 23, 2021</td><td class=\"sym svelte-eurwtr\"><!-- HTML_TAG_START --><a href=\"/stocks/twcg/\">TWCG</a><!-- HTML_TAG_END --></td><td class=\"slw svelte-eurwtr\">Galliot Acquisition Corp.</td><td class=\"svelte-eurwtr\">$10.00</td><td class=\"svelte-eurwtr\">25,000,000</td> </tr><tr class=\"svelte-eurwtr\"><td class=\"svelte-eurwtr\">Feb 23, 2021</td><td class=\"sym svelte-eurwtr\"><!-- HTML_TAG_START --><a href=\"/stocks/atwo/\">ATWO</a><!-- HTML_TAG_END --></td><td class=\"slw svelte-eurwtr\">Acies Acquisition Corp. II</td><td class=\"svelte-eurwtr\">$10.00</td><td class=\"svelte-eurwtr\">25,000,000</td> </tr><tr class=\"svelte-eurwtr\"><td class=\"svelte-eurwtr\">Feb 23, 2021</td><td class=\"sym svelte-eurwtr\"><!-- HTML_TAG_START --><a href=\"/stocks/kvsd/\">KVSD</a><!-- HTML_TAG_END --></td><td class=\"slw svelte-eurwtr\">Khosla Ventures Acquisition Co. IV</td><td class=\"svelte-eurwtr\">$10.00</td><td class=\"svelte-eurwtr\">20,000,000</td> </tr><tr class=\"svelte-eurwtr\"><td class=\"svelte-eurwtr\">Feb 22, 2021</td><td class=\"sym svelte-eurwtr\"><!-- HTML_TAG_START --><a href=\"/stocks/aspx/\">ASPX</a><!-- HTML_TAG_END --></td><td class=\"slw svelte-eurwtr\">Aspirational Consumer Lifestyle Corp. II</td><td class=\"svelte-eurwtr\">$10.00</td><td class=\"svelte-eurwtr\">30,000,000</td> </tr><tr class=\"svelte-eurwtr\"><td class=\"svelte-eurwtr\">Feb 22, 2021</td><td class=\"sym svelte-eurwtr\"><!-- HTML_TAG_START --><a href=\"/stocks/npac/\">NPAC</a><!-- HTML_TAG_END --></td><td class=\"slw svelte-eurwtr\">New Providence Acquisition Corp. III</td><td class=\"svelte-eurwtr\">$10.00</td><td class=\"svelte-eurwtr\">30,000,000</td> </tr><tr class=\"svelte-eurwtr\"><td class=\"svelte-eurwtr\">Feb 19, 2021</td><td class=\"sym svelte-eurwtr\"><!-- HTML_TAG_START --><a href=\"/stocks/eoco/\">EOCO</a><!-- HTML_TAG_END --></td><td class=\"slw svelte-eurwtr\">Elliott Opportunity I Corp.</td><td class=\"svelte-eurwtr\">$10.00</td><td class=\"svelte-eurwtr\">100,000,000</td> </tr><tr class=\"svelte-eurwtr\"><td class=\"svelte-eurwtr\">Feb 10, 2021</td><td class=\"sym svelte-eurwtr\"><!-- HTML_TAG_START --><a href=\"/stocks/exac/\">EXAC</a><!-- HTML_TAG_END --></td><td class=\"slw svelte-eurwtr\">Excolere Acquisition Corp.</td><td class=\"svelte-eurwtr\">$10.00</td><td class=\"svelte-eurwtr\">17,500,000</td> </tr><tr class=\"svelte-eurwtr\"><td class=\"svelte-eurwtr\">Jan 25, 2021</td><td class=\"sym svelte-eurwtr\"><!-- HTML_TAG_START --><a href=\"/stocks/aacp/\">AACP</a><!-- HTML_TAG_END --></td><td class=\"slw svelte-eurwtr\">Aeon Acquisition Corp.</td><td class=\"svelte-eurwtr\">$10.00</td><td class=\"svelte-eurwtr\">12,500,000</td> </tr><tr class=\"svelte-eurwtr\"><td class=\"svelte-eurwtr\">Jan 22, 2021</td><td class=\"sym svelte-eurwtr\"><!-- HTML_TAG_START --><a href=\"/stocks/tony/\">TONY</a><!-- HTML_TAG_END --></td><td class=\"slw svelte-eurwtr\">Tony Fun, Inc.</td><td class=\"svelte-eurwtr\">$7.00 - $7.50</td><td class=\"svelte-eurwtr\">4,177,500</td> </tr><tr class=\"svelte-eurwtr\"><td class=\"svelte-eurwtr\">Jan 19, 2021</td><td class=\"sym svelte-eurwtr\"><!-- HTML_TAG_START --><a href=\"/stocks/deci/\">DECI</a><!-- HTML_TAG_END --></td><td class=\"slw svelte-eurwtr\">Decipher Biosciences, Inc.</td><td class=\"svelte-eurwtr\" data-svelte-h=\"svelte-17887i7\">-</td><td class=\"svelte-eurwtr\" data-svelte-h=\"svelte-17887i7\">-</td> </tr><tr class=\"svelte-eurwtr\"><td class=\"svelte-eurwtr\">Sep 14, 2020</td><td class=\"sym svelte-eurwtr\"><!-- HTML_TAG_START --><a href=\"/stocks/ngio/\">NGIO</a><!-- HTML_TAG_END --></td><td class=\"slw svelte-eurwtr\">NuGenerex Immuno-oncology, Inc.</td><td class=\"svelte-eurwtr\">$8.50 - $9.50</td><td class=\"svelte-eurwtr\">5,555,556</td> </tr><tr class=\"svelte-eurwtr\"><td class=\"svelte-eurwtr\">Sep 8, 2020</td><td class=\"sym svelte-eurwtr\"><!-- HTML_TAG_START --><a href=\"/stocks/gmwx/\">GMWX</a><!-- HTML_TAG_END --></td><td class=\"slw svelte-eurwtr\">GameWorks, Inc.</td><td class=\"svelte-eurwtr\" data-svelte-h=\"svelte-17887i7\">-</td><td class=\"svelte-eurwtr\" data-svelte-h=\"svelte-17887i7\">-</td> </tr><tr class=\"svelte-eurwtr\"><td class=\"svelte-eurwtr\">Sep 4, 2020</td><td class=\"sym svelte-eurwtr\"><!-- HTML_TAG_START --><a href=\"/stocks/scit/\">SCIT</a><!-- HTML_TAG_END --></td><td class=\"slw svelte-eurwtr\">Sancai Holding Group Ltd.</td><td class=\"svelte-eurwtr\" data-svelte-h=\"svelte-17887i7\">-</td><td class=\"svelte-eurwtr\" data-svelte-h=\"svelte-17887i7\">-</td> </tr><tr class=\"svelte-eurwtr\"><td class=\"svelte-eurwtr\">Jun 17, 2020</td><td class=\"sym svelte-eurwtr\"><!-- HTML_TAG_START --><a href=\"/stocks/aleh/\">ALEH</a><!-- HTML_TAG_END --></td><td class=\"slw svelte-eurwtr\">ALE Group Holding Limited</td><td class=\"svelte-eurwtr\">$4.00 - $6.00</td><td class=\"svelte-eurwtr\">4,200,000</td> </tr><tr class=\"svelte-eurwtr\"><td class=\"svelte-eurwtr\">Feb 18, 2020</td><td class=\"sym svelte-eurwtr\"><!-- HTML_TAG_START --><a href=\"/stocks/cast/\">CAST</a><!-- HTML_TAG_END --></td><td class=\"slw svelte-eurwtr\">FreeCast, Inc.</td><td class=\"svelte-eurwtr\" data-svelte-h=\"svelte-17887i7\">-</td><td class=\"svelte-eurwtr\" data-svelte-h=\"svelte-17887i7\">-</td> </tr><tr class=\"svelte-eurwtr\"><td class=\"svelte-eurwtr\">Jan 21, 2020</td><td class=\"sym svelte-eurwtr\"><!-- HTML_TAG_START --><a href=\"/stocks/goxs/\">GOXS</a><!-- HTML_TAG_END --></td><td class=\"slw svelte-eurwtr\">Goxus, Inc.</td><td class=\"svelte-eurwtr\">$8.00 - $10.00</td><td class=\"svelte-eurwtr\">1,500,000</td> </tr><tr class=\"svelte-eurwtr\"><td class=\"svelte-eurwtr\">Jan 21, 2020</td><td class=\"sym svelte-eurwtr\"><!-- HTML_TAG_START --><a href=\"/stocks/utxo/\">UTXO</a><!-- HTML_TAG_END --></td><td class=\"slw svelte-eurwtr\">UTXO Acquisition, Inc.</td><td class=\"svelte-eurwtr\">$10.00</td><td class=\"svelte-eurwtr\">5,000,000</td> </tr><tr class=\"svelte-eurwtr\"><td class=\"svelte-eurwtr\">Dec 9, 2019</td><td class=\"sym svelte-eurwtr\"><!-- HTML_TAG_START --><a href=\"/stocks/loha/\">LOHA</a><!-- HTML_TAG_END --></td><td class=\"slw svelte-eurwtr\">Loha Co. Ltd</td><td class=\"svelte-eurwtr\">$8.00 - $10.00</td><td class=\"svelte-eurwtr\">2,500,000</td> </tr><tr class=\"svelte-eurwtr\"><td class=\"svelte-eurwtr\">Oct 4, 2019</td><td class=\"sym svelte-eurwtr\"><!-- HTML_TAG_START --><a href=\"/stocks/zghb/\">ZGHB</a><!-- HTML_TAG_END --></td><td class=\"slw svelte-eurwtr\">China Eco-Materials Group Co. Limited</td><td class=\"svelte-eurwtr\">$4.00</td><td class=\"svelte-eurwtr\">4,300,000</td> </tr><tr class=\"svelte-eurwtr\"><td class=\"svelte-eurwtr\">Dec 27, 2018</td><td class=\"sym svelte-eurwtr\"><!-- HTML_TAG_START --><a href=\"/stocks/fbox/\">FBOX</a><!-- HTML_TAG_END --></td><td class=\"slw svelte-eurwtr\">Fit Boxx Holdings Limited</td><td class=\"svelte-eurwtr\">$5.00 - $6.50</td><td class=\"svelte-eurwtr\">2,000,000</td> </tr></tbody></table>  </div>  <div class=\"mt-4 text-center\"><button class=\"text-lg text-link hover:text-default\" data-svelte-h=\"svelte-rs67om\">Back to Top â\\x86\\x91</button></div></div> <aside class=\"flex flex-col space-y-10 pt-6\"><div><h3 class=\"mb-2.5\">Upcoming IPOs</h3> <div class=\"rounded border border-default\"><table class=\"w-full whitespace-nowrap text-left text-[0.95rem]\"><thead><tr class=\"border-b border-default\"><th class=\"border-r border-default p-2\">Date</th> <th class=\"border-r border-default p-2\" data-svelte-h=\"svelte-sd240z\">Symbol</th> <th class=\"p-2\" data-svelte-h=\"svelte-xiekth\">Name</th></tr></thead> <tbody><tr class=\"border-b border-default last:border-b-0\"><td class=\"border-r border-default p-2\">May 10</td> <td class=\"border-r border-default p-2\"><a href=\"/stocks/zk/\">ZK</a></td> <td class=\"truncate whitespace-pre-wrap p-2 xs:max-w-[150px] xs:whitespace-nowrap\">ZEEKR Intelligent Technology Holding</td> </tr><tr class=\"border-b border-default last:border-b-0\"><td class=\"border-r border-default p-2\">May 10</td> <td class=\"border-r border-default p-2\"><a href=\"/stocks/lrtx/\">LRTX</a></td> <td class=\"truncate whitespace-pre-wrap p-2 xs:max-w-[150px] xs:whitespace-nowrap\">Lirum Therapeutics</td> </tr><tr class=\"border-b border-default last:border-b-0\"><td class=\"border-r border-default p-2\">May 14</td> <td class=\"border-r border-default p-2\"><a href=\"/stocks/ggl/\">GGL</a></td> <td class=\"truncate whitespace-pre-wrap p-2 xs:max-w-[150px] xs:whitespace-nowrap\">Games Global</td> </tr><tr class=\"border-b border-default last:border-b-0\"><td class=\"border-r border-default p-2\">May 15</td> <td class=\"border-r border-default p-2\"><a href=\"/stocks/jdzg/\">JDZG</a></td> <td class=\"truncate whitespace-pre-wrap p-2 xs:max-w-[150px] xs:whitespace-nowrap\">Jiade</td> </tr><tr class=\"border-b border-default last:border-b-0\"><td class=\"border-r border-default p-2\">May 15</td> <td class=\"border-r border-default p-2\"><a href=\"/stocks/kdly/\">KDLY</a></td> <td class=\"truncate whitespace-pre-wrap p-2 xs:max-w-[150px] xs:whitespace-nowrap\">Kindly MD</td> </tr></tbody></table></div> <a href=\"/ipos/calendar/\" class=\"button mt-4 w-full\">Full IPO Calendar</a></div> <div class=\"rounded border border-gray-200 p-4 text-sm dark:border-dark-700\"><h3>IPO News</h3> <ul class=\"text-gray-700 dark:text-dark-300\"><li class=\"mb-3 last:mb-1\">13 hours ago - <a href=\"https://www.cnbc.com/2024/05/09/chinese-ev-maker-zeekr-prices-ipo-at-21-at-the-top-end-of-range-reports-say.html\" target=\"_blank\" rel=\"noopener noreferrer nofollow\">Chinese EV maker Zeekr prices IPO at $21, at the top end of range, reports say</a> - CNBC </li><li class=\"mb-3 last:mb-1\">15 hours ago - <a href=\"https://www.reuters.com/markets/deals/chinese-ev-maker-zeekr-prices-us-ipo-top-range-raise-441-million-source-says-2024-05-09/\" target=\"_blank\" rel=\"noopener noreferrer nofollow\">Exclusive: Chinese EV maker Zeekr prices US IPO at top of range to raise $441 million, source says</a> - Reuters </li><li class=\"mb-3 last:mb-1\">1 day ago - <a href=\"https://www.kiplinger.com/investing/stocks/reddit-stock-rises-after-first-post-ipo-earnings-report\" target=\"_blank\" rel=\"noopener noreferrer nofollow\">Reddit Stock Rises After First Post-IPO Earnings Report</a> - Kiplinger </li><li class=\"mb-3 last:mb-1\">1 day ago - <a href=\"https://www.marketwatch.com/story/reddits-first-post-ipo-results-are-mission-accomplished-with-international-and-data-licensing-opportunities-ahead-bff1f4cb\" target=\"_blank\" rel=\"noopener noreferrer nofollow\">Reddit\\'s first post-IPO results are â\\x80\\x98mission accomplished,\\' with international and data-licensing opportunities ahead</a> - Market Watch </li><li class=\"mb-3 last:mb-1\">2 days ago - <a href=\"https://www.investopedia.com/reddit-q1-fy-2024-earnings-8644631\" target=\"_blank\" rel=\"noopener noreferrer nofollow\">Reddit Stock Soars After Reporting Record User Traffic in First Earnings Report Since IPO</a> - Investopedia </li><li class=\"mb-3 last:mb-1\">2 days ago - <a href=\"https://www.cnbc.com/2024/05/07/reddit-rddt-q1-2024-earnings.html\" target=\"_blank\" rel=\"noopener noreferrer nofollow\">Reddit shares soar almost 20% after company reports revenue pop in first earnings report since IPO</a> - CNBC </li><li class=\"mb-3 last:mb-1\">3 days ago - <a href=\"https://www.wsj.com/articles/zeekr-plans-to-close-ipo-book-early-ahead-of-u-s-listing-5020f0e2\" target=\"_blank\" rel=\"noopener noreferrer nofollow\">Zeekr Plans to Close IPO Book Early Ahead of U.S. Listing</a> - WSJ </li><li class=\"mb-3 last:mb-1\">3 days ago - <a href=\"https://www.reuters.com/markets/deals/chinas-zeekr-close-3675-mln-new-york-ipo-one-day-early-source-says-2024-05-07/\" target=\"_blank\" rel=\"noopener noreferrer nofollow\">China\\'s Zeekr to close $367.5 mln New York IPO one day early, source says</a> - Reuters </li><li class=\"mb-3 last:mb-1\">6 days ago - <a href=\"https://www.investopedia.com/reddit-q1-2024-earnings-preview-8642033\" target=\"_blank\" rel=\"noopener noreferrer nofollow\">What You Need To Know Ahead of Reddit\\'s First Earnings Report Since Its IPO</a> - Investopedia </li><li class=\"mb-3 last:mb-1\">6 days ago - <a href=\"https://www.reuters.com/markets/deals/chinas-zeekr-plans-raise-up-368-mln-us-ipo-2024-05-03/\" target=\"_blank\" rel=\"noopener noreferrer nofollow\">China\\'s Zeekr plans to raise up to $368 mln in US IPO</a> - Reuters </li></ul> <a href=\"/ipos/news/\" class=\"button mt-4 w-full\">More IPO News</a></div></aside></div></main></div></div>   <footer class=\"clear-both mt-auto bg-gray-800 dark:bg-neutral-900\"><div class=\"mx-auto max-w-7xl px-5 pt-12 sm:px-6 lg:px-8 lg:pb-8 lg:pt-16\"><div class=\"xl:grid xl:grid-cols-3 xl:gap-8\"><div class=\"grid grid-cols-2 gap-8 xl:col-span-2\"><div class=\"md:grid md:grid-cols-2 md:gap-8\"><div data-svelte-h=\"svelte-4aulao\"><h4 class=\"text-sm font-semibold uppercase tracking-wider text-gray-400 dark:text-dark-400\">Sections</h4> <ul class=\"mt-4 space-y-4 text-gray-300 hover:text-white\"><li><a class=\"text-gray-300 hover:text-white dark:text-neutral-200 hover:dark:underline\" href=\"/stocks/\">Stocks</a></li> <li><a class=\"text-gray-300 hover:text-white dark:text-neutral-200 hover:dark:underline\" href=\"/ipos/\">IPOs</a></li> <li><a class=\"text-gray-300 hover:text-white dark:text-neutral-200 hover:dark:underline\" href=\"/etf/\">ETFs</a></li> <li><a class=\"text-gray-300 hover:text-white dark:text-neutral-200 hover:dark:underline\" href=\"/blog/\">Blog</a></li></ul></div> <div class=\"mt-12 md:mt-0\"><h4 class=\"text-sm font-semibold uppercase tracking-wider text-gray-400 dark:text-dark-400\" data-svelte-h=\"svelte-1nki7xq\">Services</h4> <ul class=\"mt-4 space-y-4\"><li><a class=\"text-gray-300 hover:text-white dark:text-neutral-200 hover:dark:underline\" href=\"/pro/\" data-svelte-h=\"svelte-1x0hv7t\">Stock Analysis Pro</a></li> <li data-svelte-h=\"svelte-jv5tof\"><a class=\"text-gray-300 hover:text-white dark:text-neutral-200 hover:dark:underline\" href=\"/subscribe/\">Free Newsletter</a></li> <li data-svelte-h=\"svelte-1g6ai5i\"><a class=\"text-gray-300 hover:text-white dark:text-neutral-200 hover:dark:underline\" href=\"/support/\">Get Support</a></li></ul></div></div> <div class=\"md:grid md:grid-cols-2 md:gap-8\" data-svelte-h=\"svelte-6bzfk1\"><div><h4 class=\"text-sm font-semibold uppercase tracking-wider text-gray-400 dark:text-dark-400\">Website</h4> <ul class=\"mt-4 space-y-4\"><li><a class=\"text-gray-300 hover:text-white dark:text-neutral-200 hover:dark:underline\" href=\"/login/\">Login</a></li> <li><a class=\"text-gray-300 hover:text-white dark:text-neutral-200 hover:dark:underline\" href=\"/faq/\">FAQ</a></li> <li><a class=\"text-gray-300 hover:text-white dark:text-neutral-200 hover:dark:underline\" href=\"/changelog/\">Changelog</a></li> <li><a class=\"text-gray-300 hover:text-white dark:text-neutral-200 hover:dark:underline\" href=\"/sitemap/\">Sitemap</a></li> <li><a class=\"text-gray-300 hover:text-white dark:text-neutral-200 hover:dark:underline\" href=\"/advertise/\">Advertise</a></li></ul></div> <div class=\"mt-12 md:mt-0\"><h4 class=\"text-sm font-semibold uppercase tracking-wider text-gray-400 dark:text-dark-400\">Company</h4> <ul class=\"mt-4 space-y-4\"><li><a class=\"text-gray-300 hover:text-white dark:text-neutral-200 hover:dark:underline\" href=\"/about/\">About</a></li> <li><a class=\"text-gray-300 hover:text-white dark:text-neutral-200 hover:dark:underline\" href=\"/contact/\">Contact Us</a></li> <li><a class=\"text-gray-300 hover:text-white dark:text-neutral-200 hover:dark:underline\" href=\"/terms-of-use/\">Terms of Use</a></li> <li><a class=\"text-gray-300 hover:text-white dark:text-neutral-200 hover:dark:underline\" href=\"/privacy-policy/\">Privacy Policy</a></li> <li><a class=\"text-gray-300 hover:text-white dark:text-neutral-200 hover:dark:underline\" href=\"/data-disclaimer/\">Data Disclaimer</a></li></ul></div></div></div> <div class=\"mt-8 xl:mt-0\"><h4 class=\"text-sm font-semibold uppercase tracking-wider text-gray-400 dark:text-dark-400\" data-svelte-h=\"svelte-16157co\">Market Newsletter</h4> <p class=\"mt-4 text-gray-300\" data-svelte-h=\"svelte-4795ly\">Daily market news in bullet point format.</p> <form class=\"mt-4 sm:flex sm:max-w-md\" method=\"POST\" action=\"/subscribe/\" data-svelte-h=\"svelte-2tvjaj\"><input type=\"email\" name=\"email\" id=\"email-footer\" autocomplete=\"email\" required class=\"placeholder-faded w-full min-w-0 appearance-none rounded-md border border-transparent bg-white px-4 py-2 text-gray-900 focus:border-white focus:outline-none focus:ring-2 focus:ring-white focus:ring-offset-2 focus:ring-offset-gray-800 dark:bg-dark-700 dark:focus:border-neutral-400 dark:focus:ring-neutral-400\" placeholder=\"Enter your email\"> <div class=\"mt-3 rounded-md sm:ml-3 sm:mt-0 sm:shrink-0\"><button name=\"submit\" type=\"submit\" class=\"button w-full cursor-pointer rounded text-base font-semibold sm:w-auto\">Subscribe</button></div></form></div></div> <div class=\"mt-8 border-t border-gray-700 pt-8 dark:border-dark-700 md:flex md:items-center md:justify-between\"><div class=\"flex space-x-6 md:order-2\"><a href=\"https://www.facebook.com/stockanalysisoff/\" target=\"_blank\" rel=\"noopener noreferrer\" class=\"text-gray-400 hover:text-gray-300 dark:text-dark-400 dark:hover:text-dark-300\" aria-label=\"Follow on Facebook\"><!-- HTML_TAG_START --><svg class=\"pointer-events-none h-8 w-8\" fill=\"currentColor\" viewBox=\"0 0 24 24\" style=\"max-width:40px\" aria-hidden=\"true\"><path fill-rule=\"evenodd\" d=\"M22 12c0-5.523-4.477-10-10-10S2 6.477 2 12c0 4.991 3.657 9.128 8.438 9.878v-6.987h-2.54V12h2.54V9.797c0-2.506 1.492-3.89 3.777-3.89 1.094 0 2.238.195 2.238.195v2.46h-1.26c-1.243 0-1.63.771-1.63 1.562V12h2.773l-.443 2.89h-2.33v6.988C18.343 21.128 22 16.991 22 12z\" clip-rule=\"evenodd\"/></svg><!-- HTML_TAG_END --></a> <a href=\"https://twitter.com/stock_analysisx\" target=\"_blank\" rel=\"noopener noreferrer\" class=\"text-gray-400 hover:text-gray-300 dark:text-dark-400 dark:hover:text-dark-300\" aria-label=\"Follow on Twitter\"><!-- HTML_TAG_START --><svg class=\"pointer-events-none h-8 w-8\" fill=\"currentColor\" viewBox=\"0 0 24 24\" style=\"max-width:40px\" aria-hidden=\"true\"><path d=\"M8.29 20.251c7.547 0 11.675-6.253 11.675-11.675 0-.178 0-.355-.012-.53A8.348 8.348 0 0022 5.92a8.19 8.19 0 01-2.357.646 4.118 4.118 0 001.804-2.27 8.224 8.224 0 01-2.605.996 4.107 4.107 0 00-6.993 3.743 11.65 11.65 0 01-8.457-4.287 4.106 4.106 0 001.27 5.477A4.072 4.072 0 012.8 9.713v.052a4.105 4.105 0 003.292 4.022 4.095 4.095 0 01-1.853.07 4.108 4.108 0 003.834 2.85A8.233 8.233 0 012 18.407a11.616 11.616 0 006.29 1.84\"/></svg><!-- HTML_TAG_END --></a></div> <p class=\"mt-8 text-gray-400 dark:text-dark-400 md:order-1 md:mt-0\" data-svelte-h=\"svelte-wkgyvn\">Â© 2024 Stock Analysis. All rights reserved.</p></div>  <div class=\"mt-8 border-t border-gray-700 dark:border-dark-700 pt-8 pb-6 text-center text-sm text-gray-400 dark:text-dark-400\" data-svelte-h=\"svelte-h3sc3x\">Real-time quotes provided by <a href=\"https://iexcloud.io/\" target=\"_blank\" rel=\"noopener noreferrer\" class=\"text-gray-300 dark:text-neutral-300 hover:dark:text-neutral-100 hover:text-white underline hover:no-underline\">IEX Cloud</a>. Other market data may be delayed by 15 minutes or more.</div></div></footer>    \\n\\t\\t\\t\\n\\t\\t\\t<script>\\n\\t\\t\\t\\t{\\n\\t\\t\\t\\t\\t__sveltekit_ve5xa4 = {\\n\\t\\t\\t\\t\\t\\tbase: new URL(\"../..\", location).pathname.slice(0, -1)\\n\\t\\t\\t\\t\\t};\\n\\n\\t\\t\\t\\t\\tconst element = document.currentScript.parentElement;\\n\\n\\t\\t\\t\\t\\tconst data = [{\"type\":\"data\",\"data\":{session:null,loc:{co:\"US\",isUS:true,isEU:false,isCA:false},theme:void 0},\"uses\":{}},null,{\"type\":\"data\",\"data\":{query:{type:\"i\",index:\"futip\",main:\"filingDate\",sortDirection:\"desc\",columns:[\"filingDate\",\"s\",\"n\",\"ipoPriceRange\",\"sharesOffered\"],filters:[\"ipoDate-isnull\",\"ipoStatus-isnot-withdrawn\"]},initialData:[{s:\"TBN\",filingDate:\"2024-05-03\",n:\"Tamboran Resources Corporation\"},{s:\"HWEC\",filingDate:\"2024-04-29\",n:\"HW Electro Co., Ltd.\",ipoPriceRange:\"$3.00\",sharesOffered:3750000},{s:\"DTSQ\",filingDate:\"2024-04-29\",n:\"DT Cloud Star Acquisition Corporation\",ipoPriceRange:\"$10.00\",sharesOffered:6000000},{s:\"EURK\",filingDate:\"2024-04-26\",n:\"Eureka Acquisition Corp\",ipoPriceRange:\"$10.00\",sharesOffered:5000000},{s:\"HDL\",filingDate:\"2024-04-26\",n:\"Super Hi International Holding Ltd.\"},{s:\"DRJT\",filingDate:\"2024-04-22\",n:\"Derun Group Inc\",ipoPriceRange:\"$5.00\"},{s:\"JLJT\",filingDate:\"2024-04-16\",n:\"Jialiang Holdings Ltd\",ipoPriceRange:\"$5.00\"},{s:\"GAUZ\",filingDate:\"2024-04-15\",n:\"Gauzy Ltd.\"},{s:\"BOW\",filingDate:\"2024-04-12\",n:\"Bowhead Specialty Holdings Inc.\"},{s:\"SPHL\",filingDate:\"2024-04-05\",n:\"Springview Holdings Ltd\",ipoPriceRange:\"$4.00 - $5.00\",sharesOffered:2000000},{s:\"FFFZ\",filingDate:\"2024-04-02\",n:\"Fuxing China Group Limited\",ipoPriceRange:\"$4.00 - $4.50\",sharesOffered:2000000},{s:\"LSH\",filingDate:\"2024-04-01\",n:\"Lakeside Holding Limited\",ipoPriceRange:\"$4.00 - $5.00\",sharesOffered:1250000},{s:\"XXC\",filingDate:\"2024-04-01\",n:\"Xinxu Copper Industry Technology Limited\"},{s:\"OCP\",filingDate:\"2024-03-29\",n:\"Huge Amount Group Limited\"},{s:\"RITR\",filingDate:\"2024-03-28\",n:\"Reitar Logtech Holdings Limited\",ipoPriceRange:\"$4.00 - $5.00\",sharesOffered:2500000},{s:\"NTCL\",filingDate:\"2024-03-26\",n:\"NetClass Technology Inc\",ipoPriceRange:\"$5.00 - $6.00\",sharesOffered:1800000},{s:\"JCY\",filingDate:\"2024-03-25\",n:\"Jingcaoyuan Holdings Inc\"},{s:\"CCIX\",filingDate:\"2024-03-22\",n:\"Churchill Capital Corp IX\",ipoPriceRange:\"$10.00\",sharesOffered:25000000},{s:\"LXTM\",filingDate:\"2024-03-21\",n:\"Lei Xin Holdings Co., Ltd.\"},{s:\"LBRJ\",filingDate:\"2024-03-15\",n:\"Libera Gaming Operations, Inc.\",ipoPriceRange:\"$5.00 - $7.00\",sharesOffered:1000000},{s:\"MCTR\",filingDate:\"2024-03-15\",n:\"CTRL Group Limited\"},{s:\"SUKE\",filingDate:\"2024-03-12\",n:\"Suke Limited\",ipoPriceRange:\"$4.00 - $6.00\",sharesOffered:2000000},{s:\"RFAI\",filingDate:\"2024-03-11\",n:\"RF Acquisition Corp II\",ipoPriceRange:\"$10.00\",sharesOffered:10000000},{s:\"CUPR\",filingDate:\"2024-03-07\",n:\"Cuprina Holdings (Cayman) Limited\"},{s:\"PGHL\",filingDate:\"2024-03-06\",n:\"Primega Group Holdings Limited\",ipoPriceRange:\"$4.00 - $6.00\",sharesOffered:1750000},{s:\"WYHG\",filingDate:\"2024-03-06\",n:\"Wing Yip Food Holdings Group Limited\"},{s:\"LUD\",filingDate:\"2024-03-04\",n:\"Luda Technology Group Limited\",ipoPriceRange:\"$3.00 - $4.00\",sharesOffered:2500000},{s:\"SKUB\",filingDate:\"2024-03-04\",n:\"Skubbs Holdings Limited\",sharesOffered:2000000},{s:\"ORKT\",filingDate:\"2024-02-20\",n:\"Orangekloud Technology Inc.\",ipoPriceRange:\"$4.00 - $5.00\",sharesOffered:2500000},{s:\"IZTC\",filingDate:\"2024-02-09\",n:\"Invizyne Technologies Inc.\",ipoPriceRange:\"$4.00\",sharesOffered:4300000},{s:\"WCT\",filingDate:\"2024-02-08\",n:\"Wellchange Holdings Company Limited\",ipoPriceRange:\"$4.00 - $5.00\",sharesOffered:2000000},{s:\"JBDI\",filingDate:\"2024-02-08\",n:\"JBDI Holdings Limited\",ipoPriceRange:\"$4.00 - $5.00\",sharesOffered:1750000},{s:\"GCDT\",filingDate:\"2024-02-08\",n:\"Green Circle Decarbonize Technology Limited\",ipoPriceRange:\"$4.13\",sharesOffered:2400000},{s:\"NOVS\",filingDate:\"2024-02-07\",n:\"Novusterra Inc.\",sharesOffered:14482430},{s:\"QQJ\",filingDate:\"2024-02-07\",n:\"QQJ Inc.\",sharesOffered:2250000},{s:\"VEG\",filingDate:\"2024-02-05\",n:\"Veg House Holdings Inc.\",ipoPriceRange:\"$5.00\",sharesOffered:1000000},{s:\"FLYE\",filingDate:\"2024-02-02\",n:\"Fly-E Group, Inc.\",ipoPriceRange:\"$4.00 - $5.00\",sharesOffered:3000000},{s:\"XCH\",filingDate:\"2024-02-01\",n:\"XCHG Limited\"},{s:\"PLUT\",filingDate:\"2024-01-31\",n:\"Plutus Financial Group Limited\",ipoPriceRange:\"$4.00 - $6.00\",sharesOffered:2100000},{s:\"SKK\",filingDate:\"2024-01-29\",n:\"SKK Holdings Limited\",ipoPriceRange:\"$4.00 - $5.00\",sharesOffered:2500000},{s:\"TPI\",filingDate:\"2024-01-26\",n:\"TessPay Inc.\",ipoPriceRange:\"$5.00 - $6.00\",sharesOffered:1300000},{s:\"JIE\",filingDate:\"2024-01-26\",n:\"Semidux Holding Limited\"},{s:\"APRI\",filingDate:\"2024-01-25\",n:\"APRINOIA Therapeutics Inc.\",ipoPriceRange:\"$10.00 - $14.00\",sharesOffered:2000000},{s:\"IOTR\",filingDate:\"2024-01-24\",n:\"iOThree Limited\",ipoPriceRange:\"$4.00 - $6.00\",sharesOffered:3718195},{s:\"JHY\",filingDate:\"2024-01-22\",n:\"Juheying Intelligent Technology Ltd\"},{s:\"RECT\",filingDate:\"2024-01-16\",n:\"Rectitude Holdings Ltd\",ipoPriceRange:\"$4.00 - $6.00\",sharesOffered:2000000},{s:\"ZYBT\",filingDate:\"2024-01-09\",n:\"Zhengye Biotechnology Holding Limited\"},{s:\"LUMA\",filingDate:\"2024-01-09\",n:\"Deerhorse One Zero Eight Holding Limited\"},{s:\"LLLL\",filingDate:\"2024-01-08\",n:\"Love & Health Limited\",ipoPriceRange:\"$10.00\",sharesOffered:5000000},{s:\"LEC\",filingDate:\"2023-12-29\",n:\"Lafayette Energy Corp\",ipoPriceRange:\"$3.50 - $4.50\",sharesOffered:1200000},{s:\"EPSM\",filingDate:\"2023-12-29\",n:\"Epsium Enterprise Limited\"},{s:\"ONDR\",filingDate:\"2023-12-28\",n:\"Sushi Ginza Onodera, Inc.\",ipoPriceRange:\"$7.00 - $8.00\",sharesOffered:1066667},{s:\"LZMH\",filingDate:\"2023-12-22\",n:\"LZ Technology Holdings Limited\"},{s:\"CHLW\",filingDate:\"2023-12-22\",n:\"Chun Hui Le Wan International Holding Group Ltd\"},{s:\"EEET\",filingDate:\"2023-12-21\",n:\"3 E Network Technology Group Limited\",ipoPriceRange:\"$4.00 - $6.00\",sharesOffered:3000000},{s:\"ROLR\",filingDate:\"2023-12-20\",n:\"High Roller Technologies, Inc.\",ipoPriceRange:\"$8.00 - $10.00\",sharesOffered:1500000},{s:\"AHL\",filingDate:\"2023-12-20\",n:\"Aspen Insurance Holdings Limited\"},{s:\"NTHI\",filingDate:\"2023-12-18\",n:\"NeOnc Technologies Holdings, Inc.\",ipoPriceRange:\"$11.25 - $13.75\",sharesOffered:6000000},{s:\"GIT\",filingDate:\"2023-12-15\",n:\"Going International Holding Company Limited\"},{s:\"EIL\",filingDate:\"2023-12-11\",n:\"E I L Holdings Limited\"},{s:\"ENGS\",filingDate:\"2023-12-08\",n:\"Energys Group Limited\",ipoPriceRange:\"$4.00 - $6.00\",sharesOffered:2000000},{s:\"LNKS\",filingDate:\"2023-12-08\",n:\"Linkers Industries Limited\",ipoPriceRange:\"$4.00 - $6.00\",sharesOffered:2200000},{s:\"HOS\",filingDate:\"2023-12-07\",n:\"Hornbeck Offshore Services, Inc.\"},{s:\"TKBD\",filingDate:\"2023-12-06\",n:\"TechyBird Acquisition Corp.\",ipoPriceRange:\"$10.00\",sharesOffered:6000000},{s:\"WDQY\",filingDate:\"2023-12-06\",n:\"Wangdiqiyuan International Holdings Ltd.\"},{s:\"HHGJ\",filingDate:\"2023-11-29\",n:\"Concord Health Limited\",ipoPriceRange:\"$4.00\"},{s:\"HYHL\",filingDate:\"2023-11-21\",n:\"Houyi Digital Internet Industry Technology Co., Ltd.\",ipoPriceRange:\"$5.00\",sharesOffered:20000000},{s:\"COC\",filingDate:\"2023-11-20\",n:\"COR3 & Co. (Holdings) Limited\",ipoPriceRange:\"$4.00 - $5.00\",sharesOffered:3875000},{s:\"SFHG\",filingDate:\"2023-11-13\",n:\"Samfine Creation Holdings Group Limited\",ipoPriceRange:\"$4.00 - $5.00\",sharesOffered:2500000},{s:\"QMIX\",filingDate:\"2023-11-09\",n:\"QMIS TBS Capital Group Corp.\"},{s:\"WMBT\",filingDate:\"2023-11-08\",n:\"Sichuan Wanma Benteng Technology Co., Ltd.\",ipoPriceRange:\"$10.00\",sharesOffered:7000000},{s:\"WXM\",filingDate:\"2023-11-08\",n:\"WF International Limited\",ipoPriceRange:\"$4.00 - $4.75\",sharesOffered:1600000},{s:\"JFY\",filingDate:\"2023-11-08\",n:\"Jiufuyuan Biotechnology Company Limited\",ipoPriceRange:\"$5.00\"},{s:\"AMDI\",filingDate:\"2023-11-07\",n:\"Amphitrite Digital Incorporated\",ipoPriceRange:\"$3.50 - $4.50\",sharesOffered:1750000},{s:\"SQVI\",filingDate:\"2023-11-06\",n:\"Sequoia Vaccines, Inc.\",ipoPriceRange:\"$8.00 - $10.00\",sharesOffered:2775000},{s:\"TLIH\",filingDate:\"2023-11-01\",n:\"Ten-League International Holdings Limited\",ipoPriceRange:\"$4.00 - $5.00\",sharesOffered:2800000},{s:\"BIYA\",filingDate:\"2023-10-31\",n:\"Baiya International Group Inc.\",ipoPriceRange:\"$4.00 - $6.00\",sharesOffered:3000000},{s:\"BLMZ\",filingDate:\"2023-10-31\",n:\"BloomZ Inc.\",ipoPriceRange:\"$4.30\",sharesOffered:1250000},{s:\"HCWC\",filingDate:\"2023-10-30\",n:\"Healthy Choice Wellness Corp.\",ipoPriceRange:\"$9.00 - $11.00\",sharesOffered:400000},{s:\"FONG\",filingDate:\"2023-10-30\",n:\"Aibafang Group CO., Ltd.\"},{s:\"RAY\",filingDate:\"2023-10-27\",n:\"Raytech Holding Limited\",ipoPriceRange:\"$4.00 - $5.00\",sharesOffered:1500000},{s:\"RMIC\",filingDate:\"2023-10-23\",n:\"Reticulate Micro, Inc.\",ipoPriceRange:\"$5.00 - $7.00\",sharesOffered:2000000},{s:\"EVMO\",filingDate:\"2023-10-23\",n:\"EV Mobility, Inc.\",ipoPriceRange:\"$4.00 - $6.00\",sharesOffered:1750000},{s:\"LFKG\",filingDate:\"2023-10-19\",n:\"Lianfeng Holding Acquisition\",ipoPriceRange:\"$10.00\",sharesOffered:7000000},{s:\"IBO\",filingDate:\"2023-10-17\",n:\"Impact BioMedical, Inc.\",ipoPriceRange:\"$3.00 - $5.00\",sharesOffered:2000000},{s:\"MVRK\",filingDate:\"2023-10-17\",n:\"Maverick Lifestyle Inc.\",ipoPriceRange:\"$4.50 - $5.50\",sharesOffered:800000},{s:\"WAY\",filingDate:\"2023-10-16\",n:\"Waystar Holding Corp.\"},{s:\"ORIS\",filingDate:\"2023-10-13\",n:\"Oriental Rise Holdings Limited\",ipoPriceRange:\"$4.00\",sharesOffered:2000000},{s:\"PTHL\",filingDate:\"2023-10-11\",n:\"Pheton Holdings Ltd\",ipoPriceRange:\"$4.00 - $5.00\",sharesOffered:2500000},{s:\"DOCO\",filingDate:\"2023-10-10\",n:\"Docola, Inc.\",ipoPriceRange:\"$5.75 - $6.75\",sharesOffered:1060870},{s:\"QMMM\",filingDate:\"2023-10-06\",n:\"QMMM Holdings Limited\",ipoPriceRange:\"$4.00\",sharesOffered:2125000},{s:\"TDTH\",filingDate:\"2023-10-04\",n:\"Trident Digital Tech Holdings Ltd\",ipoPriceRange:\"$5.00 - $7.00\",sharesOffered:1800000},{s:\"ROTR\",filingDate:\"2023-10-04\",n:\"PHI Group, Inc.\"},{s:\"GRDN\",filingDate:\"2023-10-03\",n:\"Guardian Pharmacy Services, Inc.\"},{s:\"KAPA\",filingDate:\"2023-09-29\",n:\"Kairos Pharma, Ltd.\",ipoPriceRange:\"$4.00\",sharesOffered:1550000},{s:\"VAPA\",filingDate:\"2023-09-29\",n:\"Valens Pay Global Limited\",ipoPriceRange:\"$5.00 - $6.00\",sharesOffered:1000000},{s:\"TKE\",filingDate:\"2023-09-28\",n:\"OUI Global\",ipoPriceRange:\"$4.00 - $6.00\",sharesOffered:2500000},{s:\"MTRS\",filingDate:\"2023-09-26\",n:\"Metros Development Co., Ltd.\",ipoPriceRange:\"$8.00 - $9.00\",sharesOffered:1000000},{s:\"BTOC\",filingDate:\"2023-09-25\",n:\"Armlogi Holding Corp.\",ipoPriceRange:\"$5.00 - $6.00\",sharesOffered:2000000},{s:\"KHIW\",filingDate:\"2023-09-25\",n:\"Brilliance Group\",ipoPriceRange:\"$4.00 - $5.00\",sharesOffered:2500000},{s:\"HSAC\",filingDate:\"2023-09-21\",n:\"Hainan Sirius Acquisition Corp.\",ipoPriceRange:\"$10.00\",sharesOffered:6000000},{s:\"ACSB\",filingDate:\"2023-09-15\",n:\"Acesis Holdings Corporation\",ipoPriceRange:\"$4.00 - $6.00\",sharesOffered:1300000},{s:\"YAAS\",filingDate:\"2023-09-07\",n:\"Youxin Technology Ltd\",ipoPriceRange:\"$4.00\",sharesOffered:2300000},{s:\"TYGJ\",filingDate:\"2023-08-31\",n:\"American Tuoyuan International Securities Group Inc\"},{s:\"MISN\",filingDate:\"2023-08-24\",n:\"Mission Control Acquisition Corp.\",ipoPriceRange:\"$10.00\",sharesOffered:10000000},{s:\"HXSZ\",filingDate:\"2023-08-23\",n:\"Hongxu Shangzeng Global Holding Ltd\"},{s:\"NCEW\",filingDate:\"2023-08-21\",n:\"New Century Logistics (BVI) Limited\",ipoPriceRange:\"$4.00 - $5.00\",sharesOffered:1250000},{s:\"JYB\",filingDate:\"2023-08-17\",n:\"Jyong Biotech Ltd.\"},{s:\"ZXTY\",filingDate:\"2023-08-11\",n:\"Zhongxing Holding Group Ltd\"},{s:\"NAMI\",filingDate:\"2023-08-10\",n:\"Jinxin Technology Holding Company\",ipoPriceRange:\"$4.00 - $5.00\",sharesOffered:1875000},{s:\"SXV\",filingDate:\"2023-08-10\",n:\"Six15 Technologies Holding Corp.\",ipoPriceRange:\"$5.00\",sharesOffered:2000000},{s:\"ZDYM\",filingDate:\"2023-08-08\",n:\"Zhiding Yuemei Technology Co., Limited\",ipoPriceRange:\"$5.00\"},{s:\"JZL\",filingDate:\"2023-08-04\",n:\"Jizhilong Holding Group Ltd.\"},{s:\"VTA\",filingDate:\"2023-08-02\",n:\"Vittoria Limited\",ipoPriceRange:\"$4.00 - $5.00\",sharesOffered:1750000},{s:\"PFAB\",filingDate:\"2023-07-27\",n:\"PreTam Holdings Inc.\",ipoPriceRange:\"$4.35 - $6.35\",sharesOffered:800000},{s:\"CGRD\",filingDate:\"2023-07-26\",n:\"GRD Biotechnology Acquisition Limited\",ipoPriceRange:\"$10.00\",sharesOffered:4000000},{s:\"HAND\",filingDate:\"2023-07-26\",n:\"Hand in Hand Metaverse Marriage Technnology Co., Ltd\"},{s:\"CGTL\",filingDate:\"2023-07-19\",n:\"Creative Global Technology Holdings Limited\",ipoPriceRange:\"$4.00 - $5.00\",sharesOffered:1250000},{s:\"FLAI\",filingDate:\"2023-07-19\",n:\"Flewber Global Inc.\",ipoPriceRange:\"$4.00 - $5.00\",sharesOffered:2222223},{s:\"RAN\",filingDate:\"2023-07-11\",n:\"RanMarine Technology B.V.\",ipoPriceRange:\"$5.50\",sharesOffered:1435000},{s:\"AZI\",filingDate:\"2023-07-07\",n:\"Autozi Internet Technology (Global) Ltd.\",ipoPriceRange:\"$4.00 - $5.00\",sharesOffered:1250000},{s:\"LGM\",filingDate:\"2023-07-05\",n:\"Sixgomeow Ltd.\",ipoPriceRange:\"$5.00\"},{s:\"RISE\",filingDate:\"2023-07-03\",n:\"Rise Oil & Gas, Inc.\",ipoPriceRange:\"$5.00\",sharesOffered:2000000},{s:\"SUBL\",filingDate:\"2023-06-30\",n:\"BioLingus (Cayman) Limited\",ipoPriceRange:\"$20.00\",sharesOffered:360000},{s:\"RLND\",filingDate:\"2023-06-30\",n:\"The RoyaLand Company Ltd.\",ipoPriceRange:\"$5.00 - $6.00\",sharesOffered:1250000},{s:\"MSW\",filingDate:\"2023-06-23\",n:\"Ming Shing Group Holdings Limited\",ipoPriceRange:\"$5.00 - $8.00\",sharesOffered:1500000},{s:\"UNFL\",filingDate:\"2023-06-22\",n:\"Unifoil Holdings, Inc.\",ipoPriceRange:\"$3.00 - $4.00\",sharesOffered:2000000},{s:\"JDRR\",filingDate:\"2023-06-20\",n:\"F3 Platform Biologics, Inc.\"},{s:\"MDRN\",filingDate:\"2023-06-09\",n:\"Modern Mining Technology Corp.\",ipoPriceRange:\"$4.50 - $5.50\",sharesOffered:2000000},{s:\"ADVB\",filingDate:\"2023-05-22\",n:\"Advanced Biomed Inc.\",ipoPriceRange:\"$4.00 - $5.00\",sharesOffered:25000000},{s:\"FPAQ\",filingDate:\"2023-05-15\",n:\"FPA Energy Acquisition Corp.\",ipoPriceRange:\"$10.00\",sharesOffered:10000000},{s:\"AMGS\",filingDate:\"2023-05-03\",n:\"Prospect Energy Holdings Corp.\",ipoPriceRange:\"$10.00\",sharesOffered:7500000},{s:\"ZRSP\",filingDate:\"2023-05-01\",n:\"Zerospo\",ipoPriceRange:\"$4.00 - $5.00\",sharesOffered:1500000},{s:\"MJID\",filingDate:\"2023-04-28\",n:\"Majestic Ideal Holdings Ltd\",ipoPriceRange:\"$4.00 - $5.00\",sharesOffered:2500000},{s:\"EHGO\",filingDate:\"2023-04-27\",n:\"Eshallgo Inc\",ipoPriceRange:\"$4.00 - $6.00\",sharesOffered:3000000},{s:\"WOK\",filingDate:\"2023-04-27\",n:\"WORK Medical Technology Group LTD\",ipoPriceRange:\"$4.00\",sharesOffered:2000000},{s:\"XJET\",filingDate:\"2023-04-21\",n:\"XJet Ltd.\",ipoPriceRange:\"$4.00\",sharesOffered:1600000},{s:\"JPO\",filingDate:\"2023-04-21\",n:\"JP Outfitters, Inc.\",ipoPriceRange:\"$4.00\",sharesOffered:2400000},{s:\"SUNH\",filingDate:\"2023-03-31\",n:\"Xuhang Holdings Limited\",ipoPriceRange:\"$4.00 - $5.00\",sharesOffered:2750000},{s:\"OSTX\",filingDate:\"2023-03-31\",n:\"OS Therapies Incorporated\",ipoPriceRange:\"$5.00\",sharesOffered:2000000},{s:\"GFCX\",filingDate:\"2023-03-31\",n:\"GoodFaith Technology Inc.\",ipoPriceRange:\"$4.00 - $6.00\",sharesOffered:3000000},{s:\"HUHU\",filingDate:\"2023-03-30\",n:\"HUHUTECH International Group Inc.\"},{s:\"USEE\",filingDate:\"2023-03-24\",n:\"USEE Electronic Commerce Ltd\"},{s:\"ORNC\",filingDate:\"2023-03-21\",n:\"Oranco, Inc.\",ipoPriceRange:\"$4.00 - $6.00\",sharesOffered:1500000},{s:\"CRGT\",filingDate:\"2023-03-20\",n:\"Cortigent, Inc.\",ipoPriceRange:\"$10.00\",sharesOffered:1500000},{s:\"CKHL\",filingDate:\"2023-03-16\",n:\"Chi Ko Holdings Limited\",ipoPriceRange:\"$4.00 - $5.00\",sharesOffered:1740000},{s:\"OLSI\",filingDate:\"2023-03-13\",n:\"Origin Life Sciences, Inc.\",ipoPriceRange:\"$4.00\",sharesOffered:1875000},{s:\"DAZS\",filingDate:\"2023-03-02\",n:\"Da Ai Zhi Shui International Holding Group Ltd\"},{s:\"NTV\",filingDate:\"2023-02-24\",n:\"NeoTV Group Limited\",ipoPriceRange:\"$6.00 - $6.50\",sharesOffered:6800000},{s:\"BSME\",filingDate:\"2023-02-24\",n:\"MED EIBY Holding Co., Limited\",ipoPriceRange:\"$4.00 - $6.00\",sharesOffered:4000000},{s:\"NOEM\",filingDate:\"2023-02-23\",n:\"CO2 Energy Transition Corp.\",ipoPriceRange:\"$10.00\",sharesOffered:6000000},{s:\"GDD\",filingDate:\"2023-02-16\",n:\"Healthy Green Group Holding Limited\",ipoPriceRange:\"$6.00 - $7.00\",sharesOffered:2000000},{s:\"ETZ\",filingDate:\"2023-02-15\",n:\"Earntz Healthcare Products, Inc.\",ipoPriceRange:\"$4.00 - $5.00\",sharesOffered:2500000},{s:\"HAHA\",filingDate:\"2023-02-14\",n:\"Harden Technologies Inc.\",ipoPriceRange:\"$5.00 - $7.00\",sharesOffered:1000000},{s:\"IAMR\",filingDate:\"2023-02-14\",n:\"Medical Industries of the Americas, Inc.\"},{s:\"WETO\",filingDate:\"2023-02-10\",n:\"Webus International Limited\",ipoPriceRange:\"$4.00 - $6.00\",sharesOffered:4000000},{s:\"HXHX\",filingDate:\"2023-02-10\",n:\"Haoxin Holdings Limited\",ipoPriceRange:\"$4.00 - $6.00\",sharesOffered:3000000},{s:\"DRFY\",filingDate:\"2023-02-09\",n:\"Droneify Holdings Limited\",ipoPriceRange:\"$6.00 - $7.00\",sharesOffered:923077},{s:\"EPWK\",filingDate:\"2023-02-09\",n:\"EPWK Holdings Ltd.\"},{s:\"ZBJ\",filingDate:\"2023-02-08\",n:\"ZBJ Finance Group Ltd\"},{s:\"YZH\",filingDate:\"2023-02-07\",n:\"Yuezhonghui International Holdings Ltd.\"},{s:\"FBGL\",filingDate:\"2023-01-31\",n:\"FBS Global Limited\",ipoPriceRange:\"$4.00 - $5.00\",sharesOffered:1875000},{s:\"THNK\",filingDate:\"2023-01-24\",n:\"T1V, Inc.\",ipoPriceRange:\"$4.00 - $6.00\",sharesOffered:3300000},{s:\"RPET\",filingDate:\"2023-01-23\",n:\"New Ruipeng Pet Group Inc.\"},{s:\"RVGO\",filingDate:\"2023-01-13\",n:\"RVeloCITY, Inc.\",ipoPriceRange:\"$4.00 - $5.00\",sharesOffered:3750000},{s:\"FDAN\",filingDate:\"2023-01-10\",n:\"FD Technology Inc.\",ipoPriceRange:\"$4.00 - $6.00\",sharesOffered:3500000},{s:\"RYET\",filingDate:\"2022-12-29\",n:\"Ruanyun Edai Technology Inc.\",ipoPriceRange:\"$5.00 - $6.00\",sharesOffered:5000000},{s:\"IMSV\",filingDate:\"2022-12-29\",n:\"IMMRSIV Inc.\",ipoPriceRange:\"$4.00 - $5.00\",sharesOffered:1500000},{s:\"BZFL\",filingDate:\"2022-12-29\",n:\"Bozhi Fanglue International Investment Group Co Ltd\"},{s:\"GLXG\",filingDate:\"2022-12-28\",n:\"Galaxy Payroll Group Limited\",ipoPriceRange:\"$4.00\",sharesOffered:2000000},{s:\"HBER\",filingDate:\"2022-12-21\",n:\"Hubeier Group Ltd.\",ipoPriceRange:\"$6.00\"},{s:\"ZYRX\",filingDate:\"2022-12-20\",n:\"Global Earnings Capital Ltd.\",ipoPriceRange:\"$5.00\"},{s:\"GDLT\",filingDate:\"2022-12-16\",n:\"Greifenberg Digital Limited\",ipoPriceRange:\"$5.00\",sharesOffered:3000000},{s:\"SCRP\",filingDate:\"2022-12-08\",n:\"Scripps Safe, Inc.\",ipoPriceRange:\"$5.00\",sharesOffered:1200000},{s:\"BKV\",filingDate:\"2022-11-18\",n:\"BKV Corporation\"},{s:\"ALKD\",filingDate:\"2022-11-10\",n:\"Alkaid Acquisition Corp.\",ipoPriceRange:\"$10.00\",sharesOffered:5000000},{s:\"BNTY\",filingDate:\"2022-11-09\",n:\"Bounty Minerals, Inc.\"},{s:\"DCCA\",filingDate:\"2022-10-26\",n:\"Decca Investment Limited\",ipoPriceRange:\"$4.00 - $6.00\",sharesOffered:6000000},{s:\"LIAI\",filingDate:\"2022-10-25\",n:\"Lemeng Holdings Limited\",ipoPriceRange:\"$4.00 - $6.00\",sharesOffered:4000000},{s:\"MDLB\",filingDate:\"2022-10-13\",n:\"Medlab Clinical Ltd.\",ipoPriceRange:\"$4.45\",sharesOffered:1797752},{s:\"MSFC\",filingDate:\"2022-10-12\",n:\"Mao Shi Jade Jewelry International Investment Ltd.\",ipoPriceRange:\"$5.00\"},{s:\"SODR\",filingDate:\"2022-10-11\",n:\"SONDORS Inc.\",ipoPriceRange:\"$4.00 - $6.00\",sharesOffered:4000000},{s:\"SAG\",filingDate:\"2022-10-07\",n:\"SAG Holdings Limited\",ipoPriceRange:\"$8.00\",sharesOffered:875000},{s:\"BBCH\",filingDate:\"2022-09-30\",n:\"Blue-Touch Holdings Group Co., Ltd\",ipoPriceRange:\"$4.00 - $6.00\",sharesOffered:2000000},{s:\"AGII\",filingDate:\"2022-09-16\",n:\"AgiiPlus Inc.\",ipoPriceRange:\"$5.00 - $6.00\",sharesOffered:2000000},{s:\"SJA\",filingDate:\"2022-09-16\",n:\"SolarJuice Co., Ltd.\",ipoPriceRange:\"$4.00 - $6.00\",sharesOffered:3750000},{s:\"MNX\",filingDate:\"2022-09-12\",n:\"MN8 Energy, Inc.\"},{s:\"VTRO\",filingDate:\"2022-09-09\",n:\"Vitro Biopharma, Inc.\",ipoPriceRange:\"$15.00\",sharesOffered:2179344},{s:\"PSE\",filingDate:\"2022-09-02\",n:\"Prime Skyline Limited\",ipoPriceRange:\"$6.00\",sharesOffered:2500000},{s:\"GELS\",filingDate:\"2022-08-30\",n:\"Gelteq Limited\",ipoPriceRange:\"$5.00\",sharesOffered:1300000},{s:\"TDAC\",filingDate:\"2022-08-26\",n:\"Translational Development Acquisition Corp.\",ipoPriceRange:\"$10.00\",sharesOffered:15000000},{s:\"IBG\",filingDate:\"2022-08-19\",n:\"Innovation Beverage Group Limited\",ipoPriceRange:\"$4.13\",sharesOffered:1400000},{s:\"GLE\",filingDate:\"2022-08-16\",n:\"Global Engine Group Holding Limited\",ipoPriceRange:\"$4.00 - $5.00\",sharesOffered:2500000},{s:\"EMTX\",filingDate:\"2022-08-16\",n:\"EMulate Therapeutics, Inc.\",ipoPriceRange:\"$4.00 - $6.00\",sharesOffered:2300000},{s:\"FLCT\",filingDate:\"2022-08-10\",n:\"Felicitex Therapeutics Inc.\",ipoPriceRange:\"$6.25\",sharesOffered:2480000},{s:\"BCGF\",filingDate:\"2022-08-08\",n:\"BCGF Acquisition Corp.\",ipoPriceRange:\"$10.00\",sharesOffered:5000000},{s:\"MDLS\",filingDate:\"2022-08-05\",n:\"MDNA Life Sciences Inc.\",ipoPriceRange:\"$5.00 - $6.00\",sharesOffered:2454545},{s:\"LMIN\",filingDate:\"2022-08-05\",n:\"Laminera Flow Optimization Ltd.\",ipoPriceRange:\"$4.25 - $6.25\",sharesOffered:1600000},{s:\"RPGL\",filingDate:\"2022-07-21\",n:\"Republic Power Group Limited\",ipoPriceRange:\"$5.00 - $6.00\",sharesOffered:1200000},{s:\"WPA\",filingDate:\"2022-07-20\",n:\"Whale Point Acquisition Corp.\",ipoPriceRange:\"$10.00\",sharesOffered:15000000},{s:\"VACX\",filingDate:\"2022-07-14\",n:\"Vistas Acquisition Company II Inc.\",ipoPriceRange:\"$10.00\",sharesOffered:20000000},{s:\"HESP\",filingDate:\"2022-07-13\",n:\"Hesperos, Inc.\"},{s:\"TWEN\",filingDate:\"2022-07-12\",n:\"T20 Holdings Pte. Ltd.\",ipoPriceRange:\"$4.00 - $6.00\",sharesOffered:2637500},{s:\"CJOY\",filingDate:\"2022-07-12\",n:\"Cine Top Culture Holdings Limited\",ipoPriceRange:\"$4.00\",sharesOffered:4600000},{s:\"YKAI\",filingDate:\"2022-07-01\",n:\"YUKAI Health Group Limited\",ipoPriceRange:\"$4.00 - $6.00\",sharesOffered:4000000},{s:\"LEWY\",filingDate:\"2022-06-13\",n:\"LeeWay Services, Inc.\",ipoPriceRange:\"$5.00\",sharesOffered:3000000},{s:\"SAVU\",filingDate:\"2022-06-03\",n:\"BioLife4D Corporation\",ipoPriceRange:\"$5.20 - $7.20\",sharesOffered:1596154},{s:\"NYX\",filingDate:\"2022-06-01\",n:\"NYIAX, Inc.\",ipoPriceRange:\"$4.00\",sharesOffered:2106250},{s:\"NEAT\",filingDate:\"2022-05-23\",n:\"Noble Education Acquisition Corp.\",ipoPriceRange:\"$10.00\",sharesOffered:10000000},{s:\"CEAC\",filingDate:\"2022-05-09\",n:\"CE Energy Acquisition Corp.\",ipoPriceRange:\"$10.00\",sharesOffered:10000000},{s:\"FP\",filingDate:\"2022-05-05\",n:\"First Person Ltd.\",ipoPriceRange:\"$4.00 - $5.00\",sharesOffered:2900000},{s:\"HOTI\",filingDate:\"2022-04-26\",n:\"Hemoglobin Oxygen Therapeutics LLC\"},{s:\"ZTOP\",filingDate:\"2022-04-22\",n:\"Zi Toprun Acquisition Corp.\",ipoPriceRange:\"$10.00\",sharesOffered:11000000},{s:\"SMST\",filingDate:\"2022-04-22\",n:\"SmartStop Self Storage REIT, Inc.\"},{s:\"ASPP\",filingDate:\"2022-04-15\",n:\"Abri SPAC 2, Inc.\",ipoPriceRange:\"$10.00\",sharesOffered:10000000},{s:\"WXT\",filingDate:\"2022-03-29\",n:\"Wuxin Technology Holdings, Inc.\",ipoPriceRange:\"$4.50 - $6.50\",sharesOffered:6000000},{s:\"ELEP\",filingDate:\"2022-03-28\",n:\"Elephant Oil Corp.\",ipoPriceRange:\"$4.00 - $5.00\",sharesOffered:1666667},{s:\"YMAT\",filingDate:\"2022-03-21\",n:\"J-Star Holding Co., Ltd.\",ipoPriceRange:\"$4.00 - $5.00\",sharesOffered:2500000},{s:\"BFFI\",filingDate:\"2022-03-18\",n:\"BFFI Group Inc.\"},{s:\"ALPX\",filingDate:\"2022-03-07\",n:\"Alopexx, Inc.\",ipoPriceRange:\"$5.00\",sharesOffered:3000000},{s:\"GOSC\",filingDate:\"2022-02-22\",n:\"Giant Oak Acquisition Corporation\",ipoPriceRange:\"$10.00\",sharesOffered:6000000},{s:\"ENAC\",filingDate:\"2022-02-08\",n:\"Endeavor Acquisition Corp.\",ipoPriceRange:\"$10.00\",sharesOffered:22500000},{s:\"GRTR\",filingDate:\"2022-02-02\",n:\"Global Robotic Drone Acquisition Corp.\",ipoPriceRange:\"$10.00\",sharesOffered:10000000},{s:\"YBZN\",filingDate:\"2022-01-28\",n:\"Yi Po International Holdings Limited\",ipoPriceRange:\"$4.50 - $5.50\",sharesOffered:3000000},{s:\"LBGJ\",filingDate:\"2022-01-27\",n:\"Li Bang International Corporation Inc.\",ipoPriceRange:\"$4.00 - $6.00\",sharesOffered:5000000},{s:\"SOSH\",filingDate:\"2022-01-21\",n:\"SOS Hydration Inc.\",ipoPriceRange:\"$4.00 - $6.00\",sharesOffered:1600000},{s:\"HGIA\",filingDate:\"2022-01-18\",n:\"Hengguang Holding Co., Limited\"},{s:\"FDHA\",filingDate:\"2022-01-14\",n:\"First Digital Health Acquisition Corp.\",ipoPriceRange:\"$10.00\",sharesOffered:17500000},{s:\"TURO\",filingDate:\"2022-01-10\",n:\"Turo Inc.\"},{s:\"HS\",filingDate:\"2022-01-07\",n:\"HomeSmart Holdings, Inc.\"},{s:\"QHI\",filingDate:\"2022-01-06\",n:\"QinHong International Group\",ipoPriceRange:\"$4.00 - $4.50\",sharesOffered:3750000},{s:\"DGC\",filingDate:\"2021-12-23\",n:\"Delphi Growth Capital Corp.\",ipoPriceRange:\"$10.00\",sharesOffered:30000000},{s:\"LEDG\",filingDate:\"2021-12-23\",n:\"Ledger Acquisition Company\",ipoPriceRange:\"$10.00\",sharesOffered:15000000},{s:\"WYTC\",filingDate:\"2021-12-22\",n:\"Wytec International, Inc.\",ipoPriceRange:\"$4.25\",sharesOffered:3750000},{s:\"RDXX\",filingDate:\"2021-12-20\",n:\"Roman DBDR Tech Acquisition Corp. III\",ipoPriceRange:\"$10.00\",sharesOffered:25000000},{s:\"JJOC\",filingDate:\"2021-12-10\",n:\"JJ Opportunity Corp.\",ipoPriceRange:\"$10.00\",sharesOffered:5000000},{s:\"ICGC\",filingDate:\"2021-11-22\",n:\"Igniting Consumer Growth Acquisition Company Limited\",ipoPriceRange:\"$10.00\",sharesOffered:20000000},{s:\"SIGQ\",filingDate:\"2021-11-15\",n:\"Sieger Healthcare Acquisition Corp.\",ipoPriceRange:\"$10.00\",sharesOffered:7500000},{s:\"FSHP\",filingDate:\"2021-11-12\",n:\"Flag Ship Acquisition Corporation\",ipoPriceRange:\"$10.00\",sharesOffered:6000000},{s:\"EGAC\",filingDate:\"2021-11-05\",n:\"Europa Growth Acquisition Company\",ipoPriceRange:\"$10.00\",sharesOffered:23500000},{s:\"SMSA\",filingDate:\"2021-11-03\",n:\"Samsara Vision, Inc.\",ipoPriceRange:\"$5.00 - $7.00\",sharesOffered:2500000},{s:\"ECOA\",filingDate:\"2021-11-03\",n:\"Energy Cloud I Acquisition Corporation\",ipoPriceRange:\"$10.00\",sharesOffered:7500000},{s:\"AGDX\",filingDate:\"2021-10-28\",n:\"Agendia N.V.\"},{s:\"NWAC\",filingDate:\"2021-10-26\",n:\"Namaste World Acquisition Corporation\",ipoPriceRange:\"$10.00\",sharesOffered:10000000},{s:\"RDTX\",filingDate:\"2021-10-22\",n:\"Roman DBDR Tech Acquisition Corp. II\",ipoPriceRange:\"$10.00\",sharesOffered:21500000},{s:\"ARAC\",filingDate:\"2021-10-20\",n:\"Artemis Acquisition Corp.\",ipoPriceRange:\"$10.00\",sharesOffered:20000000},{s:\"VDNT\",filingDate:\"2021-10-18\",n:\"Verdant Earth Technologies Limited\",ipoPriceRange:\"$7.00 - $9.00\",sharesOffered:6250000},{s:\"BXHA\",filingDate:\"2021-10-15\",n:\"Bombax Healthcare Acquisition Corporation\",ipoPriceRange:\"$10.00\",sharesOffered:5000000},{s:\"JUNS\",filingDate:\"2021-10-12\",n:\"Jupiter Neurosciences, Inc.\",ipoPriceRange:\"$5.75\",sharesOffered:2608695},{s:\"XYGJ\",filingDate:\"2021-09-30\",n:\"Fortune Joy International Acquisition Corp\",ipoPriceRange:\"$10.00\",sharesOffered:6000000},{s:\"REAI\",filingDate:\"2021-09-14\",n:\"Renewable Energy Acquisition Corp.\",ipoPriceRange:\"$10.00\",sharesOffered:7500000},{s:\"AEIB\",filingDate:\"2021-09-07\",n:\"AEI CapForce II Investment Corp.\",ipoPriceRange:\"$10.00\",sharesOffered:10000000},{s:\"DCRE\",filingDate:\"2021-09-02\",n:\"Decarbonization Plus Acquisition Corporation V\",ipoPriceRange:\"$10.00\",sharesOffered:27500000},{s:\"ISI\",filingDate:\"2021-08-31\",n:\"Internet Sciences, Inc.\",ipoPriceRange:\"$5.00\",sharesOffered:2000000},{s:\"KPN\",filingDate:\"2021-08-31\",n:\"Kepuni Holdings, Inc.\",ipoPriceRange:\"$6.00\",sharesOffered:4200000},{s:\"PHEX\",filingDate:\"2021-08-13\",n:\"Phoenix Acquisition Limited\",ipoPriceRange:\"$10.00\",sharesOffered:6000000},{s:\"HAC\",filingDate:\"2021-08-05\",n:\"Hash Space Acquisition Corp.\",ipoPriceRange:\"$10.00\",sharesOffered:4000000},{s:\"WODA\",filingDate:\"2021-07-28\",n:\"WODA Corp.\",ipoPriceRange:\"$10.00\",sharesOffered:10000000},{s:\"NFTT\",filingDate:\"2021-07-26\",n:\"Neo Technology Acquisition Corporation\",ipoPriceRange:\"$10.00\",sharesOffered:4000000},{s:\"JVAC\",filingDate:\"2021-07-20\",n:\"Jade Value Acquisition Corporation\",ipoPriceRange:\"$10.00\",sharesOffered:7500000},{s:\"APOA\",filingDate:\"2021-07-20\",n:\"Apollo Acquisition Corporation\",ipoPriceRange:\"$10.00\",sharesOffered:4000000},{s:\"GVAC\",filingDate:\"2021-07-16\",n:\"Golden Ventures Acquisition Corporation\",ipoPriceRange:\"$10.00\",sharesOffered:10000000},{s:\"AQUB\",filingDate:\"2021-07-16\",n:\"Aquarius II Acquisition Corp.\",ipoPriceRange:\"$10.00\",sharesOffered:6000000},{s:\"EVSD\",filingDate:\"2021-07-16\",n:\"Everside Health Group, Inc.\"},{s:\"PRDT\",filingDate:\"2021-07-14\",n:\"Peridot Acquisition Corp. III\",ipoPriceRange:\"$10.00\",sharesOffered:30000000},{s:\"SCEM\",filingDate:\"2021-07-14\",n:\"Sachem Acquisition Corp.\",ipoPriceRange:\"$10.00\",sharesOffered:5000000},{s:\"PHCC\",filingDate:\"2021-07-06\",n:\"Preston Hollow Community Capital, Inc.\",ipoPriceRange:\"$18.00 - $20.00\",sharesOffered:10526316},{s:\"AIAC\",filingDate:\"2021-07-06\",n:\"Aquarius I Acquisition Corp.\",ipoPriceRange:\"$10.00\",sharesOffered:7500000},{s:\"PMAC\",filingDate:\"2021-07-06\",n:\"Pomona Acquisition Limited\",ipoPriceRange:\"$10.00\",sharesOffered:5000000},{s:\"RICH\",filingDate:\"2021-07-06\",n:\"RichSpace Acquisition Corp.\",ipoPriceRange:\"$10.00\",sharesOffered:4000000},{s:\"ROTK\",filingDate:\"2021-07-06\",n:\"Rotech Healthcare Holdings, Inc.\"},{s:\"BTRY\",filingDate:\"2021-07-02\",n:\"Clarios International, Inc.\"},{s:\"HUAK\",filingDate:\"2021-06-29\",n:\"Huake Holding Biology Co., Ltd\",ipoPriceRange:\"$4.00 - $6.00\",sharesOffered:1250000},{s:\"KOOL\",filingDate:\"2021-06-25\",n:\"Manycore Tech, Inc.\"},{s:\"UKWI\",filingDate:\"2021-06-04\",n:\"UK Wisdom Limited\",ipoPriceRange:\"$10.00\",sharesOffered:5000000},{s:\"SPTA\",filingDate:\"2021-05-26\",n:\"Sparta Healthcare Acquisition Corp.\",ipoPriceRange:\"$10.00\",sharesOffered:10000000},{s:\"TUFU\",filingDate:\"2021-05-26\",n:\"TradeUP 88 Corp.\",ipoPriceRange:\"$10.00\",sharesOffered:8800000},{s:\"SVNI\",filingDate:\"2021-05-11\",n:\"Seven Islands, Inc.\",ipoPriceRange:\"$10.00\",sharesOffered:30000000},{s:\"LTVA\",filingDate:\"2021-05-11\",n:\"LTV Capital Partners I\",ipoPriceRange:\"$10.00\",sharesOffered:21500000},{s:\"MLXA\",filingDate:\"2021-05-06\",n:\"Mericsson Acquisition Corporation\",ipoPriceRange:\"$10.00\",sharesOffered:4000000},{s:\"RTPX\",filingDate:\"2021-05-05\",n:\"Reinvent Technology Partners X\",ipoPriceRange:\"$10.00\",sharesOffered:22000000},{s:\"SWGC\",filingDate:\"2021-04-16\",n:\"Stillwater Growth Corp. I\",ipoPriceRange:\"$10.00\",sharesOffered:20000000},{s:\"TACQ\",filingDate:\"2021-04-08\",n:\"Tetragon Acquisition Corporation I\",ipoPriceRange:\"$10.00\",sharesOffered:50000000},{s:\"AURV\",filingDate:\"2021-04-05\",n:\"Aurvandil Acquisition Corp.\",ipoPriceRange:\"$10.00\",sharesOffered:25000000},{s:\"BTVC\",filingDate:\"2021-03-29\",n:\"Tribe Capital Growth Corp. II\",ipoPriceRange:\"$10.00\",sharesOffered:30000000},{s:\"CATL\",filingDate:\"2021-03-22\",n:\"Category Leader Partner Corporation 1\",ipoPriceRange:\"$10.00\",sharesOffered:20000000},{s:\"ONS\",filingDate:\"2021-03-19\",n:\"ONS Acquisition Corp.\",ipoPriceRange:\"$10.00\",sharesOffered:15000000},{s:\"ETA\",filingDate:\"2021-03-19\",n:\"Integrated Energy Transition Acquisition Corp.\",ipoPriceRange:\"$10.00\",sharesOffered:15000000},{s:\"RCDA\",filingDate:\"2021-03-18\",n:\"Red Cell DRM Acquisition Corp.\",ipoPriceRange:\"$10.00\",sharesOffered:25000000},{s:\"STLR\",filingDate:\"2021-03-18\",n:\"Stellaris Growth Acquisition Corp.\",ipoPriceRange:\"$10.00\",sharesOffered:12800000},{s:\"ICGA\",filingDate:\"2021-03-17\",n:\"ICG Hypersonic Acquisition Corp.\",ipoPriceRange:\"$10.00\",sharesOffered:25000000},{s:\"SPGL\",filingDate:\"2021-03-11\",n:\"SPGL Acquisition Corporation\",ipoPriceRange:\"$10.00\",sharesOffered:25000000},{s:\"QNZL\",filingDate:\"2021-03-11\",n:\"Quinzel Acquisition Company\",ipoPriceRange:\"$10.00\",sharesOffered:20000000},{s:\"TRNY\",filingDate:\"2021-03-10\",n:\"Trinity Acquisition Corporation\",ipoPriceRange:\"$10.00\",sharesOffered:25000000},{s:\"GFLD\",filingDate:\"2021-03-08\",n:\"Gefen Landa Acquisition Corp.\",ipoPriceRange:\"$10.00\",sharesOffered:25000000},{s:\"CALQ\",filingDate:\"2021-03-05\",n:\"Callodine Acquisition Corporation\",ipoPriceRange:\"$10.00\",sharesOffered:25000000},{s:\"CNAQ\",filingDate:\"2021-03-05\",n:\"Chardan NexTech Acquisition Corp.\",ipoPriceRange:\"$10.00\",sharesOffered:15000000},{s:\"HRDG\",filingDate:\"2021-03-05\",n:\"Huarui International New Material Limited\",ipoPriceRange:\"$4.00 - $6.00\",sharesOffered:2400000},{s:\"ACAM\",filingDate:\"2021-03-02\",n:\"Acamar Partners Acquisition Corp. II\",ipoPriceRange:\"$10.00\",sharesOffered:35000000},{s:\"NSAL\",filingDate:\"2021-03-02\",n:\"Navios South American Logistics, Inc.\"},{s:\"RADD\",filingDate:\"2021-03-01\",n:\"Corner Growth Acquisition Corp. 3\",ipoPriceRange:\"$10.00\",sharesOffered:45000000},{s:\"VEMC\",filingDate:\"2021-02-25\",n:\"Velocity Merger Corp.\",ipoPriceRange:\"$10.00\",sharesOffered:25000000},{s:\"BDS\",filingDate:\"2021-02-25\",n:\"Building DreamStar Technology, Inc.\",ipoPriceRange:\"$5.50\",sharesOffered:4600000},{s:\"GGI\",filingDate:\"2021-02-23\",n:\"Guggenheim Special Purpose Acquisition Corp. I\",ipoPriceRange:\"$10.00\",sharesOffered:50000000},{s:\"TWCG\",filingDate:\"2021-02-23\",n:\"Galliot Acquisition Corp.\",ipoPriceRange:\"$10.00\",sharesOffered:25000000},{s:\"ATWO\",filingDate:\"2021-02-23\",n:\"Acies Acquisition Corp. II\",ipoPriceRange:\"$10.00\",sharesOffered:25000000},{s:\"KVSD\",filingDate:\"2021-02-23\",n:\"Khosla Ventures Acquisition Co. IV\",ipoPriceRange:\"$10.00\",sharesOffered:20000000},{s:\"ASPX\",filingDate:\"2021-02-22\",n:\"Aspirational Consumer Lifestyle Corp. II\",ipoPriceRange:\"$10.00\",sharesOffered:30000000},{s:\"NPAC\",filingDate:\"2021-02-22\",n:\"New Providence Acquisition Corp. III\",ipoPriceRange:\"$10.00\",sharesOffered:30000000},{s:\"EOCO\",filingDate:\"2021-02-19\",n:\"Elliott Opportunity I Corp.\",ipoPriceRange:\"$10.00\",sharesOffered:100000000},{s:\"EXAC\",filingDate:\"2021-02-10\",n:\"Excolere Acquisition Corp.\",ipoPriceRange:\"$10.00\",sharesOffered:17500000},{s:\"AACP\",filingDate:\"2021-01-25\",n:\"Aeon Acquisition Corp.\",ipoPriceRange:\"$10.00\",sharesOffered:12500000},{s:\"TONY\",filingDate:\"2021-01-22\",n:\"Tony Fun, Inc.\",ipoPriceRange:\"$7.00 - $7.50\",sharesOffered:4177500},{s:\"DECI\",filingDate:\"2021-01-19\",n:\"Decipher Biosciences, Inc.\"},{s:\"NGIO\",filingDate:\"2020-09-14\",n:\"NuGenerex Immuno-oncology, Inc.\",ipoPriceRange:\"$8.50 - $9.50\",sharesOffered:5555556},{s:\"GMWX\",filingDate:\"2020-09-08\",n:\"GameWorks, Inc.\"},{s:\"SCIT\",filingDate:\"2020-09-04\",n:\"Sancai Holding Group Ltd.\"},{s:\"ALEH\",filingDate:\"2020-06-17\",n:\"ALE Group Holding Limited\",ipoPriceRange:\"$4.00 - $6.00\",sharesOffered:4200000},{s:\"CAST\",filingDate:\"2020-02-18\",n:\"FreeCast, Inc.\"},{s:\"GOXS\",filingDate:\"2020-01-21\",n:\"Goxus, Inc.\",ipoPriceRange:\"$8.00 - $10.00\",sharesOffered:1500000},{s:\"UTXO\",filingDate:\"2020-01-21\",n:\"UTXO Acquisition, Inc.\",ipoPriceRange:\"$10.00\",sharesOffered:5000000},{s:\"LOHA\",filingDate:\"2019-12-09\",n:\"Loha Co. Ltd\",ipoPriceRange:\"$8.00 - $10.00\",sharesOffered:2500000},{s:\"ZGHB\",filingDate:\"2019-10-04\",n:\"China Eco-Materials Group Co. Limited\",ipoPriceRange:\"$4.00\",sharesOffered:4300000},{s:\"FBOX\",filingDate:\"2018-12-27\",n:\"Fit Boxx Holdings Limited\",ipoPriceRange:\"$5.00 - $6.50\",sharesOffered:2000000}],ipoCalendarMin:[{s:\"ZK\",n:\"ZEEKR Intelligent Technology Holding\",i:\"May 10\"},{s:\"LRTX\",n:\"Lirum Therapeutics\",i:\"May 10\"},{s:\"GGL\",n:\"Games Global\",i:\"May 14\"},{s:\"JDZG\",n:\"Jiade\",i:\"May 15\"},{s:\"KDLY\",n:\"Kindly MD\",i:\"May 15\"}],ipoNewsMin:[{t:\"Chinese EV maker Zeekr prices IPO at $21, at the top end of range, reports say\",u:\"https://www.cnbc.com/2024/05/09/chinese-ev-maker-zeekr-prices-ipo-at-21-at-the-top-end-of-range-reports-say.html\",n:\"CNBC\",d:\"13 hours ago\"},{t:\"Exclusive: Chinese EV maker Zeekr prices US IPO at top of range to raise $441 million, source says\",u:\"https://www.reuters.com/markets/deals/chinese-ev-maker-zeekr-prices-us-ipo-top-range-raise-441-million-source-says-2024-05-09/\",n:\"Reuters\",d:\"15 hours ago\"},{t:\"Reddit Stock Rises After First Post-IPO Earnings Report\",u:\"https://www.kiplinger.com/investing/stocks/reddit-stock-rises-after-first-post-ipo-earnings-report\",n:\"Kiplinger\",d:\"1 day ago\"},{t:\"Reddit\\'s first post-IPO results are â\\x80\\x98mission accomplished,\\' with international and data-licensing opportunities ahead\",u:\"https://www.marketwatch.com/story/reddits-first-post-ipo-results-are-mission-accomplished-with-international-and-data-licensing-opportunities-ahead-bff1f4cb\",n:\"Market Watch\",d:\"1 day ago\"},{t:\"Reddit Stock Soars After Reporting Record User Traffic in First Earnings Report Since IPO\",u:\"https://www.investopedia.com/reddit-q1-fy-2024-earnings-8644631\",n:\"Investopedia\",d:\"2 days ago\"},{t:\"Reddit shares soar almost 20% after company reports revenue pop in first earnings report since IPO\",u:\"https://www.cnbc.com/2024/05/07/reddit-rddt-q1-2024-earnings.html\",n:\"CNBC\",d:\"2 days ago\"},{t:\"Zeekr Plans to Close IPO Book Early Ahead of U.S. Listing\",u:\"https://www.wsj.com/articles/zeekr-plans-to-close-ipo-book-early-ahead-of-u-s-listing-5020f0e2\",n:\"WSJ\",d:\"3 days ago\"},{t:\"China\\'s Zeekr to close $367.5 mln New York IPO one day early, source says\",u:\"https://www.reuters.com/markets/deals/chinas-zeekr-close-3675-mln-new-york-ipo-one-day-early-source-says-2024-05-07/\",n:\"Reuters\",d:\"3 days ago\"},{t:\"What You Need To Know Ahead of Reddit\\'s First Earnings Report Since Its IPO\",u:\"https://www.investopedia.com/reddit-q1-2024-earnings-preview-8642033\",n:\"Investopedia\",d:\"6 days ago\"},{t:\"China\\'s Zeekr plans to raise up to $368 mln in US IPO\",u:\"https://www.reuters.com/markets/deals/chinas-zeekr-plans-raise-up-368-mln-us-ipo-2024-05-03/\",n:\"Reuters\",d:\"6 days ago\"}]},\"uses\":{}}];\\n\\n\\t\\t\\t\\t\\tPromise.all([\\n\\t\\t\\t\\t\\t\\timport(\"../../_app/immutable/entry/start.B5qF7gMN.js\"),\\n\\t\\t\\t\\t\\t\\timport(\"../../_app/immutable/entry/app.Bx1im0fG.js\")\\n\\t\\t\\t\\t\\t]).then(([kit, app]) => {\\n\\t\\t\\t\\t\\t\\tkit.start(app, element, {\\n\\t\\t\\t\\t\\t\\t\\tnode_ids: [0, 10, 54],\\n\\t\\t\\t\\t\\t\\t\\tdata,\\n\\t\\t\\t\\t\\t\\t\\tform: null,\\n\\t\\t\\t\\t\\t\\t\\terror: null\\n\\t\\t\\t\\t\\t\\t});\\n\\t\\t\\t\\t\\t});\\n\\t\\t\\t\\t}\\n\\t\\t\\t</script>\\n\\t\\t</div>\\n\\t</body>\\n</html>\\n'"
            ],
            "application/vnd.google.colaboratory.intrinsic+json": {
              "type": "string"
            }
          },
          "metadata": {},
          "execution_count": 4
        }
      ]
    },
    {
      "cell_type": "code",
      "source": [
        "ipo_filings_list = pd.read_html(response.text)"
      ],
      "metadata": {
        "id": "yxcsniTA3MHW"
      },
      "execution_count": 5,
      "outputs": []
    },
    {
      "cell_type": "code",
      "source": [
        "len(ipo_filings_list), type(ipo_filings_list)"
      ],
      "metadata": {
        "colab": {
          "base_uri": "https://localhost:8080/"
        },
        "id": "1oJag3S54Gx0",
        "outputId": "bd759d02-283f-47f1-be0b-460b7c53038d"
      },
      "execution_count": 6,
      "outputs": [
        {
          "output_type": "execute_result",
          "data": {
            "text/plain": [
              "(2, list)"
            ]
          },
          "metadata": {},
          "execution_count": 6
        }
      ]
    },
    {
      "cell_type": "code",
      "source": [
        "print(f'\\n{ipo_filings_list[0].head()} \\n {ipo_filings_list[1].head()}')"
      ],
      "metadata": {
        "colab": {
          "base_uri": "https://localhost:8080/"
        },
        "id": "EHiaYFLE4P6U",
        "outputId": "b9a8353a-73c8-4e06-8f98-188ee01de2f8"
      },
      "execution_count": 7,
      "outputs": [
        {
          "output_type": "stream",
          "name": "stdout",
          "text": [
            "\n",
            "    Filing Date Symbol                           Company Name Price Range  \\\n",
            "0   May 3, 2024    TBN         Tamboran Resources Corporation           -   \n",
            "1  Apr 29, 2024   HWEC                   HW Electro Co., Ltd.       $3.00   \n",
            "2  Apr 29, 2024   DTSQ  DT Cloud Star Acquisition Corporation      $10.00   \n",
            "3  Apr 26, 2024   EURK                Eureka Acquisition Corp      $10.00   \n",
            "4  Apr 26, 2024    HDL    Super Hi International Holding Ltd.           -   \n",
            "\n",
            "  Shares Offered  \n",
            "0              -  \n",
            "1        3750000  \n",
            "2        6000000  \n",
            "3        5000000  \n",
            "4              -   \n",
            "      Date Symbol                                  Name\n",
            "0  May 10     ZK  ZEEKR Intelligent Technology Holding\n",
            "1  May 10   LRTX                    Lirum Therapeutics\n",
            "2  May 14    GGL                          Games Global\n",
            "3  May 15   JDZG                                 Jiade\n",
            "4  May 15   KDLY                             Kindly MD\n"
          ]
        }
      ]
    },
    {
      "cell_type": "code",
      "source": [
        "ipo_filings = ipo_filings_list[0]\n",
        "ipo_filings.head()"
      ],
      "metadata": {
        "colab": {
          "base_uri": "https://localhost:8080/",
          "height": 206
        },
        "id": "PvLI8fAs4hHN",
        "outputId": "1554aca1-49df-495a-9026-6e1e8ccc7fea"
      },
      "execution_count": 8,
      "outputs": [
        {
          "output_type": "execute_result",
          "data": {
            "text/plain": [
              "    Filing Date Symbol                           Company Name Price Range  \\\n",
              "0   May 3, 2024    TBN         Tamboran Resources Corporation           -   \n",
              "1  Apr 29, 2024   HWEC                   HW Electro Co., Ltd.       $3.00   \n",
              "2  Apr 29, 2024   DTSQ  DT Cloud Star Acquisition Corporation      $10.00   \n",
              "3  Apr 26, 2024   EURK                Eureka Acquisition Corp      $10.00   \n",
              "4  Apr 26, 2024    HDL    Super Hi International Holding Ltd.           -   \n",
              "\n",
              "  Shares Offered  \n",
              "0              -  \n",
              "1        3750000  \n",
              "2        6000000  \n",
              "3        5000000  \n",
              "4              -  "
            ],
            "text/html": [
              "\n",
              "  <div id=\"df-e978658e-045c-42ac-8202-c92038da7073\" class=\"colab-df-container\">\n",
              "    <div>\n",
              "<style scoped>\n",
              "    .dataframe tbody tr th:only-of-type {\n",
              "        vertical-align: middle;\n",
              "    }\n",
              "\n",
              "    .dataframe tbody tr th {\n",
              "        vertical-align: top;\n",
              "    }\n",
              "\n",
              "    .dataframe thead th {\n",
              "        text-align: right;\n",
              "    }\n",
              "</style>\n",
              "<table border=\"1\" class=\"dataframe\">\n",
              "  <thead>\n",
              "    <tr style=\"text-align: right;\">\n",
              "      <th></th>\n",
              "      <th>Filing Date</th>\n",
              "      <th>Symbol</th>\n",
              "      <th>Company Name</th>\n",
              "      <th>Price Range</th>\n",
              "      <th>Shares Offered</th>\n",
              "    </tr>\n",
              "  </thead>\n",
              "  <tbody>\n",
              "    <tr>\n",
              "      <th>0</th>\n",
              "      <td>May 3, 2024</td>\n",
              "      <td>TBN</td>\n",
              "      <td>Tamboran Resources Corporation</td>\n",
              "      <td>-</td>\n",
              "      <td>-</td>\n",
              "    </tr>\n",
              "    <tr>\n",
              "      <th>1</th>\n",
              "      <td>Apr 29, 2024</td>\n",
              "      <td>HWEC</td>\n",
              "      <td>HW Electro Co., Ltd.</td>\n",
              "      <td>$3.00</td>\n",
              "      <td>3750000</td>\n",
              "    </tr>\n",
              "    <tr>\n",
              "      <th>2</th>\n",
              "      <td>Apr 29, 2024</td>\n",
              "      <td>DTSQ</td>\n",
              "      <td>DT Cloud Star Acquisition Corporation</td>\n",
              "      <td>$10.00</td>\n",
              "      <td>6000000</td>\n",
              "    </tr>\n",
              "    <tr>\n",
              "      <th>3</th>\n",
              "      <td>Apr 26, 2024</td>\n",
              "      <td>EURK</td>\n",
              "      <td>Eureka Acquisition Corp</td>\n",
              "      <td>$10.00</td>\n",
              "      <td>5000000</td>\n",
              "    </tr>\n",
              "    <tr>\n",
              "      <th>4</th>\n",
              "      <td>Apr 26, 2024</td>\n",
              "      <td>HDL</td>\n",
              "      <td>Super Hi International Holding Ltd.</td>\n",
              "      <td>-</td>\n",
              "      <td>-</td>\n",
              "    </tr>\n",
              "  </tbody>\n",
              "</table>\n",
              "</div>\n",
              "    <div class=\"colab-df-buttons\">\n",
              "\n",
              "  <div class=\"colab-df-container\">\n",
              "    <button class=\"colab-df-convert\" onclick=\"convertToInteractive('df-e978658e-045c-42ac-8202-c92038da7073')\"\n",
              "            title=\"Convert this dataframe to an interactive table.\"\n",
              "            style=\"display:none;\">\n",
              "\n",
              "  <svg xmlns=\"http://www.w3.org/2000/svg\" height=\"24px\" viewBox=\"0 -960 960 960\">\n",
              "    <path d=\"M120-120v-720h720v720H120Zm60-500h600v-160H180v160Zm220 220h160v-160H400v160Zm0 220h160v-160H400v160ZM180-400h160v-160H180v160Zm440 0h160v-160H620v160ZM180-180h160v-160H180v160Zm440 0h160v-160H620v160Z\"/>\n",
              "  </svg>\n",
              "    </button>\n",
              "\n",
              "  <style>\n",
              "    .colab-df-container {\n",
              "      display:flex;\n",
              "      gap: 12px;\n",
              "    }\n",
              "\n",
              "    .colab-df-convert {\n",
              "      background-color: #E8F0FE;\n",
              "      border: none;\n",
              "      border-radius: 50%;\n",
              "      cursor: pointer;\n",
              "      display: none;\n",
              "      fill: #1967D2;\n",
              "      height: 32px;\n",
              "      padding: 0 0 0 0;\n",
              "      width: 32px;\n",
              "    }\n",
              "\n",
              "    .colab-df-convert:hover {\n",
              "      background-color: #E2EBFA;\n",
              "      box-shadow: 0px 1px 2px rgba(60, 64, 67, 0.3), 0px 1px 3px 1px rgba(60, 64, 67, 0.15);\n",
              "      fill: #174EA6;\n",
              "    }\n",
              "\n",
              "    .colab-df-buttons div {\n",
              "      margin-bottom: 4px;\n",
              "    }\n",
              "\n",
              "    [theme=dark] .colab-df-convert {\n",
              "      background-color: #3B4455;\n",
              "      fill: #D2E3FC;\n",
              "    }\n",
              "\n",
              "    [theme=dark] .colab-df-convert:hover {\n",
              "      background-color: #434B5C;\n",
              "      box-shadow: 0px 1px 3px 1px rgba(0, 0, 0, 0.15);\n",
              "      filter: drop-shadow(0px 1px 2px rgba(0, 0, 0, 0.3));\n",
              "      fill: #FFFFFF;\n",
              "    }\n",
              "  </style>\n",
              "\n",
              "    <script>\n",
              "      const buttonEl =\n",
              "        document.querySelector('#df-e978658e-045c-42ac-8202-c92038da7073 button.colab-df-convert');\n",
              "      buttonEl.style.display =\n",
              "        google.colab.kernel.accessAllowed ? 'block' : 'none';\n",
              "\n",
              "      async function convertToInteractive(key) {\n",
              "        const element = document.querySelector('#df-e978658e-045c-42ac-8202-c92038da7073');\n",
              "        const dataTable =\n",
              "          await google.colab.kernel.invokeFunction('convertToInteractive',\n",
              "                                                    [key], {});\n",
              "        if (!dataTable) return;\n",
              "\n",
              "        const docLinkHtml = 'Like what you see? Visit the ' +\n",
              "          '<a target=\"_blank\" href=https://colab.research.google.com/notebooks/data_table.ipynb>data table notebook</a>'\n",
              "          + ' to learn more about interactive tables.';\n",
              "        element.innerHTML = '';\n",
              "        dataTable['output_type'] = 'display_data';\n",
              "        await google.colab.output.renderOutput(dataTable, element);\n",
              "        const docLink = document.createElement('div');\n",
              "        docLink.innerHTML = docLinkHtml;\n",
              "        element.appendChild(docLink);\n",
              "      }\n",
              "    </script>\n",
              "  </div>\n",
              "\n",
              "\n",
              "<div id=\"df-033f934c-201e-41a0-8811-a38d177bece0\">\n",
              "  <button class=\"colab-df-quickchart\" onclick=\"quickchart('df-033f934c-201e-41a0-8811-a38d177bece0')\"\n",
              "            title=\"Suggest charts\"\n",
              "            style=\"display:none;\">\n",
              "\n",
              "<svg xmlns=\"http://www.w3.org/2000/svg\" height=\"24px\"viewBox=\"0 0 24 24\"\n",
              "     width=\"24px\">\n",
              "    <g>\n",
              "        <path d=\"M19 3H5c-1.1 0-2 .9-2 2v14c0 1.1.9 2 2 2h14c1.1 0 2-.9 2-2V5c0-1.1-.9-2-2-2zM9 17H7v-7h2v7zm4 0h-2V7h2v10zm4 0h-2v-4h2v4z\"/>\n",
              "    </g>\n",
              "</svg>\n",
              "  </button>\n",
              "\n",
              "<style>\n",
              "  .colab-df-quickchart {\n",
              "      --bg-color: #E8F0FE;\n",
              "      --fill-color: #1967D2;\n",
              "      --hover-bg-color: #E2EBFA;\n",
              "      --hover-fill-color: #174EA6;\n",
              "      --disabled-fill-color: #AAA;\n",
              "      --disabled-bg-color: #DDD;\n",
              "  }\n",
              "\n",
              "  [theme=dark] .colab-df-quickchart {\n",
              "      --bg-color: #3B4455;\n",
              "      --fill-color: #D2E3FC;\n",
              "      --hover-bg-color: #434B5C;\n",
              "      --hover-fill-color: #FFFFFF;\n",
              "      --disabled-bg-color: #3B4455;\n",
              "      --disabled-fill-color: #666;\n",
              "  }\n",
              "\n",
              "  .colab-df-quickchart {\n",
              "    background-color: var(--bg-color);\n",
              "    border: none;\n",
              "    border-radius: 50%;\n",
              "    cursor: pointer;\n",
              "    display: none;\n",
              "    fill: var(--fill-color);\n",
              "    height: 32px;\n",
              "    padding: 0;\n",
              "    width: 32px;\n",
              "  }\n",
              "\n",
              "  .colab-df-quickchart:hover {\n",
              "    background-color: var(--hover-bg-color);\n",
              "    box-shadow: 0 1px 2px rgba(60, 64, 67, 0.3), 0 1px 3px 1px rgba(60, 64, 67, 0.15);\n",
              "    fill: var(--button-hover-fill-color);\n",
              "  }\n",
              "\n",
              "  .colab-df-quickchart-complete:disabled,\n",
              "  .colab-df-quickchart-complete:disabled:hover {\n",
              "    background-color: var(--disabled-bg-color);\n",
              "    fill: var(--disabled-fill-color);\n",
              "    box-shadow: none;\n",
              "  }\n",
              "\n",
              "  .colab-df-spinner {\n",
              "    border: 2px solid var(--fill-color);\n",
              "    border-color: transparent;\n",
              "    border-bottom-color: var(--fill-color);\n",
              "    animation:\n",
              "      spin 1s steps(1) infinite;\n",
              "  }\n",
              "\n",
              "  @keyframes spin {\n",
              "    0% {\n",
              "      border-color: transparent;\n",
              "      border-bottom-color: var(--fill-color);\n",
              "      border-left-color: var(--fill-color);\n",
              "    }\n",
              "    20% {\n",
              "      border-color: transparent;\n",
              "      border-left-color: var(--fill-color);\n",
              "      border-top-color: var(--fill-color);\n",
              "    }\n",
              "    30% {\n",
              "      border-color: transparent;\n",
              "      border-left-color: var(--fill-color);\n",
              "      border-top-color: var(--fill-color);\n",
              "      border-right-color: var(--fill-color);\n",
              "    }\n",
              "    40% {\n",
              "      border-color: transparent;\n",
              "      border-right-color: var(--fill-color);\n",
              "      border-top-color: var(--fill-color);\n",
              "    }\n",
              "    60% {\n",
              "      border-color: transparent;\n",
              "      border-right-color: var(--fill-color);\n",
              "    }\n",
              "    80% {\n",
              "      border-color: transparent;\n",
              "      border-right-color: var(--fill-color);\n",
              "      border-bottom-color: var(--fill-color);\n",
              "    }\n",
              "    90% {\n",
              "      border-color: transparent;\n",
              "      border-bottom-color: var(--fill-color);\n",
              "    }\n",
              "  }\n",
              "</style>\n",
              "\n",
              "  <script>\n",
              "    async function quickchart(key) {\n",
              "      const quickchartButtonEl =\n",
              "        document.querySelector('#' + key + ' button');\n",
              "      quickchartButtonEl.disabled = true;  // To prevent multiple clicks.\n",
              "      quickchartButtonEl.classList.add('colab-df-spinner');\n",
              "      try {\n",
              "        const charts = await google.colab.kernel.invokeFunction(\n",
              "            'suggestCharts', [key], {});\n",
              "      } catch (error) {\n",
              "        console.error('Error during call to suggestCharts:', error);\n",
              "      }\n",
              "      quickchartButtonEl.classList.remove('colab-df-spinner');\n",
              "      quickchartButtonEl.classList.add('colab-df-quickchart-complete');\n",
              "    }\n",
              "    (() => {\n",
              "      let quickchartButtonEl =\n",
              "        document.querySelector('#df-033f934c-201e-41a0-8811-a38d177bece0 button');\n",
              "      quickchartButtonEl.style.display =\n",
              "        google.colab.kernel.accessAllowed ? 'block' : 'none';\n",
              "    })();\n",
              "  </script>\n",
              "</div>\n",
              "\n",
              "    </div>\n",
              "  </div>\n"
            ],
            "application/vnd.google.colaboratory.intrinsic+json": {
              "type": "dataframe",
              "variable_name": "ipo_filings",
              "summary": "{\n  \"name\": \"ipo_filings\",\n  \"rows\": 324,\n  \"fields\": [\n    {\n      \"column\": \"Filing Date\",\n      \"properties\": {\n        \"dtype\": \"string\",\n        \"num_unique_values\": 255,\n        \"samples\": [\n          \"Dec 10, 2021\",\n          \"Apr 12, 2024\",\n          \"Aug 24, 2023\"\n        ],\n        \"semantic_type\": \"\",\n        \"description\": \"\"\n      }\n    },\n    {\n      \"column\": \"Symbol\",\n      \"properties\": {\n        \"dtype\": \"string\",\n        \"num_unique_values\": 324,\n        \"samples\": [\n          \"ZRSP\",\n          \"ZXTY\",\n          \"JPO\"\n        ],\n        \"semantic_type\": \"\",\n        \"description\": \"\"\n      }\n    },\n    {\n      \"column\": \"Company Name\",\n      \"properties\": {\n        \"dtype\": \"string\",\n        \"num_unique_values\": 324,\n        \"samples\": [\n          \"Zerospo\",\n          \"Zhongxing Holding Group Ltd\",\n          \"JP Outfitters, Inc.\"\n        ],\n        \"semantic_type\": \"\",\n        \"description\": \"\"\n      }\n    },\n    {\n      \"column\": \"Price Range\",\n      \"properties\": {\n        \"dtype\": \"category\",\n        \"num_unique_values\": 45,\n        \"samples\": [\n          \"$7.00 - $9.00\",\n          \"$5.50\",\n          \"$20.00\"\n        ],\n        \"semantic_type\": \"\",\n        \"description\": \"\"\n      }\n    },\n    {\n      \"column\": \"Shares Offered\",\n      \"properties\": {\n        \"dtype\": \"category\",\n        \"num_unique_values\": 82,\n        \"samples\": [\n          \"400000\",\n          \"-\",\n          \"1500000\"\n        ],\n        \"semantic_type\": \"\",\n        \"description\": \"\"\n      }\n    }\n  ]\n}"
            }
          },
          "metadata": {},
          "execution_count": 8
        }
      ]
    },
    {
      "cell_type": "code",
      "source": [
        "ipo_filings_list[1].head()"
      ],
      "metadata": {
        "colab": {
          "base_uri": "https://localhost:8080/",
          "height": 206
        },
        "id": "QBBDqyx95CoM",
        "outputId": "11d762cc-962e-4f62-e9b7-5397dfdefd40"
      },
      "execution_count": 9,
      "outputs": [
        {
          "output_type": "execute_result",
          "data": {
            "text/plain": [
              "     Date Symbol                                  Name\n",
              "0  May 10     ZK  ZEEKR Intelligent Technology Holding\n",
              "1  May 10   LRTX                    Lirum Therapeutics\n",
              "2  May 14    GGL                          Games Global\n",
              "3  May 15   JDZG                                 Jiade\n",
              "4  May 15   KDLY                             Kindly MD"
            ],
            "text/html": [
              "\n",
              "  <div id=\"df-7a551b7d-00ac-463a-8695-5edac71def38\" class=\"colab-df-container\">\n",
              "    <div>\n",
              "<style scoped>\n",
              "    .dataframe tbody tr th:only-of-type {\n",
              "        vertical-align: middle;\n",
              "    }\n",
              "\n",
              "    .dataframe tbody tr th {\n",
              "        vertical-align: top;\n",
              "    }\n",
              "\n",
              "    .dataframe thead th {\n",
              "        text-align: right;\n",
              "    }\n",
              "</style>\n",
              "<table border=\"1\" class=\"dataframe\">\n",
              "  <thead>\n",
              "    <tr style=\"text-align: right;\">\n",
              "      <th></th>\n",
              "      <th>Date</th>\n",
              "      <th>Symbol</th>\n",
              "      <th>Name</th>\n",
              "    </tr>\n",
              "  </thead>\n",
              "  <tbody>\n",
              "    <tr>\n",
              "      <th>0</th>\n",
              "      <td>May 10</td>\n",
              "      <td>ZK</td>\n",
              "      <td>ZEEKR Intelligent Technology Holding</td>\n",
              "    </tr>\n",
              "    <tr>\n",
              "      <th>1</th>\n",
              "      <td>May 10</td>\n",
              "      <td>LRTX</td>\n",
              "      <td>Lirum Therapeutics</td>\n",
              "    </tr>\n",
              "    <tr>\n",
              "      <th>2</th>\n",
              "      <td>May 14</td>\n",
              "      <td>GGL</td>\n",
              "      <td>Games Global</td>\n",
              "    </tr>\n",
              "    <tr>\n",
              "      <th>3</th>\n",
              "      <td>May 15</td>\n",
              "      <td>JDZG</td>\n",
              "      <td>Jiade</td>\n",
              "    </tr>\n",
              "    <tr>\n",
              "      <th>4</th>\n",
              "      <td>May 15</td>\n",
              "      <td>KDLY</td>\n",
              "      <td>Kindly MD</td>\n",
              "    </tr>\n",
              "  </tbody>\n",
              "</table>\n",
              "</div>\n",
              "    <div class=\"colab-df-buttons\">\n",
              "\n",
              "  <div class=\"colab-df-container\">\n",
              "    <button class=\"colab-df-convert\" onclick=\"convertToInteractive('df-7a551b7d-00ac-463a-8695-5edac71def38')\"\n",
              "            title=\"Convert this dataframe to an interactive table.\"\n",
              "            style=\"display:none;\">\n",
              "\n",
              "  <svg xmlns=\"http://www.w3.org/2000/svg\" height=\"24px\" viewBox=\"0 -960 960 960\">\n",
              "    <path d=\"M120-120v-720h720v720H120Zm60-500h600v-160H180v160Zm220 220h160v-160H400v160Zm0 220h160v-160H400v160ZM180-400h160v-160H180v160Zm440 0h160v-160H620v160ZM180-180h160v-160H180v160Zm440 0h160v-160H620v160Z\"/>\n",
              "  </svg>\n",
              "    </button>\n",
              "\n",
              "  <style>\n",
              "    .colab-df-container {\n",
              "      display:flex;\n",
              "      gap: 12px;\n",
              "    }\n",
              "\n",
              "    .colab-df-convert {\n",
              "      background-color: #E8F0FE;\n",
              "      border: none;\n",
              "      border-radius: 50%;\n",
              "      cursor: pointer;\n",
              "      display: none;\n",
              "      fill: #1967D2;\n",
              "      height: 32px;\n",
              "      padding: 0 0 0 0;\n",
              "      width: 32px;\n",
              "    }\n",
              "\n",
              "    .colab-df-convert:hover {\n",
              "      background-color: #E2EBFA;\n",
              "      box-shadow: 0px 1px 2px rgba(60, 64, 67, 0.3), 0px 1px 3px 1px rgba(60, 64, 67, 0.15);\n",
              "      fill: #174EA6;\n",
              "    }\n",
              "\n",
              "    .colab-df-buttons div {\n",
              "      margin-bottom: 4px;\n",
              "    }\n",
              "\n",
              "    [theme=dark] .colab-df-convert {\n",
              "      background-color: #3B4455;\n",
              "      fill: #D2E3FC;\n",
              "    }\n",
              "\n",
              "    [theme=dark] .colab-df-convert:hover {\n",
              "      background-color: #434B5C;\n",
              "      box-shadow: 0px 1px 3px 1px rgba(0, 0, 0, 0.15);\n",
              "      filter: drop-shadow(0px 1px 2px rgba(0, 0, 0, 0.3));\n",
              "      fill: #FFFFFF;\n",
              "    }\n",
              "  </style>\n",
              "\n",
              "    <script>\n",
              "      const buttonEl =\n",
              "        document.querySelector('#df-7a551b7d-00ac-463a-8695-5edac71def38 button.colab-df-convert');\n",
              "      buttonEl.style.display =\n",
              "        google.colab.kernel.accessAllowed ? 'block' : 'none';\n",
              "\n",
              "      async function convertToInteractive(key) {\n",
              "        const element = document.querySelector('#df-7a551b7d-00ac-463a-8695-5edac71def38');\n",
              "        const dataTable =\n",
              "          await google.colab.kernel.invokeFunction('convertToInteractive',\n",
              "                                                    [key], {});\n",
              "        if (!dataTable) return;\n",
              "\n",
              "        const docLinkHtml = 'Like what you see? Visit the ' +\n",
              "          '<a target=\"_blank\" href=https://colab.research.google.com/notebooks/data_table.ipynb>data table notebook</a>'\n",
              "          + ' to learn more about interactive tables.';\n",
              "        element.innerHTML = '';\n",
              "        dataTable['output_type'] = 'display_data';\n",
              "        await google.colab.output.renderOutput(dataTable, element);\n",
              "        const docLink = document.createElement('div');\n",
              "        docLink.innerHTML = docLinkHtml;\n",
              "        element.appendChild(docLink);\n",
              "      }\n",
              "    </script>\n",
              "  </div>\n",
              "\n",
              "\n",
              "<div id=\"df-17902950-7b93-4782-9354-13812992728a\">\n",
              "  <button class=\"colab-df-quickchart\" onclick=\"quickchart('df-17902950-7b93-4782-9354-13812992728a')\"\n",
              "            title=\"Suggest charts\"\n",
              "            style=\"display:none;\">\n",
              "\n",
              "<svg xmlns=\"http://www.w3.org/2000/svg\" height=\"24px\"viewBox=\"0 0 24 24\"\n",
              "     width=\"24px\">\n",
              "    <g>\n",
              "        <path d=\"M19 3H5c-1.1 0-2 .9-2 2v14c0 1.1.9 2 2 2h14c1.1 0 2-.9 2-2V5c0-1.1-.9-2-2-2zM9 17H7v-7h2v7zm4 0h-2V7h2v10zm4 0h-2v-4h2v4z\"/>\n",
              "    </g>\n",
              "</svg>\n",
              "  </button>\n",
              "\n",
              "<style>\n",
              "  .colab-df-quickchart {\n",
              "      --bg-color: #E8F0FE;\n",
              "      --fill-color: #1967D2;\n",
              "      --hover-bg-color: #E2EBFA;\n",
              "      --hover-fill-color: #174EA6;\n",
              "      --disabled-fill-color: #AAA;\n",
              "      --disabled-bg-color: #DDD;\n",
              "  }\n",
              "\n",
              "  [theme=dark] .colab-df-quickchart {\n",
              "      --bg-color: #3B4455;\n",
              "      --fill-color: #D2E3FC;\n",
              "      --hover-bg-color: #434B5C;\n",
              "      --hover-fill-color: #FFFFFF;\n",
              "      --disabled-bg-color: #3B4455;\n",
              "      --disabled-fill-color: #666;\n",
              "  }\n",
              "\n",
              "  .colab-df-quickchart {\n",
              "    background-color: var(--bg-color);\n",
              "    border: none;\n",
              "    border-radius: 50%;\n",
              "    cursor: pointer;\n",
              "    display: none;\n",
              "    fill: var(--fill-color);\n",
              "    height: 32px;\n",
              "    padding: 0;\n",
              "    width: 32px;\n",
              "  }\n",
              "\n",
              "  .colab-df-quickchart:hover {\n",
              "    background-color: var(--hover-bg-color);\n",
              "    box-shadow: 0 1px 2px rgba(60, 64, 67, 0.3), 0 1px 3px 1px rgba(60, 64, 67, 0.15);\n",
              "    fill: var(--button-hover-fill-color);\n",
              "  }\n",
              "\n",
              "  .colab-df-quickchart-complete:disabled,\n",
              "  .colab-df-quickchart-complete:disabled:hover {\n",
              "    background-color: var(--disabled-bg-color);\n",
              "    fill: var(--disabled-fill-color);\n",
              "    box-shadow: none;\n",
              "  }\n",
              "\n",
              "  .colab-df-spinner {\n",
              "    border: 2px solid var(--fill-color);\n",
              "    border-color: transparent;\n",
              "    border-bottom-color: var(--fill-color);\n",
              "    animation:\n",
              "      spin 1s steps(1) infinite;\n",
              "  }\n",
              "\n",
              "  @keyframes spin {\n",
              "    0% {\n",
              "      border-color: transparent;\n",
              "      border-bottom-color: var(--fill-color);\n",
              "      border-left-color: var(--fill-color);\n",
              "    }\n",
              "    20% {\n",
              "      border-color: transparent;\n",
              "      border-left-color: var(--fill-color);\n",
              "      border-top-color: var(--fill-color);\n",
              "    }\n",
              "    30% {\n",
              "      border-color: transparent;\n",
              "      border-left-color: var(--fill-color);\n",
              "      border-top-color: var(--fill-color);\n",
              "      border-right-color: var(--fill-color);\n",
              "    }\n",
              "    40% {\n",
              "      border-color: transparent;\n",
              "      border-right-color: var(--fill-color);\n",
              "      border-top-color: var(--fill-color);\n",
              "    }\n",
              "    60% {\n",
              "      border-color: transparent;\n",
              "      border-right-color: var(--fill-color);\n",
              "    }\n",
              "    80% {\n",
              "      border-color: transparent;\n",
              "      border-right-color: var(--fill-color);\n",
              "      border-bottom-color: var(--fill-color);\n",
              "    }\n",
              "    90% {\n",
              "      border-color: transparent;\n",
              "      border-bottom-color: var(--fill-color);\n",
              "    }\n",
              "  }\n",
              "</style>\n",
              "\n",
              "  <script>\n",
              "    async function quickchart(key) {\n",
              "      const quickchartButtonEl =\n",
              "        document.querySelector('#' + key + ' button');\n",
              "      quickchartButtonEl.disabled = true;  // To prevent multiple clicks.\n",
              "      quickchartButtonEl.classList.add('colab-df-spinner');\n",
              "      try {\n",
              "        const charts = await google.colab.kernel.invokeFunction(\n",
              "            'suggestCharts', [key], {});\n",
              "      } catch (error) {\n",
              "        console.error('Error during call to suggestCharts:', error);\n",
              "      }\n",
              "      quickchartButtonEl.classList.remove('colab-df-spinner');\n",
              "      quickchartButtonEl.classList.add('colab-df-quickchart-complete');\n",
              "    }\n",
              "    (() => {\n",
              "      let quickchartButtonEl =\n",
              "        document.querySelector('#df-17902950-7b93-4782-9354-13812992728a button');\n",
              "      quickchartButtonEl.style.display =\n",
              "        google.colab.kernel.accessAllowed ? 'block' : 'none';\n",
              "    })();\n",
              "  </script>\n",
              "</div>\n",
              "\n",
              "    </div>\n",
              "  </div>\n"
            ],
            "application/vnd.google.colaboratory.intrinsic+json": {
              "type": "dataframe",
              "summary": "{\n  \"name\": \"ipo_filings_list[1]\",\n  \"rows\": 5,\n  \"fields\": [\n    {\n      \"column\": \"Date\",\n      \"properties\": {\n        \"dtype\": \"string\",\n        \"num_unique_values\": 3,\n        \"samples\": [\n          \"May 10\",\n          \"May 14\",\n          \"May 15\"\n        ],\n        \"semantic_type\": \"\",\n        \"description\": \"\"\n      }\n    },\n    {\n      \"column\": \"Symbol\",\n      \"properties\": {\n        \"dtype\": \"string\",\n        \"num_unique_values\": 5,\n        \"samples\": [\n          \"LRTX\",\n          \"KDLY\",\n          \"GGL\"\n        ],\n        \"semantic_type\": \"\",\n        \"description\": \"\"\n      }\n    },\n    {\n      \"column\": \"Name\",\n      \"properties\": {\n        \"dtype\": \"string\",\n        \"num_unique_values\": 5,\n        \"samples\": [\n          \"Lirum Therapeutics\",\n          \"Kindly MD\",\n          \"Games Global\"\n        ],\n        \"semantic_type\": \"\",\n        \"description\": \"\"\n      }\n    }\n  ]\n}"
            }
          },
          "metadata": {},
          "execution_count": 9
        }
      ]
    },
    {
      "cell_type": "code",
      "source": [
        "ipo_filings.loc[ipo_filings['Symbol']=='TBN']"
      ],
      "metadata": {
        "colab": {
          "base_uri": "https://localhost:8080/",
          "height": 80
        },
        "id": "pxf_KE8P5Fbk",
        "outputId": "2303c9ba-74d0-4ff2-edc8-e46dc49149d3"
      },
      "execution_count": 10,
      "outputs": [
        {
          "output_type": "execute_result",
          "data": {
            "text/plain": [
              "   Filing Date Symbol                    Company Name Price Range  \\\n",
              "0  May 3, 2024    TBN  Tamboran Resources Corporation           -   \n",
              "\n",
              "  Shares Offered  \n",
              "0              -  "
            ],
            "text/html": [
              "\n",
              "  <div id=\"df-8e15d706-dcb6-4f8f-9b19-fdbe59d96cc4\" class=\"colab-df-container\">\n",
              "    <div>\n",
              "<style scoped>\n",
              "    .dataframe tbody tr th:only-of-type {\n",
              "        vertical-align: middle;\n",
              "    }\n",
              "\n",
              "    .dataframe tbody tr th {\n",
              "        vertical-align: top;\n",
              "    }\n",
              "\n",
              "    .dataframe thead th {\n",
              "        text-align: right;\n",
              "    }\n",
              "</style>\n",
              "<table border=\"1\" class=\"dataframe\">\n",
              "  <thead>\n",
              "    <tr style=\"text-align: right;\">\n",
              "      <th></th>\n",
              "      <th>Filing Date</th>\n",
              "      <th>Symbol</th>\n",
              "      <th>Company Name</th>\n",
              "      <th>Price Range</th>\n",
              "      <th>Shares Offered</th>\n",
              "    </tr>\n",
              "  </thead>\n",
              "  <tbody>\n",
              "    <tr>\n",
              "      <th>0</th>\n",
              "      <td>May 3, 2024</td>\n",
              "      <td>TBN</td>\n",
              "      <td>Tamboran Resources Corporation</td>\n",
              "      <td>-</td>\n",
              "      <td>-</td>\n",
              "    </tr>\n",
              "  </tbody>\n",
              "</table>\n",
              "</div>\n",
              "    <div class=\"colab-df-buttons\">\n",
              "\n",
              "  <div class=\"colab-df-container\">\n",
              "    <button class=\"colab-df-convert\" onclick=\"convertToInteractive('df-8e15d706-dcb6-4f8f-9b19-fdbe59d96cc4')\"\n",
              "            title=\"Convert this dataframe to an interactive table.\"\n",
              "            style=\"display:none;\">\n",
              "\n",
              "  <svg xmlns=\"http://www.w3.org/2000/svg\" height=\"24px\" viewBox=\"0 -960 960 960\">\n",
              "    <path d=\"M120-120v-720h720v720H120Zm60-500h600v-160H180v160Zm220 220h160v-160H400v160Zm0 220h160v-160H400v160ZM180-400h160v-160H180v160Zm440 0h160v-160H620v160ZM180-180h160v-160H180v160Zm440 0h160v-160H620v160Z\"/>\n",
              "  </svg>\n",
              "    </button>\n",
              "\n",
              "  <style>\n",
              "    .colab-df-container {\n",
              "      display:flex;\n",
              "      gap: 12px;\n",
              "    }\n",
              "\n",
              "    .colab-df-convert {\n",
              "      background-color: #E8F0FE;\n",
              "      border: none;\n",
              "      border-radius: 50%;\n",
              "      cursor: pointer;\n",
              "      display: none;\n",
              "      fill: #1967D2;\n",
              "      height: 32px;\n",
              "      padding: 0 0 0 0;\n",
              "      width: 32px;\n",
              "    }\n",
              "\n",
              "    .colab-df-convert:hover {\n",
              "      background-color: #E2EBFA;\n",
              "      box-shadow: 0px 1px 2px rgba(60, 64, 67, 0.3), 0px 1px 3px 1px rgba(60, 64, 67, 0.15);\n",
              "      fill: #174EA6;\n",
              "    }\n",
              "\n",
              "    .colab-df-buttons div {\n",
              "      margin-bottom: 4px;\n",
              "    }\n",
              "\n",
              "    [theme=dark] .colab-df-convert {\n",
              "      background-color: #3B4455;\n",
              "      fill: #D2E3FC;\n",
              "    }\n",
              "\n",
              "    [theme=dark] .colab-df-convert:hover {\n",
              "      background-color: #434B5C;\n",
              "      box-shadow: 0px 1px 3px 1px rgba(0, 0, 0, 0.15);\n",
              "      filter: drop-shadow(0px 1px 2px rgba(0, 0, 0, 0.3));\n",
              "      fill: #FFFFFF;\n",
              "    }\n",
              "  </style>\n",
              "\n",
              "    <script>\n",
              "      const buttonEl =\n",
              "        document.querySelector('#df-8e15d706-dcb6-4f8f-9b19-fdbe59d96cc4 button.colab-df-convert');\n",
              "      buttonEl.style.display =\n",
              "        google.colab.kernel.accessAllowed ? 'block' : 'none';\n",
              "\n",
              "      async function convertToInteractive(key) {\n",
              "        const element = document.querySelector('#df-8e15d706-dcb6-4f8f-9b19-fdbe59d96cc4');\n",
              "        const dataTable =\n",
              "          await google.colab.kernel.invokeFunction('convertToInteractive',\n",
              "                                                    [key], {});\n",
              "        if (!dataTable) return;\n",
              "\n",
              "        const docLinkHtml = 'Like what you see? Visit the ' +\n",
              "          '<a target=\"_blank\" href=https://colab.research.google.com/notebooks/data_table.ipynb>data table notebook</a>'\n",
              "          + ' to learn more about interactive tables.';\n",
              "        element.innerHTML = '';\n",
              "        dataTable['output_type'] = 'display_data';\n",
              "        await google.colab.output.renderOutput(dataTable, element);\n",
              "        const docLink = document.createElement('div');\n",
              "        docLink.innerHTML = docLinkHtml;\n",
              "        element.appendChild(docLink);\n",
              "      }\n",
              "    </script>\n",
              "  </div>\n",
              "\n",
              "\n",
              "    </div>\n",
              "  </div>\n"
            ],
            "application/vnd.google.colaboratory.intrinsic+json": {
              "type": "dataframe",
              "summary": "{\n  \"name\": \"ipo_filings\",\n  \"rows\": 1,\n  \"fields\": [\n    {\n      \"column\": \"Filing Date\",\n      \"properties\": {\n        \"dtype\": \"object\",\n        \"num_unique_values\": 1,\n        \"samples\": [\n          \"May 3, 2024\"\n        ],\n        \"semantic_type\": \"\",\n        \"description\": \"\"\n      }\n    },\n    {\n      \"column\": \"Symbol\",\n      \"properties\": {\n        \"dtype\": \"string\",\n        \"num_unique_values\": 1,\n        \"samples\": [\n          \"TBN\"\n        ],\n        \"semantic_type\": \"\",\n        \"description\": \"\"\n      }\n    },\n    {\n      \"column\": \"Company Name\",\n      \"properties\": {\n        \"dtype\": \"string\",\n        \"num_unique_values\": 1,\n        \"samples\": [\n          \"Tamboran Resources Corporation\"\n        ],\n        \"semantic_type\": \"\",\n        \"description\": \"\"\n      }\n    },\n    {\n      \"column\": \"Price Range\",\n      \"properties\": {\n        \"dtype\": \"string\",\n        \"num_unique_values\": 1,\n        \"samples\": [\n          \"-\"\n        ],\n        \"semantic_type\": \"\",\n        \"description\": \"\"\n      }\n    },\n    {\n      \"column\": \"Shares Offered\",\n      \"properties\": {\n        \"dtype\": \"string\",\n        \"num_unique_values\": 1,\n        \"samples\": [\n          \"-\"\n        ],\n        \"semantic_type\": \"\",\n        \"description\": \"\"\n      }\n    }\n  ]\n}"
            }
          },
          "metadata": {},
          "execution_count": 10
        }
      ]
    },
    {
      "cell_type": "code",
      "source": [
        "ipo_filings.info()"
      ],
      "metadata": {
        "colab": {
          "base_uri": "https://localhost:8080/"
        },
        "id": "LbDGPzpcGADx",
        "outputId": "7a35cd8f-c08d-4ae1-cb2e-8d326ecec13b"
      },
      "execution_count": 11,
      "outputs": [
        {
          "output_type": "stream",
          "name": "stdout",
          "text": [
            "<class 'pandas.core.frame.DataFrame'>\n",
            "RangeIndex: 324 entries, 0 to 323\n",
            "Data columns (total 5 columns):\n",
            " #   Column          Non-Null Count  Dtype \n",
            "---  ------          --------------  ----- \n",
            " 0   Filing Date     324 non-null    object\n",
            " 1   Symbol          324 non-null    object\n",
            " 2   Company Name    324 non-null    object\n",
            " 3   Price Range     324 non-null    object\n",
            " 4   Shares Offered  324 non-null    object\n",
            "dtypes: object(5)\n",
            "memory usage: 12.8+ KB\n"
          ]
        }
      ]
    },
    {
      "cell_type": "code",
      "source": [
        "ipo_filings['Filing Date'].unique()"
      ],
      "metadata": {
        "colab": {
          "base_uri": "https://localhost:8080/"
        },
        "id": "l7kcPpHvGs0F",
        "outputId": "8c3e4b4e-bb45-4f31-939f-31c9e5c2b1b3"
      },
      "execution_count": 12,
      "outputs": [
        {
          "output_type": "execute_result",
          "data": {
            "text/plain": [
              "array(['May 3, 2024', 'Apr 29, 2024', 'Apr 26, 2024', 'Apr 22, 2024',\n",
              "       'Apr 16, 2024', 'Apr 15, 2024', 'Apr 12, 2024', 'Apr 5, 2024',\n",
              "       'Apr 2, 2024', 'Apr 1, 2024', 'Mar 29, 2024', 'Mar 28, 2024',\n",
              "       'Mar 26, 2024', 'Mar 25, 2024', 'Mar 22, 2024', 'Mar 21, 2024',\n",
              "       'Mar 15, 2024', 'Mar 12, 2024', 'Mar 11, 2024', 'Mar 7, 2024',\n",
              "       'Mar 6, 2024', 'Mar 4, 2024', 'Feb 20, 2024', 'Feb 9, 2024',\n",
              "       'Feb 8, 2024', 'Feb 7, 2024', 'Feb 5, 2024', 'Feb 2, 2024',\n",
              "       'Feb 1, 2024', 'Jan 31, 2024', 'Jan 29, 2024', 'Jan 26, 2024',\n",
              "       'Jan 25, 2024', 'Jan 24, 2024', 'Jan 22, 2024', 'Jan 16, 2024',\n",
              "       'Jan 9, 2024', 'Jan 8, 2024', 'Dec 29, 2023', 'Dec 28, 2023',\n",
              "       'Dec 22, 2023', 'Dec 21, 2023', 'Dec 20, 2023', 'Dec 18, 2023',\n",
              "       'Dec 15, 2023', 'Dec 11, 2023', 'Dec 8, 2023', 'Dec 7, 2023',\n",
              "       'Dec 6, 2023', 'Nov 29, 2023', 'Nov 21, 2023', 'Nov 20, 2023',\n",
              "       'Nov 13, 2023', 'Nov 9, 2023', 'Nov 8, 2023', 'Nov 7, 2023',\n",
              "       'Nov 6, 2023', 'Nov 1, 2023', 'Oct 31, 2023', 'Oct 30, 2023',\n",
              "       'Oct 27, 2023', 'Oct 23, 2023', 'Oct 19, 2023', 'Oct 17, 2023',\n",
              "       'Oct 16, 2023', 'Oct 13, 2023', 'Oct 11, 2023', 'Oct 10, 2023',\n",
              "       'Oct 6, 2023', 'Oct 4, 2023', 'Oct 3, 2023', 'Sep 29, 2023',\n",
              "       'Sep 28, 2023', 'Sep 26, 2023', 'Sep 25, 2023', 'Sep 21, 2023',\n",
              "       'Sep 15, 2023', 'Sep 7, 2023', 'Aug 31, 2023', 'Aug 24, 2023',\n",
              "       'Aug 23, 2023', 'Aug 21, 2023', 'Aug 17, 2023', 'Aug 11, 2023',\n",
              "       'Aug 10, 2023', 'Aug 8, 2023', 'Aug 4, 2023', 'Aug 2, 2023',\n",
              "       'Jul 27, 2023', 'Jul 26, 2023', 'Jul 19, 2023', 'Jul 11, 2023',\n",
              "       'Jul 7, 2023', 'Jul 5, 2023', 'Jul 3, 2023', 'Jun 30, 2023',\n",
              "       'Jun 23, 2023', 'Jun 22, 2023', 'Jun 20, 2023', 'Jun 9, 2023',\n",
              "       'May 22, 2023', 'May 15, 2023', 'May 3, 2023', 'May 1, 2023',\n",
              "       'Apr 28, 2023', 'Apr 27, 2023', 'Apr 21, 2023', 'Mar 31, 2023',\n",
              "       'Mar 30, 2023', 'Mar 24, 2023', 'Mar 21, 2023', 'Mar 20, 2023',\n",
              "       'Mar 16, 2023', 'Mar 13, 2023', 'Mar 2, 2023', 'Feb 24, 2023',\n",
              "       'Feb 23, 2023', 'Feb 16, 2023', 'Feb 15, 2023', 'Feb 14, 2023',\n",
              "       'Feb 10, 2023', 'Feb 9, 2023', 'Feb 8, 2023', 'Feb 7, 2023',\n",
              "       'Jan 31, 2023', 'Jan 24, 2023', 'Jan 23, 2023', 'Jan 13, 2023',\n",
              "       'Jan 10, 2023', 'Dec 29, 2022', 'Dec 28, 2022', 'Dec 21, 2022',\n",
              "       'Dec 20, 2022', 'Dec 16, 2022', 'Dec 8, 2022', 'Nov 18, 2022',\n",
              "       'Nov 10, 2022', 'Nov 9, 2022', 'Oct 26, 2022', 'Oct 25, 2022',\n",
              "       'Oct 13, 2022', 'Oct 12, 2022', 'Oct 11, 2022', 'Oct 7, 2022',\n",
              "       'Sep 30, 2022', 'Sep 16, 2022', 'Sep 12, 2022', 'Sep 9, 2022',\n",
              "       'Sep 2, 2022', 'Aug 30, 2022', 'Aug 26, 2022', 'Aug 19, 2022',\n",
              "       'Aug 16, 2022', 'Aug 10, 2022', 'Aug 8, 2022', 'Aug 5, 2022',\n",
              "       'Jul 21, 2022', 'Jul 20, 2022', 'Jul 14, 2022', 'Jul 13, 2022',\n",
              "       'Jul 12, 2022', 'Jul 1, 2022', 'Jun 13, 2022', 'Jun 3, 2022',\n",
              "       'Jun 1, 2022', 'May 23, 2022', 'May 9, 2022', 'May 5, 2022',\n",
              "       'Apr 26, 2022', 'Apr 22, 2022', 'Apr 15, 2022', 'Mar 29, 2022',\n",
              "       'Mar 28, 2022', 'Mar 21, 2022', 'Mar 18, 2022', 'Mar 7, 2022',\n",
              "       'Feb 22, 2022', 'Feb 8, 2022', 'Feb 2, 2022', 'Jan 28, 2022',\n",
              "       'Jan 27, 2022', 'Jan 21, 2022', 'Jan 18, 2022', 'Jan 14, 2022',\n",
              "       'Jan 10, 2022', 'Jan 7, 2022', 'Jan 6, 2022', 'Dec 23, 2021',\n",
              "       'Dec 22, 2021', 'Dec 20, 2021', 'Dec 10, 2021', 'Nov 22, 2021',\n",
              "       'Nov 15, 2021', 'Nov 12, 2021', 'Nov 5, 2021', 'Nov 3, 2021',\n",
              "       'Oct 28, 2021', 'Oct 26, 2021', 'Oct 22, 2021', 'Oct 20, 2021',\n",
              "       'Oct 18, 2021', 'Oct 15, 2021', 'Oct 12, 2021', 'Sep 30, 2021',\n",
              "       'Sep 14, 2021', 'Sep 7, 2021', 'Sep 2, 2021', 'Aug 31, 2021',\n",
              "       'Aug 13, 2021', 'Aug 5, 2021', 'Jul 28, 2021', 'Jul 26, 2021',\n",
              "       'Jul 20, 2021', 'Jul 16, 2021', 'Jul 14, 2021', 'Jul 6, 2021',\n",
              "       'Jul 2, 2021', 'Jun 29, 2021', 'Jun 25, 2021', 'Jun 4, 2021',\n",
              "       'May 26, 2021', 'May 11, 2021', 'May 6, 2021', 'May 5, 2021',\n",
              "       'Apr 16, 2021', 'Apr 8, 2021', 'Apr 5, 2021', 'Mar 29, 2021',\n",
              "       'Mar 22, 2021', 'Mar 19, 2021', 'Mar 18, 2021', 'Mar 17, 2021',\n",
              "       'Mar 11, 2021', 'Mar 10, 2021', 'Mar 8, 2021', 'Mar 5, 2021',\n",
              "       'Mar 2, 2021', 'Mar 1, 2021', 'Feb 25, 2021', 'Feb 23, 2021',\n",
              "       'Feb 22, 2021', 'Feb 19, 2021', 'Feb 10, 2021', 'Jan 25, 2021',\n",
              "       'Jan 22, 2021', 'Jan 19, 2021', 'Sep 14, 2020', 'Sep 8, 2020',\n",
              "       'Sep 4, 2020', 'Jun 17, 2020', 'Feb 18, 2020', 'Jan 21, 2020',\n",
              "       'Dec 9, 2019', 'Oct 4, 2019', 'Dec 27, 2018'], dtype=object)"
            ]
          },
          "metadata": {},
          "execution_count": 12
        }
      ]
    },
    {
      "cell_type": "code",
      "source": [
        "# convert to datetime\n",
        "ipo_filings['Filing Date'] = pd.to_datetime(ipo_filings['Filing Date'], format=\"%b %d, %Y\")"
      ],
      "metadata": {
        "id": "79yq6IzM7LSS"
      },
      "execution_count": 13,
      "outputs": []
    },
    {
      "cell_type": "code",
      "source": [
        "#convert 'Shares Offered' to float64\n",
        "ipo_filings['Shares Offered'].unique()\n",
        "ipo_filings['Shares Offered'] = pd.to_numeric(ipo_filings['Shares Offered'], errors='coerce')"
      ],
      "metadata": {
        "id": "sJ_Wqu1eF7Np"
      },
      "execution_count": 14,
      "outputs": []
    },
    {
      "cell_type": "code",
      "source": [
        "ipo_filings['Price Range'].unique()"
      ],
      "metadata": {
        "colab": {
          "base_uri": "https://localhost:8080/"
        },
        "id": "eC5qFSvWHiKW",
        "outputId": "741423a4-16ec-4ee9-e452-ebd77c08edf9"
      },
      "execution_count": 15,
      "outputs": [
        {
          "output_type": "execute_result",
          "data": {
            "text/plain": [
              "array(['-', '$3.00', '$10.00', '$5.00', '$4.00 - $5.00', '$4.00 - $4.50',\n",
              "       '$5.00 - $6.00', '$5.00 - $7.00', '$4.00 - $6.00', '$3.00 - $4.00',\n",
              "       '$4.00', '$4.13', '$10.00 - $14.00', '$3.50 - $4.50',\n",
              "       '$7.00 - $8.00', '$8.00 - $10.00', '$11.25 - $13.75',\n",
              "       '$4.00 - $4.75', '$4.30', '$9.00 - $11.00', '$3.00 - $5.00',\n",
              "       '$4.50 - $5.50', '$5.75 - $6.75', '$8.00 - $9.00', '$4.35 - $6.35',\n",
              "       '$5.50', '$20.00', '$5.00 - $8.00', '$6.00 - $6.50',\n",
              "       '$6.00 - $7.00', '$6.00', '$4.45', '$8.00', '$15.00', '$6.25',\n",
              "       '$4.25 - $6.25', '$5.20 - $7.20', '$4.50 - $6.50', '$4.25',\n",
              "       '$7.00 - $9.00', '$5.75', '$18.00 - $20.00', '$7.00 - $7.50',\n",
              "       '$8.50 - $9.50', '$5.00 - $6.50'], dtype=object)"
            ]
          },
          "metadata": {},
          "execution_count": 15
        }
      ]
    },
    {
      "cell_type": "markdown",
      "source": [
        "only 3 types of values are present so we have to only handle all the 3 cases to apply the function on the whole column"
      ],
      "metadata": {
        "id": "kgBU_6eVI2mU"
      }
    },
    {
      "cell_type": "code",
      "source": [
        "def calculate_avg_price(price_range):\n",
        "    if pd.isna(price_range):\n",
        "        return float('nan')  # return NaN if no price is specified\n",
        "    price_range = price_range.replace('$', '')  # remove dollar signs\n",
        "    prices = price_range.split(' - ')\n",
        "    if len(prices) == 1:\n",
        "        return float(prices[0])  # return the single price\n",
        "    elif len(prices) == 2:\n",
        "        return (float(prices[0]) + float(prices[1])) / 2  # return the average of two prices\n",
        "    else:\n",
        "        raise ValueError(\"Invalid price range format\")"
      ],
      "metadata": {
        "id": "9Vo2nmSkIUn6"
      },
      "execution_count": 16,
      "outputs": []
    },
    {
      "cell_type": "code",
      "source": [
        "price_range = '$7.00 - $9.00'\n",
        "print(calculate_avg_price(price_range=price_range))"
      ],
      "metadata": {
        "colab": {
          "base_uri": "https://localhost:8080/"
        },
        "id": "T2KOy0CxJWcJ",
        "outputId": "420882ef-20d5-49ae-fc5d-04d538858a3e"
      },
      "execution_count": 17,
      "outputs": [
        {
          "output_type": "stream",
          "name": "stdout",
          "text": [
            "8.0\n"
          ]
        }
      ]
    },
    {
      "cell_type": "code",
      "source": [
        "price_range = '-'\n",
        "try:\n",
        "  print(calculate_avg_price(price_range=price_range))\n",
        "except Exception as ex:\n",
        "  print(ex)\n"
      ],
      "metadata": {
        "colab": {
          "base_uri": "https://localhost:8080/"
        },
        "id": "VvTgSvSCPdxU",
        "outputId": "bf122704-b716-4ca2-c46b-0b73fe93ec70"
      },
      "execution_count": 18,
      "outputs": [
        {
          "output_type": "stream",
          "name": "stdout",
          "text": [
            "could not convert string to float: '-'\n"
          ]
        }
      ]
    },
    {
      "cell_type": "code",
      "source": [
        "ipo_filings['Price Range'] = ipo_filings['Price Range'].replace('-', float('nan'))"
      ],
      "metadata": {
        "id": "Pm9lnpDoPsEJ"
      },
      "execution_count": 19,
      "outputs": []
    },
    {
      "cell_type": "code",
      "source": [
        "ipo_filings['Avg_price'] = ipo_filings['Price Range'].apply(calculate_avg_price)"
      ],
      "metadata": {
        "id": "JtjQZ-g8JMlh"
      },
      "execution_count": 20,
      "outputs": []
    },
    {
      "cell_type": "code",
      "source": [
        "ipo_filings['Avg_price'].unique()"
      ],
      "metadata": {
        "colab": {
          "base_uri": "https://localhost:8080/"
        },
        "id": "sHg5nt_2KB3B",
        "outputId": "015554b8-5732-49e8-8a01-88067905a809"
      },
      "execution_count": 21,
      "outputs": [
        {
          "output_type": "execute_result",
          "data": {
            "text/plain": [
              "array([   nan,  3.   , 10.   ,  5.   ,  4.5  ,  4.25 ,  5.5  ,  6.   ,\n",
              "        3.5  ,  4.   ,  4.13 , 12.   ,  7.5  ,  9.   , 12.5  ,  4.375,\n",
              "        4.3  ,  6.25 ,  8.5  ,  5.35 , 20.   ,  6.5  ,  4.45 ,  8.   ,\n",
              "       15.   ,  5.25 ,  6.2  ,  5.75 , 19.   ,  7.25 ])"
            ]
          },
          "metadata": {},
          "execution_count": 21
        }
      ]
    },
    {
      "cell_type": "code",
      "source": [
        "ipo_filings.info()"
      ],
      "metadata": {
        "colab": {
          "base_uri": "https://localhost:8080/"
        },
        "id": "Ezqk7YMiRDkE",
        "outputId": "c5fe5279-8cd4-4f65-9f4e-d3ecbb883e33"
      },
      "execution_count": 22,
      "outputs": [
        {
          "output_type": "stream",
          "name": "stdout",
          "text": [
            "<class 'pandas.core.frame.DataFrame'>\n",
            "RangeIndex: 324 entries, 0 to 323\n",
            "Data columns (total 6 columns):\n",
            " #   Column          Non-Null Count  Dtype         \n",
            "---  ------          --------------  -----         \n",
            " 0   Filing Date     324 non-null    datetime64[ns]\n",
            " 1   Symbol          324 non-null    object        \n",
            " 2   Company Name    324 non-null    object        \n",
            " 3   Price Range     256 non-null    object        \n",
            " 4   Shares Offered  250 non-null    float64       \n",
            " 5   Avg_price       256 non-null    float64       \n",
            "dtypes: datetime64[ns](1), float64(2), object(3)\n",
            "memory usage: 15.3+ KB\n"
          ]
        }
      ]
    },
    {
      "cell_type": "code",
      "source": [
        "ipo_filings.head()"
      ],
      "metadata": {
        "colab": {
          "base_uri": "https://localhost:8080/",
          "height": 206
        },
        "id": "ikHCMoRSSMl1",
        "outputId": "0576ea2a-97ed-40dd-e292-9556d9c02f52"
      },
      "execution_count": 23,
      "outputs": [
        {
          "output_type": "execute_result",
          "data": {
            "text/plain": [
              "  Filing Date Symbol                           Company Name Price Range  \\\n",
              "0  2024-05-03    TBN         Tamboran Resources Corporation         NaN   \n",
              "1  2024-04-29   HWEC                   HW Electro Co., Ltd.       $3.00   \n",
              "2  2024-04-29   DTSQ  DT Cloud Star Acquisition Corporation      $10.00   \n",
              "3  2024-04-26   EURK                Eureka Acquisition Corp      $10.00   \n",
              "4  2024-04-26    HDL    Super Hi International Holding Ltd.         NaN   \n",
              "\n",
              "   Shares Offered  Avg_price  \n",
              "0             NaN        NaN  \n",
              "1       3750000.0        3.0  \n",
              "2       6000000.0       10.0  \n",
              "3       5000000.0       10.0  \n",
              "4             NaN        NaN  "
            ],
            "text/html": [
              "\n",
              "  <div id=\"df-c4cf38a4-9917-4558-9bec-d6ee290792e7\" class=\"colab-df-container\">\n",
              "    <div>\n",
              "<style scoped>\n",
              "    .dataframe tbody tr th:only-of-type {\n",
              "        vertical-align: middle;\n",
              "    }\n",
              "\n",
              "    .dataframe tbody tr th {\n",
              "        vertical-align: top;\n",
              "    }\n",
              "\n",
              "    .dataframe thead th {\n",
              "        text-align: right;\n",
              "    }\n",
              "</style>\n",
              "<table border=\"1\" class=\"dataframe\">\n",
              "  <thead>\n",
              "    <tr style=\"text-align: right;\">\n",
              "      <th></th>\n",
              "      <th>Filing Date</th>\n",
              "      <th>Symbol</th>\n",
              "      <th>Company Name</th>\n",
              "      <th>Price Range</th>\n",
              "      <th>Shares Offered</th>\n",
              "      <th>Avg_price</th>\n",
              "    </tr>\n",
              "  </thead>\n",
              "  <tbody>\n",
              "    <tr>\n",
              "      <th>0</th>\n",
              "      <td>2024-05-03</td>\n",
              "      <td>TBN</td>\n",
              "      <td>Tamboran Resources Corporation</td>\n",
              "      <td>NaN</td>\n",
              "      <td>NaN</td>\n",
              "      <td>NaN</td>\n",
              "    </tr>\n",
              "    <tr>\n",
              "      <th>1</th>\n",
              "      <td>2024-04-29</td>\n",
              "      <td>HWEC</td>\n",
              "      <td>HW Electro Co., Ltd.</td>\n",
              "      <td>$3.00</td>\n",
              "      <td>3750000.0</td>\n",
              "      <td>3.0</td>\n",
              "    </tr>\n",
              "    <tr>\n",
              "      <th>2</th>\n",
              "      <td>2024-04-29</td>\n",
              "      <td>DTSQ</td>\n",
              "      <td>DT Cloud Star Acquisition Corporation</td>\n",
              "      <td>$10.00</td>\n",
              "      <td>6000000.0</td>\n",
              "      <td>10.0</td>\n",
              "    </tr>\n",
              "    <tr>\n",
              "      <th>3</th>\n",
              "      <td>2024-04-26</td>\n",
              "      <td>EURK</td>\n",
              "      <td>Eureka Acquisition Corp</td>\n",
              "      <td>$10.00</td>\n",
              "      <td>5000000.0</td>\n",
              "      <td>10.0</td>\n",
              "    </tr>\n",
              "    <tr>\n",
              "      <th>4</th>\n",
              "      <td>2024-04-26</td>\n",
              "      <td>HDL</td>\n",
              "      <td>Super Hi International Holding Ltd.</td>\n",
              "      <td>NaN</td>\n",
              "      <td>NaN</td>\n",
              "      <td>NaN</td>\n",
              "    </tr>\n",
              "  </tbody>\n",
              "</table>\n",
              "</div>\n",
              "    <div class=\"colab-df-buttons\">\n",
              "\n",
              "  <div class=\"colab-df-container\">\n",
              "    <button class=\"colab-df-convert\" onclick=\"convertToInteractive('df-c4cf38a4-9917-4558-9bec-d6ee290792e7')\"\n",
              "            title=\"Convert this dataframe to an interactive table.\"\n",
              "            style=\"display:none;\">\n",
              "\n",
              "  <svg xmlns=\"http://www.w3.org/2000/svg\" height=\"24px\" viewBox=\"0 -960 960 960\">\n",
              "    <path d=\"M120-120v-720h720v720H120Zm60-500h600v-160H180v160Zm220 220h160v-160H400v160Zm0 220h160v-160H400v160ZM180-400h160v-160H180v160Zm440 0h160v-160H620v160ZM180-180h160v-160H180v160Zm440 0h160v-160H620v160Z\"/>\n",
              "  </svg>\n",
              "    </button>\n",
              "\n",
              "  <style>\n",
              "    .colab-df-container {\n",
              "      display:flex;\n",
              "      gap: 12px;\n",
              "    }\n",
              "\n",
              "    .colab-df-convert {\n",
              "      background-color: #E8F0FE;\n",
              "      border: none;\n",
              "      border-radius: 50%;\n",
              "      cursor: pointer;\n",
              "      display: none;\n",
              "      fill: #1967D2;\n",
              "      height: 32px;\n",
              "      padding: 0 0 0 0;\n",
              "      width: 32px;\n",
              "    }\n",
              "\n",
              "    .colab-df-convert:hover {\n",
              "      background-color: #E2EBFA;\n",
              "      box-shadow: 0px 1px 2px rgba(60, 64, 67, 0.3), 0px 1px 3px 1px rgba(60, 64, 67, 0.15);\n",
              "      fill: #174EA6;\n",
              "    }\n",
              "\n",
              "    .colab-df-buttons div {\n",
              "      margin-bottom: 4px;\n",
              "    }\n",
              "\n",
              "    [theme=dark] .colab-df-convert {\n",
              "      background-color: #3B4455;\n",
              "      fill: #D2E3FC;\n",
              "    }\n",
              "\n",
              "    [theme=dark] .colab-df-convert:hover {\n",
              "      background-color: #434B5C;\n",
              "      box-shadow: 0px 1px 3px 1px rgba(0, 0, 0, 0.15);\n",
              "      filter: drop-shadow(0px 1px 2px rgba(0, 0, 0, 0.3));\n",
              "      fill: #FFFFFF;\n",
              "    }\n",
              "  </style>\n",
              "\n",
              "    <script>\n",
              "      const buttonEl =\n",
              "        document.querySelector('#df-c4cf38a4-9917-4558-9bec-d6ee290792e7 button.colab-df-convert');\n",
              "      buttonEl.style.display =\n",
              "        google.colab.kernel.accessAllowed ? 'block' : 'none';\n",
              "\n",
              "      async function convertToInteractive(key) {\n",
              "        const element = document.querySelector('#df-c4cf38a4-9917-4558-9bec-d6ee290792e7');\n",
              "        const dataTable =\n",
              "          await google.colab.kernel.invokeFunction('convertToInteractive',\n",
              "                                                    [key], {});\n",
              "        if (!dataTable) return;\n",
              "\n",
              "        const docLinkHtml = 'Like what you see? Visit the ' +\n",
              "          '<a target=\"_blank\" href=https://colab.research.google.com/notebooks/data_table.ipynb>data table notebook</a>'\n",
              "          + ' to learn more about interactive tables.';\n",
              "        element.innerHTML = '';\n",
              "        dataTable['output_type'] = 'display_data';\n",
              "        await google.colab.output.renderOutput(dataTable, element);\n",
              "        const docLink = document.createElement('div');\n",
              "        docLink.innerHTML = docLinkHtml;\n",
              "        element.appendChild(docLink);\n",
              "      }\n",
              "    </script>\n",
              "  </div>\n",
              "\n",
              "\n",
              "<div id=\"df-c9098f5a-9ea6-4c35-a628-2444c50dd3ce\">\n",
              "  <button class=\"colab-df-quickchart\" onclick=\"quickchart('df-c9098f5a-9ea6-4c35-a628-2444c50dd3ce')\"\n",
              "            title=\"Suggest charts\"\n",
              "            style=\"display:none;\">\n",
              "\n",
              "<svg xmlns=\"http://www.w3.org/2000/svg\" height=\"24px\"viewBox=\"0 0 24 24\"\n",
              "     width=\"24px\">\n",
              "    <g>\n",
              "        <path d=\"M19 3H5c-1.1 0-2 .9-2 2v14c0 1.1.9 2 2 2h14c1.1 0 2-.9 2-2V5c0-1.1-.9-2-2-2zM9 17H7v-7h2v7zm4 0h-2V7h2v10zm4 0h-2v-4h2v4z\"/>\n",
              "    </g>\n",
              "</svg>\n",
              "  </button>\n",
              "\n",
              "<style>\n",
              "  .colab-df-quickchart {\n",
              "      --bg-color: #E8F0FE;\n",
              "      --fill-color: #1967D2;\n",
              "      --hover-bg-color: #E2EBFA;\n",
              "      --hover-fill-color: #174EA6;\n",
              "      --disabled-fill-color: #AAA;\n",
              "      --disabled-bg-color: #DDD;\n",
              "  }\n",
              "\n",
              "  [theme=dark] .colab-df-quickchart {\n",
              "      --bg-color: #3B4455;\n",
              "      --fill-color: #D2E3FC;\n",
              "      --hover-bg-color: #434B5C;\n",
              "      --hover-fill-color: #FFFFFF;\n",
              "      --disabled-bg-color: #3B4455;\n",
              "      --disabled-fill-color: #666;\n",
              "  }\n",
              "\n",
              "  .colab-df-quickchart {\n",
              "    background-color: var(--bg-color);\n",
              "    border: none;\n",
              "    border-radius: 50%;\n",
              "    cursor: pointer;\n",
              "    display: none;\n",
              "    fill: var(--fill-color);\n",
              "    height: 32px;\n",
              "    padding: 0;\n",
              "    width: 32px;\n",
              "  }\n",
              "\n",
              "  .colab-df-quickchart:hover {\n",
              "    background-color: var(--hover-bg-color);\n",
              "    box-shadow: 0 1px 2px rgba(60, 64, 67, 0.3), 0 1px 3px 1px rgba(60, 64, 67, 0.15);\n",
              "    fill: var(--button-hover-fill-color);\n",
              "  }\n",
              "\n",
              "  .colab-df-quickchart-complete:disabled,\n",
              "  .colab-df-quickchart-complete:disabled:hover {\n",
              "    background-color: var(--disabled-bg-color);\n",
              "    fill: var(--disabled-fill-color);\n",
              "    box-shadow: none;\n",
              "  }\n",
              "\n",
              "  .colab-df-spinner {\n",
              "    border: 2px solid var(--fill-color);\n",
              "    border-color: transparent;\n",
              "    border-bottom-color: var(--fill-color);\n",
              "    animation:\n",
              "      spin 1s steps(1) infinite;\n",
              "  }\n",
              "\n",
              "  @keyframes spin {\n",
              "    0% {\n",
              "      border-color: transparent;\n",
              "      border-bottom-color: var(--fill-color);\n",
              "      border-left-color: var(--fill-color);\n",
              "    }\n",
              "    20% {\n",
              "      border-color: transparent;\n",
              "      border-left-color: var(--fill-color);\n",
              "      border-top-color: var(--fill-color);\n",
              "    }\n",
              "    30% {\n",
              "      border-color: transparent;\n",
              "      border-left-color: var(--fill-color);\n",
              "      border-top-color: var(--fill-color);\n",
              "      border-right-color: var(--fill-color);\n",
              "    }\n",
              "    40% {\n",
              "      border-color: transparent;\n",
              "      border-right-color: var(--fill-color);\n",
              "      border-top-color: var(--fill-color);\n",
              "    }\n",
              "    60% {\n",
              "      border-color: transparent;\n",
              "      border-right-color: var(--fill-color);\n",
              "    }\n",
              "    80% {\n",
              "      border-color: transparent;\n",
              "      border-right-color: var(--fill-color);\n",
              "      border-bottom-color: var(--fill-color);\n",
              "    }\n",
              "    90% {\n",
              "      border-color: transparent;\n",
              "      border-bottom-color: var(--fill-color);\n",
              "    }\n",
              "  }\n",
              "</style>\n",
              "\n",
              "  <script>\n",
              "    async function quickchart(key) {\n",
              "      const quickchartButtonEl =\n",
              "        document.querySelector('#' + key + ' button');\n",
              "      quickchartButtonEl.disabled = true;  // To prevent multiple clicks.\n",
              "      quickchartButtonEl.classList.add('colab-df-spinner');\n",
              "      try {\n",
              "        const charts = await google.colab.kernel.invokeFunction(\n",
              "            'suggestCharts', [key], {});\n",
              "      } catch (error) {\n",
              "        console.error('Error during call to suggestCharts:', error);\n",
              "      }\n",
              "      quickchartButtonEl.classList.remove('colab-df-spinner');\n",
              "      quickchartButtonEl.classList.add('colab-df-quickchart-complete');\n",
              "    }\n",
              "    (() => {\n",
              "      let quickchartButtonEl =\n",
              "        document.querySelector('#df-c9098f5a-9ea6-4c35-a628-2444c50dd3ce button');\n",
              "      quickchartButtonEl.style.display =\n",
              "        google.colab.kernel.accessAllowed ? 'block' : 'none';\n",
              "    })();\n",
              "  </script>\n",
              "</div>\n",
              "\n",
              "    </div>\n",
              "  </div>\n"
            ],
            "application/vnd.google.colaboratory.intrinsic+json": {
              "type": "dataframe",
              "variable_name": "ipo_filings",
              "summary": "{\n  \"name\": \"ipo_filings\",\n  \"rows\": 324,\n  \"fields\": [\n    {\n      \"column\": \"Filing Date\",\n      \"properties\": {\n        \"dtype\": \"date\",\n        \"min\": \"2018-12-27 00:00:00\",\n        \"max\": \"2024-05-03 00:00:00\",\n        \"num_unique_values\": 255,\n        \"samples\": [\n          \"2021-12-10 00:00:00\",\n          \"2024-04-12 00:00:00\",\n          \"2023-08-24 00:00:00\"\n        ],\n        \"semantic_type\": \"\",\n        \"description\": \"\"\n      }\n    },\n    {\n      \"column\": \"Symbol\",\n      \"properties\": {\n        \"dtype\": \"string\",\n        \"num_unique_values\": 324,\n        \"samples\": [\n          \"ZRSP\",\n          \"ZXTY\",\n          \"JPO\"\n        ],\n        \"semantic_type\": \"\",\n        \"description\": \"\"\n      }\n    },\n    {\n      \"column\": \"Company Name\",\n      \"properties\": {\n        \"dtype\": \"string\",\n        \"num_unique_values\": 324,\n        \"samples\": [\n          \"Zerospo\",\n          \"Zhongxing Holding Group Ltd\",\n          \"JP Outfitters, Inc.\"\n        ],\n        \"semantic_type\": \"\",\n        \"description\": \"\"\n      }\n    },\n    {\n      \"column\": \"Price Range\",\n      \"properties\": {\n        \"dtype\": \"category\",\n        \"num_unique_values\": 44,\n        \"samples\": [\n          \"$4.25\",\n          \"$5.50\",\n          \"$20.00\"\n        ],\n        \"semantic_type\": \"\",\n        \"description\": \"\"\n      }\n    },\n    {\n      \"column\": \"Shares Offered\",\n      \"properties\": {\n        \"dtype\": \"number\",\n        \"std\": 10817484.491739279,\n        \"min\": 360000.0,\n        \"max\": 100000000.0,\n        \"num_unique_values\": 81,\n        \"samples\": [\n          800000.0,\n          3750000.0,\n          2200000.0\n        ],\n        \"semantic_type\": \"\",\n        \"description\": \"\"\n      }\n    },\n    {\n      \"column\": \"Avg_price\",\n      \"properties\": {\n        \"dtype\": \"number\",\n        \"std\": 2.8217715604209297,\n        \"min\": 3.0,\n        \"max\": 20.0,\n        \"num_unique_values\": 29,\n        \"samples\": [\n          19.0,\n          6.25,\n          9.0\n        ],\n        \"semantic_type\": \"\",\n        \"description\": \"\"\n      }\n    }\n  ]\n}"
            }
          },
          "metadata": {},
          "execution_count": 23
        }
      ]
    },
    {
      "cell_type": "code",
      "source": [
        "def calculate_shares_offered_value(row):\n",
        "    if pd.isna(row['Shares Offered']) or pd.isna(row['Avg_price']):\n",
        "        return np.nan\n",
        "    else:\n",
        "        return row['Shares Offered'] * row['Avg_price']"
      ],
      "metadata": {
        "id": "XogfCuW9SQZg"
      },
      "execution_count": 24,
      "outputs": []
    },
    {
      "cell_type": "code",
      "source": [
        "ipo_filings['Shares_offered_value'] = ipo_filings.apply(calculate_shares_offered_value, axis=1)"
      ],
      "metadata": {
        "id": "04rEf_HOSb1M"
      },
      "execution_count": 25,
      "outputs": []
    },
    {
      "cell_type": "code",
      "source": [
        "ipo_filings['Shares_offered_value']"
      ],
      "metadata": {
        "colab": {
          "base_uri": "https://localhost:8080/"
        },
        "id": "_FDrG4IrSrp_",
        "outputId": "71467b6c-3257-4ffc-90c0-ab44811b9a6a"
      },
      "execution_count": 26,
      "outputs": [
        {
          "output_type": "execute_result",
          "data": {
            "text/plain": [
              "0             NaN\n",
              "1      11250000.0\n",
              "2      60000000.0\n",
              "3      50000000.0\n",
              "4             NaN\n",
              "          ...    \n",
              "319    13500000.0\n",
              "320    50000000.0\n",
              "321    22500000.0\n",
              "322    17200000.0\n",
              "323    11500000.0\n",
              "Name: Shares_offered_value, Length: 324, dtype: float64"
            ]
          },
          "metadata": {},
          "execution_count": 26
        }
      ]
    },
    {
      "cell_type": "code",
      "source": [
        "type(ipo_filings['Filing Date'][0])"
      ],
      "metadata": {
        "colab": {
          "base_uri": "https://localhost:8080/"
        },
        "id": "XfrzyFD3T4Be",
        "outputId": "f5a2ca97-1afa-409c-a1eb-677a887ed662"
      },
      "execution_count": 27,
      "outputs": [
        {
          "output_type": "execute_result",
          "data": {
            "text/plain": [
              "pandas._libs.tslibs.timestamps.Timestamp"
            ]
          },
          "metadata": {},
          "execution_count": 27
        }
      ]
    },
    {
      "cell_type": "code",
      "source": [
        "ipo_filings['Filing Date'][0], ipo_filings['Filing Date'][0].date()"
      ],
      "metadata": {
        "colab": {
          "base_uri": "https://localhost:8080/"
        },
        "id": "KaR-s40tUj7Q",
        "outputId": "39647055-9f9d-41b2-f031-8638a60f1658"
      },
      "execution_count": 28,
      "outputs": [
        {
          "output_type": "execute_result",
          "data": {
            "text/plain": [
              "(Timestamp('2024-05-03 00:00:00'), datetime.date(2024, 5, 3))"
            ]
          },
          "metadata": {},
          "execution_count": 28
        }
      ]
    },
    {
      "cell_type": "code",
      "source": [
        "try:\n",
        "  ipo_filings['Filing Date'][0].dt.year,ipo_filings['Filing Date'][0].dt.week\n",
        "except Exception as ex:\n",
        "  print(ex)"
      ],
      "metadata": {
        "colab": {
          "base_uri": "https://localhost:8080/"
        },
        "id": "QCZnexHHTwBr",
        "outputId": "2e8c5f09-ae0e-4790-8c91-16dba9693df9"
      },
      "execution_count": 29,
      "outputs": [
        {
          "output_type": "stream",
          "name": "stdout",
          "text": [
            "'Timestamp' object has no attribute 'dt'\n"
          ]
        }
      ]
    },
    {
      "cell_type": "code",
      "source": [
        "ipo_filings['Filing Date'].dt.year[:5]"
      ],
      "metadata": {
        "colab": {
          "base_uri": "https://localhost:8080/"
        },
        "id": "w-OICarjV097",
        "outputId": "787b16f0-a866-4a99-d6e8-f484eee0bd11"
      },
      "execution_count": 30,
      "outputs": [
        {
          "output_type": "execute_result",
          "data": {
            "text/plain": [
              "0    2024\n",
              "1    2024\n",
              "2    2024\n",
              "3    2024\n",
              "4    2024\n",
              "Name: Filing Date, dtype: int32"
            ]
          },
          "metadata": {},
          "execution_count": 30
        }
      ]
    },
    {
      "cell_type": "code",
      "source": [
        "ipo_filings.loc[ipo_filings['Filing Date'].dt.year == 2023].head()"
      ],
      "metadata": {
        "colab": {
          "base_uri": "https://localhost:8080/",
          "height": 206
        },
        "id": "R2a9ULP1T_g-",
        "outputId": "25ce87ea-e560-4109-f752-50450b68189c"
      },
      "execution_count": 31,
      "outputs": [
        {
          "output_type": "execute_result",
          "data": {
            "text/plain": [
              "   Filing Date Symbol                                     Company Name  \\\n",
              "49  2023-12-29    LEC                            Lafayette Energy Corp   \n",
              "50  2023-12-29   EPSM                        Epsium Enterprise Limited   \n",
              "51  2023-12-28   ONDR                        Sushi Ginza Onodera, Inc.   \n",
              "52  2023-12-22   LZMH                   LZ Technology Holdings Limited   \n",
              "53  2023-12-22   CHLW  Chun Hui Le Wan International Holding Group Ltd   \n",
              "\n",
              "      Price Range  Shares Offered  Avg_price  Shares_offered_value  \n",
              "49  $3.50 - $4.50       1200000.0        4.0             4800000.0  \n",
              "50            NaN             NaN        NaN                   NaN  \n",
              "51  $7.00 - $8.00       1066667.0        7.5             8000002.5  \n",
              "52            NaN             NaN        NaN                   NaN  \n",
              "53            NaN             NaN        NaN                   NaN  "
            ],
            "text/html": [
              "\n",
              "  <div id=\"df-fd851168-1c9f-473c-a81d-a31b9f7091dd\" class=\"colab-df-container\">\n",
              "    <div>\n",
              "<style scoped>\n",
              "    .dataframe tbody tr th:only-of-type {\n",
              "        vertical-align: middle;\n",
              "    }\n",
              "\n",
              "    .dataframe tbody tr th {\n",
              "        vertical-align: top;\n",
              "    }\n",
              "\n",
              "    .dataframe thead th {\n",
              "        text-align: right;\n",
              "    }\n",
              "</style>\n",
              "<table border=\"1\" class=\"dataframe\">\n",
              "  <thead>\n",
              "    <tr style=\"text-align: right;\">\n",
              "      <th></th>\n",
              "      <th>Filing Date</th>\n",
              "      <th>Symbol</th>\n",
              "      <th>Company Name</th>\n",
              "      <th>Price Range</th>\n",
              "      <th>Shares Offered</th>\n",
              "      <th>Avg_price</th>\n",
              "      <th>Shares_offered_value</th>\n",
              "    </tr>\n",
              "  </thead>\n",
              "  <tbody>\n",
              "    <tr>\n",
              "      <th>49</th>\n",
              "      <td>2023-12-29</td>\n",
              "      <td>LEC</td>\n",
              "      <td>Lafayette Energy Corp</td>\n",
              "      <td>$3.50 - $4.50</td>\n",
              "      <td>1200000.0</td>\n",
              "      <td>4.0</td>\n",
              "      <td>4800000.0</td>\n",
              "    </tr>\n",
              "    <tr>\n",
              "      <th>50</th>\n",
              "      <td>2023-12-29</td>\n",
              "      <td>EPSM</td>\n",
              "      <td>Epsium Enterprise Limited</td>\n",
              "      <td>NaN</td>\n",
              "      <td>NaN</td>\n",
              "      <td>NaN</td>\n",
              "      <td>NaN</td>\n",
              "    </tr>\n",
              "    <tr>\n",
              "      <th>51</th>\n",
              "      <td>2023-12-28</td>\n",
              "      <td>ONDR</td>\n",
              "      <td>Sushi Ginza Onodera, Inc.</td>\n",
              "      <td>$7.00 - $8.00</td>\n",
              "      <td>1066667.0</td>\n",
              "      <td>7.5</td>\n",
              "      <td>8000002.5</td>\n",
              "    </tr>\n",
              "    <tr>\n",
              "      <th>52</th>\n",
              "      <td>2023-12-22</td>\n",
              "      <td>LZMH</td>\n",
              "      <td>LZ Technology Holdings Limited</td>\n",
              "      <td>NaN</td>\n",
              "      <td>NaN</td>\n",
              "      <td>NaN</td>\n",
              "      <td>NaN</td>\n",
              "    </tr>\n",
              "    <tr>\n",
              "      <th>53</th>\n",
              "      <td>2023-12-22</td>\n",
              "      <td>CHLW</td>\n",
              "      <td>Chun Hui Le Wan International Holding Group Ltd</td>\n",
              "      <td>NaN</td>\n",
              "      <td>NaN</td>\n",
              "      <td>NaN</td>\n",
              "      <td>NaN</td>\n",
              "    </tr>\n",
              "  </tbody>\n",
              "</table>\n",
              "</div>\n",
              "    <div class=\"colab-df-buttons\">\n",
              "\n",
              "  <div class=\"colab-df-container\">\n",
              "    <button class=\"colab-df-convert\" onclick=\"convertToInteractive('df-fd851168-1c9f-473c-a81d-a31b9f7091dd')\"\n",
              "            title=\"Convert this dataframe to an interactive table.\"\n",
              "            style=\"display:none;\">\n",
              "\n",
              "  <svg xmlns=\"http://www.w3.org/2000/svg\" height=\"24px\" viewBox=\"0 -960 960 960\">\n",
              "    <path d=\"M120-120v-720h720v720H120Zm60-500h600v-160H180v160Zm220 220h160v-160H400v160Zm0 220h160v-160H400v160ZM180-400h160v-160H180v160Zm440 0h160v-160H620v160ZM180-180h160v-160H180v160Zm440 0h160v-160H620v160Z\"/>\n",
              "  </svg>\n",
              "    </button>\n",
              "\n",
              "  <style>\n",
              "    .colab-df-container {\n",
              "      display:flex;\n",
              "      gap: 12px;\n",
              "    }\n",
              "\n",
              "    .colab-df-convert {\n",
              "      background-color: #E8F0FE;\n",
              "      border: none;\n",
              "      border-radius: 50%;\n",
              "      cursor: pointer;\n",
              "      display: none;\n",
              "      fill: #1967D2;\n",
              "      height: 32px;\n",
              "      padding: 0 0 0 0;\n",
              "      width: 32px;\n",
              "    }\n",
              "\n",
              "    .colab-df-convert:hover {\n",
              "      background-color: #E2EBFA;\n",
              "      box-shadow: 0px 1px 2px rgba(60, 64, 67, 0.3), 0px 1px 3px 1px rgba(60, 64, 67, 0.15);\n",
              "      fill: #174EA6;\n",
              "    }\n",
              "\n",
              "    .colab-df-buttons div {\n",
              "      margin-bottom: 4px;\n",
              "    }\n",
              "\n",
              "    [theme=dark] .colab-df-convert {\n",
              "      background-color: #3B4455;\n",
              "      fill: #D2E3FC;\n",
              "    }\n",
              "\n",
              "    [theme=dark] .colab-df-convert:hover {\n",
              "      background-color: #434B5C;\n",
              "      box-shadow: 0px 1px 3px 1px rgba(0, 0, 0, 0.15);\n",
              "      filter: drop-shadow(0px 1px 2px rgba(0, 0, 0, 0.3));\n",
              "      fill: #FFFFFF;\n",
              "    }\n",
              "  </style>\n",
              "\n",
              "    <script>\n",
              "      const buttonEl =\n",
              "        document.querySelector('#df-fd851168-1c9f-473c-a81d-a31b9f7091dd button.colab-df-convert');\n",
              "      buttonEl.style.display =\n",
              "        google.colab.kernel.accessAllowed ? 'block' : 'none';\n",
              "\n",
              "      async function convertToInteractive(key) {\n",
              "        const element = document.querySelector('#df-fd851168-1c9f-473c-a81d-a31b9f7091dd');\n",
              "        const dataTable =\n",
              "          await google.colab.kernel.invokeFunction('convertToInteractive',\n",
              "                                                    [key], {});\n",
              "        if (!dataTable) return;\n",
              "\n",
              "        const docLinkHtml = 'Like what you see? Visit the ' +\n",
              "          '<a target=\"_blank\" href=https://colab.research.google.com/notebooks/data_table.ipynb>data table notebook</a>'\n",
              "          + ' to learn more about interactive tables.';\n",
              "        element.innerHTML = '';\n",
              "        dataTable['output_type'] = 'display_data';\n",
              "        await google.colab.output.renderOutput(dataTable, element);\n",
              "        const docLink = document.createElement('div');\n",
              "        docLink.innerHTML = docLinkHtml;\n",
              "        element.appendChild(docLink);\n",
              "      }\n",
              "    </script>\n",
              "  </div>\n",
              "\n",
              "\n",
              "<div id=\"df-00543aba-a46e-4c03-8c0c-bee34a783e36\">\n",
              "  <button class=\"colab-df-quickchart\" onclick=\"quickchart('df-00543aba-a46e-4c03-8c0c-bee34a783e36')\"\n",
              "            title=\"Suggest charts\"\n",
              "            style=\"display:none;\">\n",
              "\n",
              "<svg xmlns=\"http://www.w3.org/2000/svg\" height=\"24px\"viewBox=\"0 0 24 24\"\n",
              "     width=\"24px\">\n",
              "    <g>\n",
              "        <path d=\"M19 3H5c-1.1 0-2 .9-2 2v14c0 1.1.9 2 2 2h14c1.1 0 2-.9 2-2V5c0-1.1-.9-2-2-2zM9 17H7v-7h2v7zm4 0h-2V7h2v10zm4 0h-2v-4h2v4z\"/>\n",
              "    </g>\n",
              "</svg>\n",
              "  </button>\n",
              "\n",
              "<style>\n",
              "  .colab-df-quickchart {\n",
              "      --bg-color: #E8F0FE;\n",
              "      --fill-color: #1967D2;\n",
              "      --hover-bg-color: #E2EBFA;\n",
              "      --hover-fill-color: #174EA6;\n",
              "      --disabled-fill-color: #AAA;\n",
              "      --disabled-bg-color: #DDD;\n",
              "  }\n",
              "\n",
              "  [theme=dark] .colab-df-quickchart {\n",
              "      --bg-color: #3B4455;\n",
              "      --fill-color: #D2E3FC;\n",
              "      --hover-bg-color: #434B5C;\n",
              "      --hover-fill-color: #FFFFFF;\n",
              "      --disabled-bg-color: #3B4455;\n",
              "      --disabled-fill-color: #666;\n",
              "  }\n",
              "\n",
              "  .colab-df-quickchart {\n",
              "    background-color: var(--bg-color);\n",
              "    border: none;\n",
              "    border-radius: 50%;\n",
              "    cursor: pointer;\n",
              "    display: none;\n",
              "    fill: var(--fill-color);\n",
              "    height: 32px;\n",
              "    padding: 0;\n",
              "    width: 32px;\n",
              "  }\n",
              "\n",
              "  .colab-df-quickchart:hover {\n",
              "    background-color: var(--hover-bg-color);\n",
              "    box-shadow: 0 1px 2px rgba(60, 64, 67, 0.3), 0 1px 3px 1px rgba(60, 64, 67, 0.15);\n",
              "    fill: var(--button-hover-fill-color);\n",
              "  }\n",
              "\n",
              "  .colab-df-quickchart-complete:disabled,\n",
              "  .colab-df-quickchart-complete:disabled:hover {\n",
              "    background-color: var(--disabled-bg-color);\n",
              "    fill: var(--disabled-fill-color);\n",
              "    box-shadow: none;\n",
              "  }\n",
              "\n",
              "  .colab-df-spinner {\n",
              "    border: 2px solid var(--fill-color);\n",
              "    border-color: transparent;\n",
              "    border-bottom-color: var(--fill-color);\n",
              "    animation:\n",
              "      spin 1s steps(1) infinite;\n",
              "  }\n",
              "\n",
              "  @keyframes spin {\n",
              "    0% {\n",
              "      border-color: transparent;\n",
              "      border-bottom-color: var(--fill-color);\n",
              "      border-left-color: var(--fill-color);\n",
              "    }\n",
              "    20% {\n",
              "      border-color: transparent;\n",
              "      border-left-color: var(--fill-color);\n",
              "      border-top-color: var(--fill-color);\n",
              "    }\n",
              "    30% {\n",
              "      border-color: transparent;\n",
              "      border-left-color: var(--fill-color);\n",
              "      border-top-color: var(--fill-color);\n",
              "      border-right-color: var(--fill-color);\n",
              "    }\n",
              "    40% {\n",
              "      border-color: transparent;\n",
              "      border-right-color: var(--fill-color);\n",
              "      border-top-color: var(--fill-color);\n",
              "    }\n",
              "    60% {\n",
              "      border-color: transparent;\n",
              "      border-right-color: var(--fill-color);\n",
              "    }\n",
              "    80% {\n",
              "      border-color: transparent;\n",
              "      border-right-color: var(--fill-color);\n",
              "      border-bottom-color: var(--fill-color);\n",
              "    }\n",
              "    90% {\n",
              "      border-color: transparent;\n",
              "      border-bottom-color: var(--fill-color);\n",
              "    }\n",
              "  }\n",
              "</style>\n",
              "\n",
              "  <script>\n",
              "    async function quickchart(key) {\n",
              "      const quickchartButtonEl =\n",
              "        document.querySelector('#' + key + ' button');\n",
              "      quickchartButtonEl.disabled = true;  // To prevent multiple clicks.\n",
              "      quickchartButtonEl.classList.add('colab-df-spinner');\n",
              "      try {\n",
              "        const charts = await google.colab.kernel.invokeFunction(\n",
              "            'suggestCharts', [key], {});\n",
              "      } catch (error) {\n",
              "        console.error('Error during call to suggestCharts:', error);\n",
              "      }\n",
              "      quickchartButtonEl.classList.remove('colab-df-spinner');\n",
              "      quickchartButtonEl.classList.add('colab-df-quickchart-complete');\n",
              "    }\n",
              "    (() => {\n",
              "      let quickchartButtonEl =\n",
              "        document.querySelector('#df-00543aba-a46e-4c03-8c0c-bee34a783e36 button');\n",
              "      quickchartButtonEl.style.display =\n",
              "        google.colab.kernel.accessAllowed ? 'block' : 'none';\n",
              "    })();\n",
              "  </script>\n",
              "</div>\n",
              "\n",
              "    </div>\n",
              "  </div>\n"
            ],
            "application/vnd.google.colaboratory.intrinsic+json": {
              "type": "dataframe",
              "summary": "{\n  \"name\": \"ipo_filings\",\n  \"rows\": 5,\n  \"fields\": [\n    {\n      \"column\": \"Filing Date\",\n      \"properties\": {\n        \"dtype\": \"date\",\n        \"min\": \"2023-12-22 00:00:00\",\n        \"max\": \"2023-12-29 00:00:00\",\n        \"num_unique_values\": 3,\n        \"samples\": [\n          \"2023-12-29 00:00:00\",\n          \"2023-12-28 00:00:00\",\n          \"2023-12-22 00:00:00\"\n        ],\n        \"semantic_type\": \"\",\n        \"description\": \"\"\n      }\n    },\n    {\n      \"column\": \"Symbol\",\n      \"properties\": {\n        \"dtype\": \"string\",\n        \"num_unique_values\": 5,\n        \"samples\": [\n          \"EPSM\",\n          \"CHLW\",\n          \"ONDR\"\n        ],\n        \"semantic_type\": \"\",\n        \"description\": \"\"\n      }\n    },\n    {\n      \"column\": \"Company Name\",\n      \"properties\": {\n        \"dtype\": \"string\",\n        \"num_unique_values\": 5,\n        \"samples\": [\n          \"Epsium Enterprise Limited\",\n          \"Chun Hui Le Wan International Holding Group Ltd\",\n          \"Sushi Ginza Onodera, Inc.\"\n        ],\n        \"semantic_type\": \"\",\n        \"description\": \"\"\n      }\n    },\n    {\n      \"column\": \"Price Range\",\n      \"properties\": {\n        \"dtype\": \"category\",\n        \"num_unique_values\": 2,\n        \"samples\": [\n          \"$7.00 - $8.00\",\n          \"$3.50 - $4.50\"\n        ],\n        \"semantic_type\": \"\",\n        \"description\": \"\"\n      }\n    },\n    {\n      \"column\": \"Shares Offered\",\n      \"properties\": {\n        \"dtype\": \"number\",\n        \"std\": 94280.66845594594,\n        \"min\": 1066667.0,\n        \"max\": 1200000.0,\n        \"num_unique_values\": 2,\n        \"samples\": [\n          1066667.0,\n          1200000.0\n        ],\n        \"semantic_type\": \"\",\n        \"description\": \"\"\n      }\n    },\n    {\n      \"column\": \"Avg_price\",\n      \"properties\": {\n        \"dtype\": \"number\",\n        \"std\": 2.4748737341529163,\n        \"min\": 4.0,\n        \"max\": 7.5,\n        \"num_unique_values\": 2,\n        \"samples\": [\n          7.5,\n          4.0\n        ],\n        \"semantic_type\": \"\",\n        \"description\": \"\"\n      }\n    },\n    {\n      \"column\": \"Shares_offered_value\",\n      \"properties\": {\n        \"dtype\": \"number\",\n        \"std\": 2262743.467563905,\n        \"min\": 4800000.0,\n        \"max\": 8000002.5,\n        \"num_unique_values\": 2,\n        \"samples\": [\n          8000002.5,\n          4800000.0\n        ],\n        \"semantic_type\": \"\",\n        \"description\": \"\"\n      }\n    }\n  ]\n}"
            }
          },
          "metadata": {},
          "execution_count": 31
        }
      ]
    },
    {
      "cell_type": "code",
      "source": [
        "ipo_filings_2023 =  ipo_filings.loc[ipo_filings['Filing Date'].dt.year == 2023]\n",
        "ipo_filings_fridays_2023 = ipo_filings_2023.loc[ipo_filings_2023['Filing Date'].dt.dayofweek == 4]"
      ],
      "metadata": {
        "id": "ni63lxZ_St36"
      },
      "execution_count": 32,
      "outputs": []
    },
    {
      "cell_type": "code",
      "source": [
        "len(ipo_filings_fridays_2023)"
      ],
      "metadata": {
        "colab": {
          "base_uri": "https://localhost:8080/"
        },
        "id": "1fujFzKpWUKr",
        "outputId": "9bdc43df-b0f0-496b-c0e5-84ec270e09aa"
      },
      "execution_count": 33,
      "outputs": [
        {
          "output_type": "execute_result",
          "data": {
            "text/plain": [
              "32"
            ]
          },
          "metadata": {},
          "execution_count": 33
        }
      ]
    },
    {
      "cell_type": "code",
      "source": [
        "ipo_filings_fridays_2023.info()"
      ],
      "metadata": {
        "colab": {
          "base_uri": "https://localhost:8080/"
        },
        "id": "BfQy7wi6WXU5",
        "outputId": "5eb67e02-ab90-4eac-f9e7-765df6c58a21"
      },
      "execution_count": 34,
      "outputs": [
        {
          "output_type": "stream",
          "name": "stdout",
          "text": [
            "<class 'pandas.core.frame.DataFrame'>\n",
            "Index: 32 entries, 49 to 164\n",
            "Data columns (total 7 columns):\n",
            " #   Column                Non-Null Count  Dtype         \n",
            "---  ------                --------------  -----         \n",
            " 0   Filing Date           32 non-null     datetime64[ns]\n",
            " 1   Symbol                32 non-null     object        \n",
            " 2   Company Name          32 non-null     object        \n",
            " 3   Price Range           25 non-null     object        \n",
            " 4   Shares Offered        25 non-null     float64       \n",
            " 5   Avg_price             25 non-null     float64       \n",
            " 6   Shares_offered_value  25 non-null     float64       \n",
            "dtypes: datetime64[ns](1), float64(3), object(3)\n",
            "memory usage: 2.0+ KB\n"
          ]
        }
      ]
    },
    {
      "cell_type": "markdown",
      "source": [
        "`You should see 32 records in total, 25 of it is not null.`"
      ],
      "metadata": {
        "id": "rtOvJYrPWeic"
      }
    },
    {
      "cell_type": "code",
      "source": [
        "total_sum_millions = round(ipo_filings_fridays_2023['Shares_offered_value'].sum() / 1_000_000)"
      ],
      "metadata": {
        "id": "pSLzTTS8WCcy"
      },
      "execution_count": 35,
      "outputs": []
    },
    {
      "cell_type": "code",
      "source": [
        "print(f'the total sum in $m (millions of USD, closest INTEGER number) for all filings during 2023, which happened on Fridays \\n \"{total_sum_millions}\"')"
      ],
      "metadata": {
        "colab": {
          "base_uri": "https://localhost:8080/"
        },
        "id": "gZ7lDly_Wgfr",
        "outputId": "6670fe49-e994-47f0-e566-06b4714a1167"
      },
      "execution_count": 36,
      "outputs": [
        {
          "output_type": "stream",
          "name": "stdout",
          "text": [
            "the total sum in $m (millions of USD, closest INTEGER number) for all filings during 2023, which happened on Fridays \n",
            " \"286\"\n"
          ]
        }
      ]
    },
    {
      "cell_type": "markdown",
      "source": [
        "## Question 2: IPOs \"Fixed days hold\" strategy"
      ],
      "metadata": {
        "id": "sf-bPAmbW1mQ"
      }
    },
    {
      "cell_type": "markdown",
      "source": [
        "Find the optimal number of days X (between 1 and 30), where 75% quantile growth is the highest?\n",
        "\n",
        "1. Reuse [Code Snippet 1] to retrieve the list of IPOs from 2023 and 2024 (from URLs: https://stockanalysis.com/ipos/2023/ and https://stockanalysis.com/ipos/2024/).\n",
        "1. Get all OHLCV daily prices for all stocks with an \"IPO date\" before March 1, 2024 (\"< 2024-03-01\") - 184 tickers (without 'RYZB'). Please remove 'RYZB', as it is no longer available on Yahoo Finance.\n",
        "1. Sometimes you may need to adjust the symbol name (e.g., 'IBAC' on stockanalysis.com -> 'IBACU' on Yahoo Finance) to locate OHLCV prices for all stocks. Also, you can see the ticker changes using this link[1].\n",
        "1. Some of the tickers (like 'DYCQ' and 'LEGT') were on the market less than 30 days (11 and 21 days, respectively). Let's leave them in the dataset; it just means that you couldn't hold them for more days than they were listed.\n",
        "\n",
        "Let's assume you managed to buy a new stock (listed on IPO) on the first day at the [Adj Close] price]. Your strategy is to hold for exactly X full days (where X is between 1 and 30) and sell at the \"Adj. Close\" price in X days (e.g., if X=1, you sell on the next day). Find X, when the 75% quantile growth (among 185 investments) is the highest.\n",
        "\n",
        "HINTs:\n",
        "* You can generate 30 additional columns: growth_future_1d ... growth_future_30d, join that with the table of min_dates (first day when each stock has data on Yahoo Finance), and perform vector operations on the resulting dataset.\n",
        "* You can use the DataFrame.describe() function to get mean, min, max, 25-50-75% quantiles.\n",
        "\n",
        "Additional:\n",
        "* You can also ensure that the mean and 50th percentile (median) investment returns are negative for most X values, implying a wager for a \"lucky\" investor who might be in the top 25%.\n",
        "* What's your recommendation: Do you suggest pursuing this strategy for an optimal X?\n",
        "\n",
        "[1]: https://stockanalysis.com/actions/changes/"
      ],
      "metadata": {
        "id": "uwi1TGeLW6kM"
      }
    },
    {
      "cell_type": "code",
      "source": [
        "import pandas as pd\n",
        "import requests\n",
        "\n",
        "headers = {\n",
        "    'User-Agent': 'Mozilla/5.0 (Windows NT 10.0; Win64; x64) AppleWebKit/537.36 (KHTML, like Gecko) Chrome/58.0.3029.110 Safari/537.3',\n",
        "}\n",
        "\n",
        "url = \"https://stockanalysis.com/ipos/2023/\"\n",
        "response = requests.get(url, headers=headers)\n",
        "\n",
        "ipo_dfs = pd.read_html(response.text)"
      ],
      "metadata": {
        "id": "o5vSLTPnWuvi"
      },
      "execution_count": 37,
      "outputs": []
    },
    {
      "cell_type": "code",
      "source": [
        "ipos_2023 = ipo_dfs[0]\n",
        "ipos_2023.info()"
      ],
      "metadata": {
        "colab": {
          "base_uri": "https://localhost:8080/"
        },
        "id": "8M4i-jnUbNKk",
        "outputId": "570e2f40-38c2-45ce-bbb2-0ca51796b50c"
      },
      "execution_count": 38,
      "outputs": [
        {
          "output_type": "stream",
          "name": "stdout",
          "text": [
            "<class 'pandas.core.frame.DataFrame'>\n",
            "RangeIndex: 154 entries, 0 to 153\n",
            "Data columns (total 6 columns):\n",
            " #   Column        Non-Null Count  Dtype \n",
            "---  ------        --------------  ----- \n",
            " 0   IPO Date      154 non-null    object\n",
            " 1   Symbol        154 non-null    object\n",
            " 2   Company Name  154 non-null    object\n",
            " 3   IPO Price     154 non-null    object\n",
            " 4   Current       154 non-null    object\n",
            " 5   Return        154 non-null    object\n",
            "dtypes: object(6)\n",
            "memory usage: 7.3+ KB\n"
          ]
        }
      ]
    },
    {
      "cell_type": "code",
      "source": [
        "url = \"https://stockanalysis.com/ipos/2024/\"\n",
        "response = requests.get(url, headers=headers)\n",
        "\n",
        "ipo_dfs = pd.read_html(response.text)"
      ],
      "metadata": {
        "id": "dYIdJcaebOeQ"
      },
      "execution_count": 39,
      "outputs": []
    },
    {
      "cell_type": "code",
      "source": [
        "ipos_2024 = ipo_dfs[0]\n",
        "ipos_2024.info()"
      ],
      "metadata": {
        "colab": {
          "base_uri": "https://localhost:8080/"
        },
        "id": "2vUxHFcZbQDo",
        "outputId": "e8dd98f6-4a85-48fa-fb8f-54f050038358"
      },
      "execution_count": 40,
      "outputs": [
        {
          "output_type": "stream",
          "name": "stdout",
          "text": [
            "<class 'pandas.core.frame.DataFrame'>\n",
            "RangeIndex: 68 entries, 0 to 67\n",
            "Data columns (total 6 columns):\n",
            " #   Column        Non-Null Count  Dtype \n",
            "---  ------        --------------  ----- \n",
            " 0   IPO Date      68 non-null     object\n",
            " 1   Symbol        68 non-null     object\n",
            " 2   Company Name  68 non-null     object\n",
            " 3   IPO Price     68 non-null     object\n",
            " 4   Current       68 non-null     object\n",
            " 5   Return        68 non-null     object\n",
            "dtypes: object(6)\n",
            "memory usage: 3.3+ KB\n"
          ]
        }
      ]
    },
    {
      "cell_type": "code",
      "source": [
        "stacked_ipos_df = pd.concat([ipos_2024, ipos_2023], ignore_index=True)"
      ],
      "metadata": {
        "id": "gTsXdEa4bRMu"
      },
      "execution_count": 41,
      "outputs": []
    },
    {
      "cell_type": "code",
      "source": [
        "stacked_ipos_df.head()"
      ],
      "metadata": {
        "colab": {
          "base_uri": "https://localhost:8080/",
          "height": 206
        },
        "id": "EQPMGHLSbUGm",
        "outputId": "77e4d772-ae7c-4abf-d7a2-3ccd666bcc69"
      },
      "execution_count": 42,
      "outputs": [
        {
          "output_type": "execute_result",
          "data": {
            "text/plain": [
              "      IPO Date Symbol                     Company Name IPO Price Current  \\\n",
              "0  May 9, 2024   SVCO              Silvaco Group, Inc.    $19.00  $19.80   \n",
              "1  May 9, 2024    PAL  Proficient Auto Logistics, Inc.    $15.00  $14.75   \n",
              "2  May 9, 2024   GPAT     GP-Act III Acquisition Corp.    $10.00  $10.09   \n",
              "3  May 8, 2024    NNE         Nano Nuclear Energy Inc.     $4.00   $5.05   \n",
              "4  May 1, 2024    VIK             Viking Holdings Ltd.    $24.00  $28.50   \n",
              "\n",
              "   Return  \n",
              "0   4.21%  \n",
              "1  -1.67%  \n",
              "2       -  \n",
              "3  26.25%  \n",
              "4  18.75%  "
            ],
            "text/html": [
              "\n",
              "  <div id=\"df-7c9c5e0d-e65e-43da-b6b4-17aaf6c09938\" class=\"colab-df-container\">\n",
              "    <div>\n",
              "<style scoped>\n",
              "    .dataframe tbody tr th:only-of-type {\n",
              "        vertical-align: middle;\n",
              "    }\n",
              "\n",
              "    .dataframe tbody tr th {\n",
              "        vertical-align: top;\n",
              "    }\n",
              "\n",
              "    .dataframe thead th {\n",
              "        text-align: right;\n",
              "    }\n",
              "</style>\n",
              "<table border=\"1\" class=\"dataframe\">\n",
              "  <thead>\n",
              "    <tr style=\"text-align: right;\">\n",
              "      <th></th>\n",
              "      <th>IPO Date</th>\n",
              "      <th>Symbol</th>\n",
              "      <th>Company Name</th>\n",
              "      <th>IPO Price</th>\n",
              "      <th>Current</th>\n",
              "      <th>Return</th>\n",
              "    </tr>\n",
              "  </thead>\n",
              "  <tbody>\n",
              "    <tr>\n",
              "      <th>0</th>\n",
              "      <td>May 9, 2024</td>\n",
              "      <td>SVCO</td>\n",
              "      <td>Silvaco Group, Inc.</td>\n",
              "      <td>$19.00</td>\n",
              "      <td>$19.80</td>\n",
              "      <td>4.21%</td>\n",
              "    </tr>\n",
              "    <tr>\n",
              "      <th>1</th>\n",
              "      <td>May 9, 2024</td>\n",
              "      <td>PAL</td>\n",
              "      <td>Proficient Auto Logistics, Inc.</td>\n",
              "      <td>$15.00</td>\n",
              "      <td>$14.75</td>\n",
              "      <td>-1.67%</td>\n",
              "    </tr>\n",
              "    <tr>\n",
              "      <th>2</th>\n",
              "      <td>May 9, 2024</td>\n",
              "      <td>GPAT</td>\n",
              "      <td>GP-Act III Acquisition Corp.</td>\n",
              "      <td>$10.00</td>\n",
              "      <td>$10.09</td>\n",
              "      <td>-</td>\n",
              "    </tr>\n",
              "    <tr>\n",
              "      <th>3</th>\n",
              "      <td>May 8, 2024</td>\n",
              "      <td>NNE</td>\n",
              "      <td>Nano Nuclear Energy Inc.</td>\n",
              "      <td>$4.00</td>\n",
              "      <td>$5.05</td>\n",
              "      <td>26.25%</td>\n",
              "    </tr>\n",
              "    <tr>\n",
              "      <th>4</th>\n",
              "      <td>May 1, 2024</td>\n",
              "      <td>VIK</td>\n",
              "      <td>Viking Holdings Ltd.</td>\n",
              "      <td>$24.00</td>\n",
              "      <td>$28.50</td>\n",
              "      <td>18.75%</td>\n",
              "    </tr>\n",
              "  </tbody>\n",
              "</table>\n",
              "</div>\n",
              "    <div class=\"colab-df-buttons\">\n",
              "\n",
              "  <div class=\"colab-df-container\">\n",
              "    <button class=\"colab-df-convert\" onclick=\"convertToInteractive('df-7c9c5e0d-e65e-43da-b6b4-17aaf6c09938')\"\n",
              "            title=\"Convert this dataframe to an interactive table.\"\n",
              "            style=\"display:none;\">\n",
              "\n",
              "  <svg xmlns=\"http://www.w3.org/2000/svg\" height=\"24px\" viewBox=\"0 -960 960 960\">\n",
              "    <path d=\"M120-120v-720h720v720H120Zm60-500h600v-160H180v160Zm220 220h160v-160H400v160Zm0 220h160v-160H400v160ZM180-400h160v-160H180v160Zm440 0h160v-160H620v160ZM180-180h160v-160H180v160Zm440 0h160v-160H620v160Z\"/>\n",
              "  </svg>\n",
              "    </button>\n",
              "\n",
              "  <style>\n",
              "    .colab-df-container {\n",
              "      display:flex;\n",
              "      gap: 12px;\n",
              "    }\n",
              "\n",
              "    .colab-df-convert {\n",
              "      background-color: #E8F0FE;\n",
              "      border: none;\n",
              "      border-radius: 50%;\n",
              "      cursor: pointer;\n",
              "      display: none;\n",
              "      fill: #1967D2;\n",
              "      height: 32px;\n",
              "      padding: 0 0 0 0;\n",
              "      width: 32px;\n",
              "    }\n",
              "\n",
              "    .colab-df-convert:hover {\n",
              "      background-color: #E2EBFA;\n",
              "      box-shadow: 0px 1px 2px rgba(60, 64, 67, 0.3), 0px 1px 3px 1px rgba(60, 64, 67, 0.15);\n",
              "      fill: #174EA6;\n",
              "    }\n",
              "\n",
              "    .colab-df-buttons div {\n",
              "      margin-bottom: 4px;\n",
              "    }\n",
              "\n",
              "    [theme=dark] .colab-df-convert {\n",
              "      background-color: #3B4455;\n",
              "      fill: #D2E3FC;\n",
              "    }\n",
              "\n",
              "    [theme=dark] .colab-df-convert:hover {\n",
              "      background-color: #434B5C;\n",
              "      box-shadow: 0px 1px 3px 1px rgba(0, 0, 0, 0.15);\n",
              "      filter: drop-shadow(0px 1px 2px rgba(0, 0, 0, 0.3));\n",
              "      fill: #FFFFFF;\n",
              "    }\n",
              "  </style>\n",
              "\n",
              "    <script>\n",
              "      const buttonEl =\n",
              "        document.querySelector('#df-7c9c5e0d-e65e-43da-b6b4-17aaf6c09938 button.colab-df-convert');\n",
              "      buttonEl.style.display =\n",
              "        google.colab.kernel.accessAllowed ? 'block' : 'none';\n",
              "\n",
              "      async function convertToInteractive(key) {\n",
              "        const element = document.querySelector('#df-7c9c5e0d-e65e-43da-b6b4-17aaf6c09938');\n",
              "        const dataTable =\n",
              "          await google.colab.kernel.invokeFunction('convertToInteractive',\n",
              "                                                    [key], {});\n",
              "        if (!dataTable) return;\n",
              "\n",
              "        const docLinkHtml = 'Like what you see? Visit the ' +\n",
              "          '<a target=\"_blank\" href=https://colab.research.google.com/notebooks/data_table.ipynb>data table notebook</a>'\n",
              "          + ' to learn more about interactive tables.';\n",
              "        element.innerHTML = '';\n",
              "        dataTable['output_type'] = 'display_data';\n",
              "        await google.colab.output.renderOutput(dataTable, element);\n",
              "        const docLink = document.createElement('div');\n",
              "        docLink.innerHTML = docLinkHtml;\n",
              "        element.appendChild(docLink);\n",
              "      }\n",
              "    </script>\n",
              "  </div>\n",
              "\n",
              "\n",
              "<div id=\"df-a208b29a-5c59-4356-b553-a581bc3816a3\">\n",
              "  <button class=\"colab-df-quickchart\" onclick=\"quickchart('df-a208b29a-5c59-4356-b553-a581bc3816a3')\"\n",
              "            title=\"Suggest charts\"\n",
              "            style=\"display:none;\">\n",
              "\n",
              "<svg xmlns=\"http://www.w3.org/2000/svg\" height=\"24px\"viewBox=\"0 0 24 24\"\n",
              "     width=\"24px\">\n",
              "    <g>\n",
              "        <path d=\"M19 3H5c-1.1 0-2 .9-2 2v14c0 1.1.9 2 2 2h14c1.1 0 2-.9 2-2V5c0-1.1-.9-2-2-2zM9 17H7v-7h2v7zm4 0h-2V7h2v10zm4 0h-2v-4h2v4z\"/>\n",
              "    </g>\n",
              "</svg>\n",
              "  </button>\n",
              "\n",
              "<style>\n",
              "  .colab-df-quickchart {\n",
              "      --bg-color: #E8F0FE;\n",
              "      --fill-color: #1967D2;\n",
              "      --hover-bg-color: #E2EBFA;\n",
              "      --hover-fill-color: #174EA6;\n",
              "      --disabled-fill-color: #AAA;\n",
              "      --disabled-bg-color: #DDD;\n",
              "  }\n",
              "\n",
              "  [theme=dark] .colab-df-quickchart {\n",
              "      --bg-color: #3B4455;\n",
              "      --fill-color: #D2E3FC;\n",
              "      --hover-bg-color: #434B5C;\n",
              "      --hover-fill-color: #FFFFFF;\n",
              "      --disabled-bg-color: #3B4455;\n",
              "      --disabled-fill-color: #666;\n",
              "  }\n",
              "\n",
              "  .colab-df-quickchart {\n",
              "    background-color: var(--bg-color);\n",
              "    border: none;\n",
              "    border-radius: 50%;\n",
              "    cursor: pointer;\n",
              "    display: none;\n",
              "    fill: var(--fill-color);\n",
              "    height: 32px;\n",
              "    padding: 0;\n",
              "    width: 32px;\n",
              "  }\n",
              "\n",
              "  .colab-df-quickchart:hover {\n",
              "    background-color: var(--hover-bg-color);\n",
              "    box-shadow: 0 1px 2px rgba(60, 64, 67, 0.3), 0 1px 3px 1px rgba(60, 64, 67, 0.15);\n",
              "    fill: var(--button-hover-fill-color);\n",
              "  }\n",
              "\n",
              "  .colab-df-quickchart-complete:disabled,\n",
              "  .colab-df-quickchart-complete:disabled:hover {\n",
              "    background-color: var(--disabled-bg-color);\n",
              "    fill: var(--disabled-fill-color);\n",
              "    box-shadow: none;\n",
              "  }\n",
              "\n",
              "  .colab-df-spinner {\n",
              "    border: 2px solid var(--fill-color);\n",
              "    border-color: transparent;\n",
              "    border-bottom-color: var(--fill-color);\n",
              "    animation:\n",
              "      spin 1s steps(1) infinite;\n",
              "  }\n",
              "\n",
              "  @keyframes spin {\n",
              "    0% {\n",
              "      border-color: transparent;\n",
              "      border-bottom-color: var(--fill-color);\n",
              "      border-left-color: var(--fill-color);\n",
              "    }\n",
              "    20% {\n",
              "      border-color: transparent;\n",
              "      border-left-color: var(--fill-color);\n",
              "      border-top-color: var(--fill-color);\n",
              "    }\n",
              "    30% {\n",
              "      border-color: transparent;\n",
              "      border-left-color: var(--fill-color);\n",
              "      border-top-color: var(--fill-color);\n",
              "      border-right-color: var(--fill-color);\n",
              "    }\n",
              "    40% {\n",
              "      border-color: transparent;\n",
              "      border-right-color: var(--fill-color);\n",
              "      border-top-color: var(--fill-color);\n",
              "    }\n",
              "    60% {\n",
              "      border-color: transparent;\n",
              "      border-right-color: var(--fill-color);\n",
              "    }\n",
              "    80% {\n",
              "      border-color: transparent;\n",
              "      border-right-color: var(--fill-color);\n",
              "      border-bottom-color: var(--fill-color);\n",
              "    }\n",
              "    90% {\n",
              "      border-color: transparent;\n",
              "      border-bottom-color: var(--fill-color);\n",
              "    }\n",
              "  }\n",
              "</style>\n",
              "\n",
              "  <script>\n",
              "    async function quickchart(key) {\n",
              "      const quickchartButtonEl =\n",
              "        document.querySelector('#' + key + ' button');\n",
              "      quickchartButtonEl.disabled = true;  // To prevent multiple clicks.\n",
              "      quickchartButtonEl.classList.add('colab-df-spinner');\n",
              "      try {\n",
              "        const charts = await google.colab.kernel.invokeFunction(\n",
              "            'suggestCharts', [key], {});\n",
              "      } catch (error) {\n",
              "        console.error('Error during call to suggestCharts:', error);\n",
              "      }\n",
              "      quickchartButtonEl.classList.remove('colab-df-spinner');\n",
              "      quickchartButtonEl.classList.add('colab-df-quickchart-complete');\n",
              "    }\n",
              "    (() => {\n",
              "      let quickchartButtonEl =\n",
              "        document.querySelector('#df-a208b29a-5c59-4356-b553-a581bc3816a3 button');\n",
              "      quickchartButtonEl.style.display =\n",
              "        google.colab.kernel.accessAllowed ? 'block' : 'none';\n",
              "    })();\n",
              "  </script>\n",
              "</div>\n",
              "\n",
              "    </div>\n",
              "  </div>\n"
            ],
            "application/vnd.google.colaboratory.intrinsic+json": {
              "type": "dataframe",
              "variable_name": "stacked_ipos_df",
              "summary": "{\n  \"name\": \"stacked_ipos_df\",\n  \"rows\": 222,\n  \"fields\": [\n    {\n      \"column\": \"IPO Date\",\n      \"properties\": {\n        \"dtype\": \"string\",\n        \"num_unique_values\": 141,\n        \"samples\": [\n          \"Sep 27, 2023\",\n          \"Apr 21, 2023\",\n          \"Feb 6, 2024\"\n        ],\n        \"semantic_type\": \"\",\n        \"description\": \"\"\n      }\n    },\n    {\n      \"column\": \"Symbol\",\n      \"properties\": {\n        \"dtype\": \"string\",\n        \"num_unique_values\": 222,\n        \"samples\": [\n          \"ATMU\",\n          \"BREA\",\n          \"MTEN\"\n        ],\n        \"semantic_type\": \"\",\n        \"description\": \"\"\n      }\n    },\n    {\n      \"column\": \"Company Name\",\n      \"properties\": {\n        \"dtype\": \"string\",\n        \"num_unique_values\": 222,\n        \"samples\": [\n          \"Atmus Filtration Technologies Inc.\",\n          \"Brera Holdings PLC\",\n          \"Mingteng International Corporation Inc.\"\n        ],\n        \"semantic_type\": \"\",\n        \"description\": \"\"\n      }\n    },\n    {\n      \"column\": \"IPO Price\",\n      \"properties\": {\n        \"dtype\": \"category\",\n        \"num_unique_values\": 50,\n        \"samples\": [\n          \"$34.00\",\n          \"$14.00\",\n          \"$4.13\"\n        ],\n        \"semantic_type\": \"\",\n        \"description\": \"\"\n      }\n    },\n    {\n      \"column\": \"Current\",\n      \"properties\": {\n        \"dtype\": \"string\",\n        \"num_unique_values\": 200,\n        \"samples\": [\n          \"$1.20\",\n          \"$6.01\",\n          \"$50.11\"\n        ],\n        \"semantic_type\": \"\",\n        \"description\": \"\"\n      }\n    },\n    {\n      \"column\": \"Return\",\n      \"properties\": {\n        \"dtype\": \"string\",\n        \"num_unique_values\": 211,\n        \"samples\": [\n          \"-23.50%\",\n          \"-73.20%\",\n          \"-15.83%\"\n        ],\n        \"semantic_type\": \"\",\n        \"description\": \"\"\n      }\n    }\n  ]\n}"
            }
          },
          "metadata": {},
          "execution_count": 42
        }
      ]
    },
    {
      "cell_type": "code",
      "source": [
        "stacked_ipos_df.info()"
      ],
      "metadata": {
        "colab": {
          "base_uri": "https://localhost:8080/"
        },
        "id": "MhOJ2lMnbVmQ",
        "outputId": "1fe8c6af-0b38-40e6-a0d6-d41ffbfa9b0c"
      },
      "execution_count": 43,
      "outputs": [
        {
          "output_type": "stream",
          "name": "stdout",
          "text": [
            "<class 'pandas.core.frame.DataFrame'>\n",
            "RangeIndex: 222 entries, 0 to 221\n",
            "Data columns (total 6 columns):\n",
            " #   Column        Non-Null Count  Dtype \n",
            "---  ------        --------------  ----- \n",
            " 0   IPO Date      222 non-null    object\n",
            " 1   Symbol        222 non-null    object\n",
            " 2   Company Name  222 non-null    object\n",
            " 3   IPO Price     222 non-null    object\n",
            " 4   Current       222 non-null    object\n",
            " 5   Return        222 non-null    object\n",
            "dtypes: object(6)\n",
            "memory usage: 10.5+ KB\n"
          ]
        }
      ]
    },
    {
      "cell_type": "markdown",
      "source": [
        "### Date"
      ],
      "metadata": {
        "id": "kAkBrQ4UcxS1"
      }
    },
    {
      "cell_type": "code",
      "source": [
        "stacked_ipos_df['IPO Date'] = pd.to_datetime(stacked_ipos_df['IPO Date'], format=\"%b %d, %Y\")"
      ],
      "metadata": {
        "id": "TdEf0O_YbYhu"
      },
      "execution_count": 44,
      "outputs": []
    },
    {
      "cell_type": "markdown",
      "source": [
        "### Price"
      ],
      "metadata": {
        "id": "NiDihD-zc3Dr"
      }
    },
    {
      "cell_type": "code",
      "source": [
        "missing_prices_df = stacked_ipos_df[stacked_ipos_df['IPO Price'].astype(str).str.find('-') >= 0]\n",
        "missing_prices_df"
      ],
      "metadata": {
        "colab": {
          "base_uri": "https://localhost:8080/",
          "height": 89
        },
        "id": "-anJq00JbaF4",
        "outputId": "d6e3f004-cc64-4193-91b3-b884a392ef8c"
      },
      "execution_count": 45,
      "outputs": [
        {
          "output_type": "execute_result",
          "data": {
            "text/plain": [
              "Empty DataFrame\n",
              "Columns: [IPO Date, Symbol, Company Name, IPO Price, Current, Return]\n",
              "Index: []"
            ],
            "text/html": [
              "\n",
              "  <div id=\"df-b25069bd-1657-4783-9084-0dfe9e7bc214\" class=\"colab-df-container\">\n",
              "    <div>\n",
              "<style scoped>\n",
              "    .dataframe tbody tr th:only-of-type {\n",
              "        vertical-align: middle;\n",
              "    }\n",
              "\n",
              "    .dataframe tbody tr th {\n",
              "        vertical-align: top;\n",
              "    }\n",
              "\n",
              "    .dataframe thead th {\n",
              "        text-align: right;\n",
              "    }\n",
              "</style>\n",
              "<table border=\"1\" class=\"dataframe\">\n",
              "  <thead>\n",
              "    <tr style=\"text-align: right;\">\n",
              "      <th></th>\n",
              "      <th>IPO Date</th>\n",
              "      <th>Symbol</th>\n",
              "      <th>Company Name</th>\n",
              "      <th>IPO Price</th>\n",
              "      <th>Current</th>\n",
              "      <th>Return</th>\n",
              "    </tr>\n",
              "  </thead>\n",
              "  <tbody>\n",
              "  </tbody>\n",
              "</table>\n",
              "</div>\n",
              "    <div class=\"colab-df-buttons\">\n",
              "\n",
              "  <div class=\"colab-df-container\">\n",
              "    <button class=\"colab-df-convert\" onclick=\"convertToInteractive('df-b25069bd-1657-4783-9084-0dfe9e7bc214')\"\n",
              "            title=\"Convert this dataframe to an interactive table.\"\n",
              "            style=\"display:none;\">\n",
              "\n",
              "  <svg xmlns=\"http://www.w3.org/2000/svg\" height=\"24px\" viewBox=\"0 -960 960 960\">\n",
              "    <path d=\"M120-120v-720h720v720H120Zm60-500h600v-160H180v160Zm220 220h160v-160H400v160Zm0 220h160v-160H400v160ZM180-400h160v-160H180v160Zm440 0h160v-160H620v160ZM180-180h160v-160H180v160Zm440 0h160v-160H620v160Z\"/>\n",
              "  </svg>\n",
              "    </button>\n",
              "\n",
              "  <style>\n",
              "    .colab-df-container {\n",
              "      display:flex;\n",
              "      gap: 12px;\n",
              "    }\n",
              "\n",
              "    .colab-df-convert {\n",
              "      background-color: #E8F0FE;\n",
              "      border: none;\n",
              "      border-radius: 50%;\n",
              "      cursor: pointer;\n",
              "      display: none;\n",
              "      fill: #1967D2;\n",
              "      height: 32px;\n",
              "      padding: 0 0 0 0;\n",
              "      width: 32px;\n",
              "    }\n",
              "\n",
              "    .colab-df-convert:hover {\n",
              "      background-color: #E2EBFA;\n",
              "      box-shadow: 0px 1px 2px rgba(60, 64, 67, 0.3), 0px 1px 3px 1px rgba(60, 64, 67, 0.15);\n",
              "      fill: #174EA6;\n",
              "    }\n",
              "\n",
              "    .colab-df-buttons div {\n",
              "      margin-bottom: 4px;\n",
              "    }\n",
              "\n",
              "    [theme=dark] .colab-df-convert {\n",
              "      background-color: #3B4455;\n",
              "      fill: #D2E3FC;\n",
              "    }\n",
              "\n",
              "    [theme=dark] .colab-df-convert:hover {\n",
              "      background-color: #434B5C;\n",
              "      box-shadow: 0px 1px 3px 1px rgba(0, 0, 0, 0.15);\n",
              "      filter: drop-shadow(0px 1px 2px rgba(0, 0, 0, 0.3));\n",
              "      fill: #FFFFFF;\n",
              "    }\n",
              "  </style>\n",
              "\n",
              "    <script>\n",
              "      const buttonEl =\n",
              "        document.querySelector('#df-b25069bd-1657-4783-9084-0dfe9e7bc214 button.colab-df-convert');\n",
              "      buttonEl.style.display =\n",
              "        google.colab.kernel.accessAllowed ? 'block' : 'none';\n",
              "\n",
              "      async function convertToInteractive(key) {\n",
              "        const element = document.querySelector('#df-b25069bd-1657-4783-9084-0dfe9e7bc214');\n",
              "        const dataTable =\n",
              "          await google.colab.kernel.invokeFunction('convertToInteractive',\n",
              "                                                    [key], {});\n",
              "        if (!dataTable) return;\n",
              "\n",
              "        const docLinkHtml = 'Like what you see? Visit the ' +\n",
              "          '<a target=\"_blank\" href=https://colab.research.google.com/notebooks/data_table.ipynb>data table notebook</a>'\n",
              "          + ' to learn more about interactive tables.';\n",
              "        element.innerHTML = '';\n",
              "        dataTable['output_type'] = 'display_data';\n",
              "        await google.colab.output.renderOutput(dataTable, element);\n",
              "        const docLink = document.createElement('div');\n",
              "        docLink.innerHTML = docLinkHtml;\n",
              "        element.appendChild(docLink);\n",
              "      }\n",
              "    </script>\n",
              "  </div>\n",
              "\n",
              "\n",
              "  <div id=\"id_2161ae79-e22c-48c0-a466-af1792f2a85e\">\n",
              "    <style>\n",
              "      .colab-df-generate {\n",
              "        background-color: #E8F0FE;\n",
              "        border: none;\n",
              "        border-radius: 50%;\n",
              "        cursor: pointer;\n",
              "        display: none;\n",
              "        fill: #1967D2;\n",
              "        height: 32px;\n",
              "        padding: 0 0 0 0;\n",
              "        width: 32px;\n",
              "      }\n",
              "\n",
              "      .colab-df-generate:hover {\n",
              "        background-color: #E2EBFA;\n",
              "        box-shadow: 0px 1px 2px rgba(60, 64, 67, 0.3), 0px 1px 3px 1px rgba(60, 64, 67, 0.15);\n",
              "        fill: #174EA6;\n",
              "      }\n",
              "\n",
              "      [theme=dark] .colab-df-generate {\n",
              "        background-color: #3B4455;\n",
              "        fill: #D2E3FC;\n",
              "      }\n",
              "\n",
              "      [theme=dark] .colab-df-generate:hover {\n",
              "        background-color: #434B5C;\n",
              "        box-shadow: 0px 1px 3px 1px rgba(0, 0, 0, 0.15);\n",
              "        filter: drop-shadow(0px 1px 2px rgba(0, 0, 0, 0.3));\n",
              "        fill: #FFFFFF;\n",
              "      }\n",
              "    </style>\n",
              "    <button class=\"colab-df-generate\" onclick=\"generateWithVariable('missing_prices_df')\"\n",
              "            title=\"Generate code using this dataframe.\"\n",
              "            style=\"display:none;\">\n",
              "\n",
              "  <svg xmlns=\"http://www.w3.org/2000/svg\" height=\"24px\"viewBox=\"0 0 24 24\"\n",
              "       width=\"24px\">\n",
              "    <path d=\"M7,19H8.4L18.45,9,17,7.55,7,17.6ZM5,21V16.75L18.45,3.32a2,2,0,0,1,2.83,0l1.4,1.43a1.91,1.91,0,0,1,.58,1.4,1.91,1.91,0,0,1-.58,1.4L9.25,21ZM18.45,9,17,7.55Zm-12,3A5.31,5.31,0,0,0,4.9,8.1,5.31,5.31,0,0,0,1,6.5,5.31,5.31,0,0,0,4.9,4.9,5.31,5.31,0,0,0,6.5,1,5.31,5.31,0,0,0,8.1,4.9,5.31,5.31,0,0,0,12,6.5,5.46,5.46,0,0,0,6.5,12Z\"/>\n",
              "  </svg>\n",
              "    </button>\n",
              "    <script>\n",
              "      (() => {\n",
              "      const buttonEl =\n",
              "        document.querySelector('#id_2161ae79-e22c-48c0-a466-af1792f2a85e button.colab-df-generate');\n",
              "      buttonEl.style.display =\n",
              "        google.colab.kernel.accessAllowed ? 'block' : 'none';\n",
              "\n",
              "      buttonEl.onclick = () => {\n",
              "        google.colab.notebook.generateWithVariable('missing_prices_df');\n",
              "      }\n",
              "      })();\n",
              "    </script>\n",
              "  </div>\n",
              "\n",
              "    </div>\n",
              "  </div>\n"
            ],
            "application/vnd.google.colaboratory.intrinsic+json": {
              "type": "dataframe",
              "variable_name": "missing_prices_df",
              "repr_error": "Out of range float values are not JSON compliant: nan"
            }
          },
          "metadata": {},
          "execution_count": 45
        }
      ]
    },
    {
      "cell_type": "code",
      "source": [
        "stacked_ipos_df.loc[stacked_ipos_df['Symbol']=='NCI']"
      ],
      "metadata": {
        "colab": {
          "base_uri": "https://localhost:8080/",
          "height": 80
        },
        "id": "q8n4L8FAc9t4",
        "outputId": "778b33b7-1f7b-41bf-dc9b-7bbf52905608"
      },
      "execution_count": 46,
      "outputs": [
        {
          "output_type": "execute_result",
          "data": {
            "text/plain": [
              "    IPO Date Symbol                                      Company Name  \\\n",
              "9 2024-04-23    NCI  Neo-Concept International Group Holdings Limited   \n",
              "\n",
              "  IPO Price Current   Return  \n",
              "9     $4.00   $1.15  -71.25%  "
            ],
            "text/html": [
              "\n",
              "  <div id=\"df-b1f13a93-25f7-4d79-be5b-ead6b6d1632d\" class=\"colab-df-container\">\n",
              "    <div>\n",
              "<style scoped>\n",
              "    .dataframe tbody tr th:only-of-type {\n",
              "        vertical-align: middle;\n",
              "    }\n",
              "\n",
              "    .dataframe tbody tr th {\n",
              "        vertical-align: top;\n",
              "    }\n",
              "\n",
              "    .dataframe thead th {\n",
              "        text-align: right;\n",
              "    }\n",
              "</style>\n",
              "<table border=\"1\" class=\"dataframe\">\n",
              "  <thead>\n",
              "    <tr style=\"text-align: right;\">\n",
              "      <th></th>\n",
              "      <th>IPO Date</th>\n",
              "      <th>Symbol</th>\n",
              "      <th>Company Name</th>\n",
              "      <th>IPO Price</th>\n",
              "      <th>Current</th>\n",
              "      <th>Return</th>\n",
              "    </tr>\n",
              "  </thead>\n",
              "  <tbody>\n",
              "    <tr>\n",
              "      <th>9</th>\n",
              "      <td>2024-04-23</td>\n",
              "      <td>NCI</td>\n",
              "      <td>Neo-Concept International Group Holdings Limited</td>\n",
              "      <td>$4.00</td>\n",
              "      <td>$1.15</td>\n",
              "      <td>-71.25%</td>\n",
              "    </tr>\n",
              "  </tbody>\n",
              "</table>\n",
              "</div>\n",
              "    <div class=\"colab-df-buttons\">\n",
              "\n",
              "  <div class=\"colab-df-container\">\n",
              "    <button class=\"colab-df-convert\" onclick=\"convertToInteractive('df-b1f13a93-25f7-4d79-be5b-ead6b6d1632d')\"\n",
              "            title=\"Convert this dataframe to an interactive table.\"\n",
              "            style=\"display:none;\">\n",
              "\n",
              "  <svg xmlns=\"http://www.w3.org/2000/svg\" height=\"24px\" viewBox=\"0 -960 960 960\">\n",
              "    <path d=\"M120-120v-720h720v720H120Zm60-500h600v-160H180v160Zm220 220h160v-160H400v160Zm0 220h160v-160H400v160ZM180-400h160v-160H180v160Zm440 0h160v-160H620v160ZM180-180h160v-160H180v160Zm440 0h160v-160H620v160Z\"/>\n",
              "  </svg>\n",
              "    </button>\n",
              "\n",
              "  <style>\n",
              "    .colab-df-container {\n",
              "      display:flex;\n",
              "      gap: 12px;\n",
              "    }\n",
              "\n",
              "    .colab-df-convert {\n",
              "      background-color: #E8F0FE;\n",
              "      border: none;\n",
              "      border-radius: 50%;\n",
              "      cursor: pointer;\n",
              "      display: none;\n",
              "      fill: #1967D2;\n",
              "      height: 32px;\n",
              "      padding: 0 0 0 0;\n",
              "      width: 32px;\n",
              "    }\n",
              "\n",
              "    .colab-df-convert:hover {\n",
              "      background-color: #E2EBFA;\n",
              "      box-shadow: 0px 1px 2px rgba(60, 64, 67, 0.3), 0px 1px 3px 1px rgba(60, 64, 67, 0.15);\n",
              "      fill: #174EA6;\n",
              "    }\n",
              "\n",
              "    .colab-df-buttons div {\n",
              "      margin-bottom: 4px;\n",
              "    }\n",
              "\n",
              "    [theme=dark] .colab-df-convert {\n",
              "      background-color: #3B4455;\n",
              "      fill: #D2E3FC;\n",
              "    }\n",
              "\n",
              "    [theme=dark] .colab-df-convert:hover {\n",
              "      background-color: #434B5C;\n",
              "      box-shadow: 0px 1px 3px 1px rgba(0, 0, 0, 0.15);\n",
              "      filter: drop-shadow(0px 1px 2px rgba(0, 0, 0, 0.3));\n",
              "      fill: #FFFFFF;\n",
              "    }\n",
              "  </style>\n",
              "\n",
              "    <script>\n",
              "      const buttonEl =\n",
              "        document.querySelector('#df-b1f13a93-25f7-4d79-be5b-ead6b6d1632d button.colab-df-convert');\n",
              "      buttonEl.style.display =\n",
              "        google.colab.kernel.accessAllowed ? 'block' : 'none';\n",
              "\n",
              "      async function convertToInteractive(key) {\n",
              "        const element = document.querySelector('#df-b1f13a93-25f7-4d79-be5b-ead6b6d1632d');\n",
              "        const dataTable =\n",
              "          await google.colab.kernel.invokeFunction('convertToInteractive',\n",
              "                                                    [key], {});\n",
              "        if (!dataTable) return;\n",
              "\n",
              "        const docLinkHtml = 'Like what you see? Visit the ' +\n",
              "          '<a target=\"_blank\" href=https://colab.research.google.com/notebooks/data_table.ipynb>data table notebook</a>'\n",
              "          + ' to learn more about interactive tables.';\n",
              "        element.innerHTML = '';\n",
              "        dataTable['output_type'] = 'display_data';\n",
              "        await google.colab.output.renderOutput(dataTable, element);\n",
              "        const docLink = document.createElement('div');\n",
              "        docLink.innerHTML = docLinkHtml;\n",
              "        element.appendChild(docLink);\n",
              "      }\n",
              "    </script>\n",
              "  </div>\n",
              "\n",
              "\n",
              "    </div>\n",
              "  </div>\n"
            ],
            "application/vnd.google.colaboratory.intrinsic+json": {
              "type": "dataframe",
              "summary": "{\n  \"name\": \"stacked_ipos_df\",\n  \"rows\": 1,\n  \"fields\": [\n    {\n      \"column\": \"IPO Date\",\n      \"properties\": {\n        \"dtype\": \"date\",\n        \"min\": \"2024-04-23 00:00:00\",\n        \"max\": \"2024-04-23 00:00:00\",\n        \"num_unique_values\": 1,\n        \"samples\": [\n          \"2024-04-23 00:00:00\"\n        ],\n        \"semantic_type\": \"\",\n        \"description\": \"\"\n      }\n    },\n    {\n      \"column\": \"Symbol\",\n      \"properties\": {\n        \"dtype\": \"string\",\n        \"num_unique_values\": 1,\n        \"samples\": [\n          \"NCI\"\n        ],\n        \"semantic_type\": \"\",\n        \"description\": \"\"\n      }\n    },\n    {\n      \"column\": \"Company Name\",\n      \"properties\": {\n        \"dtype\": \"string\",\n        \"num_unique_values\": 1,\n        \"samples\": [\n          \"Neo-Concept International Group Holdings Limited\"\n        ],\n        \"semantic_type\": \"\",\n        \"description\": \"\"\n      }\n    },\n    {\n      \"column\": \"IPO Price\",\n      \"properties\": {\n        \"dtype\": \"string\",\n        \"num_unique_values\": 1,\n        \"samples\": [\n          \"$4.00\"\n        ],\n        \"semantic_type\": \"\",\n        \"description\": \"\"\n      }\n    },\n    {\n      \"column\": \"Current\",\n      \"properties\": {\n        \"dtype\": \"string\",\n        \"num_unique_values\": 1,\n        \"samples\": [\n          \"$1.15\"\n        ],\n        \"semantic_type\": \"\",\n        \"description\": \"\"\n      }\n    },\n    {\n      \"column\": \"Return\",\n      \"properties\": {\n        \"dtype\": \"string\",\n        \"num_unique_values\": 1,\n        \"samples\": [\n          \"-71.25%\"\n        ],\n        \"semantic_type\": \"\",\n        \"description\": \"\"\n      }\n    }\n  ]\n}"
            }
          },
          "metadata": {},
          "execution_count": 46
        }
      ]
    },
    {
      "cell_type": "code",
      "source": [
        "stacked_ipos_df['IPO Price'] = pd.to_numeric(stacked_ipos_df['IPO Price'].str.replace('$', ''), errors='coerce')"
      ],
      "metadata": {
        "id": "zdfEyd4YeSRl"
      },
      "execution_count": 47,
      "outputs": []
    },
    {
      "cell_type": "markdown",
      "source": [
        "### Current and Return columns"
      ],
      "metadata": {
        "id": "pCwWmim_eBVv"
      }
    },
    {
      "cell_type": "code",
      "source": [
        "# Convert \"Current\" column\n",
        "stacked_ipos_df['Current'] = pd.to_numeric(stacked_ipos_df['Current'].str.replace('$', ''), errors='coerce')\n",
        "\n",
        "# Convert 'Return' to numeric format (percentage)\n",
        "stacked_ipos_df['Return'] = pd.to_numeric(stacked_ipos_df['Return'].str.replace('%', ''), errors='coerce') / 100"
      ],
      "metadata": {
        "id": "4pVrAQkBdGrG"
      },
      "execution_count": 48,
      "outputs": []
    },
    {
      "cell_type": "code",
      "source": [
        "stacked_ipos_df.info()"
      ],
      "metadata": {
        "colab": {
          "base_uri": "https://localhost:8080/"
        },
        "id": "wCN31jGDdVtz",
        "outputId": "13ab072e-0f3e-4735-ffb0-d0a25fe4fad8"
      },
      "execution_count": 49,
      "outputs": [
        {
          "output_type": "stream",
          "name": "stdout",
          "text": [
            "<class 'pandas.core.frame.DataFrame'>\n",
            "RangeIndex: 222 entries, 0 to 221\n",
            "Data columns (total 6 columns):\n",
            " #   Column        Non-Null Count  Dtype         \n",
            "---  ------        --------------  -----         \n",
            " 0   IPO Date      222 non-null    datetime64[ns]\n",
            " 1   Symbol        222 non-null    object        \n",
            " 2   Company Name  222 non-null    object        \n",
            " 3   IPO Price     222 non-null    float64       \n",
            " 4   Current       222 non-null    float64       \n",
            " 5   Return        219 non-null    float64       \n",
            "dtypes: datetime64[ns](1), float64(3), object(2)\n",
            "memory usage: 10.5+ KB\n"
          ]
        }
      ]
    },
    {
      "cell_type": "code",
      "source": [
        "stacked_ipos_df.isnull().sum()"
      ],
      "metadata": {
        "colab": {
          "base_uri": "https://localhost:8080/"
        },
        "id": "FvV1peVzeF9Q",
        "outputId": "1f82caa5-649b-451b-c4ab-2667b5c3dd64"
      },
      "execution_count": 50,
      "outputs": [
        {
          "output_type": "execute_result",
          "data": {
            "text/plain": [
              "IPO Date        0\n",
              "Symbol          0\n",
              "Company Name    0\n",
              "IPO Price       0\n",
              "Current         0\n",
              "Return          3\n",
              "dtype: int64"
            ]
          },
          "metadata": {},
          "execution_count": 50
        }
      ]
    },
    {
      "cell_type": "code",
      "source": [
        "stacked_ipos_df[stacked_ipos_df.Return.isnull()]"
      ],
      "metadata": {
        "colab": {
          "base_uri": "https://localhost:8080/",
          "height": 143
        },
        "id": "_mDqbUNeeHno",
        "outputId": "08f9d4a3-cce6-4ee9-edca-5feefca85dfd"
      },
      "execution_count": 51,
      "outputs": [
        {
          "output_type": "execute_result",
          "data": {
            "text/plain": [
              "     IPO Date Symbol                  Company Name  IPO Price  Current  Return\n",
              "2  2024-05-09   GPAT  GP-Act III Acquisition Corp.       10.0    10.09     NaN\n",
              "8  2024-04-25    MRX               Marex Group plc       19.0    19.00     NaN\n",
              "26 2024-03-28   UBXG          U-BX Technology Ltd.        5.0     5.00     NaN"
            ],
            "text/html": [
              "\n",
              "  <div id=\"df-a2fb61ce-41e1-4225-a17d-d02d362e6341\" class=\"colab-df-container\">\n",
              "    <div>\n",
              "<style scoped>\n",
              "    .dataframe tbody tr th:only-of-type {\n",
              "        vertical-align: middle;\n",
              "    }\n",
              "\n",
              "    .dataframe tbody tr th {\n",
              "        vertical-align: top;\n",
              "    }\n",
              "\n",
              "    .dataframe thead th {\n",
              "        text-align: right;\n",
              "    }\n",
              "</style>\n",
              "<table border=\"1\" class=\"dataframe\">\n",
              "  <thead>\n",
              "    <tr style=\"text-align: right;\">\n",
              "      <th></th>\n",
              "      <th>IPO Date</th>\n",
              "      <th>Symbol</th>\n",
              "      <th>Company Name</th>\n",
              "      <th>IPO Price</th>\n",
              "      <th>Current</th>\n",
              "      <th>Return</th>\n",
              "    </tr>\n",
              "  </thead>\n",
              "  <tbody>\n",
              "    <tr>\n",
              "      <th>2</th>\n",
              "      <td>2024-05-09</td>\n",
              "      <td>GPAT</td>\n",
              "      <td>GP-Act III Acquisition Corp.</td>\n",
              "      <td>10.0</td>\n",
              "      <td>10.09</td>\n",
              "      <td>NaN</td>\n",
              "    </tr>\n",
              "    <tr>\n",
              "      <th>8</th>\n",
              "      <td>2024-04-25</td>\n",
              "      <td>MRX</td>\n",
              "      <td>Marex Group plc</td>\n",
              "      <td>19.0</td>\n",
              "      <td>19.00</td>\n",
              "      <td>NaN</td>\n",
              "    </tr>\n",
              "    <tr>\n",
              "      <th>26</th>\n",
              "      <td>2024-03-28</td>\n",
              "      <td>UBXG</td>\n",
              "      <td>U-BX Technology Ltd.</td>\n",
              "      <td>5.0</td>\n",
              "      <td>5.00</td>\n",
              "      <td>NaN</td>\n",
              "    </tr>\n",
              "  </tbody>\n",
              "</table>\n",
              "</div>\n",
              "    <div class=\"colab-df-buttons\">\n",
              "\n",
              "  <div class=\"colab-df-container\">\n",
              "    <button class=\"colab-df-convert\" onclick=\"convertToInteractive('df-a2fb61ce-41e1-4225-a17d-d02d362e6341')\"\n",
              "            title=\"Convert this dataframe to an interactive table.\"\n",
              "            style=\"display:none;\">\n",
              "\n",
              "  <svg xmlns=\"http://www.w3.org/2000/svg\" height=\"24px\" viewBox=\"0 -960 960 960\">\n",
              "    <path d=\"M120-120v-720h720v720H120Zm60-500h600v-160H180v160Zm220 220h160v-160H400v160Zm0 220h160v-160H400v160ZM180-400h160v-160H180v160Zm440 0h160v-160H620v160ZM180-180h160v-160H180v160Zm440 0h160v-160H620v160Z\"/>\n",
              "  </svg>\n",
              "    </button>\n",
              "\n",
              "  <style>\n",
              "    .colab-df-container {\n",
              "      display:flex;\n",
              "      gap: 12px;\n",
              "    }\n",
              "\n",
              "    .colab-df-convert {\n",
              "      background-color: #E8F0FE;\n",
              "      border: none;\n",
              "      border-radius: 50%;\n",
              "      cursor: pointer;\n",
              "      display: none;\n",
              "      fill: #1967D2;\n",
              "      height: 32px;\n",
              "      padding: 0 0 0 0;\n",
              "      width: 32px;\n",
              "    }\n",
              "\n",
              "    .colab-df-convert:hover {\n",
              "      background-color: #E2EBFA;\n",
              "      box-shadow: 0px 1px 2px rgba(60, 64, 67, 0.3), 0px 1px 3px 1px rgba(60, 64, 67, 0.15);\n",
              "      fill: #174EA6;\n",
              "    }\n",
              "\n",
              "    .colab-df-buttons div {\n",
              "      margin-bottom: 4px;\n",
              "    }\n",
              "\n",
              "    [theme=dark] .colab-df-convert {\n",
              "      background-color: #3B4455;\n",
              "      fill: #D2E3FC;\n",
              "    }\n",
              "\n",
              "    [theme=dark] .colab-df-convert:hover {\n",
              "      background-color: #434B5C;\n",
              "      box-shadow: 0px 1px 3px 1px rgba(0, 0, 0, 0.15);\n",
              "      filter: drop-shadow(0px 1px 2px rgba(0, 0, 0, 0.3));\n",
              "      fill: #FFFFFF;\n",
              "    }\n",
              "  </style>\n",
              "\n",
              "    <script>\n",
              "      const buttonEl =\n",
              "        document.querySelector('#df-a2fb61ce-41e1-4225-a17d-d02d362e6341 button.colab-df-convert');\n",
              "      buttonEl.style.display =\n",
              "        google.colab.kernel.accessAllowed ? 'block' : 'none';\n",
              "\n",
              "      async function convertToInteractive(key) {\n",
              "        const element = document.querySelector('#df-a2fb61ce-41e1-4225-a17d-d02d362e6341');\n",
              "        const dataTable =\n",
              "          await google.colab.kernel.invokeFunction('convertToInteractive',\n",
              "                                                    [key], {});\n",
              "        if (!dataTable) return;\n",
              "\n",
              "        const docLinkHtml = 'Like what you see? Visit the ' +\n",
              "          '<a target=\"_blank\" href=https://colab.research.google.com/notebooks/data_table.ipynb>data table notebook</a>'\n",
              "          + ' to learn more about interactive tables.';\n",
              "        element.innerHTML = '';\n",
              "        dataTable['output_type'] = 'display_data';\n",
              "        await google.colab.output.renderOutput(dataTable, element);\n",
              "        const docLink = document.createElement('div');\n",
              "        docLink.innerHTML = docLinkHtml;\n",
              "        element.appendChild(docLink);\n",
              "      }\n",
              "    </script>\n",
              "  </div>\n",
              "\n",
              "\n",
              "<div id=\"df-e0c6e48c-bb4c-4680-8f07-dca84bab7687\">\n",
              "  <button class=\"colab-df-quickchart\" onclick=\"quickchart('df-e0c6e48c-bb4c-4680-8f07-dca84bab7687')\"\n",
              "            title=\"Suggest charts\"\n",
              "            style=\"display:none;\">\n",
              "\n",
              "<svg xmlns=\"http://www.w3.org/2000/svg\" height=\"24px\"viewBox=\"0 0 24 24\"\n",
              "     width=\"24px\">\n",
              "    <g>\n",
              "        <path d=\"M19 3H5c-1.1 0-2 .9-2 2v14c0 1.1.9 2 2 2h14c1.1 0 2-.9 2-2V5c0-1.1-.9-2-2-2zM9 17H7v-7h2v7zm4 0h-2V7h2v10zm4 0h-2v-4h2v4z\"/>\n",
              "    </g>\n",
              "</svg>\n",
              "  </button>\n",
              "\n",
              "<style>\n",
              "  .colab-df-quickchart {\n",
              "      --bg-color: #E8F0FE;\n",
              "      --fill-color: #1967D2;\n",
              "      --hover-bg-color: #E2EBFA;\n",
              "      --hover-fill-color: #174EA6;\n",
              "      --disabled-fill-color: #AAA;\n",
              "      --disabled-bg-color: #DDD;\n",
              "  }\n",
              "\n",
              "  [theme=dark] .colab-df-quickchart {\n",
              "      --bg-color: #3B4455;\n",
              "      --fill-color: #D2E3FC;\n",
              "      --hover-bg-color: #434B5C;\n",
              "      --hover-fill-color: #FFFFFF;\n",
              "      --disabled-bg-color: #3B4455;\n",
              "      --disabled-fill-color: #666;\n",
              "  }\n",
              "\n",
              "  .colab-df-quickchart {\n",
              "    background-color: var(--bg-color);\n",
              "    border: none;\n",
              "    border-radius: 50%;\n",
              "    cursor: pointer;\n",
              "    display: none;\n",
              "    fill: var(--fill-color);\n",
              "    height: 32px;\n",
              "    padding: 0;\n",
              "    width: 32px;\n",
              "  }\n",
              "\n",
              "  .colab-df-quickchart:hover {\n",
              "    background-color: var(--hover-bg-color);\n",
              "    box-shadow: 0 1px 2px rgba(60, 64, 67, 0.3), 0 1px 3px 1px rgba(60, 64, 67, 0.15);\n",
              "    fill: var(--button-hover-fill-color);\n",
              "  }\n",
              "\n",
              "  .colab-df-quickchart-complete:disabled,\n",
              "  .colab-df-quickchart-complete:disabled:hover {\n",
              "    background-color: var(--disabled-bg-color);\n",
              "    fill: var(--disabled-fill-color);\n",
              "    box-shadow: none;\n",
              "  }\n",
              "\n",
              "  .colab-df-spinner {\n",
              "    border: 2px solid var(--fill-color);\n",
              "    border-color: transparent;\n",
              "    border-bottom-color: var(--fill-color);\n",
              "    animation:\n",
              "      spin 1s steps(1) infinite;\n",
              "  }\n",
              "\n",
              "  @keyframes spin {\n",
              "    0% {\n",
              "      border-color: transparent;\n",
              "      border-bottom-color: var(--fill-color);\n",
              "      border-left-color: var(--fill-color);\n",
              "    }\n",
              "    20% {\n",
              "      border-color: transparent;\n",
              "      border-left-color: var(--fill-color);\n",
              "      border-top-color: var(--fill-color);\n",
              "    }\n",
              "    30% {\n",
              "      border-color: transparent;\n",
              "      border-left-color: var(--fill-color);\n",
              "      border-top-color: var(--fill-color);\n",
              "      border-right-color: var(--fill-color);\n",
              "    }\n",
              "    40% {\n",
              "      border-color: transparent;\n",
              "      border-right-color: var(--fill-color);\n",
              "      border-top-color: var(--fill-color);\n",
              "    }\n",
              "    60% {\n",
              "      border-color: transparent;\n",
              "      border-right-color: var(--fill-color);\n",
              "    }\n",
              "    80% {\n",
              "      border-color: transparent;\n",
              "      border-right-color: var(--fill-color);\n",
              "      border-bottom-color: var(--fill-color);\n",
              "    }\n",
              "    90% {\n",
              "      border-color: transparent;\n",
              "      border-bottom-color: var(--fill-color);\n",
              "    }\n",
              "  }\n",
              "</style>\n",
              "\n",
              "  <script>\n",
              "    async function quickchart(key) {\n",
              "      const quickchartButtonEl =\n",
              "        document.querySelector('#' + key + ' button');\n",
              "      quickchartButtonEl.disabled = true;  // To prevent multiple clicks.\n",
              "      quickchartButtonEl.classList.add('colab-df-spinner');\n",
              "      try {\n",
              "        const charts = await google.colab.kernel.invokeFunction(\n",
              "            'suggestCharts', [key], {});\n",
              "      } catch (error) {\n",
              "        console.error('Error during call to suggestCharts:', error);\n",
              "      }\n",
              "      quickchartButtonEl.classList.remove('colab-df-spinner');\n",
              "      quickchartButtonEl.classList.add('colab-df-quickchart-complete');\n",
              "    }\n",
              "    (() => {\n",
              "      let quickchartButtonEl =\n",
              "        document.querySelector('#df-e0c6e48c-bb4c-4680-8f07-dca84bab7687 button');\n",
              "      quickchartButtonEl.style.display =\n",
              "        google.colab.kernel.accessAllowed ? 'block' : 'none';\n",
              "    })();\n",
              "  </script>\n",
              "</div>\n",
              "\n",
              "    </div>\n",
              "  </div>\n"
            ],
            "application/vnd.google.colaboratory.intrinsic+json": {
              "type": "dataframe",
              "summary": "{\n  \"name\": \"stacked_ipos_df[stacked_ipos_df\",\n  \"rows\": 3,\n  \"fields\": [\n    {\n      \"column\": \"IPO Date\",\n      \"properties\": {\n        \"dtype\": \"date\",\n        \"min\": \"2024-03-28 00:00:00\",\n        \"max\": \"2024-05-09 00:00:00\",\n        \"num_unique_values\": 3,\n        \"samples\": [\n          \"2024-05-09 00:00:00\",\n          \"2024-04-25 00:00:00\",\n          \"2024-03-28 00:00:00\"\n        ],\n        \"semantic_type\": \"\",\n        \"description\": \"\"\n      }\n    },\n    {\n      \"column\": \"Symbol\",\n      \"properties\": {\n        \"dtype\": \"string\",\n        \"num_unique_values\": 3,\n        \"samples\": [\n          \"GPAT\",\n          \"MRX\",\n          \"UBXG\"\n        ],\n        \"semantic_type\": \"\",\n        \"description\": \"\"\n      }\n    },\n    {\n      \"column\": \"Company Name\",\n      \"properties\": {\n        \"dtype\": \"string\",\n        \"num_unique_values\": 3,\n        \"samples\": [\n          \"GP-Act III Acquisition Corp.\",\n          \"Marex Group plc\",\n          \"U-BX Technology Ltd.\"\n        ],\n        \"semantic_type\": \"\",\n        \"description\": \"\"\n      }\n    },\n    {\n      \"column\": \"IPO Price\",\n      \"properties\": {\n        \"dtype\": \"number\",\n        \"std\": 7.094598884597588,\n        \"min\": 5.0,\n        \"max\": 19.0,\n        \"num_unique_values\": 3,\n        \"samples\": [\n          10.0,\n          19.0,\n          5.0\n        ],\n        \"semantic_type\": \"\",\n        \"description\": \"\"\n      }\n    },\n    {\n      \"column\": \"Current\",\n      \"properties\": {\n        \"dtype\": \"number\",\n        \"std\": 7.086327210433718,\n        \"min\": 5.0,\n        \"max\": 19.0,\n        \"num_unique_values\": 3,\n        \"samples\": [\n          10.09,\n          19.0,\n          5.0\n        ],\n        \"semantic_type\": \"\",\n        \"description\": \"\"\n      }\n    },\n    {\n      \"column\": \"Return\",\n      \"properties\": {\n        \"dtype\": \"number\",\n        \"std\": null,\n        \"min\": null,\n        \"max\": null,\n        \"num_unique_values\": 0,\n        \"samples\": [],\n        \"semantic_type\": \"\",\n        \"description\": \"\"\n      }\n    }\n  ]\n}"
            }
          },
          "metadata": {},
          "execution_count": 51
        }
      ]
    },
    {
      "cell_type": "code",
      "source": [
        "import datetime as dt_inst"
      ],
      "metadata": {
        "id": "FmtoGHD_fzwM"
      },
      "execution_count": 52,
      "outputs": []
    },
    {
      "cell_type": "code",
      "source": [
        "threshold_date = dt_inst.date(2024, 3, 1)\n",
        "threshold_date"
      ],
      "metadata": {
        "colab": {
          "base_uri": "https://localhost:8080/"
        },
        "id": "rgDz0ozHfW5U",
        "outputId": "ed3cef81-6d93-415f-8751-c77c570d6156"
      },
      "execution_count": 53,
      "outputs": [
        {
          "output_type": "execute_result",
          "data": {
            "text/plain": [
              "datetime.date(2024, 3, 1)"
            ]
          },
          "metadata": {},
          "execution_count": 53
        }
      ]
    },
    {
      "cell_type": "code",
      "source": [
        "stacked_ipos_df['IPO Date'].dt.date < threshold_date"
      ],
      "metadata": {
        "colab": {
          "base_uri": "https://localhost:8080/"
        },
        "id": "bqZAGEsbfHpO",
        "outputId": "df843273-ee3b-47cc-9dac-2f2509f9971e"
      },
      "execution_count": 54,
      "outputs": [
        {
          "output_type": "execute_result",
          "data": {
            "text/plain": [
              "0      False\n",
              "1      False\n",
              "2      False\n",
              "3      False\n",
              "4      False\n",
              "       ...  \n",
              "217     True\n",
              "218     True\n",
              "219     True\n",
              "220     True\n",
              "221     True\n",
              "Name: IPO Date, Length: 222, dtype: bool"
            ]
          },
          "metadata": {},
          "execution_count": 54
        }
      ]
    },
    {
      "cell_type": "code",
      "source": [
        "stacked_ipos_df_before_mar_2024 = stacked_ipos_df.loc[stacked_ipos_df['IPO Date'].dt.date < threshold_date]"
      ],
      "metadata": {
        "id": "9zBr8eeVeiug"
      },
      "execution_count": 55,
      "outputs": []
    },
    {
      "cell_type": "code",
      "source": [
        "len(stacked_ipos_df_before_mar_2024)"
      ],
      "metadata": {
        "colab": {
          "base_uri": "https://localhost:8080/"
        },
        "id": "joONC5MMg3Kj",
        "outputId": "4425646a-06a7-42ce-d6a0-2b6d7544d812"
      },
      "execution_count": 56,
      "outputs": [
        {
          "output_type": "execute_result",
          "data": {
            "text/plain": [
              "185"
            ]
          },
          "metadata": {},
          "execution_count": 56
        }
      ]
    },
    {
      "cell_type": "code",
      "source": [
        "stacked_ipos_df_before_mar_2024_filtered = stacked_ipos_df_before_mar_2024[stacked_ipos_df_before_mar_2024['Symbol'] != 'RYZB']"
      ],
      "metadata": {
        "id": "l9hwwaaGg9ea"
      },
      "execution_count": 57,
      "outputs": []
    },
    {
      "cell_type": "code",
      "source": [
        "len(stacked_ipos_df_before_mar_2024_filtered)"
      ],
      "metadata": {
        "colab": {
          "base_uri": "https://localhost:8080/"
        },
        "id": "NzAKbD8lh1sq",
        "outputId": "f05018bd-9d3b-4764-e704-63b00c46eefb"
      },
      "execution_count": 58,
      "outputs": [
        {
          "output_type": "execute_result",
          "data": {
            "text/plain": [
              "184"
            ]
          },
          "metadata": {},
          "execution_count": 58
        }
      ]
    },
    {
      "cell_type": "code",
      "source": [
        "stacked_ipos_df_before_mar_2024_filtered.describe()"
      ],
      "metadata": {
        "colab": {
          "base_uri": "https://localhost:8080/",
          "height": 300
        },
        "id": "D4hKANrKh4kU",
        "outputId": "64813b4d-10c2-4c48-f637-4b20f8ee677d"
      },
      "execution_count": 59,
      "outputs": [
        {
          "output_type": "execute_result",
          "data": {
            "text/plain": [
              "                            IPO Date   IPO Price     Current      Return\n",
              "count                            184  184.000000  184.000000  184.000000\n",
              "mean   2023-08-01 01:57:23.478260992   10.449076    9.974457   -0.238079\n",
              "min              2023-01-13 00:00:00    2.500000    0.000000   -0.999600\n",
              "25%              2023-04-04 00:00:00    4.000000    1.172500   -0.741000\n",
              "50%              2023-07-26 12:00:00    8.000000    5.245000   -0.381250\n",
              "75%              2023-11-11 00:00:00   12.000000   10.792500    0.055125\n",
              "max              2024-02-27 00:00:00   92.000000  122.090000    3.225000\n",
              "std                              NaN    9.894117   15.523581    0.671087"
            ],
            "text/html": [
              "\n",
              "  <div id=\"df-8744dcda-328c-4575-aabe-4b7fb78fe4a7\" class=\"colab-df-container\">\n",
              "    <div>\n",
              "<style scoped>\n",
              "    .dataframe tbody tr th:only-of-type {\n",
              "        vertical-align: middle;\n",
              "    }\n",
              "\n",
              "    .dataframe tbody tr th {\n",
              "        vertical-align: top;\n",
              "    }\n",
              "\n",
              "    .dataframe thead th {\n",
              "        text-align: right;\n",
              "    }\n",
              "</style>\n",
              "<table border=\"1\" class=\"dataframe\">\n",
              "  <thead>\n",
              "    <tr style=\"text-align: right;\">\n",
              "      <th></th>\n",
              "      <th>IPO Date</th>\n",
              "      <th>IPO Price</th>\n",
              "      <th>Current</th>\n",
              "      <th>Return</th>\n",
              "    </tr>\n",
              "  </thead>\n",
              "  <tbody>\n",
              "    <tr>\n",
              "      <th>count</th>\n",
              "      <td>184</td>\n",
              "      <td>184.000000</td>\n",
              "      <td>184.000000</td>\n",
              "      <td>184.000000</td>\n",
              "    </tr>\n",
              "    <tr>\n",
              "      <th>mean</th>\n",
              "      <td>2023-08-01 01:57:23.478260992</td>\n",
              "      <td>10.449076</td>\n",
              "      <td>9.974457</td>\n",
              "      <td>-0.238079</td>\n",
              "    </tr>\n",
              "    <tr>\n",
              "      <th>min</th>\n",
              "      <td>2023-01-13 00:00:00</td>\n",
              "      <td>2.500000</td>\n",
              "      <td>0.000000</td>\n",
              "      <td>-0.999600</td>\n",
              "    </tr>\n",
              "    <tr>\n",
              "      <th>25%</th>\n",
              "      <td>2023-04-04 00:00:00</td>\n",
              "      <td>4.000000</td>\n",
              "      <td>1.172500</td>\n",
              "      <td>-0.741000</td>\n",
              "    </tr>\n",
              "    <tr>\n",
              "      <th>50%</th>\n",
              "      <td>2023-07-26 12:00:00</td>\n",
              "      <td>8.000000</td>\n",
              "      <td>5.245000</td>\n",
              "      <td>-0.381250</td>\n",
              "    </tr>\n",
              "    <tr>\n",
              "      <th>75%</th>\n",
              "      <td>2023-11-11 00:00:00</td>\n",
              "      <td>12.000000</td>\n",
              "      <td>10.792500</td>\n",
              "      <td>0.055125</td>\n",
              "    </tr>\n",
              "    <tr>\n",
              "      <th>max</th>\n",
              "      <td>2024-02-27 00:00:00</td>\n",
              "      <td>92.000000</td>\n",
              "      <td>122.090000</td>\n",
              "      <td>3.225000</td>\n",
              "    </tr>\n",
              "    <tr>\n",
              "      <th>std</th>\n",
              "      <td>NaN</td>\n",
              "      <td>9.894117</td>\n",
              "      <td>15.523581</td>\n",
              "      <td>0.671087</td>\n",
              "    </tr>\n",
              "  </tbody>\n",
              "</table>\n",
              "</div>\n",
              "    <div class=\"colab-df-buttons\">\n",
              "\n",
              "  <div class=\"colab-df-container\">\n",
              "    <button class=\"colab-df-convert\" onclick=\"convertToInteractive('df-8744dcda-328c-4575-aabe-4b7fb78fe4a7')\"\n",
              "            title=\"Convert this dataframe to an interactive table.\"\n",
              "            style=\"display:none;\">\n",
              "\n",
              "  <svg xmlns=\"http://www.w3.org/2000/svg\" height=\"24px\" viewBox=\"0 -960 960 960\">\n",
              "    <path d=\"M120-120v-720h720v720H120Zm60-500h600v-160H180v160Zm220 220h160v-160H400v160Zm0 220h160v-160H400v160ZM180-400h160v-160H180v160Zm440 0h160v-160H620v160ZM180-180h160v-160H180v160Zm440 0h160v-160H620v160Z\"/>\n",
              "  </svg>\n",
              "    </button>\n",
              "\n",
              "  <style>\n",
              "    .colab-df-container {\n",
              "      display:flex;\n",
              "      gap: 12px;\n",
              "    }\n",
              "\n",
              "    .colab-df-convert {\n",
              "      background-color: #E8F0FE;\n",
              "      border: none;\n",
              "      border-radius: 50%;\n",
              "      cursor: pointer;\n",
              "      display: none;\n",
              "      fill: #1967D2;\n",
              "      height: 32px;\n",
              "      padding: 0 0 0 0;\n",
              "      width: 32px;\n",
              "    }\n",
              "\n",
              "    .colab-df-convert:hover {\n",
              "      background-color: #E2EBFA;\n",
              "      box-shadow: 0px 1px 2px rgba(60, 64, 67, 0.3), 0px 1px 3px 1px rgba(60, 64, 67, 0.15);\n",
              "      fill: #174EA6;\n",
              "    }\n",
              "\n",
              "    .colab-df-buttons div {\n",
              "      margin-bottom: 4px;\n",
              "    }\n",
              "\n",
              "    [theme=dark] .colab-df-convert {\n",
              "      background-color: #3B4455;\n",
              "      fill: #D2E3FC;\n",
              "    }\n",
              "\n",
              "    [theme=dark] .colab-df-convert:hover {\n",
              "      background-color: #434B5C;\n",
              "      box-shadow: 0px 1px 3px 1px rgba(0, 0, 0, 0.15);\n",
              "      filter: drop-shadow(0px 1px 2px rgba(0, 0, 0, 0.3));\n",
              "      fill: #FFFFFF;\n",
              "    }\n",
              "  </style>\n",
              "\n",
              "    <script>\n",
              "      const buttonEl =\n",
              "        document.querySelector('#df-8744dcda-328c-4575-aabe-4b7fb78fe4a7 button.colab-df-convert');\n",
              "      buttonEl.style.display =\n",
              "        google.colab.kernel.accessAllowed ? 'block' : 'none';\n",
              "\n",
              "      async function convertToInteractive(key) {\n",
              "        const element = document.querySelector('#df-8744dcda-328c-4575-aabe-4b7fb78fe4a7');\n",
              "        const dataTable =\n",
              "          await google.colab.kernel.invokeFunction('convertToInteractive',\n",
              "                                                    [key], {});\n",
              "        if (!dataTable) return;\n",
              "\n",
              "        const docLinkHtml = 'Like what you see? Visit the ' +\n",
              "          '<a target=\"_blank\" href=https://colab.research.google.com/notebooks/data_table.ipynb>data table notebook</a>'\n",
              "          + ' to learn more about interactive tables.';\n",
              "        element.innerHTML = '';\n",
              "        dataTable['output_type'] = 'display_data';\n",
              "        await google.colab.output.renderOutput(dataTable, element);\n",
              "        const docLink = document.createElement('div');\n",
              "        docLink.innerHTML = docLinkHtml;\n",
              "        element.appendChild(docLink);\n",
              "      }\n",
              "    </script>\n",
              "  </div>\n",
              "\n",
              "\n",
              "<div id=\"df-011c3675-7cab-423c-8050-b05470e9c304\">\n",
              "  <button class=\"colab-df-quickchart\" onclick=\"quickchart('df-011c3675-7cab-423c-8050-b05470e9c304')\"\n",
              "            title=\"Suggest charts\"\n",
              "            style=\"display:none;\">\n",
              "\n",
              "<svg xmlns=\"http://www.w3.org/2000/svg\" height=\"24px\"viewBox=\"0 0 24 24\"\n",
              "     width=\"24px\">\n",
              "    <g>\n",
              "        <path d=\"M19 3H5c-1.1 0-2 .9-2 2v14c0 1.1.9 2 2 2h14c1.1 0 2-.9 2-2V5c0-1.1-.9-2-2-2zM9 17H7v-7h2v7zm4 0h-2V7h2v10zm4 0h-2v-4h2v4z\"/>\n",
              "    </g>\n",
              "</svg>\n",
              "  </button>\n",
              "\n",
              "<style>\n",
              "  .colab-df-quickchart {\n",
              "      --bg-color: #E8F0FE;\n",
              "      --fill-color: #1967D2;\n",
              "      --hover-bg-color: #E2EBFA;\n",
              "      --hover-fill-color: #174EA6;\n",
              "      --disabled-fill-color: #AAA;\n",
              "      --disabled-bg-color: #DDD;\n",
              "  }\n",
              "\n",
              "  [theme=dark] .colab-df-quickchart {\n",
              "      --bg-color: #3B4455;\n",
              "      --fill-color: #D2E3FC;\n",
              "      --hover-bg-color: #434B5C;\n",
              "      --hover-fill-color: #FFFFFF;\n",
              "      --disabled-bg-color: #3B4455;\n",
              "      --disabled-fill-color: #666;\n",
              "  }\n",
              "\n",
              "  .colab-df-quickchart {\n",
              "    background-color: var(--bg-color);\n",
              "    border: none;\n",
              "    border-radius: 50%;\n",
              "    cursor: pointer;\n",
              "    display: none;\n",
              "    fill: var(--fill-color);\n",
              "    height: 32px;\n",
              "    padding: 0;\n",
              "    width: 32px;\n",
              "  }\n",
              "\n",
              "  .colab-df-quickchart:hover {\n",
              "    background-color: var(--hover-bg-color);\n",
              "    box-shadow: 0 1px 2px rgba(60, 64, 67, 0.3), 0 1px 3px 1px rgba(60, 64, 67, 0.15);\n",
              "    fill: var(--button-hover-fill-color);\n",
              "  }\n",
              "\n",
              "  .colab-df-quickchart-complete:disabled,\n",
              "  .colab-df-quickchart-complete:disabled:hover {\n",
              "    background-color: var(--disabled-bg-color);\n",
              "    fill: var(--disabled-fill-color);\n",
              "    box-shadow: none;\n",
              "  }\n",
              "\n",
              "  .colab-df-spinner {\n",
              "    border: 2px solid var(--fill-color);\n",
              "    border-color: transparent;\n",
              "    border-bottom-color: var(--fill-color);\n",
              "    animation:\n",
              "      spin 1s steps(1) infinite;\n",
              "  }\n",
              "\n",
              "  @keyframes spin {\n",
              "    0% {\n",
              "      border-color: transparent;\n",
              "      border-bottom-color: var(--fill-color);\n",
              "      border-left-color: var(--fill-color);\n",
              "    }\n",
              "    20% {\n",
              "      border-color: transparent;\n",
              "      border-left-color: var(--fill-color);\n",
              "      border-top-color: var(--fill-color);\n",
              "    }\n",
              "    30% {\n",
              "      border-color: transparent;\n",
              "      border-left-color: var(--fill-color);\n",
              "      border-top-color: var(--fill-color);\n",
              "      border-right-color: var(--fill-color);\n",
              "    }\n",
              "    40% {\n",
              "      border-color: transparent;\n",
              "      border-right-color: var(--fill-color);\n",
              "      border-top-color: var(--fill-color);\n",
              "    }\n",
              "    60% {\n",
              "      border-color: transparent;\n",
              "      border-right-color: var(--fill-color);\n",
              "    }\n",
              "    80% {\n",
              "      border-color: transparent;\n",
              "      border-right-color: var(--fill-color);\n",
              "      border-bottom-color: var(--fill-color);\n",
              "    }\n",
              "    90% {\n",
              "      border-color: transparent;\n",
              "      border-bottom-color: var(--fill-color);\n",
              "    }\n",
              "  }\n",
              "</style>\n",
              "\n",
              "  <script>\n",
              "    async function quickchart(key) {\n",
              "      const quickchartButtonEl =\n",
              "        document.querySelector('#' + key + ' button');\n",
              "      quickchartButtonEl.disabled = true;  // To prevent multiple clicks.\n",
              "      quickchartButtonEl.classList.add('colab-df-spinner');\n",
              "      try {\n",
              "        const charts = await google.colab.kernel.invokeFunction(\n",
              "            'suggestCharts', [key], {});\n",
              "      } catch (error) {\n",
              "        console.error('Error during call to suggestCharts:', error);\n",
              "      }\n",
              "      quickchartButtonEl.classList.remove('colab-df-spinner');\n",
              "      quickchartButtonEl.classList.add('colab-df-quickchart-complete');\n",
              "    }\n",
              "    (() => {\n",
              "      let quickchartButtonEl =\n",
              "        document.querySelector('#df-011c3675-7cab-423c-8050-b05470e9c304 button');\n",
              "      quickchartButtonEl.style.display =\n",
              "        google.colab.kernel.accessAllowed ? 'block' : 'none';\n",
              "    })();\n",
              "  </script>\n",
              "</div>\n",
              "\n",
              "    </div>\n",
              "  </div>\n"
            ],
            "application/vnd.google.colaboratory.intrinsic+json": {
              "type": "dataframe",
              "summary": "{\n  \"name\": \"stacked_ipos_df_before_mar_2024_filtered\",\n  \"rows\": 8,\n  \"fields\": [\n    {\n      \"column\": \"IPO Date\",\n      \"properties\": {\n        \"dtype\": \"date\",\n        \"min\": \"1970-01-01 00:00:00.000000184\",\n        \"max\": \"2024-02-27 00:00:00\",\n        \"num_unique_values\": 7,\n        \"samples\": [\n          \"184\",\n          \"2023-08-01 01:57:23.478260992\",\n          \"2023-11-11 00:00:00\"\n        ],\n        \"semantic_type\": \"\",\n        \"description\": \"\"\n      }\n    },\n    {\n      \"column\": \"IPO Price\",\n      \"properties\": {\n        \"dtype\": \"number\",\n        \"std\": 65.1688585019374,\n        \"min\": 2.5,\n        \"max\": 184.0,\n        \"num_unique_values\": 8,\n        \"samples\": [\n          10.449076086956522,\n          12.0,\n          184.0\n        ],\n        \"semantic_type\": \"\",\n        \"description\": \"\"\n      }\n    },\n    {\n      \"column\": \"Current\",\n      \"properties\": {\n        \"dtype\": \"number\",\n        \"std\": 69.73448976052308,\n        \"min\": 0.0,\n        \"max\": 184.0,\n        \"num_unique_values\": 8,\n        \"samples\": [\n          9.974456521739132,\n          10.7925,\n          184.0\n        ],\n        \"semantic_type\": \"\",\n        \"description\": \"\"\n      }\n    },\n    {\n      \"column\": \"Return\",\n      \"properties\": {\n        \"dtype\": \"number\",\n        \"std\": 64.98690947626655,\n        \"min\": -0.9995999999999999,\n        \"max\": 184.0,\n        \"num_unique_values\": 8,\n        \"samples\": [\n          -0.23807934782608697,\n          0.055125,\n          184.0\n        ],\n        \"semantic_type\": \"\",\n        \"description\": \"\"\n      }\n    }\n  ]\n}"
            }
          },
          "metadata": {},
          "execution_count": 59
        }
      ]
    },
    {
      "cell_type": "code",
      "source": [
        "# stacked_ipos_df_before_mar_2024.loc[stacked_ipos_df_before_mar_2024['Symbol'] == 'IBAC']\n",
        "stacked_ipos_df.loc[stacked_ipos_df['Symbol'] == 'IBAC']"
      ],
      "metadata": {
        "colab": {
          "base_uri": "https://localhost:8080/",
          "height": 80
        },
        "id": "OTwJChAmiV1j",
        "outputId": "ae9e2405-4f7d-463d-e6d4-096eb815096a"
      },
      "execution_count": 60,
      "outputs": [
        {
          "output_type": "execute_result",
          "data": {
            "text/plain": [
              "     IPO Date Symbol          Company Name  IPO Price  Current  Return\n",
              "28 2024-03-26   IBAC  IB Acquisition Corp.       10.0     9.97   0.005"
            ],
            "text/html": [
              "\n",
              "  <div id=\"df-4e2c0938-7866-4504-baf5-d0d061829a7d\" class=\"colab-df-container\">\n",
              "    <div>\n",
              "<style scoped>\n",
              "    .dataframe tbody tr th:only-of-type {\n",
              "        vertical-align: middle;\n",
              "    }\n",
              "\n",
              "    .dataframe tbody tr th {\n",
              "        vertical-align: top;\n",
              "    }\n",
              "\n",
              "    .dataframe thead th {\n",
              "        text-align: right;\n",
              "    }\n",
              "</style>\n",
              "<table border=\"1\" class=\"dataframe\">\n",
              "  <thead>\n",
              "    <tr style=\"text-align: right;\">\n",
              "      <th></th>\n",
              "      <th>IPO Date</th>\n",
              "      <th>Symbol</th>\n",
              "      <th>Company Name</th>\n",
              "      <th>IPO Price</th>\n",
              "      <th>Current</th>\n",
              "      <th>Return</th>\n",
              "    </tr>\n",
              "  </thead>\n",
              "  <tbody>\n",
              "    <tr>\n",
              "      <th>28</th>\n",
              "      <td>2024-03-26</td>\n",
              "      <td>IBAC</td>\n",
              "      <td>IB Acquisition Corp.</td>\n",
              "      <td>10.0</td>\n",
              "      <td>9.97</td>\n",
              "      <td>0.005</td>\n",
              "    </tr>\n",
              "  </tbody>\n",
              "</table>\n",
              "</div>\n",
              "    <div class=\"colab-df-buttons\">\n",
              "\n",
              "  <div class=\"colab-df-container\">\n",
              "    <button class=\"colab-df-convert\" onclick=\"convertToInteractive('df-4e2c0938-7866-4504-baf5-d0d061829a7d')\"\n",
              "            title=\"Convert this dataframe to an interactive table.\"\n",
              "            style=\"display:none;\">\n",
              "\n",
              "  <svg xmlns=\"http://www.w3.org/2000/svg\" height=\"24px\" viewBox=\"0 -960 960 960\">\n",
              "    <path d=\"M120-120v-720h720v720H120Zm60-500h600v-160H180v160Zm220 220h160v-160H400v160Zm0 220h160v-160H400v160ZM180-400h160v-160H180v160Zm440 0h160v-160H620v160ZM180-180h160v-160H180v160Zm440 0h160v-160H620v160Z\"/>\n",
              "  </svg>\n",
              "    </button>\n",
              "\n",
              "  <style>\n",
              "    .colab-df-container {\n",
              "      display:flex;\n",
              "      gap: 12px;\n",
              "    }\n",
              "\n",
              "    .colab-df-convert {\n",
              "      background-color: #E8F0FE;\n",
              "      border: none;\n",
              "      border-radius: 50%;\n",
              "      cursor: pointer;\n",
              "      display: none;\n",
              "      fill: #1967D2;\n",
              "      height: 32px;\n",
              "      padding: 0 0 0 0;\n",
              "      width: 32px;\n",
              "    }\n",
              "\n",
              "    .colab-df-convert:hover {\n",
              "      background-color: #E2EBFA;\n",
              "      box-shadow: 0px 1px 2px rgba(60, 64, 67, 0.3), 0px 1px 3px 1px rgba(60, 64, 67, 0.15);\n",
              "      fill: #174EA6;\n",
              "    }\n",
              "\n",
              "    .colab-df-buttons div {\n",
              "      margin-bottom: 4px;\n",
              "    }\n",
              "\n",
              "    [theme=dark] .colab-df-convert {\n",
              "      background-color: #3B4455;\n",
              "      fill: #D2E3FC;\n",
              "    }\n",
              "\n",
              "    [theme=dark] .colab-df-convert:hover {\n",
              "      background-color: #434B5C;\n",
              "      box-shadow: 0px 1px 3px 1px rgba(0, 0, 0, 0.15);\n",
              "      filter: drop-shadow(0px 1px 2px rgba(0, 0, 0, 0.3));\n",
              "      fill: #FFFFFF;\n",
              "    }\n",
              "  </style>\n",
              "\n",
              "    <script>\n",
              "      const buttonEl =\n",
              "        document.querySelector('#df-4e2c0938-7866-4504-baf5-d0d061829a7d button.colab-df-convert');\n",
              "      buttonEl.style.display =\n",
              "        google.colab.kernel.accessAllowed ? 'block' : 'none';\n",
              "\n",
              "      async function convertToInteractive(key) {\n",
              "        const element = document.querySelector('#df-4e2c0938-7866-4504-baf5-d0d061829a7d');\n",
              "        const dataTable =\n",
              "          await google.colab.kernel.invokeFunction('convertToInteractive',\n",
              "                                                    [key], {});\n",
              "        if (!dataTable) return;\n",
              "\n",
              "        const docLinkHtml = 'Like what you see? Visit the ' +\n",
              "          '<a target=\"_blank\" href=https://colab.research.google.com/notebooks/data_table.ipynb>data table notebook</a>'\n",
              "          + ' to learn more about interactive tables.';\n",
              "        element.innerHTML = '';\n",
              "        dataTable['output_type'] = 'display_data';\n",
              "        await google.colab.output.renderOutput(dataTable, element);\n",
              "        const docLink = document.createElement('div');\n",
              "        docLink.innerHTML = docLinkHtml;\n",
              "        element.appendChild(docLink);\n",
              "      }\n",
              "    </script>\n",
              "  </div>\n",
              "\n",
              "\n",
              "    </div>\n",
              "  </div>\n"
            ],
            "application/vnd.google.colaboratory.intrinsic+json": {
              "type": "dataframe",
              "summary": "{\n  \"name\": \"stacked_ipos_df\",\n  \"rows\": 1,\n  \"fields\": [\n    {\n      \"column\": \"IPO Date\",\n      \"properties\": {\n        \"dtype\": \"date\",\n        \"min\": \"2024-03-26 00:00:00\",\n        \"max\": \"2024-03-26 00:00:00\",\n        \"num_unique_values\": 1,\n        \"samples\": [\n          \"2024-03-26 00:00:00\"\n        ],\n        \"semantic_type\": \"\",\n        \"description\": \"\"\n      }\n    },\n    {\n      \"column\": \"Symbol\",\n      \"properties\": {\n        \"dtype\": \"string\",\n        \"num_unique_values\": 1,\n        \"samples\": [\n          \"IBAC\"\n        ],\n        \"semantic_type\": \"\",\n        \"description\": \"\"\n      }\n    },\n    {\n      \"column\": \"Company Name\",\n      \"properties\": {\n        \"dtype\": \"string\",\n        \"num_unique_values\": 1,\n        \"samples\": [\n          \"IB Acquisition Corp.\"\n        ],\n        \"semantic_type\": \"\",\n        \"description\": \"\"\n      }\n    },\n    {\n      \"column\": \"IPO Price\",\n      \"properties\": {\n        \"dtype\": \"number\",\n        \"std\": null,\n        \"min\": 10.0,\n        \"max\": 10.0,\n        \"num_unique_values\": 1,\n        \"samples\": [\n          10.0\n        ],\n        \"semantic_type\": \"\",\n        \"description\": \"\"\n      }\n    },\n    {\n      \"column\": \"Current\",\n      \"properties\": {\n        \"dtype\": \"number\",\n        \"std\": null,\n        \"min\": 9.97,\n        \"max\": 9.97,\n        \"num_unique_values\": 1,\n        \"samples\": [\n          9.97\n        ],\n        \"semantic_type\": \"\",\n        \"description\": \"\"\n      }\n    },\n    {\n      \"column\": \"Return\",\n      \"properties\": {\n        \"dtype\": \"number\",\n        \"std\": null,\n        \"min\": 0.005,\n        \"max\": 0.005,\n        \"num_unique_values\": 1,\n        \"samples\": [\n          0.005\n        ],\n        \"semantic_type\": \"\",\n        \"description\": \"\"\n      }\n    }\n  ]\n}"
            }
          },
          "metadata": {},
          "execution_count": 60
        }
      ]
    },
    {
      "cell_type": "code",
      "source": [
        "list_of_tickers = stacked_ipos_df_before_mar_2024_filtered['Symbol'].to_list()\n",
        "len(list_of_tickers),list_of_tickers[:10]"
      ],
      "metadata": {
        "colab": {
          "base_uri": "https://localhost:8080/"
        },
        "id": "PlglVfTm3cZK",
        "outputId": "79dc5b28-c287-40f3-f4c6-a8294eb35d9d"
      },
      "execution_count": 61,
      "outputs": [
        {
          "output_type": "execute_result",
          "data": {
            "text/plain": [
              "(184,\n",
              " ['SMXT',\n",
              "  'VHAI',\n",
              "  'DYCQ',\n",
              "  'CHRO',\n",
              "  'UMAC',\n",
              "  'TBBB',\n",
              "  'MGX',\n",
              "  'HLXB',\n",
              "  'TELO',\n",
              "  'KYTX'])"
            ]
          },
          "metadata": {},
          "execution_count": 61
        }
      ]
    },
    {
      "cell_type": "markdown",
      "source": [
        "### Calculating the growth rate since buying"
      ],
      "metadata": {
        "id": "AWTDQGPr6haM"
      }
    },
    {
      "cell_type": "markdown",
      "source": [
        "#### getting the OHLCV avlues for selected columns"
      ],
      "metadata": {
        "id": "EdaTBp2D0ad5"
      }
    },
    {
      "cell_type": "code",
      "source": [
        "end = date(2024,3,1) # mentioned in the question > 2024-03-01\n",
        "print(f'Year = {end.year}; month= {end.month}; day={end.day}')"
      ],
      "metadata": {
        "colab": {
          "base_uri": "https://localhost:8080/"
        },
        "id": "HgsYD_noy01x",
        "outputId": "3d6c54d2-4850-4f32-b3b8-23152476a27d"
      },
      "execution_count": 62,
      "outputs": [
        {
          "output_type": "stream",
          "name": "stdout",
          "text": [
            "Year = 2024; month= 3; day=1\n"
          ]
        }
      ]
    },
    {
      "cell_type": "code",
      "source": [
        "start = date(year=end.year-1, month=1, day=end.day)\n",
        "print(f'Period for indexes: {start} to {end} ')"
      ],
      "metadata": {
        "colab": {
          "base_uri": "https://localhost:8080/"
        },
        "id": "Nv6VYIIM3GzT",
        "outputId": "9de5f56f-9028-42d4-b87a-54e0c0555a54"
      },
      "execution_count": 63,
      "outputs": [
        {
          "output_type": "stream",
          "name": "stdout",
          "text": [
            "Period for indexes: 2023-01-01 to 2024-03-01 \n"
          ]
        }
      ]
    },
    {
      "cell_type": "code",
      "source": [
        "stock = 'SMXT'"
      ],
      "metadata": {
        "id": "R_Jrfhsi73gu"
      },
      "execution_count": 64,
      "outputs": []
    },
    {
      "cell_type": "code",
      "source": [
        "ohlcv_daily_prices = yf.download(tickers=stock,\n",
        "                                 start = start,\n",
        "                                 end = end,\n",
        "                                #  period = 'max',\n",
        "                                 interval = \"1d\")"
      ],
      "metadata": {
        "colab": {
          "base_uri": "https://localhost:8080/"
        },
        "id": "qOK-vpEh3bvA",
        "outputId": "f900c39e-a89b-4366-9486-9348c9978c85"
      },
      "execution_count": 65,
      "outputs": [
        {
          "output_type": "stream",
          "name": "stderr",
          "text": [
            "\r[*********************100%%**********************]  1 of 1 completed\n"
          ]
        }
      ]
    },
    {
      "cell_type": "code",
      "source": [
        "ohlcv_daily_prices.shape, ohlcv_daily_prices.size"
      ],
      "metadata": {
        "colab": {
          "base_uri": "https://localhost:8080/"
        },
        "id": "xUCtZhYy7Xlu",
        "outputId": "d53562c7-b407-4d71-a2a5-edda71f8d888"
      },
      "execution_count": 66,
      "outputs": [
        {
          "output_type": "execute_result",
          "data": {
            "text/plain": [
              "((3, 6), 18)"
            ]
          },
          "metadata": {},
          "execution_count": 66
        }
      ]
    },
    {
      "cell_type": "code",
      "source": [
        "ohlcv_daily_prices.head(),ohlcv_daily_prices.tail()"
      ],
      "metadata": {
        "colab": {
          "base_uri": "https://localhost:8080/"
        },
        "id": "swhlHQeK6l-2",
        "outputId": "dc371b31-8ea3-4f63-a3ff-3fbf7e28bc03"
      },
      "execution_count": 67,
      "outputs": [
        {
          "output_type": "execute_result",
          "data": {
            "text/plain": [
              "(            Open  High  Low  Close  Adj Close   Volume\n",
              " Date                                                  \n",
              " 2024-02-27  3.50  9.35  3.5   8.00       8.00  2840400\n",
              " 2024-02-28  6.42  7.24  5.6   5.86       5.86   243200\n",
              " 2024-02-29  5.74  5.84  4.3   4.89       4.89   130000,\n",
              "             Open  High  Low  Close  Adj Close   Volume\n",
              " Date                                                  \n",
              " 2024-02-27  3.50  9.35  3.5   8.00       8.00  2840400\n",
              " 2024-02-28  6.42  7.24  5.6   5.86       5.86   243200\n",
              " 2024-02-29  5.74  5.84  4.3   4.89       4.89   130000)"
            ]
          },
          "metadata": {},
          "execution_count": 67
        }
      ]
    },
    {
      "cell_type": "code",
      "source": [
        "mask = stacked_ipos_df_before_mar_2024_filtered['Symbol'] == stock #'SMXT'\n",
        "stacked_ipos_df_before_mar_2024_filtered.loc[mask]"
      ],
      "metadata": {
        "colab": {
          "base_uri": "https://localhost:8080/",
          "height": 80
        },
        "id": "yWIiKlvK7kZg",
        "outputId": "912c2c15-e300-40d1-99c8-51fde1f080c0"
      },
      "execution_count": 68,
      "outputs": [
        {
          "output_type": "execute_result",
          "data": {
            "text/plain": [
              "     IPO Date Symbol               Company Name  IPO Price  Current  Return\n",
              "37 2024-02-27   SMXT  SolarMax Technology, Inc.        4.0    10.79  1.6975"
            ],
            "text/html": [
              "\n",
              "  <div id=\"df-46a00087-2462-4a76-9a1e-f9694d98269c\" class=\"colab-df-container\">\n",
              "    <div>\n",
              "<style scoped>\n",
              "    .dataframe tbody tr th:only-of-type {\n",
              "        vertical-align: middle;\n",
              "    }\n",
              "\n",
              "    .dataframe tbody tr th {\n",
              "        vertical-align: top;\n",
              "    }\n",
              "\n",
              "    .dataframe thead th {\n",
              "        text-align: right;\n",
              "    }\n",
              "</style>\n",
              "<table border=\"1\" class=\"dataframe\">\n",
              "  <thead>\n",
              "    <tr style=\"text-align: right;\">\n",
              "      <th></th>\n",
              "      <th>IPO Date</th>\n",
              "      <th>Symbol</th>\n",
              "      <th>Company Name</th>\n",
              "      <th>IPO Price</th>\n",
              "      <th>Current</th>\n",
              "      <th>Return</th>\n",
              "    </tr>\n",
              "  </thead>\n",
              "  <tbody>\n",
              "    <tr>\n",
              "      <th>37</th>\n",
              "      <td>2024-02-27</td>\n",
              "      <td>SMXT</td>\n",
              "      <td>SolarMax Technology, Inc.</td>\n",
              "      <td>4.0</td>\n",
              "      <td>10.79</td>\n",
              "      <td>1.6975</td>\n",
              "    </tr>\n",
              "  </tbody>\n",
              "</table>\n",
              "</div>\n",
              "    <div class=\"colab-df-buttons\">\n",
              "\n",
              "  <div class=\"colab-df-container\">\n",
              "    <button class=\"colab-df-convert\" onclick=\"convertToInteractive('df-46a00087-2462-4a76-9a1e-f9694d98269c')\"\n",
              "            title=\"Convert this dataframe to an interactive table.\"\n",
              "            style=\"display:none;\">\n",
              "\n",
              "  <svg xmlns=\"http://www.w3.org/2000/svg\" height=\"24px\" viewBox=\"0 -960 960 960\">\n",
              "    <path d=\"M120-120v-720h720v720H120Zm60-500h600v-160H180v160Zm220 220h160v-160H400v160Zm0 220h160v-160H400v160ZM180-400h160v-160H180v160Zm440 0h160v-160H620v160ZM180-180h160v-160H180v160Zm440 0h160v-160H620v160Z\"/>\n",
              "  </svg>\n",
              "    </button>\n",
              "\n",
              "  <style>\n",
              "    .colab-df-container {\n",
              "      display:flex;\n",
              "      gap: 12px;\n",
              "    }\n",
              "\n",
              "    .colab-df-convert {\n",
              "      background-color: #E8F0FE;\n",
              "      border: none;\n",
              "      border-radius: 50%;\n",
              "      cursor: pointer;\n",
              "      display: none;\n",
              "      fill: #1967D2;\n",
              "      height: 32px;\n",
              "      padding: 0 0 0 0;\n",
              "      width: 32px;\n",
              "    }\n",
              "\n",
              "    .colab-df-convert:hover {\n",
              "      background-color: #E2EBFA;\n",
              "      box-shadow: 0px 1px 2px rgba(60, 64, 67, 0.3), 0px 1px 3px 1px rgba(60, 64, 67, 0.15);\n",
              "      fill: #174EA6;\n",
              "    }\n",
              "\n",
              "    .colab-df-buttons div {\n",
              "      margin-bottom: 4px;\n",
              "    }\n",
              "\n",
              "    [theme=dark] .colab-df-convert {\n",
              "      background-color: #3B4455;\n",
              "      fill: #D2E3FC;\n",
              "    }\n",
              "\n",
              "    [theme=dark] .colab-df-convert:hover {\n",
              "      background-color: #434B5C;\n",
              "      box-shadow: 0px 1px 3px 1px rgba(0, 0, 0, 0.15);\n",
              "      filter: drop-shadow(0px 1px 2px rgba(0, 0, 0, 0.3));\n",
              "      fill: #FFFFFF;\n",
              "    }\n",
              "  </style>\n",
              "\n",
              "    <script>\n",
              "      const buttonEl =\n",
              "        document.querySelector('#df-46a00087-2462-4a76-9a1e-f9694d98269c button.colab-df-convert');\n",
              "      buttonEl.style.display =\n",
              "        google.colab.kernel.accessAllowed ? 'block' : 'none';\n",
              "\n",
              "      async function convertToInteractive(key) {\n",
              "        const element = document.querySelector('#df-46a00087-2462-4a76-9a1e-f9694d98269c');\n",
              "        const dataTable =\n",
              "          await google.colab.kernel.invokeFunction('convertToInteractive',\n",
              "                                                    [key], {});\n",
              "        if (!dataTable) return;\n",
              "\n",
              "        const docLinkHtml = 'Like what you see? Visit the ' +\n",
              "          '<a target=\"_blank\" href=https://colab.research.google.com/notebooks/data_table.ipynb>data table notebook</a>'\n",
              "          + ' to learn more about interactive tables.';\n",
              "        element.innerHTML = '';\n",
              "        dataTable['output_type'] = 'display_data';\n",
              "        await google.colab.output.renderOutput(dataTable, element);\n",
              "        const docLink = document.createElement('div');\n",
              "        docLink.innerHTML = docLinkHtml;\n",
              "        element.appendChild(docLink);\n",
              "      }\n",
              "    </script>\n",
              "  </div>\n",
              "\n",
              "\n",
              "    </div>\n",
              "  </div>\n"
            ],
            "application/vnd.google.colaboratory.intrinsic+json": {
              "type": "dataframe",
              "summary": "{\n  \"name\": \"stacked_ipos_df_before_mar_2024_filtered\",\n  \"rows\": 1,\n  \"fields\": [\n    {\n      \"column\": \"IPO Date\",\n      \"properties\": {\n        \"dtype\": \"date\",\n        \"min\": \"2024-02-27 00:00:00\",\n        \"max\": \"2024-02-27 00:00:00\",\n        \"num_unique_values\": 1,\n        \"samples\": [\n          \"2024-02-27 00:00:00\"\n        ],\n        \"semantic_type\": \"\",\n        \"description\": \"\"\n      }\n    },\n    {\n      \"column\": \"Symbol\",\n      \"properties\": {\n        \"dtype\": \"string\",\n        \"num_unique_values\": 1,\n        \"samples\": [\n          \"SMXT\"\n        ],\n        \"semantic_type\": \"\",\n        \"description\": \"\"\n      }\n    },\n    {\n      \"column\": \"Company Name\",\n      \"properties\": {\n        \"dtype\": \"string\",\n        \"num_unique_values\": 1,\n        \"samples\": [\n          \"SolarMax Technology, Inc.\"\n        ],\n        \"semantic_type\": \"\",\n        \"description\": \"\"\n      }\n    },\n    {\n      \"column\": \"IPO Price\",\n      \"properties\": {\n        \"dtype\": \"number\",\n        \"std\": null,\n        \"min\": 4.0,\n        \"max\": 4.0,\n        \"num_unique_values\": 1,\n        \"samples\": [\n          4.0\n        ],\n        \"semantic_type\": \"\",\n        \"description\": \"\"\n      }\n    },\n    {\n      \"column\": \"Current\",\n      \"properties\": {\n        \"dtype\": \"number\",\n        \"std\": null,\n        \"min\": 10.79,\n        \"max\": 10.79,\n        \"num_unique_values\": 1,\n        \"samples\": [\n          10.79\n        ],\n        \"semantic_type\": \"\",\n        \"description\": \"\"\n      }\n    },\n    {\n      \"column\": \"Return\",\n      \"properties\": {\n        \"dtype\": \"number\",\n        \"std\": null,\n        \"min\": 1.6975,\n        \"max\": 1.6975,\n        \"num_unique_values\": 1,\n        \"samples\": [\n          1.6975\n        ],\n        \"semantic_type\": \"\",\n        \"description\": \"\"\n      }\n    }\n  ]\n}"
            }
          },
          "metadata": {},
          "execution_count": 68
        }
      ]
    },
    {
      "cell_type": "markdown",
      "source": [
        "## Question 3: Is Growth Concentrated in the Largest Stocks?"
      ],
      "metadata": {
        "id": "T3nY-qgt9zIw"
      }
    },
    {
      "cell_type": "markdown",
      "source": [
        "**Get the share of days (percentage as int) when Large Stocks outperform (growth_7d - growth over 7 periods back) the Largest stocks?**\n",
        "\n",
        "\n",
        "1. Reuse [Code Snippet 7] to obtain OHLCV stats for 33 stocks\n",
        "for 10 full years of data (2014-01-01 to 2023-12-31). You'll need to download slightly more data (7 periods before 2014-01-01 to calculate the growth_7d for the first 6 days correctly):\n",
        "\n",
        "  `US_STOCKS = ['MSFT', 'AAPL', 'GOOG', 'NVDA', 'AMZN', 'META', 'BRK-B', 'LLY', 'AVGO','V', 'JPM']`\n",
        "\n",
        "  `EU_STOCKS = ['NVO','MC.PA', 'ASML', 'RMS.PA', 'OR.PA', 'SAP', 'ACN', 'TTE', 'SIE.DE','IDEXY','CDI.PA']`\n",
        "\n",
        "  `INDIA_STOCKS = ['RELIANCE.NS','TCS.NS','HDB','BHARTIARTL.NS','IBN','SBIN.NS','LICI.NS','INFY','ITC.NS','HINDUNILVR.NS','LT.NS']`\n",
        "\n",
        "  `LARGEST_STOCKS = US_STOCKS + EU_STOCKS + INDIA_STOCKS`\n",
        "  <br/>\n",
        "\n",
        "1. Now let's add the top 12-22 stocks (as of end-April 2024):\n",
        "<br/>\n",
        "  `NEW_US = ['TSLA','WMT','XOM','UNH','MA','PG','JNJ','MRK','HD','COST','ORCL']`\n",
        "\n",
        "  `NEW_EU = ['PRX.AS','CDI.PA','AIR.PA','SU.PA','ETN','SNY','BUD','DTE.DE','ALV.DE','MDT','AI.PA','EL.PA']`\n",
        "\n",
        "  `NEW_INDIA = ['BAJFINANCE.NS','MARUTI.NS','HCLTECH.NS','TATAMOTORS.NS','SUNPHARMA.NS','ONGC.NS','ADANIENT.NS','ADANIENT.NS','NTPC.NS','KOTAKBANK.NS','TITAN.NS']`\n",
        "\n",
        "  `LARGE_STOCKS = NEW_EU + NEW_US + NEW_INDIA`\n",
        "\n",
        "  You should be able to obtain stats for 33 LARGEST STOCKS and 32 LARGE STOCKS (from the actual stats on Yahoo Finance)\n",
        "\n",
        "1. Calculate  `growth_7d` for every stock and every day.\n",
        "Get the average daily `growth_7d` for the LARGEST_STOCKS group vs. the LARGE_STOCKS group.\n",
        "\n",
        "  For example, for the first of data you should have:\n",
        "\n",
        "  | Date   |      ticker_category      |  growth_7d |\n",
        "  |----------|:-------------:|------:|\n",
        "  | 2014-01-01 |  LARGE | 1.011684 |\n",
        "  | 2014-01-01 |   LARGEST   |   1.011797 |\n",
        "\n",
        "  On that day, the LARGEST group was growing faster than LARGE one (new stocks).\n",
        "\n",
        "1. Calculate the number of days when the LARGE GROUP (new smaller stocks) outperforms the LARGEST GROUP, divide it by the total number of trading days (which should be 2595 days), and convert it to a percentage (closest INTEGER value). For example, if you find that 1700 out of 2595 days meet this condition, it means that 1700/2595 = 0.655, or approximately 66% of days, the LARGE stocks were growing faster than the LARGEST ones. This suggests that you should consider extending your dataset with more stocks to seek higher growth.\n",
        "\n",
        "  HINT: you can use pandas.pivot_table() to \"flatten\" the table (LARGE and LARGEST growth_7d as columns)\n",
        "\n",
        "---"
      ],
      "metadata": {
        "id": "ZkOtjl5S9oHQ"
      }
    },
    {
      "cell_type": "code",
      "source": [
        "from datetime import date, timedelta"
      ],
      "metadata": {
        "id": "fNosXZbMcLSL"
      },
      "execution_count": 112,
      "outputs": []
    },
    {
      "cell_type": "code",
      "source": [
        "end = date(2023,12,31) # mentioned in the question > 2024-03-01\n",
        "# print(f'Year = {end.year}; month= {end.month}; day={end.day}')\n",
        "\n",
        "threshold_date = date(2014,1,1)\n",
        "start = threshold_date - timedelta(days=14)\n",
        "print(f'Period for indexes: {start} to {end} ')"
      ],
      "metadata": {
        "id": "3AFyyESc-n6i",
        "colab": {
          "base_uri": "https://localhost:8080/"
        },
        "outputId": "86ea41e4-8d89-4d60-b98f-5564e0e1322b"
      },
      "execution_count": 113,
      "outputs": [
        {
          "output_type": "stream",
          "name": "stdout",
          "text": [
            "Period for indexes: 2013-12-18 to 2023-12-31 \n"
          ]
        }
      ]
    },
    {
      "cell_type": "code",
      "source": [
        "US_STOCKS = ['MSFT', 'AAPL', 'GOOG', 'NVDA', 'AMZN', 'META', 'BRK-B', 'LLY', 'AVGO','V', 'JPM']\n",
        "\n",
        "EU_STOCKS = ['NVO','MC.PA', 'ASML', 'RMS.PA', 'OR.PA', 'SAP', 'ACN', 'TTE', 'SIE.DE','IDEXY','CDI.PA']\n",
        "\n",
        "INDIA_STOCKS = ['RELIANCE.NS','TCS.NS','HDB','BHARTIARTL.NS','IBN','SBIN.NS','LICI.NS','INFY','ITC.NS','HINDUNILVR.NS','LT.NS']\n",
        "\n",
        "LARGEST_STOCKS = US_STOCKS + EU_STOCKS + INDIA_STOCKS"
      ],
      "metadata": {
        "id": "javxy4KSVWFg"
      },
      "execution_count": 114,
      "outputs": []
    },
    {
      "cell_type": "code",
      "source": [
        "# Now let's add the top 12-22 stocks (as of end-April 2024):\n",
        "NEW_US = ['TSLA','WMT','XOM','UNH','MA','PG','JNJ','MRK','HD','COST','ORCL']\n",
        "\n",
        "NEW_EU = ['PRX.AS','CDI.PA','AIR.PA','SU.PA','ETN','SNY','BUD','DTE.DE','ALV.DE','MDT','AI.PA','EL.PA']\n",
        "\n",
        "NEW_INDIA = ['BAJFINANCE.NS','MARUTI.NS','HCLTECH.NS','TATAMOTORS.NS','SUNPHARMA.NS','ONGC.NS','ADANIENT.NS','ADANIENT.NS','NTPC.NS','KOTAKBANK.NS','TITAN.NS']\n",
        "\n",
        "LARGE_STOCKS = NEW_EU + NEW_US + NEW_INDIA"
      ],
      "metadata": {
        "id": "R9zSFv7FVZ4T"
      },
      "execution_count": 115,
      "outputs": []
    },
    {
      "cell_type": "code",
      "source": [
        "print(f'Len of Largest and large stocks list \\n 1. LARGEST_STOCKS >>>\\t{len(LARGEST_STOCKS)} \\n 2. LARGE_STOCKS >>>\\t{len(set(LARGE_STOCKS))} ')\n",
        "print(f'`Largest` stocks are: \\n {LARGEST_STOCKS} and \\n `Large` stocks are: \\n {LARGE_STOCKS}')"
      ],
      "metadata": {
        "colab": {
          "base_uri": "https://localhost:8080/"
        },
        "id": "XSSYN0nSV_Gx",
        "outputId": "76aa754f-78e9-4ee7-87ef-dfe80c180a17"
      },
      "execution_count": 116,
      "outputs": [
        {
          "output_type": "stream",
          "name": "stdout",
          "text": [
            "Len of Largest and large stocks list \n",
            " 1. LARGEST_STOCKS >>>\t33 \n",
            " 2. LARGE_STOCKS >>>\t33 \n",
            "`Largest` stocks are: \n",
            " ['MSFT', 'AAPL', 'GOOG', 'NVDA', 'AMZN', 'META', 'BRK-B', 'LLY', 'AVGO', 'V', 'JPM', 'NVO', 'MC.PA', 'ASML', 'RMS.PA', 'OR.PA', 'SAP', 'ACN', 'TTE', 'SIE.DE', 'IDEXY', 'CDI.PA', 'RELIANCE.NS', 'TCS.NS', 'HDB', 'BHARTIARTL.NS', 'IBN', 'SBIN.NS', 'LICI.NS', 'INFY', 'ITC.NS', 'HINDUNILVR.NS', 'LT.NS'] and \n",
            " `Large` stocks are: \n",
            " ['PRX.AS', 'CDI.PA', 'AIR.PA', 'SU.PA', 'ETN', 'SNY', 'BUD', 'DTE.DE', 'ALV.DE', 'MDT', 'AI.PA', 'EL.PA', 'TSLA', 'WMT', 'XOM', 'UNH', 'MA', 'PG', 'JNJ', 'MRK', 'HD', 'COST', 'ORCL', 'BAJFINANCE.NS', 'MARUTI.NS', 'HCLTECH.NS', 'TATAMOTORS.NS', 'SUNPHARMA.NS', 'ONGC.NS', 'ADANIENT.NS', 'ADANIENT.NS', 'NTPC.NS', 'KOTAKBANK.NS', 'TITAN.NS']\n"
          ]
        }
      ]
    },
    {
      "cell_type": "markdown",
      "source": [
        "#### creating largest stocks dataframe"
      ],
      "metadata": {
        "id": "bD-Awv90XjLk"
      }
    },
    {
      "cell_type": "code",
      "source": [
        "ALL_TICKERS = LARGEST_STOCKS + LARGE_STOCKS\n",
        "len(ALL_TICKERS)"
      ],
      "metadata": {
        "colab": {
          "base_uri": "https://localhost:8080/"
        },
        "id": "0sskNsQCYTOX",
        "outputId": "17e49f89-30a4-48d2-feb5-8e62b7241e7b"
      },
      "execution_count": 117,
      "outputs": [
        {
          "output_type": "execute_result",
          "data": {
            "text/plain": [
              "67"
            ]
          },
          "metadata": {},
          "execution_count": 117
        }
      ]
    },
    {
      "cell_type": "code",
      "source": [
        "def get_ticker_category(ticker:str):\n",
        "  if ticker in LARGE_STOCKS:\n",
        "    return 'LARGE'\n",
        "  elif ticker in LARGEST_STOCKS:\n",
        "    return 'LARGEST'\n",
        "  else:\n",
        "    return 'ERROR'"
      ],
      "metadata": {
        "id": "lPDjmITdY4CY"
      },
      "execution_count": 118,
      "outputs": []
    },
    {
      "cell_type": "code",
      "source": [
        "get_ticker_category('META')"
      ],
      "metadata": {
        "colab": {
          "base_uri": "https://localhost:8080/",
          "height": 35
        },
        "id": "q9U6_iTSGe8v",
        "outputId": "7995c367-a058-4ae3-e864-5d8400f11b94"
      },
      "execution_count": 119,
      "outputs": [
        {
          "output_type": "execute_result",
          "data": {
            "text/plain": [
              "'LARGEST'"
            ],
            "application/vnd.google.colaboratory.intrinsic+json": {
              "type": "string"
            }
          },
          "metadata": {},
          "execution_count": 119
        }
      ]
    },
    {
      "cell_type": "code",
      "source": [
        "import time\n",
        "\n",
        "stocks_df = pd.DataFrame({'A' : []})\n",
        "\n",
        "for i,ticker in enumerate(set(LARGEST_STOCKS)):\n",
        "  print(i,ticker)\n",
        "\n",
        "  # Work with stock prices\n",
        "  historyPrices = yf.download(tickers = ticker,\n",
        "                              start = start,\n",
        "                              end = end,\n",
        "                              interval = \"1d\")\n",
        "\n",
        "  # generate features for historical prices, and what we want to predict\n",
        "  historyPrices['Ticker'] = ticker\n",
        "  historyPrices['Year']= historyPrices.index.year\n",
        "  historyPrices['Month'] = historyPrices.index.month\n",
        "  historyPrices['Weekday'] = historyPrices.index.weekday\n",
        "  historyPrices['Date'] = historyPrices.index.date\n",
        "\n",
        "  # historical returns\n",
        "  for i in [7]:\n",
        "    historyPrices['growth_'+str(i)+'d'] = historyPrices['Adj Close'] / historyPrices['Adj Close'].shift(i)\n",
        "  historyPrices['growth_future_5d'] = historyPrices['Adj Close'].shift(-5) / historyPrices['Adj Close']\n",
        "\n",
        "  # sleep 1 sec between downloads - not to overload the API server\n",
        "  time.sleep(1)\n",
        "\n",
        "\n",
        "  if stocks_df.empty:\n",
        "    stocks_df = historyPrices\n",
        "  else:\n",
        "    stocks_df = pd.concat([stocks_df, historyPrices], ignore_index=True)\n",
        "# selecting the type of the ticker\n",
        "stocks_df['ticker_category'] = stocks_df.Ticker.apply(lambda x:get_ticker_category(x))"
      ],
      "metadata": {
        "colab": {
          "base_uri": "https://localhost:8080/"
        },
        "id": "tbR-kJeDXaWg",
        "outputId": "42a17b7a-203a-41d4-cc28-68d151f1aa95"
      },
      "execution_count": 120,
      "outputs": [
        {
          "output_type": "stream",
          "name": "stdout",
          "text": [
            "0 META\n"
          ]
        },
        {
          "output_type": "stream",
          "name": "stderr",
          "text": [
            "\r[*********************100%%**********************]  1 of 1 completed\n"
          ]
        },
        {
          "output_type": "stream",
          "name": "stdout",
          "text": [
            "1 SBIN.NS\n"
          ]
        },
        {
          "output_type": "stream",
          "name": "stderr",
          "text": [
            "\r[*********************100%%**********************]  1 of 1 completed\n"
          ]
        },
        {
          "output_type": "stream",
          "name": "stdout",
          "text": [
            "2 TCS.NS\n"
          ]
        },
        {
          "output_type": "stream",
          "name": "stderr",
          "text": [
            "\r[*********************100%%**********************]  1 of 1 completed\n"
          ]
        },
        {
          "output_type": "stream",
          "name": "stdout",
          "text": [
            "3 NVO\n"
          ]
        },
        {
          "output_type": "stream",
          "name": "stderr",
          "text": [
            "[*********************100%%**********************]  1 of 1 completed\n",
            "[*********************100%%**********************]  1 of 1 completed"
          ]
        },
        {
          "output_type": "stream",
          "name": "stdout",
          "text": [
            "4 BRK-B\n"
          ]
        },
        {
          "output_type": "stream",
          "name": "stderr",
          "text": [
            "\n"
          ]
        },
        {
          "output_type": "stream",
          "name": "stdout",
          "text": [
            "5 SIE.DE\n"
          ]
        },
        {
          "output_type": "stream",
          "name": "stderr",
          "text": [
            "[*********************100%%**********************]  1 of 1 completed\n",
            "[*********************100%%**********************]  1 of 1 completed"
          ]
        },
        {
          "output_type": "stream",
          "name": "stdout",
          "text": [
            "6 IBN\n"
          ]
        },
        {
          "output_type": "stream",
          "name": "stderr",
          "text": [
            "\n",
            "[*********************100%%**********************]  1 of 1 completed"
          ]
        },
        {
          "output_type": "stream",
          "name": "stdout",
          "text": [
            "7 SAP\n"
          ]
        },
        {
          "output_type": "stream",
          "name": "stderr",
          "text": [
            "\n"
          ]
        },
        {
          "output_type": "stream",
          "name": "stdout",
          "text": [
            "8 NVDA\n"
          ]
        },
        {
          "output_type": "stream",
          "name": "stderr",
          "text": [
            "\r[*********************100%%**********************]  1 of 1 completed\n"
          ]
        },
        {
          "output_type": "stream",
          "name": "stdout",
          "text": [
            "9 INFY\n"
          ]
        },
        {
          "output_type": "stream",
          "name": "stderr",
          "text": [
            "[*********************100%%**********************]  1 of 1 completed\n",
            "[*********************100%%**********************]  1 of 1 completed"
          ]
        },
        {
          "output_type": "stream",
          "name": "stdout",
          "text": [
            "10 GOOG\n"
          ]
        },
        {
          "output_type": "stream",
          "name": "stderr",
          "text": [
            "\n"
          ]
        },
        {
          "output_type": "stream",
          "name": "stdout",
          "text": [
            "11 RELIANCE.NS\n"
          ]
        },
        {
          "output_type": "stream",
          "name": "stderr",
          "text": [
            "\r[*********************100%%**********************]  1 of 1 completed\n"
          ]
        },
        {
          "output_type": "stream",
          "name": "stdout",
          "text": [
            "12 RMS.PA\n"
          ]
        },
        {
          "output_type": "stream",
          "name": "stderr",
          "text": [
            "\r[*********************100%%**********************]  1 of 1 completed\n"
          ]
        },
        {
          "output_type": "stream",
          "name": "stdout",
          "text": [
            "13 LLY\n"
          ]
        },
        {
          "output_type": "stream",
          "name": "stderr",
          "text": [
            "[*********************100%%**********************]  1 of 1 completed\n",
            "[*********************100%%**********************]  1 of 1 completed"
          ]
        },
        {
          "output_type": "stream",
          "name": "stdout",
          "text": [
            "14 ACN\n"
          ]
        },
        {
          "output_type": "stream",
          "name": "stderr",
          "text": [
            "\n",
            "[*********************100%%**********************]  1 of 1 completed"
          ]
        },
        {
          "output_type": "stream",
          "name": "stdout",
          "text": [
            "15 LT.NS\n"
          ]
        },
        {
          "output_type": "stream",
          "name": "stderr",
          "text": [
            "\n",
            "[*********************100%%**********************]  1 of 1 completed"
          ]
        },
        {
          "output_type": "stream",
          "name": "stdout",
          "text": [
            "16 BHARTIARTL.NS\n"
          ]
        },
        {
          "output_type": "stream",
          "name": "stderr",
          "text": [
            "\n"
          ]
        },
        {
          "output_type": "stream",
          "name": "stdout",
          "text": [
            "17 HINDUNILVR.NS\n"
          ]
        },
        {
          "output_type": "stream",
          "name": "stderr",
          "text": [
            "\r[*********************100%%**********************]  1 of 1 completed\n"
          ]
        },
        {
          "output_type": "stream",
          "name": "stdout",
          "text": [
            "18 TTE\n"
          ]
        },
        {
          "output_type": "stream",
          "name": "stderr",
          "text": [
            "\r[*********************100%%**********************]  1 of 1 completed\n"
          ]
        },
        {
          "output_type": "stream",
          "name": "stdout",
          "text": [
            "19 MC.PA\n"
          ]
        },
        {
          "output_type": "stream",
          "name": "stderr",
          "text": [
            "[*********************100%%**********************]  1 of 1 completed\n",
            "[*********************100%%**********************]  1 of 1 completed"
          ]
        },
        {
          "output_type": "stream",
          "name": "stdout",
          "text": [
            "20 AVGO\n"
          ]
        },
        {
          "output_type": "stream",
          "name": "stderr",
          "text": [
            "\n"
          ]
        },
        {
          "output_type": "stream",
          "name": "stdout",
          "text": [
            "21 OR.PA\n"
          ]
        },
        {
          "output_type": "stream",
          "name": "stderr",
          "text": [
            "[*********************100%%**********************]  1 of 1 completed\n",
            "[*********************100%%**********************]  1 of 1 completed"
          ]
        },
        {
          "output_type": "stream",
          "name": "stdout",
          "text": [
            "22 AMZN\n"
          ]
        },
        {
          "output_type": "stream",
          "name": "stderr",
          "text": [
            "\n"
          ]
        },
        {
          "output_type": "stream",
          "name": "stdout",
          "text": [
            "23 ITC.NS\n"
          ]
        },
        {
          "output_type": "stream",
          "name": "stderr",
          "text": [
            "[*********************100%%**********************]  1 of 1 completed\n",
            "[*********************100%%**********************]  1 of 1 completed"
          ]
        },
        {
          "output_type": "stream",
          "name": "stdout",
          "text": [
            "24 ASML\n"
          ]
        },
        {
          "output_type": "stream",
          "name": "stderr",
          "text": [
            "\n",
            "[*********************100%%**********************]  1 of 1 completed"
          ]
        },
        {
          "output_type": "stream",
          "name": "stdout",
          "text": [
            "25 MSFT\n"
          ]
        },
        {
          "output_type": "stream",
          "name": "stderr",
          "text": [
            "\n"
          ]
        },
        {
          "output_type": "stream",
          "name": "stdout",
          "text": [
            "26 JPM\n"
          ]
        },
        {
          "output_type": "stream",
          "name": "stderr",
          "text": [
            "[*********************100%%**********************]  1 of 1 completed\n",
            "[*********************100%%**********************]  1 of 1 completed"
          ]
        },
        {
          "output_type": "stream",
          "name": "stdout",
          "text": [
            "27 IDEXY\n"
          ]
        },
        {
          "output_type": "stream",
          "name": "stderr",
          "text": [
            "\n",
            "[*********************100%%**********************]  1 of 1 completed"
          ]
        },
        {
          "output_type": "stream",
          "name": "stdout",
          "text": [
            "28 CDI.PA\n"
          ]
        },
        {
          "output_type": "stream",
          "name": "stderr",
          "text": [
            "\n",
            "[*********************100%%**********************]  1 of 1 completed"
          ]
        },
        {
          "output_type": "stream",
          "name": "stdout",
          "text": [
            "29 HDB\n"
          ]
        },
        {
          "output_type": "stream",
          "name": "stderr",
          "text": [
            "\n",
            "[*********************100%%**********************]  1 of 1 completed"
          ]
        },
        {
          "output_type": "stream",
          "name": "stdout",
          "text": [
            "30 AAPL\n"
          ]
        },
        {
          "output_type": "stream",
          "name": "stderr",
          "text": [
            "\n"
          ]
        },
        {
          "output_type": "stream",
          "name": "stdout",
          "text": [
            "31 V\n"
          ]
        },
        {
          "output_type": "stream",
          "name": "stderr",
          "text": [
            "[*********************100%%**********************]  1 of 1 completed\n",
            "[*********************100%%**********************]  1 of 1 completed"
          ]
        },
        {
          "output_type": "stream",
          "name": "stdout",
          "text": [
            "32 LICI.NS\n"
          ]
        },
        {
          "output_type": "stream",
          "name": "stderr",
          "text": [
            "\n"
          ]
        }
      ]
    },
    {
      "cell_type": "code",
      "source": [
        "import time\n",
        "\n",
        "for i,ticker in enumerate(set(LARGE_STOCKS)):\n",
        "  print(i,ticker)\n",
        "\n",
        "  # Work with stock prices\n",
        "  historyPrices = yf.download(tickers = ticker,\n",
        "                              start = start,\n",
        "                              end = end,\n",
        "                              interval = \"1d\")\n",
        "\n",
        "  # generate features for historical prices, and what we want to predict\n",
        "  historyPrices['Ticker'] = ticker\n",
        "  historyPrices['Year']= historyPrices.index.year\n",
        "  historyPrices['Month'] = historyPrices.index.month\n",
        "  historyPrices['Weekday'] = historyPrices.index.weekday\n",
        "  historyPrices['Date'] = historyPrices.index.date\n",
        "\n",
        "  # historical returns\n",
        "  for i in [7]:\n",
        "    historyPrices['growth_'+str(i)+'d'] = historyPrices['Adj Close'] / historyPrices['Adj Close'].shift(i)\n",
        "  historyPrices['growth_future_5d'] = historyPrices['Adj Close'].shift(-5) / historyPrices['Adj Close']\n",
        "\n",
        "  # sleep 1 sec between downloads - not to overload the API server\n",
        "  time.sleep(1)\n",
        "\n",
        "\n",
        "  if stocks_df.empty:\n",
        "    stocks_df = historyPrices\n",
        "  else:\n",
        "    stocks_df = pd.concat([stocks_df, historyPrices], ignore_index=True)\n",
        "# selecting the type of ticker\n",
        "stocks_df['ticker_category'] = stocks_df.Ticker.apply(lambda x:get_ticker_category(x))"
      ],
      "metadata": {
        "colab": {
          "base_uri": "https://localhost:8080/"
        },
        "id": "rADkB5w2ahpI",
        "outputId": "abd19c2c-8f46-4f99-9ab3-06bc335ac9df"
      },
      "execution_count": 121,
      "outputs": [
        {
          "output_type": "stream",
          "name": "stderr",
          "text": [
            "\r[*********************100%%**********************]  1 of 1 completed"
          ]
        },
        {
          "output_type": "stream",
          "name": "stdout",
          "text": [
            "0 COST\n"
          ]
        },
        {
          "output_type": "stream",
          "name": "stderr",
          "text": [
            "\n"
          ]
        },
        {
          "output_type": "stream",
          "name": "stdout",
          "text": [
            "1 PG\n"
          ]
        },
        {
          "output_type": "stream",
          "name": "stderr",
          "text": [
            "[*********************100%%**********************]  1 of 1 completed\n",
            "[*********************100%%**********************]  1 of 1 completed"
          ]
        },
        {
          "output_type": "stream",
          "name": "stdout",
          "text": [
            "2 ALV.DE\n"
          ]
        },
        {
          "output_type": "stream",
          "name": "stderr",
          "text": [
            "\n",
            "[*********************100%%**********************]  1 of 1 completed"
          ]
        },
        {
          "output_type": "stream",
          "name": "stdout",
          "text": [
            "3 TATAMOTORS.NS\n"
          ]
        },
        {
          "output_type": "stream",
          "name": "stderr",
          "text": [
            "\n"
          ]
        },
        {
          "output_type": "stream",
          "name": "stdout",
          "text": [
            "4 AI.PA\n"
          ]
        },
        {
          "output_type": "stream",
          "name": "stderr",
          "text": [
            "[*********************100%%**********************]  1 of 1 completed\n",
            "[*********************100%%**********************]  1 of 1 completed"
          ]
        },
        {
          "output_type": "stream",
          "name": "stdout",
          "text": [
            "5 TSLA\n"
          ]
        },
        {
          "output_type": "stream",
          "name": "stderr",
          "text": [
            "\n"
          ]
        },
        {
          "output_type": "stream",
          "name": "stdout",
          "text": [
            "6 JNJ\n"
          ]
        },
        {
          "output_type": "stream",
          "name": "stderr",
          "text": [
            "[*********************100%%**********************]  1 of 1 completed\n",
            "[*********************100%%**********************]  1 of 1 completed"
          ]
        },
        {
          "output_type": "stream",
          "name": "stdout",
          "text": [
            "7 BUD\n"
          ]
        },
        {
          "output_type": "stream",
          "name": "stderr",
          "text": [
            "\n"
          ]
        },
        {
          "output_type": "stream",
          "name": "stdout",
          "text": [
            "8 XOM\n"
          ]
        },
        {
          "output_type": "stream",
          "name": "stderr",
          "text": [
            "[*********************100%%**********************]  1 of 1 completed\n",
            "[*********************100%%**********************]  1 of 1 completed"
          ]
        },
        {
          "output_type": "stream",
          "name": "stdout",
          "text": [
            "9 AIR.PA\n"
          ]
        },
        {
          "output_type": "stream",
          "name": "stderr",
          "text": [
            "\n"
          ]
        },
        {
          "output_type": "stream",
          "name": "stdout",
          "text": [
            "10 MDT\n"
          ]
        },
        {
          "output_type": "stream",
          "name": "stderr",
          "text": [
            "[*********************100%%**********************]  1 of 1 completed\n",
            "[*********************100%%**********************]  1 of 1 completed"
          ]
        },
        {
          "output_type": "stream",
          "name": "stdout",
          "text": [
            "11 HCLTECH.NS\n"
          ]
        },
        {
          "output_type": "stream",
          "name": "stderr",
          "text": [
            "\n",
            "[*********************100%%**********************]  1 of 1 completed"
          ]
        },
        {
          "output_type": "stream",
          "name": "stdout",
          "text": [
            "12 ADANIENT.NS\n"
          ]
        },
        {
          "output_type": "stream",
          "name": "stderr",
          "text": [
            "\n"
          ]
        },
        {
          "output_type": "stream",
          "name": "stdout",
          "text": [
            "13 MRK\n"
          ]
        },
        {
          "output_type": "stream",
          "name": "stderr",
          "text": [
            "[*********************100%%**********************]  1 of 1 completed\n",
            "[*********************100%%**********************]  1 of 1 completed"
          ]
        },
        {
          "output_type": "stream",
          "name": "stdout",
          "text": [
            "14 DTE.DE\n"
          ]
        },
        {
          "output_type": "stream",
          "name": "stderr",
          "text": [
            "\n",
            "[*********************100%%**********************]  1 of 1 completed"
          ]
        },
        {
          "output_type": "stream",
          "name": "stdout",
          "text": [
            "15 SNY\n"
          ]
        },
        {
          "output_type": "stream",
          "name": "stderr",
          "text": [
            "\n",
            "[*********************100%%**********************]  1 of 1 completed"
          ]
        },
        {
          "output_type": "stream",
          "name": "stdout",
          "text": [
            "16 ORCL\n"
          ]
        },
        {
          "output_type": "stream",
          "name": "stderr",
          "text": [
            "\n"
          ]
        },
        {
          "output_type": "stream",
          "name": "stdout",
          "text": [
            "17 BAJFINANCE.NS\n"
          ]
        },
        {
          "output_type": "stream",
          "name": "stderr",
          "text": [
            "[*********************100%%**********************]  1 of 1 completed\n",
            "[*********************100%%**********************]  1 of 1 completed"
          ]
        },
        {
          "output_type": "stream",
          "name": "stdout",
          "text": [
            "18 KOTAKBANK.NS\n"
          ]
        },
        {
          "output_type": "stream",
          "name": "stderr",
          "text": [
            "\n",
            "[*********************100%%**********************]  1 of 1 completed"
          ]
        },
        {
          "output_type": "stream",
          "name": "stdout",
          "text": [
            "19 SUNPHARMA.NS\n"
          ]
        },
        {
          "output_type": "stream",
          "name": "stderr",
          "text": [
            "\n"
          ]
        },
        {
          "output_type": "stream",
          "name": "stdout",
          "text": [
            "20 EL.PA\n"
          ]
        },
        {
          "output_type": "stream",
          "name": "stderr",
          "text": [
            "[*********************100%%**********************]  1 of 1 completed\n",
            "[*********************100%%**********************]  1 of 1 completed"
          ]
        },
        {
          "output_type": "stream",
          "name": "stdout",
          "text": [
            "21 TITAN.NS\n"
          ]
        },
        {
          "output_type": "stream",
          "name": "stderr",
          "text": [
            "\n"
          ]
        },
        {
          "output_type": "stream",
          "name": "stdout",
          "text": [
            "22 HD\n"
          ]
        },
        {
          "output_type": "stream",
          "name": "stderr",
          "text": [
            "[*********************100%%**********************]  1 of 1 completed\n",
            "[*********************100%%**********************]  1 of 1 completed"
          ]
        },
        {
          "output_type": "stream",
          "name": "stdout",
          "text": [
            "23 MA\n"
          ]
        },
        {
          "output_type": "stream",
          "name": "stderr",
          "text": [
            "\n",
            "[*********************100%%**********************]  1 of 1 completed"
          ]
        },
        {
          "output_type": "stream",
          "name": "stdout",
          "text": [
            "24 NTPC.NS\n"
          ]
        },
        {
          "output_type": "stream",
          "name": "stderr",
          "text": [
            "\n",
            "[*********************100%%**********************]  1 of 1 completed"
          ]
        },
        {
          "output_type": "stream",
          "name": "stdout",
          "text": [
            "25 UNH\n"
          ]
        },
        {
          "output_type": "stream",
          "name": "stderr",
          "text": [
            "\n",
            "[*********************100%%**********************]  1 of 1 completed"
          ]
        },
        {
          "output_type": "stream",
          "name": "stdout",
          "text": [
            "26 CDI.PA\n"
          ]
        },
        {
          "output_type": "stream",
          "name": "stderr",
          "text": [
            "\n"
          ]
        },
        {
          "output_type": "stream",
          "name": "stdout",
          "text": [
            "27 WMT\n"
          ]
        },
        {
          "output_type": "stream",
          "name": "stderr",
          "text": [
            "[*********************100%%**********************]  1 of 1 completed\n",
            "[*********************100%%**********************]  1 of 1 completed"
          ]
        },
        {
          "output_type": "stream",
          "name": "stdout",
          "text": [
            "28 ONGC.NS\n"
          ]
        },
        {
          "output_type": "stream",
          "name": "stderr",
          "text": [
            "\n",
            "[*********************100%%**********************]  1 of 1 completed"
          ]
        },
        {
          "output_type": "stream",
          "name": "stdout",
          "text": [
            "29 PRX.AS\n"
          ]
        },
        {
          "output_type": "stream",
          "name": "stderr",
          "text": [
            "\n"
          ]
        },
        {
          "output_type": "stream",
          "name": "stdout",
          "text": [
            "30 ETN\n"
          ]
        },
        {
          "output_type": "stream",
          "name": "stderr",
          "text": [
            "[*********************100%%**********************]  1 of 1 completed\n",
            "[*********************100%%**********************]  1 of 1 completed"
          ]
        },
        {
          "output_type": "stream",
          "name": "stdout",
          "text": [
            "31 SU.PA\n"
          ]
        },
        {
          "output_type": "stream",
          "name": "stderr",
          "text": [
            "\n",
            "[*********************100%%**********************]  1 of 1 completed"
          ]
        },
        {
          "output_type": "stream",
          "name": "stdout",
          "text": [
            "32 MARUTI.NS\n"
          ]
        },
        {
          "output_type": "stream",
          "name": "stderr",
          "text": [
            "\n"
          ]
        }
      ]
    },
    {
      "cell_type": "code",
      "source": [
        "stocks_df.info()"
      ],
      "metadata": {
        "colab": {
          "base_uri": "https://localhost:8080/"
        },
        "id": "Y_2yl_4icBWO",
        "outputId": "b40a809f-367a-4e16-de66-ff35d7e6367e"
      },
      "execution_count": 122,
      "outputs": [
        {
          "output_type": "stream",
          "name": "stdout",
          "text": [
            "<class 'pandas.core.frame.DataFrame'>\n",
            "RangeIndex: 162700 entries, 0 to 162699\n",
            "Data columns (total 14 columns):\n",
            " #   Column            Non-Null Count   Dtype  \n",
            "---  ------            --------------   -----  \n",
            " 0   Open              162700 non-null  float64\n",
            " 1   High              162700 non-null  float64\n",
            " 2   Low               162700 non-null  float64\n",
            " 3   Close             162700 non-null  float64\n",
            " 4   Adj Close         162700 non-null  float64\n",
            " 5   Volume            162700 non-null  int64  \n",
            " 6   Ticker            162700 non-null  object \n",
            " 7   Year              162700 non-null  int32  \n",
            " 8   Month             162700 non-null  int32  \n",
            " 9   Weekday           162700 non-null  int32  \n",
            " 10  Date              162700 non-null  object \n",
            " 11  growth_7d         162238 non-null  float64\n",
            " 12  growth_future_5d  162370 non-null  float64\n",
            " 13  ticker_category   162700 non-null  object \n",
            "dtypes: float64(7), int32(3), int64(1), object(3)\n",
            "memory usage: 15.5+ MB\n"
          ]
        }
      ]
    },
    {
      "cell_type": "code",
      "source": [
        "stocks_df['ticker_category'].unique() # no error in appplying the code"
      ],
      "metadata": {
        "colab": {
          "base_uri": "https://localhost:8080/"
        },
        "id": "6tm8CGODfKss",
        "outputId": "ff52c499-72de-400b-f916-5f137e37ab7b"
      },
      "execution_count": 123,
      "outputs": [
        {
          "output_type": "execute_result",
          "data": {
            "text/plain": [
              "array(['LARGEST', 'LARGE'], dtype=object)"
            ]
          },
          "metadata": {},
          "execution_count": 123
        }
      ]
    },
    {
      "cell_type": "code",
      "source": [
        "unique_val = stocks_df['Ticker'].unique()\n",
        "len(unique_val), len(ALL_TICKERS)"
      ],
      "metadata": {
        "colab": {
          "base_uri": "https://localhost:8080/"
        },
        "id": "vC0E0z4mf7dl",
        "outputId": "d2121540-f795-4f12-8985-3547f898e1d4"
      },
      "execution_count": 124,
      "outputs": [
        {
          "output_type": "execute_result",
          "data": {
            "text/plain": [
              "(65, 67)"
            ]
          },
          "metadata": {},
          "execution_count": 124
        }
      ]
    },
    {
      "cell_type": "code",
      "source": [
        "len(set(unique_val)), len(set(ALL_TICKERS))"
      ],
      "metadata": {
        "colab": {
          "base_uri": "https://localhost:8080/"
        },
        "id": "m5laKMLZiGrM",
        "outputId": "33e4026b-c961-408e-c4bc-689d5c87dcc5"
      },
      "execution_count": 125,
      "outputs": [
        {
          "output_type": "execute_result",
          "data": {
            "text/plain": [
              "(65, 65)"
            ]
          },
          "metadata": {},
          "execution_count": 125
        }
      ]
    },
    {
      "cell_type": "code",
      "source": [
        "# from collections import Counter"
      ],
      "metadata": {
        "id": "Py-peEypBCin"
      },
      "execution_count": 126,
      "outputs": []
    },
    {
      "cell_type": "code",
      "source": [
        "# Counter(ALL_TICKERS)"
      ],
      "metadata": {
        "id": "C_cBDhE6A_g4"
      },
      "execution_count": 127,
      "outputs": []
    },
    {
      "cell_type": "code",
      "source": [
        "stocks_df.head(10)"
      ],
      "metadata": {
        "colab": {
          "base_uri": "https://localhost:8080/",
          "height": 400
        },
        "id": "1pilhrxOep9V",
        "outputId": "22b56b78-1cb3-40c6-8e38-339350a203d0"
      },
      "execution_count": 128,
      "outputs": [
        {
          "output_type": "execute_result",
          "data": {
            "text/plain": [
              "        Open       High        Low      Close  Adj Close     Volume Ticker  \\\n",
              "0  54.860001  55.889999  53.750000  55.570000  55.511101   76003000   META   \n",
              "1  54.330002  55.189999  53.950001  55.049999  54.991653   89753200   META   \n",
              "2  54.930000  55.150002  54.230000  55.119999  55.061577  239824000   META   \n",
              "3  55.500000  58.320000  55.450001  57.770000  57.708771   98297000   META   \n",
              "4  58.270000  58.580002  56.910000  57.959999  57.898567   46617800   META   \n",
              "5  58.320000  58.380001  57.369999  57.730000  57.668812   55101000   META   \n",
              "6  57.480000  57.680000  55.250000  55.439999  55.381237   60466000   META   \n",
              "7  54.930000  55.180000  53.430000  53.709999  53.653072   68307000   META   \n",
              "8  54.119999  54.860001  53.910000  54.650002  54.592079   43076200   META   \n",
              "9  54.830002  55.220001  54.189999  54.709999  54.652012   43195500   META   \n",
              "\n",
              "   Year  Month  Weekday        Date  growth_7d  growth_future_5d  \\\n",
              "0  2013     12        2  2013-12-18        NaN          1.038870   \n",
              "1  2013     12        3  2013-12-19        NaN          1.007084   \n",
              "2  2013     12        4  2013-12-20        NaN          0.974419   \n",
              "3  2013     12        0  2013-12-23        NaN          0.945993   \n",
              "4  2013     12        1  2013-12-24        NaN          0.943927   \n",
              "5  2013     12        3  2013-12-26        NaN          0.945089   \n",
              "6  2013     12        4  2013-12-27        NaN          1.031746   \n",
              "7  2013     12        0  2013-12-30   0.966529          1.078384   \n",
              "8  2013     12        1  2013-12-31   0.992734          1.065508   \n",
              "9  2014      1        3  2014-01-02   0.992562          1.045878   \n",
              "\n",
              "  ticker_category  \n",
              "0         LARGEST  \n",
              "1         LARGEST  \n",
              "2         LARGEST  \n",
              "3         LARGEST  \n",
              "4         LARGEST  \n",
              "5         LARGEST  \n",
              "6         LARGEST  \n",
              "7         LARGEST  \n",
              "8         LARGEST  \n",
              "9         LARGEST  "
            ],
            "text/html": [
              "\n",
              "  <div id=\"df-6837685f-dfeb-4045-8805-4ac29377eeda\" class=\"colab-df-container\">\n",
              "    <div>\n",
              "<style scoped>\n",
              "    .dataframe tbody tr th:only-of-type {\n",
              "        vertical-align: middle;\n",
              "    }\n",
              "\n",
              "    .dataframe tbody tr th {\n",
              "        vertical-align: top;\n",
              "    }\n",
              "\n",
              "    .dataframe thead th {\n",
              "        text-align: right;\n",
              "    }\n",
              "</style>\n",
              "<table border=\"1\" class=\"dataframe\">\n",
              "  <thead>\n",
              "    <tr style=\"text-align: right;\">\n",
              "      <th></th>\n",
              "      <th>Open</th>\n",
              "      <th>High</th>\n",
              "      <th>Low</th>\n",
              "      <th>Close</th>\n",
              "      <th>Adj Close</th>\n",
              "      <th>Volume</th>\n",
              "      <th>Ticker</th>\n",
              "      <th>Year</th>\n",
              "      <th>Month</th>\n",
              "      <th>Weekday</th>\n",
              "      <th>Date</th>\n",
              "      <th>growth_7d</th>\n",
              "      <th>growth_future_5d</th>\n",
              "      <th>ticker_category</th>\n",
              "    </tr>\n",
              "  </thead>\n",
              "  <tbody>\n",
              "    <tr>\n",
              "      <th>0</th>\n",
              "      <td>54.860001</td>\n",
              "      <td>55.889999</td>\n",
              "      <td>53.750000</td>\n",
              "      <td>55.570000</td>\n",
              "      <td>55.511101</td>\n",
              "      <td>76003000</td>\n",
              "      <td>META</td>\n",
              "      <td>2013</td>\n",
              "      <td>12</td>\n",
              "      <td>2</td>\n",
              "      <td>2013-12-18</td>\n",
              "      <td>NaN</td>\n",
              "      <td>1.038870</td>\n",
              "      <td>LARGEST</td>\n",
              "    </tr>\n",
              "    <tr>\n",
              "      <th>1</th>\n",
              "      <td>54.330002</td>\n",
              "      <td>55.189999</td>\n",
              "      <td>53.950001</td>\n",
              "      <td>55.049999</td>\n",
              "      <td>54.991653</td>\n",
              "      <td>89753200</td>\n",
              "      <td>META</td>\n",
              "      <td>2013</td>\n",
              "      <td>12</td>\n",
              "      <td>3</td>\n",
              "      <td>2013-12-19</td>\n",
              "      <td>NaN</td>\n",
              "      <td>1.007084</td>\n",
              "      <td>LARGEST</td>\n",
              "    </tr>\n",
              "    <tr>\n",
              "      <th>2</th>\n",
              "      <td>54.930000</td>\n",
              "      <td>55.150002</td>\n",
              "      <td>54.230000</td>\n",
              "      <td>55.119999</td>\n",
              "      <td>55.061577</td>\n",
              "      <td>239824000</td>\n",
              "      <td>META</td>\n",
              "      <td>2013</td>\n",
              "      <td>12</td>\n",
              "      <td>4</td>\n",
              "      <td>2013-12-20</td>\n",
              "      <td>NaN</td>\n",
              "      <td>0.974419</td>\n",
              "      <td>LARGEST</td>\n",
              "    </tr>\n",
              "    <tr>\n",
              "      <th>3</th>\n",
              "      <td>55.500000</td>\n",
              "      <td>58.320000</td>\n",
              "      <td>55.450001</td>\n",
              "      <td>57.770000</td>\n",
              "      <td>57.708771</td>\n",
              "      <td>98297000</td>\n",
              "      <td>META</td>\n",
              "      <td>2013</td>\n",
              "      <td>12</td>\n",
              "      <td>0</td>\n",
              "      <td>2013-12-23</td>\n",
              "      <td>NaN</td>\n",
              "      <td>0.945993</td>\n",
              "      <td>LARGEST</td>\n",
              "    </tr>\n",
              "    <tr>\n",
              "      <th>4</th>\n",
              "      <td>58.270000</td>\n",
              "      <td>58.580002</td>\n",
              "      <td>56.910000</td>\n",
              "      <td>57.959999</td>\n",
              "      <td>57.898567</td>\n",
              "      <td>46617800</td>\n",
              "      <td>META</td>\n",
              "      <td>2013</td>\n",
              "      <td>12</td>\n",
              "      <td>1</td>\n",
              "      <td>2013-12-24</td>\n",
              "      <td>NaN</td>\n",
              "      <td>0.943927</td>\n",
              "      <td>LARGEST</td>\n",
              "    </tr>\n",
              "    <tr>\n",
              "      <th>5</th>\n",
              "      <td>58.320000</td>\n",
              "      <td>58.380001</td>\n",
              "      <td>57.369999</td>\n",
              "      <td>57.730000</td>\n",
              "      <td>57.668812</td>\n",
              "      <td>55101000</td>\n",
              "      <td>META</td>\n",
              "      <td>2013</td>\n",
              "      <td>12</td>\n",
              "      <td>3</td>\n",
              "      <td>2013-12-26</td>\n",
              "      <td>NaN</td>\n",
              "      <td>0.945089</td>\n",
              "      <td>LARGEST</td>\n",
              "    </tr>\n",
              "    <tr>\n",
              "      <th>6</th>\n",
              "      <td>57.480000</td>\n",
              "      <td>57.680000</td>\n",
              "      <td>55.250000</td>\n",
              "      <td>55.439999</td>\n",
              "      <td>55.381237</td>\n",
              "      <td>60466000</td>\n",
              "      <td>META</td>\n",
              "      <td>2013</td>\n",
              "      <td>12</td>\n",
              "      <td>4</td>\n",
              "      <td>2013-12-27</td>\n",
              "      <td>NaN</td>\n",
              "      <td>1.031746</td>\n",
              "      <td>LARGEST</td>\n",
              "    </tr>\n",
              "    <tr>\n",
              "      <th>7</th>\n",
              "      <td>54.930000</td>\n",
              "      <td>55.180000</td>\n",
              "      <td>53.430000</td>\n",
              "      <td>53.709999</td>\n",
              "      <td>53.653072</td>\n",
              "      <td>68307000</td>\n",
              "      <td>META</td>\n",
              "      <td>2013</td>\n",
              "      <td>12</td>\n",
              "      <td>0</td>\n",
              "      <td>2013-12-30</td>\n",
              "      <td>0.966529</td>\n",
              "      <td>1.078384</td>\n",
              "      <td>LARGEST</td>\n",
              "    </tr>\n",
              "    <tr>\n",
              "      <th>8</th>\n",
              "      <td>54.119999</td>\n",
              "      <td>54.860001</td>\n",
              "      <td>53.910000</td>\n",
              "      <td>54.650002</td>\n",
              "      <td>54.592079</td>\n",
              "      <td>43076200</td>\n",
              "      <td>META</td>\n",
              "      <td>2013</td>\n",
              "      <td>12</td>\n",
              "      <td>1</td>\n",
              "      <td>2013-12-31</td>\n",
              "      <td>0.992734</td>\n",
              "      <td>1.065508</td>\n",
              "      <td>LARGEST</td>\n",
              "    </tr>\n",
              "    <tr>\n",
              "      <th>9</th>\n",
              "      <td>54.830002</td>\n",
              "      <td>55.220001</td>\n",
              "      <td>54.189999</td>\n",
              "      <td>54.709999</td>\n",
              "      <td>54.652012</td>\n",
              "      <td>43195500</td>\n",
              "      <td>META</td>\n",
              "      <td>2014</td>\n",
              "      <td>1</td>\n",
              "      <td>3</td>\n",
              "      <td>2014-01-02</td>\n",
              "      <td>0.992562</td>\n",
              "      <td>1.045878</td>\n",
              "      <td>LARGEST</td>\n",
              "    </tr>\n",
              "  </tbody>\n",
              "</table>\n",
              "</div>\n",
              "    <div class=\"colab-df-buttons\">\n",
              "\n",
              "  <div class=\"colab-df-container\">\n",
              "    <button class=\"colab-df-convert\" onclick=\"convertToInteractive('df-6837685f-dfeb-4045-8805-4ac29377eeda')\"\n",
              "            title=\"Convert this dataframe to an interactive table.\"\n",
              "            style=\"display:none;\">\n",
              "\n",
              "  <svg xmlns=\"http://www.w3.org/2000/svg\" height=\"24px\" viewBox=\"0 -960 960 960\">\n",
              "    <path d=\"M120-120v-720h720v720H120Zm60-500h600v-160H180v160Zm220 220h160v-160H400v160Zm0 220h160v-160H400v160ZM180-400h160v-160H180v160Zm440 0h160v-160H620v160ZM180-180h160v-160H180v160Zm440 0h160v-160H620v160Z\"/>\n",
              "  </svg>\n",
              "    </button>\n",
              "\n",
              "  <style>\n",
              "    .colab-df-container {\n",
              "      display:flex;\n",
              "      gap: 12px;\n",
              "    }\n",
              "\n",
              "    .colab-df-convert {\n",
              "      background-color: #E8F0FE;\n",
              "      border: none;\n",
              "      border-radius: 50%;\n",
              "      cursor: pointer;\n",
              "      display: none;\n",
              "      fill: #1967D2;\n",
              "      height: 32px;\n",
              "      padding: 0 0 0 0;\n",
              "      width: 32px;\n",
              "    }\n",
              "\n",
              "    .colab-df-convert:hover {\n",
              "      background-color: #E2EBFA;\n",
              "      box-shadow: 0px 1px 2px rgba(60, 64, 67, 0.3), 0px 1px 3px 1px rgba(60, 64, 67, 0.15);\n",
              "      fill: #174EA6;\n",
              "    }\n",
              "\n",
              "    .colab-df-buttons div {\n",
              "      margin-bottom: 4px;\n",
              "    }\n",
              "\n",
              "    [theme=dark] .colab-df-convert {\n",
              "      background-color: #3B4455;\n",
              "      fill: #D2E3FC;\n",
              "    }\n",
              "\n",
              "    [theme=dark] .colab-df-convert:hover {\n",
              "      background-color: #434B5C;\n",
              "      box-shadow: 0px 1px 3px 1px rgba(0, 0, 0, 0.15);\n",
              "      filter: drop-shadow(0px 1px 2px rgba(0, 0, 0, 0.3));\n",
              "      fill: #FFFFFF;\n",
              "    }\n",
              "  </style>\n",
              "\n",
              "    <script>\n",
              "      const buttonEl =\n",
              "        document.querySelector('#df-6837685f-dfeb-4045-8805-4ac29377eeda button.colab-df-convert');\n",
              "      buttonEl.style.display =\n",
              "        google.colab.kernel.accessAllowed ? 'block' : 'none';\n",
              "\n",
              "      async function convertToInteractive(key) {\n",
              "        const element = document.querySelector('#df-6837685f-dfeb-4045-8805-4ac29377eeda');\n",
              "        const dataTable =\n",
              "          await google.colab.kernel.invokeFunction('convertToInteractive',\n",
              "                                                    [key], {});\n",
              "        if (!dataTable) return;\n",
              "\n",
              "        const docLinkHtml = 'Like what you see? Visit the ' +\n",
              "          '<a target=\"_blank\" href=https://colab.research.google.com/notebooks/data_table.ipynb>data table notebook</a>'\n",
              "          + ' to learn more about interactive tables.';\n",
              "        element.innerHTML = '';\n",
              "        dataTable['output_type'] = 'display_data';\n",
              "        await google.colab.output.renderOutput(dataTable, element);\n",
              "        const docLink = document.createElement('div');\n",
              "        docLink.innerHTML = docLinkHtml;\n",
              "        element.appendChild(docLink);\n",
              "      }\n",
              "    </script>\n",
              "  </div>\n",
              "\n",
              "\n",
              "<div id=\"df-3d7cac65-fe09-437b-9ca9-4bb62f5dce24\">\n",
              "  <button class=\"colab-df-quickchart\" onclick=\"quickchart('df-3d7cac65-fe09-437b-9ca9-4bb62f5dce24')\"\n",
              "            title=\"Suggest charts\"\n",
              "            style=\"display:none;\">\n",
              "\n",
              "<svg xmlns=\"http://www.w3.org/2000/svg\" height=\"24px\"viewBox=\"0 0 24 24\"\n",
              "     width=\"24px\">\n",
              "    <g>\n",
              "        <path d=\"M19 3H5c-1.1 0-2 .9-2 2v14c0 1.1.9 2 2 2h14c1.1 0 2-.9 2-2V5c0-1.1-.9-2-2-2zM9 17H7v-7h2v7zm4 0h-2V7h2v10zm4 0h-2v-4h2v4z\"/>\n",
              "    </g>\n",
              "</svg>\n",
              "  </button>\n",
              "\n",
              "<style>\n",
              "  .colab-df-quickchart {\n",
              "      --bg-color: #E8F0FE;\n",
              "      --fill-color: #1967D2;\n",
              "      --hover-bg-color: #E2EBFA;\n",
              "      --hover-fill-color: #174EA6;\n",
              "      --disabled-fill-color: #AAA;\n",
              "      --disabled-bg-color: #DDD;\n",
              "  }\n",
              "\n",
              "  [theme=dark] .colab-df-quickchart {\n",
              "      --bg-color: #3B4455;\n",
              "      --fill-color: #D2E3FC;\n",
              "      --hover-bg-color: #434B5C;\n",
              "      --hover-fill-color: #FFFFFF;\n",
              "      --disabled-bg-color: #3B4455;\n",
              "      --disabled-fill-color: #666;\n",
              "  }\n",
              "\n",
              "  .colab-df-quickchart {\n",
              "    background-color: var(--bg-color);\n",
              "    border: none;\n",
              "    border-radius: 50%;\n",
              "    cursor: pointer;\n",
              "    display: none;\n",
              "    fill: var(--fill-color);\n",
              "    height: 32px;\n",
              "    padding: 0;\n",
              "    width: 32px;\n",
              "  }\n",
              "\n",
              "  .colab-df-quickchart:hover {\n",
              "    background-color: var(--hover-bg-color);\n",
              "    box-shadow: 0 1px 2px rgba(60, 64, 67, 0.3), 0 1px 3px 1px rgba(60, 64, 67, 0.15);\n",
              "    fill: var(--button-hover-fill-color);\n",
              "  }\n",
              "\n",
              "  .colab-df-quickchart-complete:disabled,\n",
              "  .colab-df-quickchart-complete:disabled:hover {\n",
              "    background-color: var(--disabled-bg-color);\n",
              "    fill: var(--disabled-fill-color);\n",
              "    box-shadow: none;\n",
              "  }\n",
              "\n",
              "  .colab-df-spinner {\n",
              "    border: 2px solid var(--fill-color);\n",
              "    border-color: transparent;\n",
              "    border-bottom-color: var(--fill-color);\n",
              "    animation:\n",
              "      spin 1s steps(1) infinite;\n",
              "  }\n",
              "\n",
              "  @keyframes spin {\n",
              "    0% {\n",
              "      border-color: transparent;\n",
              "      border-bottom-color: var(--fill-color);\n",
              "      border-left-color: var(--fill-color);\n",
              "    }\n",
              "    20% {\n",
              "      border-color: transparent;\n",
              "      border-left-color: var(--fill-color);\n",
              "      border-top-color: var(--fill-color);\n",
              "    }\n",
              "    30% {\n",
              "      border-color: transparent;\n",
              "      border-left-color: var(--fill-color);\n",
              "      border-top-color: var(--fill-color);\n",
              "      border-right-color: var(--fill-color);\n",
              "    }\n",
              "    40% {\n",
              "      border-color: transparent;\n",
              "      border-right-color: var(--fill-color);\n",
              "      border-top-color: var(--fill-color);\n",
              "    }\n",
              "    60% {\n",
              "      border-color: transparent;\n",
              "      border-right-color: var(--fill-color);\n",
              "    }\n",
              "    80% {\n",
              "      border-color: transparent;\n",
              "      border-right-color: var(--fill-color);\n",
              "      border-bottom-color: var(--fill-color);\n",
              "    }\n",
              "    90% {\n",
              "      border-color: transparent;\n",
              "      border-bottom-color: var(--fill-color);\n",
              "    }\n",
              "  }\n",
              "</style>\n",
              "\n",
              "  <script>\n",
              "    async function quickchart(key) {\n",
              "      const quickchartButtonEl =\n",
              "        document.querySelector('#' + key + ' button');\n",
              "      quickchartButtonEl.disabled = true;  // To prevent multiple clicks.\n",
              "      quickchartButtonEl.classList.add('colab-df-spinner');\n",
              "      try {\n",
              "        const charts = await google.colab.kernel.invokeFunction(\n",
              "            'suggestCharts', [key], {});\n",
              "      } catch (error) {\n",
              "        console.error('Error during call to suggestCharts:', error);\n",
              "      }\n",
              "      quickchartButtonEl.classList.remove('colab-df-spinner');\n",
              "      quickchartButtonEl.classList.add('colab-df-quickchart-complete');\n",
              "    }\n",
              "    (() => {\n",
              "      let quickchartButtonEl =\n",
              "        document.querySelector('#df-3d7cac65-fe09-437b-9ca9-4bb62f5dce24 button');\n",
              "      quickchartButtonEl.style.display =\n",
              "        google.colab.kernel.accessAllowed ? 'block' : 'none';\n",
              "    })();\n",
              "  </script>\n",
              "</div>\n",
              "\n",
              "    </div>\n",
              "  </div>\n"
            ],
            "application/vnd.google.colaboratory.intrinsic+json": {
              "type": "dataframe",
              "variable_name": "stocks_df"
            }
          },
          "metadata": {},
          "execution_count": 128
        }
      ]
    },
    {
      "cell_type": "code",
      "source": [
        "stocks_df.groupby(['Date','ticker_category']).growth_7d.mean()"
      ],
      "metadata": {
        "colab": {
          "base_uri": "https://localhost:8080/"
        },
        "id": "Tpw974_qIldT",
        "outputId": "159d9016-5f9d-4207-96e0-2e1033f7710a"
      },
      "execution_count": 130,
      "outputs": [
        {
          "output_type": "execute_result",
          "data": {
            "text/plain": [
              "Date        ticker_category\n",
              "2013-12-18  LARGE                   NaN\n",
              "            LARGEST                 NaN\n",
              "2013-12-19  LARGE                   NaN\n",
              "            LARGEST                 NaN\n",
              "2013-12-20  LARGE                   NaN\n",
              "                                 ...   \n",
              "2023-12-27  LARGEST            1.015420\n",
              "2023-12-28  LARGE              0.999755\n",
              "            LARGEST            1.009344\n",
              "2023-12-29  LARGE              0.999948\n",
              "            LARGEST            1.005809\n",
              "Name: growth_7d, Length: 5208, dtype: float64"
            ]
          },
          "metadata": {},
          "execution_count": 130
        }
      ]
    },
    {
      "cell_type": "code",
      "source": [
        "q3_dataframe = stocks_df.groupby(['Date','ticker_category']).growth_7d.mean().reset_index()\n",
        "q3_dataframe = q3_dataframe[q3_dataframe['Date'] >= date(2014,1,1)].reset_index(drop='index')"
      ],
      "metadata": {
        "id": "iuYcsh_EJKRX"
      },
      "execution_count": 145,
      "outputs": []
    },
    {
      "cell_type": "code",
      "source": [
        "q3_dataframe.head(15)"
      ],
      "metadata": {
        "colab": {
          "base_uri": "https://localhost:8080/",
          "height": 520
        },
        "id": "3u2jPLYbJ7WH",
        "outputId": "9ebdf857-5d3e-4e50-f051-ed661c94b7ff"
      },
      "execution_count": 146,
      "outputs": [
        {
          "output_type": "execute_result",
          "data": {
            "text/plain": [
              "          Date ticker_category  growth_7d\n",
              "0   2014-01-01           LARGE   1.009288\n",
              "1   2014-01-01         LARGEST   1.011797\n",
              "2   2014-01-02           LARGE   1.003781\n",
              "3   2014-01-02         LARGEST   1.004398\n",
              "4   2014-01-03           LARGE   1.003533\n",
              "5   2014-01-03         LARGEST   0.998716\n",
              "6   2014-01-06           LARGE   0.998057\n",
              "7   2014-01-06         LARGEST   0.993931\n",
              "8   2014-01-07           LARGE   0.994795\n",
              "9   2014-01-07         LARGEST   0.992473\n",
              "10  2014-01-08           LARGE   0.990867\n",
              "11  2014-01-08         LARGEST   0.988288\n",
              "12  2014-01-09           LARGE   0.989870\n",
              "13  2014-01-09         LARGEST   0.983825\n",
              "14  2014-01-10           LARGE   0.988774"
            ],
            "text/html": [
              "\n",
              "  <div id=\"df-a9f2e6ad-9386-4e1e-a7e8-5a1547a3d91a\" class=\"colab-df-container\">\n",
              "    <div>\n",
              "<style scoped>\n",
              "    .dataframe tbody tr th:only-of-type {\n",
              "        vertical-align: middle;\n",
              "    }\n",
              "\n",
              "    .dataframe tbody tr th {\n",
              "        vertical-align: top;\n",
              "    }\n",
              "\n",
              "    .dataframe thead th {\n",
              "        text-align: right;\n",
              "    }\n",
              "</style>\n",
              "<table border=\"1\" class=\"dataframe\">\n",
              "  <thead>\n",
              "    <tr style=\"text-align: right;\">\n",
              "      <th></th>\n",
              "      <th>Date</th>\n",
              "      <th>ticker_category</th>\n",
              "      <th>growth_7d</th>\n",
              "    </tr>\n",
              "  </thead>\n",
              "  <tbody>\n",
              "    <tr>\n",
              "      <th>0</th>\n",
              "      <td>2014-01-01</td>\n",
              "      <td>LARGE</td>\n",
              "      <td>1.009288</td>\n",
              "    </tr>\n",
              "    <tr>\n",
              "      <th>1</th>\n",
              "      <td>2014-01-01</td>\n",
              "      <td>LARGEST</td>\n",
              "      <td>1.011797</td>\n",
              "    </tr>\n",
              "    <tr>\n",
              "      <th>2</th>\n",
              "      <td>2014-01-02</td>\n",
              "      <td>LARGE</td>\n",
              "      <td>1.003781</td>\n",
              "    </tr>\n",
              "    <tr>\n",
              "      <th>3</th>\n",
              "      <td>2014-01-02</td>\n",
              "      <td>LARGEST</td>\n",
              "      <td>1.004398</td>\n",
              "    </tr>\n",
              "    <tr>\n",
              "      <th>4</th>\n",
              "      <td>2014-01-03</td>\n",
              "      <td>LARGE</td>\n",
              "      <td>1.003533</td>\n",
              "    </tr>\n",
              "    <tr>\n",
              "      <th>5</th>\n",
              "      <td>2014-01-03</td>\n",
              "      <td>LARGEST</td>\n",
              "      <td>0.998716</td>\n",
              "    </tr>\n",
              "    <tr>\n",
              "      <th>6</th>\n",
              "      <td>2014-01-06</td>\n",
              "      <td>LARGE</td>\n",
              "      <td>0.998057</td>\n",
              "    </tr>\n",
              "    <tr>\n",
              "      <th>7</th>\n",
              "      <td>2014-01-06</td>\n",
              "      <td>LARGEST</td>\n",
              "      <td>0.993931</td>\n",
              "    </tr>\n",
              "    <tr>\n",
              "      <th>8</th>\n",
              "      <td>2014-01-07</td>\n",
              "      <td>LARGE</td>\n",
              "      <td>0.994795</td>\n",
              "    </tr>\n",
              "    <tr>\n",
              "      <th>9</th>\n",
              "      <td>2014-01-07</td>\n",
              "      <td>LARGEST</td>\n",
              "      <td>0.992473</td>\n",
              "    </tr>\n",
              "    <tr>\n",
              "      <th>10</th>\n",
              "      <td>2014-01-08</td>\n",
              "      <td>LARGE</td>\n",
              "      <td>0.990867</td>\n",
              "    </tr>\n",
              "    <tr>\n",
              "      <th>11</th>\n",
              "      <td>2014-01-08</td>\n",
              "      <td>LARGEST</td>\n",
              "      <td>0.988288</td>\n",
              "    </tr>\n",
              "    <tr>\n",
              "      <th>12</th>\n",
              "      <td>2014-01-09</td>\n",
              "      <td>LARGE</td>\n",
              "      <td>0.989870</td>\n",
              "    </tr>\n",
              "    <tr>\n",
              "      <th>13</th>\n",
              "      <td>2014-01-09</td>\n",
              "      <td>LARGEST</td>\n",
              "      <td>0.983825</td>\n",
              "    </tr>\n",
              "    <tr>\n",
              "      <th>14</th>\n",
              "      <td>2014-01-10</td>\n",
              "      <td>LARGE</td>\n",
              "      <td>0.988774</td>\n",
              "    </tr>\n",
              "  </tbody>\n",
              "</table>\n",
              "</div>\n",
              "    <div class=\"colab-df-buttons\">\n",
              "\n",
              "  <div class=\"colab-df-container\">\n",
              "    <button class=\"colab-df-convert\" onclick=\"convertToInteractive('df-a9f2e6ad-9386-4e1e-a7e8-5a1547a3d91a')\"\n",
              "            title=\"Convert this dataframe to an interactive table.\"\n",
              "            style=\"display:none;\">\n",
              "\n",
              "  <svg xmlns=\"http://www.w3.org/2000/svg\" height=\"24px\" viewBox=\"0 -960 960 960\">\n",
              "    <path d=\"M120-120v-720h720v720H120Zm60-500h600v-160H180v160Zm220 220h160v-160H400v160Zm0 220h160v-160H400v160ZM180-400h160v-160H180v160Zm440 0h160v-160H620v160ZM180-180h160v-160H180v160Zm440 0h160v-160H620v160Z\"/>\n",
              "  </svg>\n",
              "    </button>\n",
              "\n",
              "  <style>\n",
              "    .colab-df-container {\n",
              "      display:flex;\n",
              "      gap: 12px;\n",
              "    }\n",
              "\n",
              "    .colab-df-convert {\n",
              "      background-color: #E8F0FE;\n",
              "      border: none;\n",
              "      border-radius: 50%;\n",
              "      cursor: pointer;\n",
              "      display: none;\n",
              "      fill: #1967D2;\n",
              "      height: 32px;\n",
              "      padding: 0 0 0 0;\n",
              "      width: 32px;\n",
              "    }\n",
              "\n",
              "    .colab-df-convert:hover {\n",
              "      background-color: #E2EBFA;\n",
              "      box-shadow: 0px 1px 2px rgba(60, 64, 67, 0.3), 0px 1px 3px 1px rgba(60, 64, 67, 0.15);\n",
              "      fill: #174EA6;\n",
              "    }\n",
              "\n",
              "    .colab-df-buttons div {\n",
              "      margin-bottom: 4px;\n",
              "    }\n",
              "\n",
              "    [theme=dark] .colab-df-convert {\n",
              "      background-color: #3B4455;\n",
              "      fill: #D2E3FC;\n",
              "    }\n",
              "\n",
              "    [theme=dark] .colab-df-convert:hover {\n",
              "      background-color: #434B5C;\n",
              "      box-shadow: 0px 1px 3px 1px rgba(0, 0, 0, 0.15);\n",
              "      filter: drop-shadow(0px 1px 2px rgba(0, 0, 0, 0.3));\n",
              "      fill: #FFFFFF;\n",
              "    }\n",
              "  </style>\n",
              "\n",
              "    <script>\n",
              "      const buttonEl =\n",
              "        document.querySelector('#df-a9f2e6ad-9386-4e1e-a7e8-5a1547a3d91a button.colab-df-convert');\n",
              "      buttonEl.style.display =\n",
              "        google.colab.kernel.accessAllowed ? 'block' : 'none';\n",
              "\n",
              "      async function convertToInteractive(key) {\n",
              "        const element = document.querySelector('#df-a9f2e6ad-9386-4e1e-a7e8-5a1547a3d91a');\n",
              "        const dataTable =\n",
              "          await google.colab.kernel.invokeFunction('convertToInteractive',\n",
              "                                                    [key], {});\n",
              "        if (!dataTable) return;\n",
              "\n",
              "        const docLinkHtml = 'Like what you see? Visit the ' +\n",
              "          '<a target=\"_blank\" href=https://colab.research.google.com/notebooks/data_table.ipynb>data table notebook</a>'\n",
              "          + ' to learn more about interactive tables.';\n",
              "        element.innerHTML = '';\n",
              "        dataTable['output_type'] = 'display_data';\n",
              "        await google.colab.output.renderOutput(dataTable, element);\n",
              "        const docLink = document.createElement('div');\n",
              "        docLink.innerHTML = docLinkHtml;\n",
              "        element.appendChild(docLink);\n",
              "      }\n",
              "    </script>\n",
              "  </div>\n",
              "\n",
              "\n",
              "<div id=\"df-7c2b37fd-18c3-46db-89fa-6309edd84525\">\n",
              "  <button class=\"colab-df-quickchart\" onclick=\"quickchart('df-7c2b37fd-18c3-46db-89fa-6309edd84525')\"\n",
              "            title=\"Suggest charts\"\n",
              "            style=\"display:none;\">\n",
              "\n",
              "<svg xmlns=\"http://www.w3.org/2000/svg\" height=\"24px\"viewBox=\"0 0 24 24\"\n",
              "     width=\"24px\">\n",
              "    <g>\n",
              "        <path d=\"M19 3H5c-1.1 0-2 .9-2 2v14c0 1.1.9 2 2 2h14c1.1 0 2-.9 2-2V5c0-1.1-.9-2-2-2zM9 17H7v-7h2v7zm4 0h-2V7h2v10zm4 0h-2v-4h2v4z\"/>\n",
              "    </g>\n",
              "</svg>\n",
              "  </button>\n",
              "\n",
              "<style>\n",
              "  .colab-df-quickchart {\n",
              "      --bg-color: #E8F0FE;\n",
              "      --fill-color: #1967D2;\n",
              "      --hover-bg-color: #E2EBFA;\n",
              "      --hover-fill-color: #174EA6;\n",
              "      --disabled-fill-color: #AAA;\n",
              "      --disabled-bg-color: #DDD;\n",
              "  }\n",
              "\n",
              "  [theme=dark] .colab-df-quickchart {\n",
              "      --bg-color: #3B4455;\n",
              "      --fill-color: #D2E3FC;\n",
              "      --hover-bg-color: #434B5C;\n",
              "      --hover-fill-color: #FFFFFF;\n",
              "      --disabled-bg-color: #3B4455;\n",
              "      --disabled-fill-color: #666;\n",
              "  }\n",
              "\n",
              "  .colab-df-quickchart {\n",
              "    background-color: var(--bg-color);\n",
              "    border: none;\n",
              "    border-radius: 50%;\n",
              "    cursor: pointer;\n",
              "    display: none;\n",
              "    fill: var(--fill-color);\n",
              "    height: 32px;\n",
              "    padding: 0;\n",
              "    width: 32px;\n",
              "  }\n",
              "\n",
              "  .colab-df-quickchart:hover {\n",
              "    background-color: var(--hover-bg-color);\n",
              "    box-shadow: 0 1px 2px rgba(60, 64, 67, 0.3), 0 1px 3px 1px rgba(60, 64, 67, 0.15);\n",
              "    fill: var(--button-hover-fill-color);\n",
              "  }\n",
              "\n",
              "  .colab-df-quickchart-complete:disabled,\n",
              "  .colab-df-quickchart-complete:disabled:hover {\n",
              "    background-color: var(--disabled-bg-color);\n",
              "    fill: var(--disabled-fill-color);\n",
              "    box-shadow: none;\n",
              "  }\n",
              "\n",
              "  .colab-df-spinner {\n",
              "    border: 2px solid var(--fill-color);\n",
              "    border-color: transparent;\n",
              "    border-bottom-color: var(--fill-color);\n",
              "    animation:\n",
              "      spin 1s steps(1) infinite;\n",
              "  }\n",
              "\n",
              "  @keyframes spin {\n",
              "    0% {\n",
              "      border-color: transparent;\n",
              "      border-bottom-color: var(--fill-color);\n",
              "      border-left-color: var(--fill-color);\n",
              "    }\n",
              "    20% {\n",
              "      border-color: transparent;\n",
              "      border-left-color: var(--fill-color);\n",
              "      border-top-color: var(--fill-color);\n",
              "    }\n",
              "    30% {\n",
              "      border-color: transparent;\n",
              "      border-left-color: var(--fill-color);\n",
              "      border-top-color: var(--fill-color);\n",
              "      border-right-color: var(--fill-color);\n",
              "    }\n",
              "    40% {\n",
              "      border-color: transparent;\n",
              "      border-right-color: var(--fill-color);\n",
              "      border-top-color: var(--fill-color);\n",
              "    }\n",
              "    60% {\n",
              "      border-color: transparent;\n",
              "      border-right-color: var(--fill-color);\n",
              "    }\n",
              "    80% {\n",
              "      border-color: transparent;\n",
              "      border-right-color: var(--fill-color);\n",
              "      border-bottom-color: var(--fill-color);\n",
              "    }\n",
              "    90% {\n",
              "      border-color: transparent;\n",
              "      border-bottom-color: var(--fill-color);\n",
              "    }\n",
              "  }\n",
              "</style>\n",
              "\n",
              "  <script>\n",
              "    async function quickchart(key) {\n",
              "      const quickchartButtonEl =\n",
              "        document.querySelector('#' + key + ' button');\n",
              "      quickchartButtonEl.disabled = true;  // To prevent multiple clicks.\n",
              "      quickchartButtonEl.classList.add('colab-df-spinner');\n",
              "      try {\n",
              "        const charts = await google.colab.kernel.invokeFunction(\n",
              "            'suggestCharts', [key], {});\n",
              "      } catch (error) {\n",
              "        console.error('Error during call to suggestCharts:', error);\n",
              "      }\n",
              "      quickchartButtonEl.classList.remove('colab-df-spinner');\n",
              "      quickchartButtonEl.classList.add('colab-df-quickchart-complete');\n",
              "    }\n",
              "    (() => {\n",
              "      let quickchartButtonEl =\n",
              "        document.querySelector('#df-7c2b37fd-18c3-46db-89fa-6309edd84525 button');\n",
              "      quickchartButtonEl.style.display =\n",
              "        google.colab.kernel.accessAllowed ? 'block' : 'none';\n",
              "    })();\n",
              "  </script>\n",
              "</div>\n",
              "\n",
              "    </div>\n",
              "  </div>\n"
            ],
            "application/vnd.google.colaboratory.intrinsic+json": {
              "type": "dataframe",
              "variable_name": "q3_dataframe",
              "summary": "{\n  \"name\": \"q3_dataframe\",\n  \"rows\": 5190,\n  \"fields\": [\n    {\n      \"column\": \"Date\",\n      \"properties\": {\n        \"dtype\": \"date\",\n        \"min\": \"2014-01-01\",\n        \"max\": \"2023-12-29\",\n        \"num_unique_values\": 2595,\n        \"samples\": [\n          \"2014-10-24\",\n          \"2022-03-04\",\n          \"2020-09-14\"\n        ],\n        \"semantic_type\": \"\",\n        \"description\": \"\"\n      }\n    },\n    {\n      \"column\": \"ticker_category\",\n      \"properties\": {\n        \"dtype\": \"category\",\n        \"num_unique_values\": 2,\n        \"samples\": [\n          \"LARGEST\",\n          \"LARGE\"\n        ],\n        \"semantic_type\": \"\",\n        \"description\": \"\"\n      }\n    },\n    {\n      \"column\": \"growth_7d\",\n      \"properties\": {\n        \"dtype\": \"number\",\n        \"std\": 0.025413109398988633,\n        \"min\": 0.7784485452625141,\n        \"max\": 1.119420961238864,\n        \"num_unique_values\": 5190,\n        \"samples\": [\n          1.070430648380815,\n          1.0159306267470678\n        ],\n        \"semantic_type\": \"\",\n        \"description\": \"\"\n      }\n    }\n  ]\n}"
            }
          },
          "metadata": {},
          "execution_count": 146
        }
      ]
    },
    {
      "cell_type": "code",
      "source": [
        "q3_dataframe[(q3_dataframe['Date']=='2014-01-01') & q3_dataframe['ticker_category']=='LARGE']"
      ],
      "metadata": {
        "colab": {
          "base_uri": "https://localhost:8080/",
          "height": 53
        },
        "id": "d1mhMfIecdjM",
        "outputId": "96c7f263-1346-4901-87f8-f4b66cbf2e41"
      },
      "execution_count": 209,
      "outputs": [
        {
          "output_type": "execute_result",
          "data": {
            "text/plain": [
              "Empty DataFrame\n",
              "Columns: [Date, ticker_category, growth_7d]\n",
              "Index: []"
            ],
            "text/html": [
              "\n",
              "  <div id=\"df-d1d0d790-cbbd-4fe2-bc1e-13f059f5248e\" class=\"colab-df-container\">\n",
              "    <div>\n",
              "<style scoped>\n",
              "    .dataframe tbody tr th:only-of-type {\n",
              "        vertical-align: middle;\n",
              "    }\n",
              "\n",
              "    .dataframe tbody tr th {\n",
              "        vertical-align: top;\n",
              "    }\n",
              "\n",
              "    .dataframe thead th {\n",
              "        text-align: right;\n",
              "    }\n",
              "</style>\n",
              "<table border=\"1\" class=\"dataframe\">\n",
              "  <thead>\n",
              "    <tr style=\"text-align: right;\">\n",
              "      <th></th>\n",
              "      <th>Date</th>\n",
              "      <th>ticker_category</th>\n",
              "      <th>growth_7d</th>\n",
              "    </tr>\n",
              "  </thead>\n",
              "  <tbody>\n",
              "  </tbody>\n",
              "</table>\n",
              "</div>\n",
              "    <div class=\"colab-df-buttons\">\n",
              "\n",
              "  <div class=\"colab-df-container\">\n",
              "    <button class=\"colab-df-convert\" onclick=\"convertToInteractive('df-d1d0d790-cbbd-4fe2-bc1e-13f059f5248e')\"\n",
              "            title=\"Convert this dataframe to an interactive table.\"\n",
              "            style=\"display:none;\">\n",
              "\n",
              "  <svg xmlns=\"http://www.w3.org/2000/svg\" height=\"24px\" viewBox=\"0 -960 960 960\">\n",
              "    <path d=\"M120-120v-720h720v720H120Zm60-500h600v-160H180v160Zm220 220h160v-160H400v160Zm0 220h160v-160H400v160ZM180-400h160v-160H180v160Zm440 0h160v-160H620v160ZM180-180h160v-160H180v160Zm440 0h160v-160H620v160Z\"/>\n",
              "  </svg>\n",
              "    </button>\n",
              "\n",
              "  <style>\n",
              "    .colab-df-container {\n",
              "      display:flex;\n",
              "      gap: 12px;\n",
              "    }\n",
              "\n",
              "    .colab-df-convert {\n",
              "      background-color: #E8F0FE;\n",
              "      border: none;\n",
              "      border-radius: 50%;\n",
              "      cursor: pointer;\n",
              "      display: none;\n",
              "      fill: #1967D2;\n",
              "      height: 32px;\n",
              "      padding: 0 0 0 0;\n",
              "      width: 32px;\n",
              "    }\n",
              "\n",
              "    .colab-df-convert:hover {\n",
              "      background-color: #E2EBFA;\n",
              "      box-shadow: 0px 1px 2px rgba(60, 64, 67, 0.3), 0px 1px 3px 1px rgba(60, 64, 67, 0.15);\n",
              "      fill: #174EA6;\n",
              "    }\n",
              "\n",
              "    .colab-df-buttons div {\n",
              "      margin-bottom: 4px;\n",
              "    }\n",
              "\n",
              "    [theme=dark] .colab-df-convert {\n",
              "      background-color: #3B4455;\n",
              "      fill: #D2E3FC;\n",
              "    }\n",
              "\n",
              "    [theme=dark] .colab-df-convert:hover {\n",
              "      background-color: #434B5C;\n",
              "      box-shadow: 0px 1px 3px 1px rgba(0, 0, 0, 0.15);\n",
              "      filter: drop-shadow(0px 1px 2px rgba(0, 0, 0, 0.3));\n",
              "      fill: #FFFFFF;\n",
              "    }\n",
              "  </style>\n",
              "\n",
              "    <script>\n",
              "      const buttonEl =\n",
              "        document.querySelector('#df-d1d0d790-cbbd-4fe2-bc1e-13f059f5248e button.colab-df-convert');\n",
              "      buttonEl.style.display =\n",
              "        google.colab.kernel.accessAllowed ? 'block' : 'none';\n",
              "\n",
              "      async function convertToInteractive(key) {\n",
              "        const element = document.querySelector('#df-d1d0d790-cbbd-4fe2-bc1e-13f059f5248e');\n",
              "        const dataTable =\n",
              "          await google.colab.kernel.invokeFunction('convertToInteractive',\n",
              "                                                    [key], {});\n",
              "        if (!dataTable) return;\n",
              "\n",
              "        const docLinkHtml = 'Like what you see? Visit the ' +\n",
              "          '<a target=\"_blank\" href=https://colab.research.google.com/notebooks/data_table.ipynb>data table notebook</a>'\n",
              "          + ' to learn more about interactive tables.';\n",
              "        element.innerHTML = '';\n",
              "        dataTable['output_type'] = 'display_data';\n",
              "        await google.colab.output.renderOutput(dataTable, element);\n",
              "        const docLink = document.createElement('div');\n",
              "        docLink.innerHTML = docLinkHtml;\n",
              "        element.appendChild(docLink);\n",
              "      }\n",
              "    </script>\n",
              "  </div>\n",
              "\n",
              "\n",
              "    </div>\n",
              "  </div>\n"
            ],
            "application/vnd.google.colaboratory.intrinsic+json": {
              "type": "dataframe",
              "repr_error": "Out of range float values are not JSON compliant: nan"
            }
          },
          "metadata": {},
          "execution_count": 209
        }
      ]
    },
    {
      "cell_type": "code",
      "source": [
        "len(q3_dataframe['Date'].unique())"
      ],
      "metadata": {
        "colab": {
          "base_uri": "https://localhost:8080/"
        },
        "id": "kiySiaZ2W6ux",
        "outputId": "4227e788-5e25-4d92-edac-c705dced73c7"
      },
      "execution_count": 170,
      "outputs": [
        {
          "output_type": "execute_result",
          "data": {
            "text/plain": [
              "2595"
            ]
          },
          "metadata": {},
          "execution_count": 170
        }
      ]
    },
    {
      "cell_type": "code",
      "source": [
        "q3_dataframe_grp_by_date = q3_dataframe.groupby('Date')"
      ],
      "metadata": {
        "id": "JgAVOnaiMMQ6"
      },
      "execution_count": 151,
      "outputs": []
    },
    {
      "cell_type": "code",
      "source": [
        "count = 0\n",
        "for i,j in q3_dataframe_grp_by_date:\n",
        "  print(f'i >> \\n{i}')\n",
        "  print(f'j >> \\n{j}')\n",
        "  j = j.reset_index()\n",
        "  print(f'type(j) >> \\n{type(j)}')\n",
        "  print(f'LARGE val \\n>> {j.loc[0].growth_7d}')\n",
        "  print(f'LARGEST val \\n>> {j.loc[1].growth_7d}')\n",
        "  # break\n",
        "  # Loopin through the few examples:\n",
        "  count= count + 1\n",
        "  if count>4:\n",
        "    break\n",
        "  else:\n",
        "    continue"
      ],
      "metadata": {
        "colab": {
          "base_uri": "https://localhost:8080/"
        },
        "id": "-3BvWHe1LucC",
        "outputId": "c5caa02c-1eff-4d69-e80d-fe1e272153c0"
      },
      "execution_count": 213,
      "outputs": [
        {
          "output_type": "stream",
          "name": "stdout",
          "text": [
            "i >> \n",
            "2014-01-01\n",
            "j >> \n",
            "         Date ticker_category  growth_7d\n",
            "0  2014-01-01           LARGE   1.009288\n",
            "1  2014-01-01         LARGEST   1.011797\n",
            "type(j) >> \n",
            "<class 'pandas.core.frame.DataFrame'>\n",
            "LARGE val \n",
            ">> 1.0092881271742005\n",
            "LARGEST val \n",
            ">> 1.0117973431243346\n",
            "i >> \n",
            "2014-01-02\n",
            "j >> \n",
            "         Date ticker_category  growth_7d\n",
            "2  2014-01-02           LARGE   1.003781\n",
            "3  2014-01-02         LARGEST   1.004398\n",
            "type(j) >> \n",
            "<class 'pandas.core.frame.DataFrame'>\n",
            "LARGE val \n",
            ">> 1.003780996831322\n",
            "LARGEST val \n",
            ">> 1.0043977052206037\n",
            "i >> \n",
            "2014-01-03\n",
            "j >> \n",
            "         Date ticker_category  growth_7d\n",
            "4  2014-01-03           LARGE   1.003533\n",
            "5  2014-01-03         LARGEST   0.998716\n",
            "type(j) >> \n",
            "<class 'pandas.core.frame.DataFrame'>\n",
            "LARGE val \n",
            ">> 1.0035334945513585\n",
            "LARGEST val \n",
            ">> 0.998715637179894\n",
            "i >> \n",
            "2014-01-06\n",
            "j >> \n",
            "         Date ticker_category  growth_7d\n",
            "6  2014-01-06           LARGE   0.998057\n",
            "7  2014-01-06         LARGEST   0.993931\n",
            "type(j) >> \n",
            "<class 'pandas.core.frame.DataFrame'>\n",
            "LARGE val \n",
            ">> 0.9980566029436951\n",
            "LARGEST val \n",
            ">> 0.9939311779063629\n",
            "i >> \n",
            "2014-01-07\n",
            "j >> \n",
            "         Date ticker_category  growth_7d\n",
            "8  2014-01-07           LARGE   0.994795\n",
            "9  2014-01-07         LARGEST   0.992473\n",
            "type(j) >> \n",
            "<class 'pandas.core.frame.DataFrame'>\n",
            "LARGE val \n",
            ">> 0.9947950199866701\n",
            "LARGEST val \n",
            ">> 0.9924734713289288\n"
          ]
        }
      ]
    },
    {
      "cell_type": "code",
      "source": [
        "data = []\n",
        "\n",
        "for i in range(10):\n",
        "    data.append({'A': i})\n",
        "\n",
        "df = pd.DataFrame(data)"
      ],
      "metadata": {
        "id": "ac4yLW2aX36h"
      },
      "execution_count": 173,
      "outputs": []
    },
    {
      "cell_type": "code",
      "source": [
        "deciding_list_dicts = []\n",
        "for date,value_df in q3_dataframe_grp_by_date:\n",
        "  # print(f'date\\n >> {date}')\n",
        "  # print(f'value_df\\n >> {value_df,type(value_df)}')\n",
        "  # print(f'LARGE val \\n>> {value_df.loc[0].growth_7d}')\n",
        "  # print(f'LARGEST val \\n>> {value_df.loc[1].growth_7d}')\n",
        "  # print(f'decision is \\n {np.where(value_df.loc[1].growth_7d > value_df.loc[0].growth_7d, 1, 0)}')\n",
        "  # deciding_df['date'] = date\n",
        "  # deciding_df['is_largest_g_than_large'] = np.where(value_df.loc[1].growth_7d > value_df.loc[0].growth_7d, 1, 0)\n",
        "  value_df = value_df.reset_index()\n",
        "  decision = 1 if value_df.loc[1, 'growth_7d'] > value_df.loc[0, 'growth_7d'] else 0\n",
        "  deciding_list_dicts.append({'date': date, 'is_largest_g_than_large': decision})\n",
        "  # break"
      ],
      "metadata": {
        "id": "Mfu8m0ZYSiya"
      },
      "execution_count": 217,
      "outputs": []
    },
    {
      "cell_type": "code",
      "source": [
        "deciding_list_dicts"
      ],
      "metadata": {
        "colab": {
          "base_uri": "https://localhost:8080/"
        },
        "id": "RtGOrtqQYmbJ",
        "outputId": "99c19720-cc78-4b4d-c4e2-fe6b7078c10b"
      },
      "execution_count": 218,
      "outputs": [
        {
          "output_type": "execute_result",
          "data": {
            "text/plain": [
              "[{'date': datetime.date(2014, 1, 1), 'is_largest_g_than_large': 1},\n",
              " {'date': datetime.date(2014, 1, 2), 'is_largest_g_than_large': 1},\n",
              " {'date': datetime.date(2014, 1, 3), 'is_largest_g_than_large': 0},\n",
              " {'date': datetime.date(2014, 1, 6), 'is_largest_g_than_large': 0},\n",
              " {'date': datetime.date(2014, 1, 7), 'is_largest_g_than_large': 0},\n",
              " {'date': datetime.date(2014, 1, 8), 'is_largest_g_than_large': 0},\n",
              " {'date': datetime.date(2014, 1, 9), 'is_largest_g_than_large': 0},\n",
              " {'date': datetime.date(2014, 1, 10), 'is_largest_g_than_large': 0},\n",
              " {'date': datetime.date(2014, 1, 13), 'is_largest_g_than_large': 0},\n",
              " {'date': datetime.date(2014, 1, 14), 'is_largest_g_than_large': 0},\n",
              " {'date': datetime.date(2014, 1, 15), 'is_largest_g_than_large': 1},\n",
              " {'date': datetime.date(2014, 1, 16), 'is_largest_g_than_large': 0},\n",
              " {'date': datetime.date(2014, 1, 17), 'is_largest_g_than_large': 0},\n",
              " {'date': datetime.date(2014, 1, 20), 'is_largest_g_than_large': 0},\n",
              " {'date': datetime.date(2014, 1, 21), 'is_largest_g_than_large': 1},\n",
              " {'date': datetime.date(2014, 1, 22), 'is_largest_g_than_large': 1},\n",
              " {'date': datetime.date(2014, 1, 23), 'is_largest_g_than_large': 1},\n",
              " {'date': datetime.date(2014, 1, 24), 'is_largest_g_than_large': 0},\n",
              " {'date': datetime.date(2014, 1, 27), 'is_largest_g_than_large': 1},\n",
              " {'date': datetime.date(2014, 1, 28), 'is_largest_g_than_large': 1},\n",
              " {'date': datetime.date(2014, 1, 29), 'is_largest_g_than_large': 0},\n",
              " {'date': datetime.date(2014, 1, 30), 'is_largest_g_than_large': 0},\n",
              " {'date': datetime.date(2014, 1, 31), 'is_largest_g_than_large': 1},\n",
              " {'date': datetime.date(2014, 2, 3), 'is_largest_g_than_large': 1},\n",
              " {'date': datetime.date(2014, 2, 4), 'is_largest_g_than_large': 1},\n",
              " {'date': datetime.date(2014, 2, 5), 'is_largest_g_than_large': 1},\n",
              " {'date': datetime.date(2014, 2, 6), 'is_largest_g_than_large': 1},\n",
              " {'date': datetime.date(2014, 2, 7), 'is_largest_g_than_large': 1},\n",
              " {'date': datetime.date(2014, 2, 10), 'is_largest_g_than_large': 1},\n",
              " {'date': datetime.date(2014, 2, 11), 'is_largest_g_than_large': 1},\n",
              " {'date': datetime.date(2014, 2, 12), 'is_largest_g_than_large': 1},\n",
              " {'date': datetime.date(2014, 2, 13), 'is_largest_g_than_large': 0},\n",
              " {'date': datetime.date(2014, 2, 14), 'is_largest_g_than_large': 0},\n",
              " {'date': datetime.date(2014, 2, 17), 'is_largest_g_than_large': 0},\n",
              " {'date': datetime.date(2014, 2, 18), 'is_largest_g_than_large': 0},\n",
              " {'date': datetime.date(2014, 2, 19), 'is_largest_g_than_large': 0},\n",
              " {'date': datetime.date(2014, 2, 20), 'is_largest_g_than_large': 0},\n",
              " {'date': datetime.date(2014, 2, 21), 'is_largest_g_than_large': 0},\n",
              " {'date': datetime.date(2014, 2, 24), 'is_largest_g_than_large': 0},\n",
              " {'date': datetime.date(2014, 2, 25), 'is_largest_g_than_large': 0},\n",
              " {'date': datetime.date(2014, 2, 26), 'is_largest_g_than_large': 0},\n",
              " {'date': datetime.date(2014, 2, 27), 'is_largest_g_than_large': 0},\n",
              " {'date': datetime.date(2014, 2, 28), 'is_largest_g_than_large': 0},\n",
              " {'date': datetime.date(2014, 3, 3), 'is_largest_g_than_large': 0},\n",
              " {'date': datetime.date(2014, 3, 4), 'is_largest_g_than_large': 0},\n",
              " {'date': datetime.date(2014, 3, 5), 'is_largest_g_than_large': 1},\n",
              " {'date': datetime.date(2014, 3, 6), 'is_largest_g_than_large': 1},\n",
              " {'date': datetime.date(2014, 3, 7), 'is_largest_g_than_large': 1},\n",
              " {'date': datetime.date(2014, 3, 10), 'is_largest_g_than_large': 1},\n",
              " {'date': datetime.date(2014, 3, 11), 'is_largest_g_than_large': 1},\n",
              " {'date': datetime.date(2014, 3, 12), 'is_largest_g_than_large': 1},\n",
              " {'date': datetime.date(2014, 3, 13), 'is_largest_g_than_large': 1},\n",
              " {'date': datetime.date(2014, 3, 14), 'is_largest_g_than_large': 1},\n",
              " {'date': datetime.date(2014, 3, 17), 'is_largest_g_than_large': 1},\n",
              " {'date': datetime.date(2014, 3, 18), 'is_largest_g_than_large': 1},\n",
              " {'date': datetime.date(2014, 3, 19), 'is_largest_g_than_large': 1},\n",
              " {'date': datetime.date(2014, 3, 20), 'is_largest_g_than_large': 1},\n",
              " {'date': datetime.date(2014, 3, 21), 'is_largest_g_than_large': 1},\n",
              " {'date': datetime.date(2014, 3, 24), 'is_largest_g_than_large': 1},\n",
              " {'date': datetime.date(2014, 3, 25), 'is_largest_g_than_large': 1},\n",
              " {'date': datetime.date(2014, 3, 26), 'is_largest_g_than_large': 0},\n",
              " {'date': datetime.date(2014, 3, 27), 'is_largest_g_than_large': 0},\n",
              " {'date': datetime.date(2014, 3, 28), 'is_largest_g_than_large': 0},\n",
              " {'date': datetime.date(2014, 3, 31), 'is_largest_g_than_large': 0},\n",
              " {'date': datetime.date(2014, 4, 1), 'is_largest_g_than_large': 0},\n",
              " {'date': datetime.date(2014, 4, 2), 'is_largest_g_than_large': 0},\n",
              " {'date': datetime.date(2014, 4, 3), 'is_largest_g_than_large': 0},\n",
              " {'date': datetime.date(2014, 4, 4), 'is_largest_g_than_large': 0},\n",
              " {'date': datetime.date(2014, 4, 7), 'is_largest_g_than_large': 0},\n",
              " {'date': datetime.date(2014, 4, 8), 'is_largest_g_than_large': 0},\n",
              " {'date': datetime.date(2014, 4, 9), 'is_largest_g_than_large': 0},\n",
              " {'date': datetime.date(2014, 4, 10), 'is_largest_g_than_large': 0},\n",
              " {'date': datetime.date(2014, 4, 11), 'is_largest_g_than_large': 0},\n",
              " {'date': datetime.date(2014, 4, 14), 'is_largest_g_than_large': 1},\n",
              " {'date': datetime.date(2014, 4, 15), 'is_largest_g_than_large': 1},\n",
              " {'date': datetime.date(2014, 4, 16), 'is_largest_g_than_large': 0},\n",
              " {'date': datetime.date(2014, 4, 17), 'is_largest_g_than_large': 0},\n",
              " {'date': datetime.date(2014, 4, 21), 'is_largest_g_than_large': 0},\n",
              " {'date': datetime.date(2014, 4, 22), 'is_largest_g_than_large': 0},\n",
              " {'date': datetime.date(2014, 4, 23), 'is_largest_g_than_large': 1},\n",
              " {'date': datetime.date(2014, 4, 24), 'is_largest_g_than_large': 1},\n",
              " {'date': datetime.date(2014, 4, 25), 'is_largest_g_than_large': 0},\n",
              " {'date': datetime.date(2014, 4, 28), 'is_largest_g_than_large': 0},\n",
              " {'date': datetime.date(2014, 4, 29), 'is_largest_g_than_large': 0},\n",
              " {'date': datetime.date(2014, 4, 30), 'is_largest_g_than_large': 0},\n",
              " {'date': datetime.date(2014, 5, 1), 'is_largest_g_than_large': 0},\n",
              " {'date': datetime.date(2014, 5, 2), 'is_largest_g_than_large': 0},\n",
              " {'date': datetime.date(2014, 5, 5), 'is_largest_g_than_large': 0},\n",
              " {'date': datetime.date(2014, 5, 6), 'is_largest_g_than_large': 0},\n",
              " {'date': datetime.date(2014, 5, 7), 'is_largest_g_than_large': 0},\n",
              " {'date': datetime.date(2014, 5, 8), 'is_largest_g_than_large': 0},\n",
              " {'date': datetime.date(2014, 5, 9), 'is_largest_g_than_large': 0},\n",
              " {'date': datetime.date(2014, 5, 12), 'is_largest_g_than_large': 1},\n",
              " {'date': datetime.date(2014, 5, 13), 'is_largest_g_than_large': 0},\n",
              " {'date': datetime.date(2014, 5, 14), 'is_largest_g_than_large': 0},\n",
              " {'date': datetime.date(2014, 5, 15), 'is_largest_g_than_large': 0},\n",
              " {'date': datetime.date(2014, 5, 16), 'is_largest_g_than_large': 0},\n",
              " {'date': datetime.date(2014, 5, 19), 'is_largest_g_than_large': 0},\n",
              " {'date': datetime.date(2014, 5, 20), 'is_largest_g_than_large': 0},\n",
              " {'date': datetime.date(2014, 5, 21), 'is_largest_g_than_large': 0},\n",
              " {'date': datetime.date(2014, 5, 22), 'is_largest_g_than_large': 0},\n",
              " {'date': datetime.date(2014, 5, 23), 'is_largest_g_than_large': 0},\n",
              " {'date': datetime.date(2014, 5, 26), 'is_largest_g_than_large': 0},\n",
              " {'date': datetime.date(2014, 5, 27), 'is_largest_g_than_large': 1},\n",
              " {'date': datetime.date(2014, 5, 28), 'is_largest_g_than_large': 1},\n",
              " {'date': datetime.date(2014, 5, 29), 'is_largest_g_than_large': 1},\n",
              " {'date': datetime.date(2014, 5, 30), 'is_largest_g_than_large': 1},\n",
              " {'date': datetime.date(2014, 6, 2), 'is_largest_g_than_large': 1},\n",
              " {'date': datetime.date(2014, 6, 3), 'is_largest_g_than_large': 1},\n",
              " {'date': datetime.date(2014, 6, 4), 'is_largest_g_than_large': 1},\n",
              " {'date': datetime.date(2014, 6, 5), 'is_largest_g_than_large': 1},\n",
              " {'date': datetime.date(2014, 6, 6), 'is_largest_g_than_large': 0},\n",
              " {'date': datetime.date(2014, 6, 9), 'is_largest_g_than_large': 0},\n",
              " {'date': datetime.date(2014, 6, 10), 'is_largest_g_than_large': 1},\n",
              " {'date': datetime.date(2014, 6, 11), 'is_largest_g_than_large': 1},\n",
              " {'date': datetime.date(2014, 6, 12), 'is_largest_g_than_large': 1},\n",
              " {'date': datetime.date(2014, 6, 13), 'is_largest_g_than_large': 1},\n",
              " {'date': datetime.date(2014, 6, 16), 'is_largest_g_than_large': 1},\n",
              " {'date': datetime.date(2014, 6, 17), 'is_largest_g_than_large': 1},\n",
              " {'date': datetime.date(2014, 6, 18), 'is_largest_g_than_large': 1},\n",
              " {'date': datetime.date(2014, 6, 19), 'is_largest_g_than_large': 0},\n",
              " {'date': datetime.date(2014, 6, 20), 'is_largest_g_than_large': 0},\n",
              " {'date': datetime.date(2014, 6, 23), 'is_largest_g_than_large': 0},\n",
              " {'date': datetime.date(2014, 6, 24), 'is_largest_g_than_large': 0},\n",
              " {'date': datetime.date(2014, 6, 25), 'is_largest_g_than_large': 0},\n",
              " {'date': datetime.date(2014, 6, 26), 'is_largest_g_than_large': 1},\n",
              " {'date': datetime.date(2014, 6, 27), 'is_largest_g_than_large': 1},\n",
              " {'date': datetime.date(2014, 6, 30), 'is_largest_g_than_large': 1},\n",
              " {'date': datetime.date(2014, 7, 1), 'is_largest_g_than_large': 1},\n",
              " {'date': datetime.date(2014, 7, 2), 'is_largest_g_than_large': 1},\n",
              " {'date': datetime.date(2014, 7, 3), 'is_largest_g_than_large': 1},\n",
              " {'date': datetime.date(2014, 7, 4), 'is_largest_g_than_large': 0},\n",
              " {'date': datetime.date(2014, 7, 7), 'is_largest_g_than_large': 0},\n",
              " {'date': datetime.date(2014, 7, 8), 'is_largest_g_than_large': 1},\n",
              " {'date': datetime.date(2014, 7, 9), 'is_largest_g_than_large': 1},\n",
              " {'date': datetime.date(2014, 7, 10), 'is_largest_g_than_large': 0},\n",
              " {'date': datetime.date(2014, 7, 11), 'is_largest_g_than_large': 1},\n",
              " {'date': datetime.date(2014, 7, 14), 'is_largest_g_than_large': 1},\n",
              " {'date': datetime.date(2014, 7, 15), 'is_largest_g_than_large': 1},\n",
              " {'date': datetime.date(2014, 7, 16), 'is_largest_g_than_large': 1},\n",
              " {'date': datetime.date(2014, 7, 17), 'is_largest_g_than_large': 1},\n",
              " {'date': datetime.date(2014, 7, 18), 'is_largest_g_than_large': 1},\n",
              " {'date': datetime.date(2014, 7, 21), 'is_largest_g_than_large': 1},\n",
              " {'date': datetime.date(2014, 7, 22), 'is_largest_g_than_large': 1},\n",
              " {'date': datetime.date(2014, 7, 23), 'is_largest_g_than_large': 1},\n",
              " {'date': datetime.date(2014, 7, 24), 'is_largest_g_than_large': 1},\n",
              " {'date': datetime.date(2014, 7, 25), 'is_largest_g_than_large': 1},\n",
              " {'date': datetime.date(2014, 7, 28), 'is_largest_g_than_large': 1},\n",
              " {'date': datetime.date(2014, 7, 29), 'is_largest_g_than_large': 1},\n",
              " {'date': datetime.date(2014, 7, 30), 'is_largest_g_than_large': 1},\n",
              " {'date': datetime.date(2014, 7, 31), 'is_largest_g_than_large': 1},\n",
              " {'date': datetime.date(2014, 8, 1), 'is_largest_g_than_large': 1},\n",
              " {'date': datetime.date(2014, 8, 4), 'is_largest_g_than_large': 1},\n",
              " {'date': datetime.date(2014, 8, 5), 'is_largest_g_than_large': 1},\n",
              " {'date': datetime.date(2014, 8, 6), 'is_largest_g_than_large': 0},\n",
              " {'date': datetime.date(2014, 8, 7), 'is_largest_g_than_large': 0},\n",
              " {'date': datetime.date(2014, 8, 8), 'is_largest_g_than_large': 0},\n",
              " {'date': datetime.date(2014, 8, 11), 'is_largest_g_than_large': 0},\n",
              " {'date': datetime.date(2014, 8, 12), 'is_largest_g_than_large': 0},\n",
              " {'date': datetime.date(2014, 8, 13), 'is_largest_g_than_large': 0},\n",
              " {'date': datetime.date(2014, 8, 14), 'is_largest_g_than_large': 0},\n",
              " {'date': datetime.date(2014, 8, 15), 'is_largest_g_than_large': 1},\n",
              " {'date': datetime.date(2014, 8, 18), 'is_largest_g_than_large': 0},\n",
              " {'date': datetime.date(2014, 8, 19), 'is_largest_g_than_large': 0},\n",
              " {'date': datetime.date(2014, 8, 20), 'is_largest_g_than_large': 0},\n",
              " {'date': datetime.date(2014, 8, 21), 'is_largest_g_than_large': 0},\n",
              " {'date': datetime.date(2014, 8, 22), 'is_largest_g_than_large': 0},\n",
              " {'date': datetime.date(2014, 8, 25), 'is_largest_g_than_large': 0},\n",
              " {'date': datetime.date(2014, 8, 26), 'is_largest_g_than_large': 0},\n",
              " {'date': datetime.date(2014, 8, 27), 'is_largest_g_than_large': 0},\n",
              " {'date': datetime.date(2014, 8, 28), 'is_largest_g_than_large': 0},\n",
              " {'date': datetime.date(2014, 8, 29), 'is_largest_g_than_large': 0},\n",
              " {'date': datetime.date(2014, 9, 1), 'is_largest_g_than_large': 0},\n",
              " {'date': datetime.date(2014, 9, 2), 'is_largest_g_than_large': 1},\n",
              " {'date': datetime.date(2014, 9, 3), 'is_largest_g_than_large': 1},\n",
              " {'date': datetime.date(2014, 9, 4), 'is_largest_g_than_large': 0},\n",
              " {'date': datetime.date(2014, 9, 5), 'is_largest_g_than_large': 0},\n",
              " {'date': datetime.date(2014, 9, 8), 'is_largest_g_than_large': 1},\n",
              " {'date': datetime.date(2014, 9, 9), 'is_largest_g_than_large': 0},\n",
              " {'date': datetime.date(2014, 9, 10), 'is_largest_g_than_large': 0},\n",
              " {'date': datetime.date(2014, 9, 11), 'is_largest_g_than_large': 0},\n",
              " {'date': datetime.date(2014, 9, 12), 'is_largest_g_than_large': 1},\n",
              " {'date': datetime.date(2014, 9, 15), 'is_largest_g_than_large': 1},\n",
              " {'date': datetime.date(2014, 9, 16), 'is_largest_g_than_large': 1},\n",
              " {'date': datetime.date(2014, 9, 17), 'is_largest_g_than_large': 1},\n",
              " {'date': datetime.date(2014, 9, 18), 'is_largest_g_than_large': 1},\n",
              " {'date': datetime.date(2014, 9, 19), 'is_largest_g_than_large': 0},\n",
              " {'date': datetime.date(2014, 9, 22), 'is_largest_g_than_large': 0},\n",
              " {'date': datetime.date(2014, 9, 23), 'is_largest_g_than_large': 0},\n",
              " {'date': datetime.date(2014, 9, 24), 'is_largest_g_than_large': 0},\n",
              " {'date': datetime.date(2014, 9, 25), 'is_largest_g_than_large': 0},\n",
              " {'date': datetime.date(2014, 9, 26), 'is_largest_g_than_large': 0},\n",
              " {'date': datetime.date(2014, 9, 29), 'is_largest_g_than_large': 0},\n",
              " {'date': datetime.date(2014, 9, 30), 'is_largest_g_than_large': 0},\n",
              " {'date': datetime.date(2014, 10, 1), 'is_largest_g_than_large': 0},\n",
              " {'date': datetime.date(2014, 10, 2), 'is_largest_g_than_large': 0},\n",
              " {'date': datetime.date(2014, 10, 3), 'is_largest_g_than_large': 0},\n",
              " {'date': datetime.date(2014, 10, 6), 'is_largest_g_than_large': 1},\n",
              " {'date': datetime.date(2014, 10, 7), 'is_largest_g_than_large': 0},\n",
              " {'date': datetime.date(2014, 10, 8), 'is_largest_g_than_large': 0},\n",
              " {'date': datetime.date(2014, 10, 9), 'is_largest_g_than_large': 0},\n",
              " {'date': datetime.date(2014, 10, 10), 'is_largest_g_than_large': 0},\n",
              " {'date': datetime.date(2014, 10, 13), 'is_largest_g_than_large': 0},\n",
              " {'date': datetime.date(2014, 10, 14), 'is_largest_g_than_large': 1},\n",
              " {'date': datetime.date(2014, 10, 15), 'is_largest_g_than_large': 1},\n",
              " {'date': datetime.date(2014, 10, 16), 'is_largest_g_than_large': 1},\n",
              " {'date': datetime.date(2014, 10, 17), 'is_largest_g_than_large': 1},\n",
              " {'date': datetime.date(2014, 10, 20), 'is_largest_g_than_large': 1},\n",
              " {'date': datetime.date(2014, 10, 21), 'is_largest_g_than_large': 1},\n",
              " {'date': datetime.date(2014, 10, 22), 'is_largest_g_than_large': 1},\n",
              " {'date': datetime.date(2014, 10, 23), 'is_largest_g_than_large': 1},\n",
              " {'date': datetime.date(2014, 10, 24), 'is_largest_g_than_large': 0},\n",
              " {'date': datetime.date(2014, 10, 27), 'is_largest_g_than_large': 0},\n",
              " {'date': datetime.date(2014, 10, 28), 'is_largest_g_than_large': 0},\n",
              " {'date': datetime.date(2014, 10, 29), 'is_largest_g_than_large': 0},\n",
              " {'date': datetime.date(2014, 10, 30), 'is_largest_g_than_large': 0},\n",
              " {'date': datetime.date(2014, 10, 31), 'is_largest_g_than_large': 0},\n",
              " {'date': datetime.date(2014, 11, 3), 'is_largest_g_than_large': 0},\n",
              " {'date': datetime.date(2014, 11, 4), 'is_largest_g_than_large': 1},\n",
              " {'date': datetime.date(2014, 11, 5), 'is_largest_g_than_large': 1},\n",
              " {'date': datetime.date(2014, 11, 6), 'is_largest_g_than_large': 0},\n",
              " {'date': datetime.date(2014, 11, 7), 'is_largest_g_than_large': 0},\n",
              " {'date': datetime.date(2014, 11, 10), 'is_largest_g_than_large': 1},\n",
              " {'date': datetime.date(2014, 11, 11), 'is_largest_g_than_large': 0},\n",
              " {'date': datetime.date(2014, 11, 12), 'is_largest_g_than_large': 0},\n",
              " {'date': datetime.date(2014, 11, 13), 'is_largest_g_than_large': 0},\n",
              " {'date': datetime.date(2014, 11, 14), 'is_largest_g_than_large': 0},\n",
              " {'date': datetime.date(2014, 11, 17), 'is_largest_g_than_large': 0},\n",
              " {'date': datetime.date(2014, 11, 18), 'is_largest_g_than_large': 1},\n",
              " {'date': datetime.date(2014, 11, 19), 'is_largest_g_than_large': 1},\n",
              " {'date': datetime.date(2014, 11, 20), 'is_largest_g_than_large': 1},\n",
              " {'date': datetime.date(2014, 11, 21), 'is_largest_g_than_large': 1},\n",
              " {'date': datetime.date(2014, 11, 24), 'is_largest_g_than_large': 1},\n",
              " {'date': datetime.date(2014, 11, 25), 'is_largest_g_than_large': 1},\n",
              " {'date': datetime.date(2014, 11, 26), 'is_largest_g_than_large': 1},\n",
              " {'date': datetime.date(2014, 11, 27), 'is_largest_g_than_large': 1},\n",
              " {'date': datetime.date(2014, 11, 28), 'is_largest_g_than_large': 0},\n",
              " {'date': datetime.date(2014, 12, 1), 'is_largest_g_than_large': 0},\n",
              " {'date': datetime.date(2014, 12, 2), 'is_largest_g_than_large': 1},\n",
              " {'date': datetime.date(2014, 12, 3), 'is_largest_g_than_large': 0},\n",
              " {'date': datetime.date(2014, 12, 4), 'is_largest_g_than_large': 1},\n",
              " {'date': datetime.date(2014, 12, 5), 'is_largest_g_than_large': 1},\n",
              " {'date': datetime.date(2014, 12, 8), 'is_largest_g_than_large': 1},\n",
              " {'date': datetime.date(2014, 12, 9), 'is_largest_g_than_large': 1},\n",
              " {'date': datetime.date(2014, 12, 10), 'is_largest_g_than_large': 1},\n",
              " {'date': datetime.date(2014, 12, 11), 'is_largest_g_than_large': 1},\n",
              " {'date': datetime.date(2014, 12, 12), 'is_largest_g_than_large': 1},\n",
              " {'date': datetime.date(2014, 12, 15), 'is_largest_g_than_large': 0},\n",
              " {'date': datetime.date(2014, 12, 16), 'is_largest_g_than_large': 0},\n",
              " {'date': datetime.date(2014, 12, 17), 'is_largest_g_than_large': 1},\n",
              " {'date': datetime.date(2014, 12, 18), 'is_largest_g_than_large': 0},\n",
              " {'date': datetime.date(2014, 12, 19), 'is_largest_g_than_large': 0},\n",
              " {'date': datetime.date(2014, 12, 22), 'is_largest_g_than_large': 0},\n",
              " {'date': datetime.date(2014, 12, 23), 'is_largest_g_than_large': 0},\n",
              " {'date': datetime.date(2014, 12, 24), 'is_largest_g_than_large': 0},\n",
              " {'date': datetime.date(2014, 12, 26), 'is_largest_g_than_large': 0},\n",
              " {'date': datetime.date(2014, 12, 29), 'is_largest_g_than_large': 0},\n",
              " {'date': datetime.date(2014, 12, 30), 'is_largest_g_than_large': 0},\n",
              " {'date': datetime.date(2014, 12, 31), 'is_largest_g_than_large': 0},\n",
              " {'date': datetime.date(2015, 1, 1), 'is_largest_g_than_large': 0},\n",
              " {'date': datetime.date(2015, 1, 2), 'is_largest_g_than_large': 0},\n",
              " {'date': datetime.date(2015, 1, 5), 'is_largest_g_than_large': 0},\n",
              " {'date': datetime.date(2015, 1, 6), 'is_largest_g_than_large': 0},\n",
              " {'date': datetime.date(2015, 1, 7), 'is_largest_g_than_large': 0},\n",
              " {'date': datetime.date(2015, 1, 8), 'is_largest_g_than_large': 0},\n",
              " {'date': datetime.date(2015, 1, 9), 'is_largest_g_than_large': 0},\n",
              " {'date': datetime.date(2015, 1, 12), 'is_largest_g_than_large': 0},\n",
              " {'date': datetime.date(2015, 1, 13), 'is_largest_g_than_large': 0},\n",
              " {'date': datetime.date(2015, 1, 14), 'is_largest_g_than_large': 0},\n",
              " {'date': datetime.date(2015, 1, 15), 'is_largest_g_than_large': 0},\n",
              " {'date': datetime.date(2015, 1, 16), 'is_largest_g_than_large': 0},\n",
              " {'date': datetime.date(2015, 1, 19), 'is_largest_g_than_large': 0},\n",
              " {'date': datetime.date(2015, 1, 20), 'is_largest_g_than_large': 0},\n",
              " {'date': datetime.date(2015, 1, 21), 'is_largest_g_than_large': 1},\n",
              " {'date': datetime.date(2015, 1, 22), 'is_largest_g_than_large': 1},\n",
              " {'date': datetime.date(2015, 1, 23), 'is_largest_g_than_large': 0},\n",
              " {'date': datetime.date(2015, 1, 26), 'is_largest_g_than_large': 1},\n",
              " {'date': datetime.date(2015, 1, 27), 'is_largest_g_than_large': 0},\n",
              " {'date': datetime.date(2015, 1, 28), 'is_largest_g_than_large': 0},\n",
              " {'date': datetime.date(2015, 1, 29), 'is_largest_g_than_large': 0},\n",
              " {'date': datetime.date(2015, 1, 30), 'is_largest_g_than_large': 0},\n",
              " {'date': datetime.date(2015, 2, 2), 'is_largest_g_than_large': 0},\n",
              " {'date': datetime.date(2015, 2, 3), 'is_largest_g_than_large': 0},\n",
              " {'date': datetime.date(2015, 2, 4), 'is_largest_g_than_large': 0},\n",
              " {'date': datetime.date(2015, 2, 5), 'is_largest_g_than_large': 0},\n",
              " {'date': datetime.date(2015, 2, 6), 'is_largest_g_than_large': 0},\n",
              " {'date': datetime.date(2015, 2, 9), 'is_largest_g_than_large': 0},\n",
              " {'date': datetime.date(2015, 2, 10), 'is_largest_g_than_large': 0},\n",
              " {'date': datetime.date(2015, 2, 11), 'is_largest_g_than_large': 0},\n",
              " {'date': datetime.date(2015, 2, 12), 'is_largest_g_than_large': 1},\n",
              " {'date': datetime.date(2015, 2, 13), 'is_largest_g_than_large': 1},\n",
              " {'date': datetime.date(2015, 2, 16), 'is_largest_g_than_large': 0},\n",
              " {'date': datetime.date(2015, 2, 17), 'is_largest_g_than_large': 1},\n",
              " {'date': datetime.date(2015, 2, 18), 'is_largest_g_than_large': 1},\n",
              " {'date': datetime.date(2015, 2, 19), 'is_largest_g_than_large': 1},\n",
              " {'date': datetime.date(2015, 2, 20), 'is_largest_g_than_large': 1},\n",
              " {'date': datetime.date(2015, 2, 23), 'is_largest_g_than_large': 1},\n",
              " {'date': datetime.date(2015, 2, 24), 'is_largest_g_than_large': 1},\n",
              " {'date': datetime.date(2015, 2, 25), 'is_largest_g_than_large': 1},\n",
              " {'date': datetime.date(2015, 2, 26), 'is_largest_g_than_large': 1},\n",
              " {'date': datetime.date(2015, 2, 27), 'is_largest_g_than_large': 1},\n",
              " {'date': datetime.date(2015, 3, 2), 'is_largest_g_than_large': 1},\n",
              " {'date': datetime.date(2015, 3, 3), 'is_largest_g_than_large': 1},\n",
              " {'date': datetime.date(2015, 3, 4), 'is_largest_g_than_large': 1},\n",
              " {'date': datetime.date(2015, 3, 5), 'is_largest_g_than_large': 0},\n",
              " {'date': datetime.date(2015, 3, 6), 'is_largest_g_than_large': 1},\n",
              " {'date': datetime.date(2015, 3, 9), 'is_largest_g_than_large': 0},\n",
              " {'date': datetime.date(2015, 3, 10), 'is_largest_g_than_large': 0},\n",
              " {'date': datetime.date(2015, 3, 11), 'is_largest_g_than_large': 0},\n",
              " {'date': datetime.date(2015, 3, 12), 'is_largest_g_than_large': 0},\n",
              " {'date': datetime.date(2015, 3, 13), 'is_largest_g_than_large': 0},\n",
              " {'date': datetime.date(2015, 3, 16), 'is_largest_g_than_large': 0},\n",
              " {'date': datetime.date(2015, 3, 17), 'is_largest_g_than_large': 1},\n",
              " {'date': datetime.date(2015, 3, 18), 'is_largest_g_than_large': 1},\n",
              " {'date': datetime.date(2015, 3, 19), 'is_largest_g_than_large': 1},\n",
              " {'date': datetime.date(2015, 3, 20), 'is_largest_g_than_large': 1},\n",
              " {'date': datetime.date(2015, 3, 23), 'is_largest_g_than_large': 1},\n",
              " {'date': datetime.date(2015, 3, 24), 'is_largest_g_than_large': 1},\n",
              " {'date': datetime.date(2015, 3, 25), 'is_largest_g_than_large': 1},\n",
              " {'date': datetime.date(2015, 3, 26), 'is_largest_g_than_large': 1},\n",
              " {'date': datetime.date(2015, 3, 27), 'is_largest_g_than_large': 1},\n",
              " {'date': datetime.date(2015, 3, 30), 'is_largest_g_than_large': 0},\n",
              " {'date': datetime.date(2015, 3, 31), 'is_largest_g_than_large': 0},\n",
              " {'date': datetime.date(2015, 4, 1), 'is_largest_g_than_large': 0},\n",
              " {'date': datetime.date(2015, 4, 2), 'is_largest_g_than_large': 0},\n",
              " {'date': datetime.date(2015, 4, 6), 'is_largest_g_than_large': 0},\n",
              " {'date': datetime.date(2015, 4, 7), 'is_largest_g_than_large': 0},\n",
              " {'date': datetime.date(2015, 4, 8), 'is_largest_g_than_large': 0},\n",
              " {'date': datetime.date(2015, 4, 9), 'is_largest_g_than_large': 0},\n",
              " {'date': datetime.date(2015, 4, 10), 'is_largest_g_than_large': 1},\n",
              " {'date': datetime.date(2015, 4, 13), 'is_largest_g_than_large': 0},\n",
              " {'date': datetime.date(2015, 4, 14), 'is_largest_g_than_large': 0},\n",
              " {'date': datetime.date(2015, 4, 15), 'is_largest_g_than_large': 1},\n",
              " {'date': datetime.date(2015, 4, 16), 'is_largest_g_than_large': 1},\n",
              " {'date': datetime.date(2015, 4, 17), 'is_largest_g_than_large': 1},\n",
              " {'date': datetime.date(2015, 4, 20), 'is_largest_g_than_large': 1},\n",
              " {'date': datetime.date(2015, 4, 21), 'is_largest_g_than_large': 1},\n",
              " {'date': datetime.date(2015, 4, 22), 'is_largest_g_than_large': 1},\n",
              " {'date': datetime.date(2015, 4, 23), 'is_largest_g_than_large': 1},\n",
              " {'date': datetime.date(2015, 4, 24), 'is_largest_g_than_large': 1},\n",
              " {'date': datetime.date(2015, 4, 27), 'is_largest_g_than_large': 1},\n",
              " {'date': datetime.date(2015, 4, 28), 'is_largest_g_than_large': 1},\n",
              " {'date': datetime.date(2015, 4, 29), 'is_largest_g_than_large': 1},\n",
              " {'date': datetime.date(2015, 4, 30), 'is_largest_g_than_large': 1},\n",
              " {'date': datetime.date(2015, 5, 1), 'is_largest_g_than_large': 1},\n",
              " {'date': datetime.date(2015, 5, 4), 'is_largest_g_than_large': 1},\n",
              " {'date': datetime.date(2015, 5, 5), 'is_largest_g_than_large': 0},\n",
              " {'date': datetime.date(2015, 5, 6), 'is_largest_g_than_large': 0},\n",
              " {'date': datetime.date(2015, 5, 7), 'is_largest_g_than_large': 0},\n",
              " {'date': datetime.date(2015, 5, 8), 'is_largest_g_than_large': 0},\n",
              " {'date': datetime.date(2015, 5, 11), 'is_largest_g_than_large': 0},\n",
              " {'date': datetime.date(2015, 5, 12), 'is_largest_g_than_large': 0},\n",
              " {'date': datetime.date(2015, 5, 13), 'is_largest_g_than_large': 0},\n",
              " {'date': datetime.date(2015, 5, 14), 'is_largest_g_than_large': 1},\n",
              " {'date': datetime.date(2015, 5, 15), 'is_largest_g_than_large': 1},\n",
              " {'date': datetime.date(2015, 5, 18), 'is_largest_g_than_large': 0},\n",
              " {'date': datetime.date(2015, 5, 19), 'is_largest_g_than_large': 0},\n",
              " {'date': datetime.date(2015, 5, 20), 'is_largest_g_than_large': 1},\n",
              " {'date': datetime.date(2015, 5, 21), 'is_largest_g_than_large': 0},\n",
              " {'date': datetime.date(2015, 5, 22), 'is_largest_g_than_large': 0},\n",
              " {'date': datetime.date(2015, 5, 25), 'is_largest_g_than_large': 0},\n",
              " {'date': datetime.date(2015, 5, 26), 'is_largest_g_than_large': 0},\n",
              " {'date': datetime.date(2015, 5, 27), 'is_largest_g_than_large': 1},\n",
              " {'date': datetime.date(2015, 5, 28), 'is_largest_g_than_large': 1},\n",
              " {'date': datetime.date(2015, 5, 29), 'is_largest_g_than_large': 1},\n",
              " {'date': datetime.date(2015, 6, 1), 'is_largest_g_than_large': 1},\n",
              " {'date': datetime.date(2015, 6, 2), 'is_largest_g_than_large': 1},\n",
              " {'date': datetime.date(2015, 6, 3), 'is_largest_g_than_large': 1},\n",
              " {'date': datetime.date(2015, 6, 4), 'is_largest_g_than_large': 1},\n",
              " {'date': datetime.date(2015, 6, 5), 'is_largest_g_than_large': 1},\n",
              " {'date': datetime.date(2015, 6, 8), 'is_largest_g_than_large': 1},\n",
              " {'date': datetime.date(2015, 6, 9), 'is_largest_g_than_large': 1},\n",
              " {'date': datetime.date(2015, 6, 10), 'is_largest_g_than_large': 1},\n",
              " {'date': datetime.date(2015, 6, 11), 'is_largest_g_than_large': 1},\n",
              " {'date': datetime.date(2015, 6, 12), 'is_largest_g_than_large': 1},\n",
              " {'date': datetime.date(2015, 6, 15), 'is_largest_g_than_large': 1},\n",
              " {'date': datetime.date(2015, 6, 16), 'is_largest_g_than_large': 1},\n",
              " {'date': datetime.date(2015, 6, 17), 'is_largest_g_than_large': 1},\n",
              " {'date': datetime.date(2015, 6, 18), 'is_largest_g_than_large': 1},\n",
              " {'date': datetime.date(2015, 6, 19), 'is_largest_g_than_large': 1},\n",
              " {'date': datetime.date(2015, 6, 22), 'is_largest_g_than_large': 1},\n",
              " {'date': datetime.date(2015, 6, 23), 'is_largest_g_than_large': 0},\n",
              " {'date': datetime.date(2015, 6, 24), 'is_largest_g_than_large': 1},\n",
              " {'date': datetime.date(2015, 6, 25), 'is_largest_g_than_large': 1},\n",
              " {'date': datetime.date(2015, 6, 26), 'is_largest_g_than_large': 0},\n",
              " {'date': datetime.date(2015, 6, 29), 'is_largest_g_than_large': 0},\n",
              " {'date': datetime.date(2015, 6, 30), 'is_largest_g_than_large': 0},\n",
              " {'date': datetime.date(2015, 7, 1), 'is_largest_g_than_large': 0},\n",
              " {'date': datetime.date(2015, 7, 2), 'is_largest_g_than_large': 1},\n",
              " {'date': datetime.date(2015, 7, 3), 'is_largest_g_than_large': 1},\n",
              " {'date': datetime.date(2015, 7, 6), 'is_largest_g_than_large': 0},\n",
              " {'date': datetime.date(2015, 7, 7), 'is_largest_g_than_large': 1},\n",
              " {'date': datetime.date(2015, 7, 8), 'is_largest_g_than_large': 0},\n",
              " {'date': datetime.date(2015, 7, 9), 'is_largest_g_than_large': 1},\n",
              " {'date': datetime.date(2015, 7, 10), 'is_largest_g_than_large': 1},\n",
              " {'date': datetime.date(2015, 7, 13), 'is_largest_g_than_large': 1},\n",
              " {'date': datetime.date(2015, 7, 14), 'is_largest_g_than_large': 1},\n",
              " {'date': datetime.date(2015, 7, 15), 'is_largest_g_than_large': 1},\n",
              " {'date': datetime.date(2015, 7, 16), 'is_largest_g_than_large': 1},\n",
              " {'date': datetime.date(2015, 7, 17), 'is_largest_g_than_large': 1},\n",
              " {'date': datetime.date(2015, 7, 20), 'is_largest_g_than_large': 1},\n",
              " {'date': datetime.date(2015, 7, 21), 'is_largest_g_than_large': 1},\n",
              " {'date': datetime.date(2015, 7, 22), 'is_largest_g_than_large': 1},\n",
              " {'date': datetime.date(2015, 7, 23), 'is_largest_g_than_large': 1},\n",
              " {'date': datetime.date(2015, 7, 24), 'is_largest_g_than_large': 1},\n",
              " {'date': datetime.date(2015, 7, 27), 'is_largest_g_than_large': 1},\n",
              " {'date': datetime.date(2015, 7, 28), 'is_largest_g_than_large': 1},\n",
              " {'date': datetime.date(2015, 7, 29), 'is_largest_g_than_large': 1},\n",
              " {'date': datetime.date(2015, 7, 30), 'is_largest_g_than_large': 0},\n",
              " {'date': datetime.date(2015, 7, 31), 'is_largest_g_than_large': 1},\n",
              " {'date': datetime.date(2015, 8, 3), 'is_largest_g_than_large': 1},\n",
              " {'date': datetime.date(2015, 8, 4), 'is_largest_g_than_large': 1},\n",
              " {'date': datetime.date(2015, 8, 5), 'is_largest_g_than_large': 0},\n",
              " {'date': datetime.date(2015, 8, 6), 'is_largest_g_than_large': 1},\n",
              " {'date': datetime.date(2015, 8, 7), 'is_largest_g_than_large': 1},\n",
              " {'date': datetime.date(2015, 8, 10), 'is_largest_g_than_large': 1},\n",
              " {'date': datetime.date(2015, 8, 11), 'is_largest_g_than_large': 1},\n",
              " {'date': datetime.date(2015, 8, 12), 'is_largest_g_than_large': 1},\n",
              " {'date': datetime.date(2015, 8, 13), 'is_largest_g_than_large': 1},\n",
              " {'date': datetime.date(2015, 8, 14), 'is_largest_g_than_large': 1},\n",
              " {'date': datetime.date(2015, 8, 17), 'is_largest_g_than_large': 1},\n",
              " {'date': datetime.date(2015, 8, 18), 'is_largest_g_than_large': 0},\n",
              " {'date': datetime.date(2015, 8, 19), 'is_largest_g_than_large': 0},\n",
              " {'date': datetime.date(2015, 8, 20), 'is_largest_g_than_large': 0},\n",
              " {'date': datetime.date(2015, 8, 21), 'is_largest_g_than_large': 0},\n",
              " {'date': datetime.date(2015, 8, 24), 'is_largest_g_than_large': 1},\n",
              " {'date': datetime.date(2015, 8, 25), 'is_largest_g_than_large': 1},\n",
              " {'date': datetime.date(2015, 8, 26), 'is_largest_g_than_large': 1},\n",
              " {'date': datetime.date(2015, 8, 27), 'is_largest_g_than_large': 1},\n",
              " {'date': datetime.date(2015, 8, 28), 'is_largest_g_than_large': 1},\n",
              " {'date': datetime.date(2015, 8, 31), 'is_largest_g_than_large': 1},\n",
              " {'date': datetime.date(2015, 9, 1), 'is_largest_g_than_large': 1},\n",
              " {'date': datetime.date(2015, 9, 2), 'is_largest_g_than_large': 1},\n",
              " {'date': datetime.date(2015, 9, 3), 'is_largest_g_than_large': 1},\n",
              " {'date': datetime.date(2015, 9, 4), 'is_largest_g_than_large': 0},\n",
              " {'date': datetime.date(2015, 9, 7), 'is_largest_g_than_large': 0},\n",
              " {'date': datetime.date(2015, 9, 8), 'is_largest_g_than_large': 1},\n",
              " {'date': datetime.date(2015, 9, 9), 'is_largest_g_than_large': 0},\n",
              " {'date': datetime.date(2015, 9, 10), 'is_largest_g_than_large': 0},\n",
              " {'date': datetime.date(2015, 9, 11), 'is_largest_g_than_large': 1},\n",
              " {'date': datetime.date(2015, 9, 14), 'is_largest_g_than_large': 1},\n",
              " {'date': datetime.date(2015, 9, 15), 'is_largest_g_than_large': 0},\n",
              " {'date': datetime.date(2015, 9, 16), 'is_largest_g_than_large': 1},\n",
              " {'date': datetime.date(2015, 9, 17), 'is_largest_g_than_large': 1},\n",
              " {'date': datetime.date(2015, 9, 18), 'is_largest_g_than_large': 1},\n",
              " {'date': datetime.date(2015, 9, 21), 'is_largest_g_than_large': 0},\n",
              " {'date': datetime.date(2015, 9, 22), 'is_largest_g_than_large': 0},\n",
              " {'date': datetime.date(2015, 9, 23), 'is_largest_g_than_large': 0},\n",
              " {'date': datetime.date(2015, 9, 24), 'is_largest_g_than_large': 0},\n",
              " {'date': datetime.date(2015, 9, 25), 'is_largest_g_than_large': 1},\n",
              " {'date': datetime.date(2015, 9, 28), 'is_largest_g_than_large': 0},\n",
              " {'date': datetime.date(2015, 9, 29), 'is_largest_g_than_large': 0},\n",
              " {'date': datetime.date(2015, 9, 30), 'is_largest_g_than_large': 1},\n",
              " {'date': datetime.date(2015, 10, 1), 'is_largest_g_than_large': 1},\n",
              " {'date': datetime.date(2015, 10, 2), 'is_largest_g_than_large': 1},\n",
              " {'date': datetime.date(2015, 10, 5), 'is_largest_g_than_large': 1},\n",
              " {'date': datetime.date(2015, 10, 6), 'is_largest_g_than_large': 1},\n",
              " {'date': datetime.date(2015, 10, 7), 'is_largest_g_than_large': 1},\n",
              " {'date': datetime.date(2015, 10, 8), 'is_largest_g_than_large': 1},\n",
              " {'date': datetime.date(2015, 10, 9), 'is_largest_g_than_large': 1},\n",
              " {'date': datetime.date(2015, 10, 12), 'is_largest_g_than_large': 1},\n",
              " {'date': datetime.date(2015, 10, 13), 'is_largest_g_than_large': 0},\n",
              " {'date': datetime.date(2015, 10, 14), 'is_largest_g_than_large': 1},\n",
              " {'date': datetime.date(2015, 10, 15), 'is_largest_g_than_large': 0},\n",
              " {'date': datetime.date(2015, 10, 16), 'is_largest_g_than_large': 1},\n",
              " {'date': datetime.date(2015, 10, 19), 'is_largest_g_than_large': 1},\n",
              " {'date': datetime.date(2015, 10, 20), 'is_largest_g_than_large': 1},\n",
              " {'date': datetime.date(2015, 10, 21), 'is_largest_g_than_large': 1},\n",
              " {'date': datetime.date(2015, 10, 22), 'is_largest_g_than_large': 1},\n",
              " {'date': datetime.date(2015, 10, 23), 'is_largest_g_than_large': 1},\n",
              " {'date': datetime.date(2015, 10, 26), 'is_largest_g_than_large': 0},\n",
              " {'date': datetime.date(2015, 10, 27), 'is_largest_g_than_large': 1},\n",
              " {'date': datetime.date(2015, 10, 28), 'is_largest_g_than_large': 1},\n",
              " {'date': datetime.date(2015, 10, 29), 'is_largest_g_than_large': 0},\n",
              " {'date': datetime.date(2015, 10, 30), 'is_largest_g_than_large': 0},\n",
              " {'date': datetime.date(2015, 11, 2), 'is_largest_g_than_large': 0},\n",
              " {'date': datetime.date(2015, 11, 3), 'is_largest_g_than_large': 0},\n",
              " {'date': datetime.date(2015, 11, 4), 'is_largest_g_than_large': 0},\n",
              " {'date': datetime.date(2015, 11, 5), 'is_largest_g_than_large': 0},\n",
              " {'date': datetime.date(2015, 11, 6), 'is_largest_g_than_large': 0},\n",
              " {'date': datetime.date(2015, 11, 9), 'is_largest_g_than_large': 0},\n",
              " {'date': datetime.date(2015, 11, 10), 'is_largest_g_than_large': 1},\n",
              " {'date': datetime.date(2015, 11, 11), 'is_largest_g_than_large': 0},\n",
              " {'date': datetime.date(2015, 11, 12), 'is_largest_g_than_large': 1},\n",
              " {'date': datetime.date(2015, 11, 13), 'is_largest_g_than_large': 1},\n",
              " {'date': datetime.date(2015, 11, 16), 'is_largest_g_than_large': 1},\n",
              " {'date': datetime.date(2015, 11, 17), 'is_largest_g_than_large': 0},\n",
              " {'date': datetime.date(2015, 11, 18), 'is_largest_g_than_large': 0},\n",
              " {'date': datetime.date(2015, 11, 19), 'is_largest_g_than_large': 1},\n",
              " {'date': datetime.date(2015, 11, 20), 'is_largest_g_than_large': 1},\n",
              " {'date': datetime.date(2015, 11, 23), 'is_largest_g_than_large': 0},\n",
              " {'date': datetime.date(2015, 11, 24), 'is_largest_g_than_large': 0},\n",
              " {'date': datetime.date(2015, 11, 25), 'is_largest_g_than_large': 0},\n",
              " {'date': datetime.date(2015, 11, 26), 'is_largest_g_than_large': 0},\n",
              " {'date': datetime.date(2015, 11, 27), 'is_largest_g_than_large': 0},\n",
              " {'date': datetime.date(2015, 11, 30), 'is_largest_g_than_large': 0},\n",
              " {'date': datetime.date(2015, 12, 1), 'is_largest_g_than_large': 1},\n",
              " {'date': datetime.date(2015, 12, 2), 'is_largest_g_than_large': 1},\n",
              " {'date': datetime.date(2015, 12, 3), 'is_largest_g_than_large': 1},\n",
              " {'date': datetime.date(2015, 12, 4), 'is_largest_g_than_large': 1},\n",
              " {'date': datetime.date(2015, 12, 7), 'is_largest_g_than_large': 1},\n",
              " {'date': datetime.date(2015, 12, 8), 'is_largest_g_than_large': 1},\n",
              " {'date': datetime.date(2015, 12, 9), 'is_largest_g_than_large': 1},\n",
              " {'date': datetime.date(2015, 12, 10), 'is_largest_g_than_large': 1},\n",
              " {'date': datetime.date(2015, 12, 11), 'is_largest_g_than_large': 1},\n",
              " {'date': datetime.date(2015, 12, 14), 'is_largest_g_than_large': 1},\n",
              " {'date': datetime.date(2015, 12, 15), 'is_largest_g_than_large': 0},\n",
              " {'date': datetime.date(2015, 12, 16), 'is_largest_g_than_large': 0},\n",
              " {'date': datetime.date(2015, 12, 17), 'is_largest_g_than_large': 0},\n",
              " {'date': datetime.date(2015, 12, 18), 'is_largest_g_than_large': 0},\n",
              " {'date': datetime.date(2015, 12, 21), 'is_largest_g_than_large': 0},\n",
              " {'date': datetime.date(2015, 12, 22), 'is_largest_g_than_large': 0},\n",
              " {'date': datetime.date(2015, 12, 23), 'is_largest_g_than_large': 0},\n",
              " {'date': datetime.date(2015, 12, 24), 'is_largest_g_than_large': 0},\n",
              " {'date': datetime.date(2015, 12, 25), 'is_largest_g_than_large': 0},\n",
              " {'date': datetime.date(2015, 12, 28), 'is_largest_g_than_large': 0},\n",
              " {'date': datetime.date(2015, 12, 29), 'is_largest_g_than_large': 1},\n",
              " {'date': datetime.date(2015, 12, 30), 'is_largest_g_than_large': 1},\n",
              " {'date': datetime.date(2015, 12, 31), 'is_largest_g_than_large': 0},\n",
              " {'date': datetime.date(2016, 1, 1), 'is_largest_g_than_large': 0},\n",
              " {'date': datetime.date(2016, 1, 4), 'is_largest_g_than_large': 0},\n",
              " {'date': datetime.date(2016, 1, 5), 'is_largest_g_than_large': 0},\n",
              " {'date': datetime.date(2016, 1, 6), 'is_largest_g_than_large': 0},\n",
              " {'date': datetime.date(2016, 1, 7), 'is_largest_g_than_large': 0},\n",
              " {'date': datetime.date(2016, 1, 8), 'is_largest_g_than_large': 0},\n",
              " {'date': datetime.date(2016, 1, 11), 'is_largest_g_than_large': 0},\n",
              " {'date': datetime.date(2016, 1, 12), 'is_largest_g_than_large': 0},\n",
              " {'date': datetime.date(2016, 1, 13), 'is_largest_g_than_large': 0},\n",
              " {'date': datetime.date(2016, 1, 14), 'is_largest_g_than_large': 1},\n",
              " {'date': datetime.date(2016, 1, 15), 'is_largest_g_than_large': 0},\n",
              " {'date': datetime.date(2016, 1, 18), 'is_largest_g_than_large': 0},\n",
              " {'date': datetime.date(2016, 1, 19), 'is_largest_g_than_large': 1},\n",
              " {'date': datetime.date(2016, 1, 20), 'is_largest_g_than_large': 1},\n",
              " {'date': datetime.date(2016, 1, 21), 'is_largest_g_than_large': 1},\n",
              " {'date': datetime.date(2016, 1, 22), 'is_largest_g_than_large': 1},\n",
              " {'date': datetime.date(2016, 1, 25), 'is_largest_g_than_large': 1},\n",
              " {'date': datetime.date(2016, 1, 26), 'is_largest_g_than_large': 0},\n",
              " {'date': datetime.date(2016, 1, 27), 'is_largest_g_than_large': 1},\n",
              " {'date': datetime.date(2016, 1, 28), 'is_largest_g_than_large': 1},\n",
              " {'date': datetime.date(2016, 1, 29), 'is_largest_g_than_large': 1},\n",
              " {'date': datetime.date(2016, 2, 1), 'is_largest_g_than_large': 1},\n",
              " {'date': datetime.date(2016, 2, 2), 'is_largest_g_than_large': 0},\n",
              " {'date': datetime.date(2016, 2, 3), 'is_largest_g_than_large': 1},\n",
              " {'date': datetime.date(2016, 2, 4), 'is_largest_g_than_large': 1},\n",
              " {'date': datetime.date(2016, 2, 5), 'is_largest_g_than_large': 0},\n",
              " {'date': datetime.date(2016, 2, 8), 'is_largest_g_than_large': 0},\n",
              " {'date': datetime.date(2016, 2, 9), 'is_largest_g_than_large': 0},\n",
              " {'date': datetime.date(2016, 2, 10), 'is_largest_g_than_large': 0},\n",
              " {'date': datetime.date(2016, 2, 11), 'is_largest_g_than_large': 0},\n",
              " {'date': datetime.date(2016, 2, 12), 'is_largest_g_than_large': 0},\n",
              " {'date': datetime.date(2016, 2, 15), 'is_largest_g_than_large': 1},\n",
              " {'date': datetime.date(2016, 2, 16), 'is_largest_g_than_large': 0},\n",
              " {'date': datetime.date(2016, 2, 17), 'is_largest_g_than_large': 0},\n",
              " {'date': datetime.date(2016, 2, 18), 'is_largest_g_than_large': 1},\n",
              " {'date': datetime.date(2016, 2, 19), 'is_largest_g_than_large': 1},\n",
              " {'date': datetime.date(2016, 2, 22), 'is_largest_g_than_large': 1},\n",
              " {'date': datetime.date(2016, 2, 23), 'is_largest_g_than_large': 1},\n",
              " {'date': datetime.date(2016, 2, 24), 'is_largest_g_than_large': 1},\n",
              " {'date': datetime.date(2016, 2, 25), 'is_largest_g_than_large': 1},\n",
              " {'date': datetime.date(2016, 2, 26), 'is_largest_g_than_large': 1},\n",
              " {'date': datetime.date(2016, 2, 29), 'is_largest_g_than_large': 1},\n",
              " {'date': datetime.date(2016, 3, 1), 'is_largest_g_than_large': 1},\n",
              " {'date': datetime.date(2016, 3, 2), 'is_largest_g_than_large': 1},\n",
              " {'date': datetime.date(2016, 3, 3), 'is_largest_g_than_large': 1},\n",
              " {'date': datetime.date(2016, 3, 4), 'is_largest_g_than_large': 1},\n",
              " {'date': datetime.date(2016, 3, 7), 'is_largest_g_than_large': 1},\n",
              " {'date': datetime.date(2016, 3, 8), 'is_largest_g_than_large': 1},\n",
              " {'date': datetime.date(2016, 3, 9), 'is_largest_g_than_large': 1},\n",
              " {'date': datetime.date(2016, 3, 10), 'is_largest_g_than_large': 0},\n",
              " {'date': datetime.date(2016, 3, 11), 'is_largest_g_than_large': 0},\n",
              " {'date': datetime.date(2016, 3, 14), 'is_largest_g_than_large': 0},\n",
              " {'date': datetime.date(2016, 3, 15), 'is_largest_g_than_large': 0},\n",
              " {'date': datetime.date(2016, 3, 16), 'is_largest_g_than_large': 1},\n",
              " {'date': datetime.date(2016, 3, 17), 'is_largest_g_than_large': 1},\n",
              " {'date': datetime.date(2016, 3, 18), 'is_largest_g_than_large': 1},\n",
              " {'date': datetime.date(2016, 3, 21), 'is_largest_g_than_large': 1},\n",
              " {'date': datetime.date(2016, 3, 22), 'is_largest_g_than_large': 1},\n",
              " {'date': datetime.date(2016, 3, 23), 'is_largest_g_than_large': 1},\n",
              " {'date': datetime.date(2016, 3, 24), 'is_largest_g_than_large': 1},\n",
              " {'date': datetime.date(2016, 3, 28), 'is_largest_g_than_large': 1},\n",
              " {'date': datetime.date(2016, 3, 29), 'is_largest_g_than_large': 1},\n",
              " {'date': datetime.date(2016, 3, 30), 'is_largest_g_than_large': 1},\n",
              " {'date': datetime.date(2016, 3, 31), 'is_largest_g_than_large': 1},\n",
              " {'date': datetime.date(2016, 4, 1), 'is_largest_g_than_large': 1},\n",
              " {'date': datetime.date(2016, 4, 4), 'is_largest_g_than_large': 1},\n",
              " {'date': datetime.date(2016, 4, 5), 'is_largest_g_than_large': 1},\n",
              " {'date': datetime.date(2016, 4, 6), 'is_largest_g_than_large': 0},\n",
              " {'date': datetime.date(2016, 4, 7), 'is_largest_g_than_large': 0},\n",
              " {'date': datetime.date(2016, 4, 8), 'is_largest_g_than_large': 0},\n",
              " {'date': datetime.date(2016, 4, 11), 'is_largest_g_than_large': 0},\n",
              " {'date': datetime.date(2016, 4, 12), 'is_largest_g_than_large': 0},\n",
              " {'date': datetime.date(2016, 4, 13), 'is_largest_g_than_large': 0},\n",
              " {'date': datetime.date(2016, 4, 14), 'is_largest_g_than_large': 1},\n",
              " {'date': datetime.date(2016, 4, 15), 'is_largest_g_than_large': 1},\n",
              " {'date': datetime.date(2016, 4, 18), 'is_largest_g_than_large': 0},\n",
              " {'date': datetime.date(2016, 4, 19), 'is_largest_g_than_large': 1},\n",
              " {'date': datetime.date(2016, 4, 20), 'is_largest_g_than_large': 0},\n",
              " {'date': datetime.date(2016, 4, 21), 'is_largest_g_than_large': 0},\n",
              " {'date': datetime.date(2016, 4, 22), 'is_largest_g_than_large': 0},\n",
              " {'date': datetime.date(2016, 4, 25), 'is_largest_g_than_large': 0},\n",
              " {'date': datetime.date(2016, 4, 26), 'is_largest_g_than_large': 0},\n",
              " {'date': datetime.date(2016, 4, 27), 'is_largest_g_than_large': 0},\n",
              " {'date': datetime.date(2016, 4, 28), 'is_largest_g_than_large': 0},\n",
              " {'date': datetime.date(2016, 4, 29), 'is_largest_g_than_large': 0},\n",
              " {'date': datetime.date(2016, 5, 2), 'is_largest_g_than_large': 0},\n",
              " {'date': datetime.date(2016, 5, 3), 'is_largest_g_than_large': 0},\n",
              " {'date': datetime.date(2016, 5, 4), 'is_largest_g_than_large': 1},\n",
              " {'date': datetime.date(2016, 5, 5), 'is_largest_g_than_large': 1},\n",
              " {'date': datetime.date(2016, 5, 6), 'is_largest_g_than_large': 1},\n",
              " {'date': datetime.date(2016, 5, 9), 'is_largest_g_than_large': 1},\n",
              " {'date': datetime.date(2016, 5, 10), 'is_largest_g_than_large': 1},\n",
              " {'date': datetime.date(2016, 5, 11), 'is_largest_g_than_large': 1},\n",
              " {'date': datetime.date(2016, 5, 12), 'is_largest_g_than_large': 1},\n",
              " {'date': datetime.date(2016, 5, 13), 'is_largest_g_than_large': 1},\n",
              " {'date': datetime.date(2016, 5, 16), 'is_largest_g_than_large': 1},\n",
              " {'date': datetime.date(2016, 5, 17), 'is_largest_g_than_large': 1},\n",
              " {'date': datetime.date(2016, 5, 18), 'is_largest_g_than_large': 1},\n",
              " {'date': datetime.date(2016, 5, 19), 'is_largest_g_than_large': 1},\n",
              " {'date': datetime.date(2016, 5, 20), 'is_largest_g_than_large': 1},\n",
              " {'date': datetime.date(2016, 5, 23), 'is_largest_g_than_large': 1},\n",
              " {'date': datetime.date(2016, 5, 24), 'is_largest_g_than_large': 1},\n",
              " {'date': datetime.date(2016, 5, 25), 'is_largest_g_than_large': 1},\n",
              " {'date': datetime.date(2016, 5, 26), 'is_largest_g_than_large': 1},\n",
              " {'date': datetime.date(2016, 5, 27), 'is_largest_g_than_large': 1},\n",
              " {'date': datetime.date(2016, 5, 30), 'is_largest_g_than_large': 1},\n",
              " {'date': datetime.date(2016, 5, 31), 'is_largest_g_than_large': 1},\n",
              " {'date': datetime.date(2016, 6, 1), 'is_largest_g_than_large': 1},\n",
              " {'date': datetime.date(2016, 6, 2), 'is_largest_g_than_large': 1},\n",
              " {'date': datetime.date(2016, 6, 3), 'is_largest_g_than_large': 1},\n",
              " {'date': datetime.date(2016, 6, 6), 'is_largest_g_than_large': 1},\n",
              " {'date': datetime.date(2016, 6, 7), 'is_largest_g_than_large': 1},\n",
              " {'date': datetime.date(2016, 6, 8), 'is_largest_g_than_large': 1},\n",
              " {'date': datetime.date(2016, 6, 9), 'is_largest_g_than_large': 0},\n",
              " {'date': datetime.date(2016, 6, 10), 'is_largest_g_than_large': 0},\n",
              " {'date': datetime.date(2016, 6, 13), 'is_largest_g_than_large': 0},\n",
              " {'date': datetime.date(2016, 6, 14), 'is_largest_g_than_large': 0},\n",
              " {'date': datetime.date(2016, 6, 15), 'is_largest_g_than_large': 0},\n",
              " {'date': datetime.date(2016, 6, 16), 'is_largest_g_than_large': 0},\n",
              " {'date': datetime.date(2016, 6, 17), 'is_largest_g_than_large': 0},\n",
              " {'date': datetime.date(2016, 6, 20), 'is_largest_g_than_large': 0},\n",
              " {'date': datetime.date(2016, 6, 21), 'is_largest_g_than_large': 0},\n",
              " {'date': datetime.date(2016, 6, 22), 'is_largest_g_than_large': 0},\n",
              " {'date': datetime.date(2016, 6, 23), 'is_largest_g_than_large': 1},\n",
              " {'date': datetime.date(2016, 6, 24), 'is_largest_g_than_large': 0},\n",
              " {'date': datetime.date(2016, 6, 27), 'is_largest_g_than_large': 0},\n",
              " {'date': datetime.date(2016, 6, 28), 'is_largest_g_than_large': 0},\n",
              " {'date': datetime.date(2016, 6, 29), 'is_largest_g_than_large': 0},\n",
              " {'date': datetime.date(2016, 6, 30), 'is_largest_g_than_large': 0},\n",
              " {'date': datetime.date(2016, 7, 1), 'is_largest_g_than_large': 0},\n",
              " {'date': datetime.date(2016, 7, 4), 'is_largest_g_than_large': 1},\n",
              " {'date': datetime.date(2016, 7, 5), 'is_largest_g_than_large': 0},\n",
              " {'date': datetime.date(2016, 7, 6), 'is_largest_g_than_large': 0},\n",
              " {'date': datetime.date(2016, 7, 7), 'is_largest_g_than_large': 1},\n",
              " {'date': datetime.date(2016, 7, 8), 'is_largest_g_than_large': 1},\n",
              " {'date': datetime.date(2016, 7, 11), 'is_largest_g_than_large': 1},\n",
              " {'date': datetime.date(2016, 7, 12), 'is_largest_g_than_large': 1},\n",
              " {'date': datetime.date(2016, 7, 13), 'is_largest_g_than_large': 1},\n",
              " {'date': datetime.date(2016, 7, 14), 'is_largest_g_than_large': 1},\n",
              " {'date': datetime.date(2016, 7, 15), 'is_largest_g_than_large': 1},\n",
              " {'date': datetime.date(2016, 7, 18), 'is_largest_g_than_large': 1},\n",
              " {'date': datetime.date(2016, 7, 19), 'is_largest_g_than_large': 1},\n",
              " {'date': datetime.date(2016, 7, 20), 'is_largest_g_than_large': 1},\n",
              " {'date': datetime.date(2016, 7, 21), 'is_largest_g_than_large': 1},\n",
              " {'date': datetime.date(2016, 7, 22), 'is_largest_g_than_large': 1},\n",
              " {'date': datetime.date(2016, 7, 25), 'is_largest_g_than_large': 1},\n",
              " {'date': datetime.date(2016, 7, 26), 'is_largest_g_than_large': 1},\n",
              " {'date': datetime.date(2016, 7, 27), 'is_largest_g_than_large': 1},\n",
              " {'date': datetime.date(2016, 7, 28), 'is_largest_g_than_large': 1},\n",
              " {'date': datetime.date(2016, 7, 29), 'is_largest_g_than_large': 0},\n",
              " {'date': datetime.date(2016, 8, 1), 'is_largest_g_than_large': 0},\n",
              " {'date': datetime.date(2016, 8, 2), 'is_largest_g_than_large': 0},\n",
              " {'date': datetime.date(2016, 8, 3), 'is_largest_g_than_large': 1},\n",
              " {'date': datetime.date(2016, 8, 4), 'is_largest_g_than_large': 1},\n",
              " {'date': datetime.date(2016, 8, 5), 'is_largest_g_than_large': 0},\n",
              " {'date': datetime.date(2016, 8, 8), 'is_largest_g_than_large': 0},\n",
              " {'date': datetime.date(2016, 8, 9), 'is_largest_g_than_large': 1},\n",
              " {'date': datetime.date(2016, 8, 10), 'is_largest_g_than_large': 0},\n",
              " {'date': datetime.date(2016, 8, 11), 'is_largest_g_than_large': 1},\n",
              " {'date': datetime.date(2016, 8, 12), 'is_largest_g_than_large': 1},\n",
              " {'date': datetime.date(2016, 8, 15), 'is_largest_g_than_large': 0},\n",
              " {'date': datetime.date(2016, 8, 16), 'is_largest_g_than_large': 1},\n",
              " {'date': datetime.date(2016, 8, 17), 'is_largest_g_than_large': 1},\n",
              " {'date': datetime.date(2016, 8, 18), 'is_largest_g_than_large': 1},\n",
              " {'date': datetime.date(2016, 8, 19), 'is_largest_g_than_large': 1},\n",
              " {'date': datetime.date(2016, 8, 22), 'is_largest_g_than_large': 1},\n",
              " {'date': datetime.date(2016, 8, 23), 'is_largest_g_than_large': 1},\n",
              " {'date': datetime.date(2016, 8, 24), 'is_largest_g_than_large': 1},\n",
              " {'date': datetime.date(2016, 8, 25), 'is_largest_g_than_large': 1},\n",
              " {'date': datetime.date(2016, 8, 26), 'is_largest_g_than_large': 1},\n",
              " {'date': datetime.date(2016, 8, 29), 'is_largest_g_than_large': 1},\n",
              " {'date': datetime.date(2016, 8, 30), 'is_largest_g_than_large': 1},\n",
              " {'date': datetime.date(2016, 8, 31), 'is_largest_g_than_large': 0},\n",
              " {'date': datetime.date(2016, 9, 1), 'is_largest_g_than_large': 0},\n",
              " {'date': datetime.date(2016, 9, 2), 'is_largest_g_than_large': 0},\n",
              " {'date': datetime.date(2016, 9, 5), 'is_largest_g_than_large': 0},\n",
              " {'date': datetime.date(2016, 9, 6), 'is_largest_g_than_large': 0},\n",
              " {'date': datetime.date(2016, 9, 7), 'is_largest_g_than_large': 0},\n",
              " {'date': datetime.date(2016, 9, 8), 'is_largest_g_than_large': 0},\n",
              " {'date': datetime.date(2016, 9, 9), 'is_largest_g_than_large': 0},\n",
              " {'date': datetime.date(2016, 9, 12), 'is_largest_g_than_large': 0},\n",
              " {'date': datetime.date(2016, 9, 13), 'is_largest_g_than_large': 1},\n",
              " {'date': datetime.date(2016, 9, 14), 'is_largest_g_than_large': 0},\n",
              " {'date': datetime.date(2016, 9, 15), 'is_largest_g_than_large': 0},\n",
              " {'date': datetime.date(2016, 9, 16), 'is_largest_g_than_large': 0},\n",
              " {'date': datetime.date(2016, 9, 19), 'is_largest_g_than_large': 1},\n",
              " {'date': datetime.date(2016, 9, 20), 'is_largest_g_than_large': 1},\n",
              " {'date': datetime.date(2016, 9, 21), 'is_largest_g_than_large': 1},\n",
              " {'date': datetime.date(2016, 9, 22), 'is_largest_g_than_large': 1},\n",
              " {'date': datetime.date(2016, 9, 23), 'is_largest_g_than_large': 1},\n",
              " {'date': datetime.date(2016, 9, 26), 'is_largest_g_than_large': 0},\n",
              " {'date': datetime.date(2016, 9, 27), 'is_largest_g_than_large': 1},\n",
              " {'date': datetime.date(2016, 9, 28), 'is_largest_g_than_large': 1},\n",
              " {'date': datetime.date(2016, 9, 29), 'is_largest_g_than_large': 1},\n",
              " {'date': datetime.date(2016, 9, 30), 'is_largest_g_than_large': 0},\n",
              " {'date': datetime.date(2016, 10, 3), 'is_largest_g_than_large': 0},\n",
              " {'date': datetime.date(2016, 10, 4), 'is_largest_g_than_large': 0},\n",
              " {'date': datetime.date(2016, 10, 5), 'is_largest_g_than_large': 1},\n",
              " {'date': datetime.date(2016, 10, 6), 'is_largest_g_than_large': 0},\n",
              " {'date': datetime.date(2016, 10, 7), 'is_largest_g_than_large': 1},\n",
              " {'date': datetime.date(2016, 10, 10), 'is_largest_g_than_large': 0},\n",
              " {'date': datetime.date(2016, 10, 11), 'is_largest_g_than_large': 1},\n",
              " {'date': datetime.date(2016, 10, 12), 'is_largest_g_than_large': 1},\n",
              " {'date': datetime.date(2016, 10, 13), 'is_largest_g_than_large': 0},\n",
              " {'date': datetime.date(2016, 10, 14), 'is_largest_g_than_large': 0},\n",
              " {'date': datetime.date(2016, 10, 17), 'is_largest_g_than_large': 0},\n",
              " {'date': datetime.date(2016, 10, 18), 'is_largest_g_than_large': 1},\n",
              " {'date': datetime.date(2016, 10, 19), 'is_largest_g_than_large': 0},\n",
              " {'date': datetime.date(2016, 10, 20), 'is_largest_g_than_large': 0},\n",
              " {'date': datetime.date(2016, 10, 21), 'is_largest_g_than_large': 1},\n",
              " {'date': datetime.date(2016, 10, 24), 'is_largest_g_than_large': 1},\n",
              " {'date': datetime.date(2016, 10, 25), 'is_largest_g_than_large': 1},\n",
              " {'date': datetime.date(2016, 10, 26), 'is_largest_g_than_large': 1},\n",
              " {'date': datetime.date(2016, 10, 27), 'is_largest_g_than_large': 1},\n",
              " {'date': datetime.date(2016, 10, 28), 'is_largest_g_than_large': 1},\n",
              " {'date': datetime.date(2016, 10, 31), 'is_largest_g_than_large': 0},\n",
              " {'date': datetime.date(2016, 11, 1), 'is_largest_g_than_large': 0},\n",
              " {'date': datetime.date(2016, 11, 2), 'is_largest_g_than_large': 0},\n",
              " {'date': datetime.date(2016, 11, 3), 'is_largest_g_than_large': 0},\n",
              " {'date': datetime.date(2016, 11, 4), 'is_largest_g_than_large': 0},\n",
              " {'date': datetime.date(2016, 11, 7), 'is_largest_g_than_large': 1},\n",
              " {'date': datetime.date(2016, 11, 8), 'is_largest_g_than_large': 1},\n",
              " {'date': datetime.date(2016, 11, 9), 'is_largest_g_than_large': 0},\n",
              " {'date': datetime.date(2016, 11, 10), 'is_largest_g_than_large': 0},\n",
              " {'date': datetime.date(2016, 11, 11), 'is_largest_g_than_large': 0},\n",
              " {'date': datetime.date(2016, 11, 14), 'is_largest_g_than_large': 0},\n",
              " {'date': datetime.date(2016, 11, 15), 'is_largest_g_than_large': 1},\n",
              " {'date': datetime.date(2016, 11, 16), 'is_largest_g_than_large': 1},\n",
              " {'date': datetime.date(2016, 11, 17), 'is_largest_g_than_large': 1},\n",
              " {'date': datetime.date(2016, 11, 18), 'is_largest_g_than_large': 1},\n",
              " {'date': datetime.date(2016, 11, 21), 'is_largest_g_than_large': 1},\n",
              " {'date': datetime.date(2016, 11, 22), 'is_largest_g_than_large': 1},\n",
              " {'date': datetime.date(2016, 11, 23), 'is_largest_g_than_large': 1},\n",
              " {'date': datetime.date(2016, 11, 24), 'is_largest_g_than_large': 0},\n",
              " {'date': datetime.date(2016, 11, 25), 'is_largest_g_than_large': 0},\n",
              " {'date': datetime.date(2016, 11, 28), 'is_largest_g_than_large': 1},\n",
              " {'date': datetime.date(2016, 11, 29), 'is_largest_g_than_large': 0},\n",
              " {'date': datetime.date(2016, 11, 30), 'is_largest_g_than_large': 0},\n",
              " {'date': datetime.date(2016, 12, 1), 'is_largest_g_than_large': 0},\n",
              " {'date': datetime.date(2016, 12, 2), 'is_largest_g_than_large': 0},\n",
              " {'date': datetime.date(2016, 12, 5), 'is_largest_g_than_large': 0},\n",
              " {'date': datetime.date(2016, 12, 6), 'is_largest_g_than_large': 0},\n",
              " {'date': datetime.date(2016, 12, 7), 'is_largest_g_than_large': 0},\n",
              " {'date': datetime.date(2016, 12, 8), 'is_largest_g_than_large': 0},\n",
              " {'date': datetime.date(2016, 12, 9), 'is_largest_g_than_large': 1},\n",
              " {'date': datetime.date(2016, 12, 12), 'is_largest_g_than_large': 1},\n",
              " {'date': datetime.date(2016, 12, 13), 'is_largest_g_than_large': 1},\n",
              " {'date': datetime.date(2016, 12, 14), 'is_largest_g_than_large': 1},\n",
              " {'date': datetime.date(2016, 12, 15), 'is_largest_g_than_large': 0},\n",
              " {'date': datetime.date(2016, 12, 16), 'is_largest_g_than_large': 0},\n",
              " {'date': datetime.date(2016, 12, 19), 'is_largest_g_than_large': 1},\n",
              " {'date': datetime.date(2016, 12, 20), 'is_largest_g_than_large': 1},\n",
              " {'date': datetime.date(2016, 12, 21), 'is_largest_g_than_large': 1},\n",
              " {'date': datetime.date(2016, 12, 22), 'is_largest_g_than_large': 1},\n",
              " {'date': datetime.date(2016, 12, 23), 'is_largest_g_than_large': 1},\n",
              " {'date': datetime.date(2016, 12, 26), 'is_largest_g_than_large': 1},\n",
              " {'date': datetime.date(2016, 12, 27), 'is_largest_g_than_large': 1},\n",
              " {'date': datetime.date(2016, 12, 28), 'is_largest_g_than_large': 1},\n",
              " {'date': datetime.date(2016, 12, 29), 'is_largest_g_than_large': 1},\n",
              " {'date': datetime.date(2016, 12, 30), 'is_largest_g_than_large': 0},\n",
              " {'date': datetime.date(2017, 1, 2), 'is_largest_g_than_large': 0},\n",
              " {'date': datetime.date(2017, 1, 3), 'is_largest_g_than_large': 0},\n",
              " {'date': datetime.date(2017, 1, 4), 'is_largest_g_than_large': 0},\n",
              " {'date': datetime.date(2017, 1, 5), 'is_largest_g_than_large': 0},\n",
              " {'date': datetime.date(2017, 1, 6), 'is_largest_g_than_large': 0},\n",
              " {'date': datetime.date(2017, 1, 9), 'is_largest_g_than_large': 0},\n",
              " {'date': datetime.date(2017, 1, 10), 'is_largest_g_than_large': 0},\n",
              " {'date': datetime.date(2017, 1, 11), 'is_largest_g_than_large': 1},\n",
              " {'date': datetime.date(2017, 1, 12), 'is_largest_g_than_large': 1},\n",
              " {'date': datetime.date(2017, 1, 13), 'is_largest_g_than_large': 1},\n",
              " {'date': datetime.date(2017, 1, 16), 'is_largest_g_than_large': 0},\n",
              " {'date': datetime.date(2017, 1, 17), 'is_largest_g_than_large': 0},\n",
              " {'date': datetime.date(2017, 1, 18), 'is_largest_g_than_large': 0},\n",
              " {'date': datetime.date(2017, 1, 19), 'is_largest_g_than_large': 0},\n",
              " {'date': datetime.date(2017, 1, 20), 'is_largest_g_than_large': 0},\n",
              " {'date': datetime.date(2017, 1, 23), 'is_largest_g_than_large': 0},\n",
              " {'date': datetime.date(2017, 1, 24), 'is_largest_g_than_large': 0},\n",
              " {'date': datetime.date(2017, 1, 25), 'is_largest_g_than_large': 1},\n",
              " {'date': datetime.date(2017, 1, 26), 'is_largest_g_than_large': 1},\n",
              " {'date': datetime.date(2017, 1, 27), 'is_largest_g_than_large': 1},\n",
              " {'date': datetime.date(2017, 1, 30), 'is_largest_g_than_large': 1},\n",
              " {'date': datetime.date(2017, 1, 31), 'is_largest_g_than_large': 1},\n",
              " {'date': datetime.date(2017, 2, 1), 'is_largest_g_than_large': 1},\n",
              " {'date': datetime.date(2017, 2, 2), 'is_largest_g_than_large': 1},\n",
              " {'date': datetime.date(2017, 2, 3), 'is_largest_g_than_large': 1},\n",
              " {'date': datetime.date(2017, 2, 6), 'is_largest_g_than_large': 1},\n",
              " {'date': datetime.date(2017, 2, 7), 'is_largest_g_than_large': 1},\n",
              " {'date': datetime.date(2017, 2, 8), 'is_largest_g_than_large': 1},\n",
              " {'date': datetime.date(2017, 2, 9), 'is_largest_g_than_large': 1},\n",
              " {'date': datetime.date(2017, 2, 10), 'is_largest_g_than_large': 0},\n",
              " {'date': datetime.date(2017, 2, 13), 'is_largest_g_than_large': 1},\n",
              " {'date': datetime.date(2017, 2, 14), 'is_largest_g_than_large': 0},\n",
              " {'date': datetime.date(2017, 2, 15), 'is_largest_g_than_large': 1},\n",
              " {'date': datetime.date(2017, 2, 16), 'is_largest_g_than_large': 0},\n",
              " {'date': datetime.date(2017, 2, 17), 'is_largest_g_than_large': 0},\n",
              " {'date': datetime.date(2017, 2, 20), 'is_largest_g_than_large': 0},\n",
              " {'date': datetime.date(2017, 2, 21), 'is_largest_g_than_large': 0},\n",
              " {'date': datetime.date(2017, 2, 22), 'is_largest_g_than_large': 1},\n",
              " {'date': datetime.date(2017, 2, 23), 'is_largest_g_than_large': 1},\n",
              " {'date': datetime.date(2017, 2, 24), 'is_largest_g_than_large': 0},\n",
              " {'date': datetime.date(2017, 2, 27), 'is_largest_g_than_large': 0},\n",
              " {'date': datetime.date(2017, 2, 28), 'is_largest_g_than_large': 0},\n",
              " {'date': datetime.date(2017, 3, 1), 'is_largest_g_than_large': 1},\n",
              " {'date': datetime.date(2017, 3, 2), 'is_largest_g_than_large': 1},\n",
              " {'date': datetime.date(2017, 3, 3), 'is_largest_g_than_large': 1},\n",
              " {'date': datetime.date(2017, 3, 6), 'is_largest_g_than_large': 1},\n",
              " {'date': datetime.date(2017, 3, 7), 'is_largest_g_than_large': 1},\n",
              " {'date': datetime.date(2017, 3, 8), 'is_largest_g_than_large': 1},\n",
              " {'date': datetime.date(2017, 3, 9), 'is_largest_g_than_large': 1},\n",
              " {'date': datetime.date(2017, 3, 10), 'is_largest_g_than_large': 1},\n",
              " {'date': datetime.date(2017, 3, 13), 'is_largest_g_than_large': 1},\n",
              " {'date': datetime.date(2017, 3, 14), 'is_largest_g_than_large': 1},\n",
              " {'date': datetime.date(2017, 3, 15), 'is_largest_g_than_large': 1},\n",
              " {'date': datetime.date(2017, 3, 16), 'is_largest_g_than_large': 0},\n",
              " {'date': datetime.date(2017, 3, 17), 'is_largest_g_than_large': 0},\n",
              " {'date': datetime.date(2017, 3, 20), 'is_largest_g_than_large': 0},\n",
              " {'date': datetime.date(2017, 3, 21), 'is_largest_g_than_large': 0},\n",
              " {'date': datetime.date(2017, 3, 22), 'is_largest_g_than_large': 0},\n",
              " {'date': datetime.date(2017, 3, 23), 'is_largest_g_than_large': 0},\n",
              " {'date': datetime.date(2017, 3, 24), 'is_largest_g_than_large': 0},\n",
              " {'date': datetime.date(2017, 3, 27), 'is_largest_g_than_large': 0},\n",
              " {'date': datetime.date(2017, 3, 28), 'is_largest_g_than_large': 1},\n",
              " {'date': datetime.date(2017, 3, 29), 'is_largest_g_than_large': 1},\n",
              " {'date': datetime.date(2017, 3, 30), 'is_largest_g_than_large': 1},\n",
              " {'date': datetime.date(2017, 3, 31), 'is_largest_g_than_large': 1},\n",
              " {'date': datetime.date(2017, 4, 3), 'is_largest_g_than_large': 1},\n",
              " {'date': datetime.date(2017, 4, 4), 'is_largest_g_than_large': 0},\n",
              " {'date': datetime.date(2017, 4, 5), 'is_largest_g_than_large': 1},\n",
              " {'date': datetime.date(2017, 4, 6), 'is_largest_g_than_large': 0},\n",
              " {'date': datetime.date(2017, 4, 7), 'is_largest_g_than_large': 0},\n",
              " {'date': datetime.date(2017, 4, 10), 'is_largest_g_than_large': 0},\n",
              " {'date': datetime.date(2017, 4, 11), 'is_largest_g_than_large': 0},\n",
              " {'date': datetime.date(2017, 4, 12), 'is_largest_g_than_large': 0},\n",
              " {'date': datetime.date(2017, 4, 13), 'is_largest_g_than_large': 0},\n",
              " {'date': datetime.date(2017, 4, 17), 'is_largest_g_than_large': 0},\n",
              " {'date': datetime.date(2017, 4, 18), 'is_largest_g_than_large': 0},\n",
              " {'date': datetime.date(2017, 4, 19), 'is_largest_g_than_large': 0},\n",
              " {'date': datetime.date(2017, 4, 20), 'is_largest_g_than_large': 0},\n",
              " {'date': datetime.date(2017, 4, 21), 'is_largest_g_than_large': 0},\n",
              " {'date': datetime.date(2017, 4, 24), 'is_largest_g_than_large': 0},\n",
              " {'date': datetime.date(2017, 4, 25), 'is_largest_g_than_large': 0},\n",
              " {'date': datetime.date(2017, 4, 26), 'is_largest_g_than_large': 0},\n",
              " {'date': datetime.date(2017, 4, 27), 'is_largest_g_than_large': 1},\n",
              " {'date': datetime.date(2017, 4, 28), 'is_largest_g_than_large': 1},\n",
              " {'date': datetime.date(2017, 5, 1), 'is_largest_g_than_large': 1},\n",
              " {'date': datetime.date(2017, 5, 2), 'is_largest_g_than_large': 1},\n",
              " {'date': datetime.date(2017, 5, 3), 'is_largest_g_than_large': 1},\n",
              " {'date': datetime.date(2017, 5, 4), 'is_largest_g_than_large': 1},\n",
              " {'date': datetime.date(2017, 5, 5), 'is_largest_g_than_large': 1},\n",
              " {'date': datetime.date(2017, 5, 8), 'is_largest_g_than_large': 1},\n",
              " {'date': datetime.date(2017, 5, 9), 'is_largest_g_than_large': 1},\n",
              " {'date': datetime.date(2017, 5, 10), 'is_largest_g_than_large': 1},\n",
              " {'date': datetime.date(2017, 5, 11), 'is_largest_g_than_large': 1},\n",
              " {'date': datetime.date(2017, 5, 12), 'is_largest_g_than_large': 1},\n",
              " {'date': datetime.date(2017, 5, 15), 'is_largest_g_than_large': 1},\n",
              " {'date': datetime.date(2017, 5, 16), 'is_largest_g_than_large': 1},\n",
              " {'date': datetime.date(2017, 5, 17), 'is_largest_g_than_large': 1},\n",
              " {'date': datetime.date(2017, 5, 18), 'is_largest_g_than_large': 1},\n",
              " {'date': datetime.date(2017, 5, 19), 'is_largest_g_than_large': 1},\n",
              " {'date': datetime.date(2017, 5, 22), 'is_largest_g_than_large': 1},\n",
              " {'date': datetime.date(2017, 5, 23), 'is_largest_g_than_large': 1},\n",
              " {'date': datetime.date(2017, 5, 24), 'is_largest_g_than_large': 1},\n",
              " {'date': datetime.date(2017, 5, 25), 'is_largest_g_than_large': 1},\n",
              " {'date': datetime.date(2017, 5, 26), 'is_largest_g_than_large': 1},\n",
              " {'date': datetime.date(2017, 5, 29), 'is_largest_g_than_large': 1},\n",
              " {'date': datetime.date(2017, 5, 30), 'is_largest_g_than_large': 1},\n",
              " {'date': datetime.date(2017, 5, 31), 'is_largest_g_than_large': 1},\n",
              " {'date': datetime.date(2017, 6, 1), 'is_largest_g_than_large': 1},\n",
              " {'date': datetime.date(2017, 6, 2), 'is_largest_g_than_large': 1},\n",
              " {'date': datetime.date(2017, 6, 5), 'is_largest_g_than_large': 1},\n",
              " {'date': datetime.date(2017, 6, 6), 'is_largest_g_than_large': 1},\n",
              " {'date': datetime.date(2017, 6, 7), 'is_largest_g_than_large': 0},\n",
              " {'date': datetime.date(2017, 6, 8), 'is_largest_g_than_large': 1},\n",
              " {'date': datetime.date(2017, 6, 9), 'is_largest_g_than_large': 0},\n",
              " {'date': datetime.date(2017, 6, 12), 'is_largest_g_than_large': 0},\n",
              " {'date': datetime.date(2017, 6, 13), 'is_largest_g_than_large': 0},\n",
              " {'date': datetime.date(2017, 6, 14), 'is_largest_g_than_large': 0},\n",
              " {'date': datetime.date(2017, 6, 15), 'is_largest_g_than_large': 0},\n",
              " {'date': datetime.date(2017, 6, 16), 'is_largest_g_than_large': 0},\n",
              " {'date': datetime.date(2017, 6, 19), 'is_largest_g_than_large': 0},\n",
              " {'date': datetime.date(2017, 6, 20), 'is_largest_g_than_large': 0},\n",
              " {'date': datetime.date(2017, 6, 21), 'is_largest_g_than_large': 1},\n",
              " {'date': datetime.date(2017, 6, 22), 'is_largest_g_than_large': 0},\n",
              " {'date': datetime.date(2017, 6, 23), 'is_largest_g_than_large': 1},\n",
              " {'date': datetime.date(2017, 6, 26), 'is_largest_g_than_large': 1},\n",
              " {'date': datetime.date(2017, 6, 27), 'is_largest_g_than_large': 1},\n",
              " {'date': datetime.date(2017, 6, 28), 'is_largest_g_than_large': 1},\n",
              " {'date': datetime.date(2017, 6, 29), 'is_largest_g_than_large': 0},\n",
              " {'date': datetime.date(2017, 6, 30), 'is_largest_g_than_large': 0},\n",
              " {'date': datetime.date(2017, 7, 3), 'is_largest_g_than_large': 1},\n",
              " {'date': datetime.date(2017, 7, 4), 'is_largest_g_than_large': 1},\n",
              " {'date': datetime.date(2017, 7, 5), 'is_largest_g_than_large': 0},\n",
              " {'date': datetime.date(2017, 7, 6), 'is_largest_g_than_large': 1},\n",
              " {'date': datetime.date(2017, 7, 7), 'is_largest_g_than_large': 1},\n",
              " {'date': datetime.date(2017, 7, 10), 'is_largest_g_than_large': 1},\n",
              " {'date': datetime.date(2017, 7, 11), 'is_largest_g_than_large': 1},\n",
              " {'date': datetime.date(2017, 7, 12), 'is_largest_g_than_large': 1},\n",
              " {'date': datetime.date(2017, 7, 13), 'is_largest_g_than_large': 1},\n",
              " {'date': datetime.date(2017, 7, 14), 'is_largest_g_than_large': 1},\n",
              " {'date': datetime.date(2017, 7, 17), 'is_largest_g_than_large': 1},\n",
              " {'date': datetime.date(2017, 7, 18), 'is_largest_g_than_large': 1},\n",
              " {'date': datetime.date(2017, 7, 19), 'is_largest_g_than_large': 1},\n",
              " {'date': datetime.date(2017, 7, 20), 'is_largest_g_than_large': 1},\n",
              " {'date': datetime.date(2017, 7, 21), 'is_largest_g_than_large': 1},\n",
              " {'date': datetime.date(2017, 7, 24), 'is_largest_g_than_large': 1},\n",
              " {'date': datetime.date(2017, 7, 25), 'is_largest_g_than_large': 1},\n",
              " {'date': datetime.date(2017, 7, 26), 'is_largest_g_than_large': 1},\n",
              " {'date': datetime.date(2017, 7, 27), 'is_largest_g_than_large': 0},\n",
              " {'date': datetime.date(2017, 7, 28), 'is_largest_g_than_large': 0},\n",
              " {'date': datetime.date(2017, 7, 31), 'is_largest_g_than_large': 0},\n",
              " {'date': datetime.date(2017, 8, 1), 'is_largest_g_than_large': 1},\n",
              " {'date': datetime.date(2017, 8, 2), 'is_largest_g_than_large': 0},\n",
              " {'date': datetime.date(2017, 8, 3), 'is_largest_g_than_large': 0},\n",
              " {'date': datetime.date(2017, 8, 4), 'is_largest_g_than_large': 0},\n",
              " {'date': datetime.date(2017, 8, 7), 'is_largest_g_than_large': 0},\n",
              " {'date': datetime.date(2017, 8, 8), 'is_largest_g_than_large': 0},\n",
              " {'date': datetime.date(2017, 8, 9), 'is_largest_g_than_large': 1},\n",
              " {'date': datetime.date(2017, 8, 10), 'is_largest_g_than_large': 0},\n",
              " {'date': datetime.date(2017, 8, 11), 'is_largest_g_than_large': 0},\n",
              " {'date': datetime.date(2017, 8, 14), 'is_largest_g_than_large': 1},\n",
              " {'date': datetime.date(2017, 8, 15), 'is_largest_g_than_large': 1},\n",
              " {'date': datetime.date(2017, 8, 16), 'is_largest_g_than_large': 1},\n",
              " {'date': datetime.date(2017, 8, 17), 'is_largest_g_than_large': 1},\n",
              " {'date': datetime.date(2017, 8, 18), 'is_largest_g_than_large': 1},\n",
              " {'date': datetime.date(2017, 8, 21), 'is_largest_g_than_large': 1},\n",
              " {'date': datetime.date(2017, 8, 22), 'is_largest_g_than_large': 1},\n",
              " {'date': datetime.date(2017, 8, 23), 'is_largest_g_than_large': 1},\n",
              " {'date': datetime.date(2017, 8, 24), 'is_largest_g_than_large': 1},\n",
              " {'date': datetime.date(2017, 8, 25), 'is_largest_g_than_large': 1},\n",
              " {'date': datetime.date(2017, 8, 28), 'is_largest_g_than_large': 1},\n",
              " {'date': datetime.date(2017, 8, 29), 'is_largest_g_than_large': 1},\n",
              " {'date': datetime.date(2017, 8, 30), 'is_largest_g_than_large': 1},\n",
              " {'date': datetime.date(2017, 8, 31), 'is_largest_g_than_large': 0},\n",
              " {'date': datetime.date(2017, 9, 1), 'is_largest_g_than_large': 0},\n",
              " {'date': datetime.date(2017, 9, 4), 'is_largest_g_than_large': 0},\n",
              " {'date': datetime.date(2017, 9, 5), 'is_largest_g_than_large': 0},\n",
              " {'date': datetime.date(2017, 9, 6), 'is_largest_g_than_large': 0},\n",
              " {'date': datetime.date(2017, 9, 7), 'is_largest_g_than_large': 0},\n",
              " {'date': datetime.date(2017, 9, 8), 'is_largest_g_than_large': 0},\n",
              " {'date': datetime.date(2017, 9, 11), 'is_largest_g_than_large': 0},\n",
              " {'date': datetime.date(2017, 9, 12), 'is_largest_g_than_large': 0},\n",
              " {'date': datetime.date(2017, 9, 13), 'is_largest_g_than_large': 0},\n",
              " {'date': datetime.date(2017, 9, 14), 'is_largest_g_than_large': 0},\n",
              " {'date': datetime.date(2017, 9, 15), 'is_largest_g_than_large': 0},\n",
              " {'date': datetime.date(2017, 9, 18), 'is_largest_g_than_large': 0},\n",
              " {'date': datetime.date(2017, 9, 19), 'is_largest_g_than_large': 0},\n",
              " {'date': datetime.date(2017, 9, 20), 'is_largest_g_than_large': 0},\n",
              " {'date': datetime.date(2017, 9, 21), 'is_largest_g_than_large': 0},\n",
              " {'date': datetime.date(2017, 9, 22), 'is_largest_g_than_large': 0},\n",
              " {'date': datetime.date(2017, 9, 25), 'is_largest_g_than_large': 0},\n",
              " {'date': datetime.date(2017, 9, 26), 'is_largest_g_than_large': 0},\n",
              " {'date': datetime.date(2017, 9, 27), 'is_largest_g_than_large': 0},\n",
              " {'date': datetime.date(2017, 9, 28), 'is_largest_g_than_large': 0},\n",
              " {'date': datetime.date(2017, 9, 29), 'is_largest_g_than_large': 0},\n",
              " {'date': datetime.date(2017, 10, 2), 'is_largest_g_than_large': 0},\n",
              " {'date': datetime.date(2017, 10, 3), 'is_largest_g_than_large': 0},\n",
              " {'date': datetime.date(2017, 10, 4), 'is_largest_g_than_large': 0},\n",
              " {'date': datetime.date(2017, 10, 5), 'is_largest_g_than_large': 0},\n",
              " {'date': datetime.date(2017, 10, 6), 'is_largest_g_than_large': 0},\n",
              " {'date': datetime.date(2017, 10, 9), 'is_largest_g_than_large': 0},\n",
              " {'date': datetime.date(2017, 10, 10), 'is_largest_g_than_large': 0},\n",
              " {'date': datetime.date(2017, 10, 11), 'is_largest_g_than_large': 1},\n",
              " {'date': datetime.date(2017, 10, 12), 'is_largest_g_than_large': 1},\n",
              " {'date': datetime.date(2017, 10, 13), 'is_largest_g_than_large': 1},\n",
              " {'date': datetime.date(2017, 10, 16), 'is_largest_g_than_large': 1},\n",
              " {'date': datetime.date(2017, 10, 17), 'is_largest_g_than_large': 1},\n",
              " {'date': datetime.date(2017, 10, 18), 'is_largest_g_than_large': 1},\n",
              " {'date': datetime.date(2017, 10, 19), 'is_largest_g_than_large': 1},\n",
              " {'date': datetime.date(2017, 10, 20), 'is_largest_g_than_large': 0},\n",
              " {'date': datetime.date(2017, 10, 23), 'is_largest_g_than_large': 1},\n",
              " {'date': datetime.date(2017, 10, 24), 'is_largest_g_than_large': 1},\n",
              " {'date': datetime.date(2017, 10, 25), 'is_largest_g_than_large': 1},\n",
              " {'date': datetime.date(2017, 10, 26), 'is_largest_g_than_large': 1},\n",
              " {'date': datetime.date(2017, 10, 27), 'is_largest_g_than_large': 1},\n",
              " {'date': datetime.date(2017, 10, 30), 'is_largest_g_than_large': 1},\n",
              " {'date': datetime.date(2017, 10, 31), 'is_largest_g_than_large': 1},\n",
              " {'date': datetime.date(2017, 11, 1), 'is_largest_g_than_large': 1},\n",
              " {'date': datetime.date(2017, 11, 2), 'is_largest_g_than_large': 1},\n",
              " {'date': datetime.date(2017, 11, 3), 'is_largest_g_than_large': 1},\n",
              " {'date': datetime.date(2017, 11, 6), 'is_largest_g_than_large': 1},\n",
              " {'date': datetime.date(2017, 11, 7), 'is_largest_g_than_large': 1},\n",
              " ...]"
            ]
          },
          "metadata": {},
          "execution_count": 218
        }
      ]
    },
    {
      "cell_type": "code",
      "source": [
        "deciding_df = pd.DataFrame(deciding_list_dicts)\n",
        "deciding_df.head()"
      ],
      "metadata": {
        "colab": {
          "base_uri": "https://localhost:8080/",
          "height": 206
        },
        "id": "_OmtkixXYYPX",
        "outputId": "c214d0fb-8c24-4ef9-ec11-38f99e84558e"
      },
      "execution_count": 219,
      "outputs": [
        {
          "output_type": "execute_result",
          "data": {
            "text/plain": [
              "         date  is_largest_g_than_large\n",
              "0  2014-01-01                        1\n",
              "1  2014-01-02                        1\n",
              "2  2014-01-03                        0\n",
              "3  2014-01-06                        0\n",
              "4  2014-01-07                        0"
            ],
            "text/html": [
              "\n",
              "  <div id=\"df-4f3f3c25-8ea7-4c83-b1c2-39a9a7bae4b1\" class=\"colab-df-container\">\n",
              "    <div>\n",
              "<style scoped>\n",
              "    .dataframe tbody tr th:only-of-type {\n",
              "        vertical-align: middle;\n",
              "    }\n",
              "\n",
              "    .dataframe tbody tr th {\n",
              "        vertical-align: top;\n",
              "    }\n",
              "\n",
              "    .dataframe thead th {\n",
              "        text-align: right;\n",
              "    }\n",
              "</style>\n",
              "<table border=\"1\" class=\"dataframe\">\n",
              "  <thead>\n",
              "    <tr style=\"text-align: right;\">\n",
              "      <th></th>\n",
              "      <th>date</th>\n",
              "      <th>is_largest_g_than_large</th>\n",
              "    </tr>\n",
              "  </thead>\n",
              "  <tbody>\n",
              "    <tr>\n",
              "      <th>0</th>\n",
              "      <td>2014-01-01</td>\n",
              "      <td>1</td>\n",
              "    </tr>\n",
              "    <tr>\n",
              "      <th>1</th>\n",
              "      <td>2014-01-02</td>\n",
              "      <td>1</td>\n",
              "    </tr>\n",
              "    <tr>\n",
              "      <th>2</th>\n",
              "      <td>2014-01-03</td>\n",
              "      <td>0</td>\n",
              "    </tr>\n",
              "    <tr>\n",
              "      <th>3</th>\n",
              "      <td>2014-01-06</td>\n",
              "      <td>0</td>\n",
              "    </tr>\n",
              "    <tr>\n",
              "      <th>4</th>\n",
              "      <td>2014-01-07</td>\n",
              "      <td>0</td>\n",
              "    </tr>\n",
              "  </tbody>\n",
              "</table>\n",
              "</div>\n",
              "    <div class=\"colab-df-buttons\">\n",
              "\n",
              "  <div class=\"colab-df-container\">\n",
              "    <button class=\"colab-df-convert\" onclick=\"convertToInteractive('df-4f3f3c25-8ea7-4c83-b1c2-39a9a7bae4b1')\"\n",
              "            title=\"Convert this dataframe to an interactive table.\"\n",
              "            style=\"display:none;\">\n",
              "\n",
              "  <svg xmlns=\"http://www.w3.org/2000/svg\" height=\"24px\" viewBox=\"0 -960 960 960\">\n",
              "    <path d=\"M120-120v-720h720v720H120Zm60-500h600v-160H180v160Zm220 220h160v-160H400v160Zm0 220h160v-160H400v160ZM180-400h160v-160H180v160Zm440 0h160v-160H620v160ZM180-180h160v-160H180v160Zm440 0h160v-160H620v160Z\"/>\n",
              "  </svg>\n",
              "    </button>\n",
              "\n",
              "  <style>\n",
              "    .colab-df-container {\n",
              "      display:flex;\n",
              "      gap: 12px;\n",
              "    }\n",
              "\n",
              "    .colab-df-convert {\n",
              "      background-color: #E8F0FE;\n",
              "      border: none;\n",
              "      border-radius: 50%;\n",
              "      cursor: pointer;\n",
              "      display: none;\n",
              "      fill: #1967D2;\n",
              "      height: 32px;\n",
              "      padding: 0 0 0 0;\n",
              "      width: 32px;\n",
              "    }\n",
              "\n",
              "    .colab-df-convert:hover {\n",
              "      background-color: #E2EBFA;\n",
              "      box-shadow: 0px 1px 2px rgba(60, 64, 67, 0.3), 0px 1px 3px 1px rgba(60, 64, 67, 0.15);\n",
              "      fill: #174EA6;\n",
              "    }\n",
              "\n",
              "    .colab-df-buttons div {\n",
              "      margin-bottom: 4px;\n",
              "    }\n",
              "\n",
              "    [theme=dark] .colab-df-convert {\n",
              "      background-color: #3B4455;\n",
              "      fill: #D2E3FC;\n",
              "    }\n",
              "\n",
              "    [theme=dark] .colab-df-convert:hover {\n",
              "      background-color: #434B5C;\n",
              "      box-shadow: 0px 1px 3px 1px rgba(0, 0, 0, 0.15);\n",
              "      filter: drop-shadow(0px 1px 2px rgba(0, 0, 0, 0.3));\n",
              "      fill: #FFFFFF;\n",
              "    }\n",
              "  </style>\n",
              "\n",
              "    <script>\n",
              "      const buttonEl =\n",
              "        document.querySelector('#df-4f3f3c25-8ea7-4c83-b1c2-39a9a7bae4b1 button.colab-df-convert');\n",
              "      buttonEl.style.display =\n",
              "        google.colab.kernel.accessAllowed ? 'block' : 'none';\n",
              "\n",
              "      async function convertToInteractive(key) {\n",
              "        const element = document.querySelector('#df-4f3f3c25-8ea7-4c83-b1c2-39a9a7bae4b1');\n",
              "        const dataTable =\n",
              "          await google.colab.kernel.invokeFunction('convertToInteractive',\n",
              "                                                    [key], {});\n",
              "        if (!dataTable) return;\n",
              "\n",
              "        const docLinkHtml = 'Like what you see? Visit the ' +\n",
              "          '<a target=\"_blank\" href=https://colab.research.google.com/notebooks/data_table.ipynb>data table notebook</a>'\n",
              "          + ' to learn more about interactive tables.';\n",
              "        element.innerHTML = '';\n",
              "        dataTable['output_type'] = 'display_data';\n",
              "        await google.colab.output.renderOutput(dataTable, element);\n",
              "        const docLink = document.createElement('div');\n",
              "        docLink.innerHTML = docLinkHtml;\n",
              "        element.appendChild(docLink);\n",
              "      }\n",
              "    </script>\n",
              "  </div>\n",
              "\n",
              "\n",
              "<div id=\"df-564c8c5a-a6cf-467d-a7f5-8b1059e9914b\">\n",
              "  <button class=\"colab-df-quickchart\" onclick=\"quickchart('df-564c8c5a-a6cf-467d-a7f5-8b1059e9914b')\"\n",
              "            title=\"Suggest charts\"\n",
              "            style=\"display:none;\">\n",
              "\n",
              "<svg xmlns=\"http://www.w3.org/2000/svg\" height=\"24px\"viewBox=\"0 0 24 24\"\n",
              "     width=\"24px\">\n",
              "    <g>\n",
              "        <path d=\"M19 3H5c-1.1 0-2 .9-2 2v14c0 1.1.9 2 2 2h14c1.1 0 2-.9 2-2V5c0-1.1-.9-2-2-2zM9 17H7v-7h2v7zm4 0h-2V7h2v10zm4 0h-2v-4h2v4z\"/>\n",
              "    </g>\n",
              "</svg>\n",
              "  </button>\n",
              "\n",
              "<style>\n",
              "  .colab-df-quickchart {\n",
              "      --bg-color: #E8F0FE;\n",
              "      --fill-color: #1967D2;\n",
              "      --hover-bg-color: #E2EBFA;\n",
              "      --hover-fill-color: #174EA6;\n",
              "      --disabled-fill-color: #AAA;\n",
              "      --disabled-bg-color: #DDD;\n",
              "  }\n",
              "\n",
              "  [theme=dark] .colab-df-quickchart {\n",
              "      --bg-color: #3B4455;\n",
              "      --fill-color: #D2E3FC;\n",
              "      --hover-bg-color: #434B5C;\n",
              "      --hover-fill-color: #FFFFFF;\n",
              "      --disabled-bg-color: #3B4455;\n",
              "      --disabled-fill-color: #666;\n",
              "  }\n",
              "\n",
              "  .colab-df-quickchart {\n",
              "    background-color: var(--bg-color);\n",
              "    border: none;\n",
              "    border-radius: 50%;\n",
              "    cursor: pointer;\n",
              "    display: none;\n",
              "    fill: var(--fill-color);\n",
              "    height: 32px;\n",
              "    padding: 0;\n",
              "    width: 32px;\n",
              "  }\n",
              "\n",
              "  .colab-df-quickchart:hover {\n",
              "    background-color: var(--hover-bg-color);\n",
              "    box-shadow: 0 1px 2px rgba(60, 64, 67, 0.3), 0 1px 3px 1px rgba(60, 64, 67, 0.15);\n",
              "    fill: var(--button-hover-fill-color);\n",
              "  }\n",
              "\n",
              "  .colab-df-quickchart-complete:disabled,\n",
              "  .colab-df-quickchart-complete:disabled:hover {\n",
              "    background-color: var(--disabled-bg-color);\n",
              "    fill: var(--disabled-fill-color);\n",
              "    box-shadow: none;\n",
              "  }\n",
              "\n",
              "  .colab-df-spinner {\n",
              "    border: 2px solid var(--fill-color);\n",
              "    border-color: transparent;\n",
              "    border-bottom-color: var(--fill-color);\n",
              "    animation:\n",
              "      spin 1s steps(1) infinite;\n",
              "  }\n",
              "\n",
              "  @keyframes spin {\n",
              "    0% {\n",
              "      border-color: transparent;\n",
              "      border-bottom-color: var(--fill-color);\n",
              "      border-left-color: var(--fill-color);\n",
              "    }\n",
              "    20% {\n",
              "      border-color: transparent;\n",
              "      border-left-color: var(--fill-color);\n",
              "      border-top-color: var(--fill-color);\n",
              "    }\n",
              "    30% {\n",
              "      border-color: transparent;\n",
              "      border-left-color: var(--fill-color);\n",
              "      border-top-color: var(--fill-color);\n",
              "      border-right-color: var(--fill-color);\n",
              "    }\n",
              "    40% {\n",
              "      border-color: transparent;\n",
              "      border-right-color: var(--fill-color);\n",
              "      border-top-color: var(--fill-color);\n",
              "    }\n",
              "    60% {\n",
              "      border-color: transparent;\n",
              "      border-right-color: var(--fill-color);\n",
              "    }\n",
              "    80% {\n",
              "      border-color: transparent;\n",
              "      border-right-color: var(--fill-color);\n",
              "      border-bottom-color: var(--fill-color);\n",
              "    }\n",
              "    90% {\n",
              "      border-color: transparent;\n",
              "      border-bottom-color: var(--fill-color);\n",
              "    }\n",
              "  }\n",
              "</style>\n",
              "\n",
              "  <script>\n",
              "    async function quickchart(key) {\n",
              "      const quickchartButtonEl =\n",
              "        document.querySelector('#' + key + ' button');\n",
              "      quickchartButtonEl.disabled = true;  // To prevent multiple clicks.\n",
              "      quickchartButtonEl.classList.add('colab-df-spinner');\n",
              "      try {\n",
              "        const charts = await google.colab.kernel.invokeFunction(\n",
              "            'suggestCharts', [key], {});\n",
              "      } catch (error) {\n",
              "        console.error('Error during call to suggestCharts:', error);\n",
              "      }\n",
              "      quickchartButtonEl.classList.remove('colab-df-spinner');\n",
              "      quickchartButtonEl.classList.add('colab-df-quickchart-complete');\n",
              "    }\n",
              "    (() => {\n",
              "      let quickchartButtonEl =\n",
              "        document.querySelector('#df-564c8c5a-a6cf-467d-a7f5-8b1059e9914b button');\n",
              "      quickchartButtonEl.style.display =\n",
              "        google.colab.kernel.accessAllowed ? 'block' : 'none';\n",
              "    })();\n",
              "  </script>\n",
              "</div>\n",
              "\n",
              "    </div>\n",
              "  </div>\n"
            ],
            "application/vnd.google.colaboratory.intrinsic+json": {
              "type": "dataframe",
              "variable_name": "deciding_df",
              "summary": "{\n  \"name\": \"deciding_df\",\n  \"rows\": 2595,\n  \"fields\": [\n    {\n      \"column\": \"date\",\n      \"properties\": {\n        \"dtype\": \"date\",\n        \"min\": \"2014-01-01\",\n        \"max\": \"2023-12-29\",\n        \"num_unique_values\": 2595,\n        \"samples\": [\n          \"2014-10-24\",\n          \"2022-03-04\",\n          \"2020-09-14\"\n        ],\n        \"semantic_type\": \"\",\n        \"description\": \"\"\n      }\n    },\n    {\n      \"column\": \"is_largest_g_than_large\",\n      \"properties\": {\n        \"dtype\": \"number\",\n        \"std\": 0,\n        \"min\": 0,\n        \"max\": 1,\n        \"num_unique_values\": 2,\n        \"samples\": [\n          0,\n          1\n        ],\n        \"semantic_type\": \"\",\n        \"description\": \"\"\n      }\n    }\n  ]\n}"
            }
          },
          "metadata": {},
          "execution_count": 219
        }
      ]
    },
    {
      "cell_type": "code",
      "source": [
        "deciding_df.is_largest_g_than_large.sum(), len(deciding_df.index)"
      ],
      "metadata": {
        "colab": {
          "base_uri": "https://localhost:8080/"
        },
        "id": "VMq5R3jsfPbj",
        "outputId": "a9c7a22d-7402-454e-eb2b-88dc89c5750a"
      },
      "execution_count": 221,
      "outputs": [
        {
          "output_type": "execute_result",
          "data": {
            "text/plain": [
              "(1378, 2595)"
            ]
          },
          "metadata": {},
          "execution_count": 221
        }
      ]
    },
    {
      "cell_type": "code",
      "source": [
        "in_pct = deciding_df.is_largest_g_than_large.sum()*100/len(deciding_df.index)\n",
        "in_pct"
      ],
      "metadata": {
        "colab": {
          "base_uri": "https://localhost:8080/"
        },
        "id": "YS1GBluHf0MF",
        "outputId": "d1f4bd1e-0a71-4f83-bac5-fbfaea869fbe"
      },
      "execution_count": 222,
      "outputs": [
        {
          "output_type": "execute_result",
          "data": {
            "text/plain": [
              "53.102119460500965"
            ]
          },
          "metadata": {},
          "execution_count": 222
        }
      ]
    },
    {
      "cell_type": "markdown",
      "source": [
        "# Resources:"
      ],
      "metadata": {
        "id": "Nb34gv6009pu"
      }
    },
    {
      "cell_type": "markdown",
      "source": [
        "yfinance offical doc: https://pypi.org/project/yfinance/\n",
        "Offical repo for yfinance module: https://github.com/ranaroussi/yfinance\n",
        "Offical doc for yfinance module: https://github.com/ranaroussi/yfinance/wiki"
      ],
      "metadata": {
        "id": "R_Xvy-Mk0_yl"
      }
    },
    {
      "cell_type": "code",
      "source": [],
      "metadata": {
        "id": "fGVNvwqb1FLz"
      },
      "execution_count": null,
      "outputs": []
    }
  ]
}